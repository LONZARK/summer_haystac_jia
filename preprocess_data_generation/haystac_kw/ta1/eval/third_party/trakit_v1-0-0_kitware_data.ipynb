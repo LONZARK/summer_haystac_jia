{
 "cells": [
  {
   "attachments": {},
   "cell_type": "markdown",
   "id": "abceb653",
   "metadata": {},
   "source": [
    "*Copyright Oak Ridge National Laboratory, 2023. All rights reserved.*\n",
    "\n",
    "# TraKit \\ TA-1 Metric `v1.0.0` Illustrative Example  \n",
    "\n",
    "\n",
    "0. Setup the following before running this Jupyter Notebook\n",
    "1. Imports & Variables\n",
    "2. Preprocessing\n",
    "    1. Stop Locations Level-1 (Stop Points)\n",
    "    2. Stop Locations level-2 (Unique Stop Points)\n",
    "    3. Stop Locations level-3 (Set Unique Stop Points)\n",
    "    4. Timed Trips Linking Locations (TTLL) \n",
    "    5. ~~*Stop Locations level-3b (Set Unique Stop Points v.b)*~~\n",
    "        1. Not provided this iteration.\n",
    "    6. Set Timed Trips Linking Locations (STTLL)\n",
    "3. Metrics: Movement\n",
    "    1. M1 – Total Distance per Day\n",
    "    2. M2 – Radius of Gyration\n",
    "    3. M3 – Number of Locations Visited\n",
    "    4. M4 – Temporal Variability\n",
    "    5. M5 – Level of Exploration\n",
    "    6. M6, M7, M8 – Speed and Acceleration Metrics\n",
    "    7. M9 – Travel Time Information\n",
    "    8. M10, M11 – Pairwise Encounter Frequency and Inter-encounter Time\n",
    "4. Metrics: Location\n",
    "    1. M12 – O-D Probability\n",
    "    2. M13 – Importance\n",
    "    3. M14 – Connectivity\n",
    "\n",
    "\n",
    "\n",
    "\n",
    "-----------------------------------\n",
    "-----------------------------------\n",
    "-----------------------------------\n",
    "\n",
    "## 0. Setup the following before running this Jupyter Notebook  \n",
    "\n",
    "1. Go to directory named `trakit`\n",
    "2. Run the following command: `conda env create -f environment.yml`\n",
    "3. This will create a conda environment named `py310_trakit`\n",
    "4. Then activate the conda environment before running this notebook: `conda activate py310_trakit`"
   ]
  },
  {
   "attachments": {},
   "cell_type": "markdown",
   "id": "31921b56",
   "metadata": {},
   "source": [
    "-----------------------------------\n",
    "-----------------------------------\n",
    "-----------------------------------\n",
    "\n",
    "## 1. Imports & Variables\n",
    "\n",
    "### Set data source"
   ]
  },
  {
   "cell_type": "code",
   "execution_count": 2,
   "id": "1748e5df",
   "metadata": {},
   "outputs": [
    {
     "data": {
      "text/plain": [
       "'train'"
      ]
     },
     "execution_count": 2,
     "metadata": {},
     "output_type": "execute_result"
    }
   ],
   "source": [
    "data_source = \"train\"\n",
    "data_source"
   ]
  },
  {
   "cell_type": "code",
   "execution_count": 3,
   "id": "5e382d30",
   "metadata": {
    "ExecuteTime": {
     "end_time": "2023-03-31T12:42:58.464137Z",
     "start_time": "2023-03-31T12:42:58.417696Z"
    }
   },
   "outputs": [
    {
     "name": "stdout",
     "output_type": "stream",
     "text": [
      "Last updated: 2023-07-24T08:20:56.685847-04:00\n",
      "\n",
      "Python implementation: CPython\n",
      "Python version       : 3.10.12\n",
      "IPython version      : 8.14.0\n",
      "\n",
      "Compiler    : GCC 12.3.0\n",
      "OS          : Linux\n",
      "Release     : 5.15.0-76-generic\n",
      "Machine     : x86_64\n",
      "Processor   : x86_64\n",
      "CPU cores   : 12\n",
      "Architecture: 64bit\n",
      "\n"
     ]
    }
   ],
   "source": [
    "%load_ext watermark\n",
    "%watermark"
   ]
  },
  {
   "attachments": {},
   "cell_type": "markdown",
   "id": "6986847d",
   "metadata": {},
   "source": [
    "### Import necessary libraries "
   ]
  },
  {
   "cell_type": "code",
   "execution_count": 4,
   "id": "259fa3c2",
   "metadata": {
    "ExecuteTime": {
     "end_time": "2023-03-31T12:43:29.387280Z",
     "start_time": "2023-03-31T12:43:18.656630Z"
    }
   },
   "outputs": [
    {
     "name": "stdout",
     "output_type": "stream",
     "text": [
      "Importing the dtw module. When using in academic works please cite:\n",
      "  T. Giorgino. Computing and Visualizing Dynamic Time Warping Alignments in R: The dtw Package.\n",
      "  J. Stat. Soft., doi:10.18637/jss.v031.i07.\n",
      "\n",
      "Watermark: 2.4.3\n",
      "\n",
      "geopandas : 0.13.2\n",
      "networkx  : 3.1\n",
      "folium    : 0.14.0\n",
      "sys       : 3.10.12 | packaged by conda-forge | (main, Jun 23 2023, 22:40:32) [GCC 12.3.0]\n",
      "numpy     : 1.25.0\n",
      "pandas    : 2.0.3\n",
      "trakit    : <function version at 0x7ff5ee05d090>\n",
      "matplotlib: 3.7.1\n",
      "pyspark   : 3.2.1\n",
      "\n"
     ]
    }
   ],
   "source": [
    "import datetime\n",
    "import glob\n",
    "import itertools\n",
    "import os\n",
    "import time\n",
    "import pyspark\n",
    "\n",
    "import folium\n",
    "import networkx\n",
    "import numpy\n",
    "import pandas\n",
    "import matplotlib.pyplot as plt\n",
    "import geopandas\n",
    "\n",
    "import sys\n",
    "sys.path.append(\"../../\")\n",
    "import trakit\n",
    "\n",
    "pandas.set_option(\"display.max_colwidth\", None)\n",
    "\n",
    "%watermark -w\n",
    "%watermark -iv"
   ]
  },
  {
   "attachments": {},
   "cell_type": "markdown",
   "id": "31c46c4b",
   "metadata": {},
   "source": [
    "### Directory & Filepath variables\n",
    "#### Directories"
   ]
  },
  {
   "cell_type": "code",
   "execution_count": 5,
   "id": "63a3393b",
   "metadata": {
    "ExecuteTime": {
     "end_time": "2023-03-31T12:43:42.803566Z",
     "start_time": "2023-03-31T12:43:42.798636Z"
    }
   },
   "outputs": [],
   "source": [
    "data_dir = os.path.join(\".\", \"data\")"
   ]
  },
  {
   "attachments": {},
   "cell_type": "markdown",
   "id": "864ceb5a",
   "metadata": {},
   "source": [
    "##### Input directories"
   ]
  },
  {
   "cell_type": "code",
   "execution_count": 6,
   "id": "301a3f42",
   "metadata": {
    "ExecuteTime": {
     "end_time": "2023-03-31T12:43:45.364703Z",
     "start_time": "2023-03-31T12:43:45.359423Z"
    }
   },
   "outputs": [
    {
     "name": "stdout",
     "output_type": "stream",
     "text": [
      "input_dir: ./data/input\n",
      "actor_dir ./data/input/train\n",
      "aux_dir: ./data/input/auxiliary\n",
      "ref_dir: ./data/input/reference\n"
     ]
    }
   ],
   "source": [
    "input_dir = os.path.join(data_dir, \"input\")\n",
    "print(f\"input_dir: {input_dir}\")\n",
    "#  - User/Agent/Actor directories\n",
    "actor_dir = os.path.join(input_dir, data_source)\n",
    "print(f\"actor_dir {actor_dir}\")\n",
    "# - auxiliary\n",
    "aux_dir = os.path.join(input_dir, \"auxiliary\")\n",
    "print(f\"aux_dir: {aux_dir}\")\n",
    "# - reference\n",
    "ref_dir = os.path.join(input_dir, \"reference\")\n",
    "print(f\"ref_dir: {ref_dir}\")"
   ]
  },
  {
   "attachments": {},
   "cell_type": "markdown",
   "id": "82dc34ba",
   "metadata": {},
   "source": [
    "##### Output directories"
   ]
  },
  {
   "cell_type": "code",
   "execution_count": 7,
   "id": "c81728da",
   "metadata": {
    "ExecuteTime": {
     "end_time": "2023-03-31T12:43:48.572748Z",
     "start_time": "2023-03-31T12:43:48.568039Z"
    }
   },
   "outputs": [
    {
     "name": "stdout",
     "output_type": "stream",
     "text": [
      "output_dir: ./data/output/train\n",
      "prep_dir: ./data/output/train/preprocess\n",
      "inter_metric_dir: ./data/output/train/metric_intermediate\n",
      "agg_metric_dir: ./data/output/train/metric_aggregate\n"
     ]
    }
   ],
   "source": [
    "output_dir = os.path.join(data_dir, \"output\", data_source)\n",
    "print(f\"output_dir: {output_dir}\")\n",
    "#  - preprocessed directories\n",
    "prep_dir = os.path.join(output_dir, \"preprocess\")\n",
    "print(f\"prep_dir: {prep_dir}\")\n",
    "#  - intermedate directories\n",
    "inter_metric_dir = os.path.join(output_dir, \"metric_intermediate\")\n",
    "print(f\"inter_metric_dir: {inter_metric_dir}\")\n",
    "#  - aggregate directories\n",
    "agg_metric_dir = os.path.join(output_dir, \"metric_aggregate\")\n",
    "print(f\"agg_metric_dir: {agg_metric_dir}\")"
   ]
  },
  {
   "attachments": {},
   "cell_type": "markdown",
   "id": "65391b96",
   "metadata": {},
   "source": [
    "#### File base names\n",
    "\n",
    "##### Input"
   ]
  },
  {
   "cell_type": "code",
   "execution_count": 8,
   "id": "464f72d2",
   "metadata": {
    "ExecuteTime": {
     "end_time": "2023-03-31T12:43:59.912595Z",
     "start_time": "2023-03-31T12:43:59.909546Z"
    }
   },
   "outputs": [
    {
     "data": {
      "text/plain": [
       "'aoi.geojson'"
      ]
     },
     "execution_count": 8,
     "metadata": {},
     "output_type": "execute_result"
    }
   ],
   "source": [
    "#hex_base = \"knox_hex_{}.geojson\"\n",
    "hex_base = \"aoi.geojson\"\n",
    "hex_base"
   ]
  },
  {
   "attachments": {},
   "cell_type": "markdown",
   "id": "e392b3b4",
   "metadata": {},
   "source": [
    "##### Output\n",
    "*Preprocessed files*"
   ]
  },
  {
   "cell_type": "code",
   "execution_count": 9,
   "id": "d037dd23",
   "metadata": {
    "ExecuteTime": {
     "end_time": "2023-03-31T12:44:01.676826Z",
     "start_time": "2023-03-31T12:44:01.673399Z"
    }
   },
   "outputs": [],
   "source": [
    "# Stop Locations Level-1 (Stop Points)\n",
    "prep_sl_l1_sp_base = \"sl_l1_sp\"\n",
    "\n",
    "# Stop Locations Level-2 (Unique Stop Points)\n",
    "prep_sl_l2_usp_base = \"sl_l2_usp\"\n",
    "\n",
    "# Stop Locations Level-3 (Set Unique Stop Points)\n",
    "prep_sl_l3_susp_base = \"sl_l3_susp\"\n",
    "\n",
    "# Timed Trips Linking Locations (TTLL)\n",
    "prep_ttll_base = \"ttll_thres_{}\"\n",
    "\n",
    "# Stop Locations Level-3b (Set Unique Stop Points v.b)\n",
    "#prep_sl_l3b_susp_base = \"sl_l3b_susp\" # <---------------- Not provided this iteration.\n",
    "\n",
    "# Set Timed Trips Linking Locations (STTLL)\n",
    "prep_sttll_base = \"s\" + prep_ttll_base"
   ]
  },
  {
   "attachments": {},
   "cell_type": "markdown",
   "id": "1e21846a",
   "metadata": {},
   "source": [
    "*Metric (Intermediate, Aggregrate) and Scorecard*"
   ]
  },
  {
   "cell_type": "code",
   "execution_count": 10,
   "id": "b88a60e4",
   "metadata": {
    "ExecuteTime": {
     "end_time": "2023-03-31T12:44:04.372130Z",
     "start_time": "2023-03-31T12:44:04.369065Z"
    }
   },
   "outputs": [],
   "source": [
    "metric_output_base = \"m{}_{}\""
   ]
  },
  {
   "attachments": {},
   "cell_type": "markdown",
   "id": "0a97a862",
   "metadata": {},
   "source": [
    "-----------------------------------\n",
    "-----------------------------------\n",
    "-----------------------------------\n",
    "\n",
    "## 2. Preprocessing\n",
    "\n",
    "### 2.A. Stop Locations Level-1 (Stop Points)\n",
    "Function call:\n",
    "* `trakit.stop_point.extract_stop_points( )`\n",
    "\n",
    "##### Reading raw trajectory data from parquet files in this example "
   ]
  },
  {
   "cell_type": "code",
   "execution_count": 11,
   "id": "d122d7e6",
   "metadata": {
    "ExecuteTime": {
     "end_time": "2023-03-31T12:44:05.834536Z",
     "start_time": "2023-03-31T12:44:05.825492Z"
    }
   },
   "outputs": [
    {
     "data": {
      "text/plain": [
       "['./data/input/train/agent=4787/part-00000-ea0e6a1d-e588-4733-b720-479a0e24e136.c000.zstd.parquet',\n",
       " './data/input/train/agent=2177/part-00000-5035cf20-3397-43ce-a5c2-5c2defab1b10.c000.zstd.parquet',\n",
       " './data/input/train/agent=6887/part-00000-c6069d2f-4739-4fd3-99f5-2c3ff42d7605.c000.zstd.parquet',\n",
       " './data/input/train/agent=1578/part-00000-7866b8a8-66c6-4f4f-bc24-95324c839cbc.c000.zstd.parquet',\n",
       " './data/input/train/agent=8400/part-00000-660bbaa5-0eee-4695-a35b-33aa38f6cc5d.c000.zstd.parquet',\n",
       " './data/input/train/agent=7173/part-00000-7e499ebc-8d63-462f-b6b3-16f8e441aece.c000.zstd.parquet',\n",
       " './data/input/train/agent=8802/part-00000-44b2a09c-049b-436b-b344-0feb606eebeb.c000.zstd.parquet',\n",
       " './data/input/train/agent=71/part-00000-079e8a90-23f0-45e2-85fd-4499c8ec8016.c000.zstd.parquet',\n",
       " './data/input/train/agent=1765/part-00000-c2417fa0-da82-4ae3-aa3f-29aed3968aa2.c000.zstd.parquet',\n",
       " './data/input/train/agent=5533/part-00000-d7f7a308-7b37-42a3-8036-a9e250d9ebf5.c000.zstd.parquet',\n",
       " './data/input/train/agent=3258/part-00000-040f8562-dc30-4d2f-b778-734c2c1f9509.c000.zstd.parquet',\n",
       " './data/input/train/agent=3790/part-00000-ff88d1b8-80c2-4583-a220-abd4de0479fb.c000.zstd.parquet',\n",
       " './data/input/train/agent=7271/part-00000-c15f1bf5-6782-4d03-9776-10b6a82bdf55.c000.zstd.parquet',\n",
       " './data/input/train/agent=4484/part-00000-1a46e60c-c86b-44c7-9047-6de0172566a0.c000.zstd.parquet',\n",
       " './data/input/train/agent=1477/part-00000-763926a4-1968-44a2-940d-b12f62d4857d.c000.zstd.parquet',\n",
       " './data/input/train/agent=4342/part-00000-da086c10-30b7-4878-91ae-f5ff4c1966e8.c000.zstd.parquet',\n",
       " './data/input/train/agent=8360/part-00000-422f0196-4f0f-4868-85bf-b75e6d23a84c.c000.zstd.parquet',\n",
       " './data/input/train/agent=9707/part-00000-35d3e959-75c7-431b-9bb8-ad2ac6676a53.c000.zstd.parquet',\n",
       " './data/input/train/agent=5007/part-00000-46d548bc-e88d-4df7-9d0d-44bda7afa863.c000.zstd.parquet',\n",
       " './data/input/train/agent=412/part-00000-9f2040df-2d3f-46de-ae9f-14c7f61f6031.c000.zstd.parquet',\n",
       " './data/input/train/agent=635/part-00000-c2eb9d05-e843-4ea1-bf1b-b7aaa97b1fb7.c000.zstd.parquet',\n",
       " './data/input/train/agent=6562/part-00000-43f48e3d-3453-4dbd-943f-1e215e070f70.c000.zstd.parquet',\n",
       " './data/input/train/agent=9705/part-00000-e6c044a1-bd8c-4fdb-ad63-492d2f4b2777.c000.zstd.parquet',\n",
       " './data/input/train/agent=4395/part-00000-c0ab6270-e579-4fed-83fe-e702f5e26cc4.c000.zstd.parquet',\n",
       " './data/input/train/agent=6496/part-00000-0ee88581-c14d-4660-84e7-fd77e3e5bc24.c000.zstd.parquet',\n",
       " './data/input/train/agent=2302/part-00000-73cd02c5-5304-4735-96dc-d616a47ea27e.c000.zstd.parquet',\n",
       " './data/input/train/agent=8388/part-00000-05efe343-2600-4c9a-8c8c-4ad03a66e091.c000.zstd.parquet',\n",
       " './data/input/train/agent=1604/part-00000-823c7bfb-37ba-4f42-ba0d-2a71e18ddeff.c000.zstd.parquet',\n",
       " './data/input/train/agent=4676/part-00000-54e951af-f041-4cfc-8000-7e2865cc3f52.c000.zstd.parquet',\n",
       " './data/input/train/agent=8874/part-00000-317be5ed-cc95-400a-a24e-7d5e4f3bb3a6.c000.zstd.parquet',\n",
       " './data/input/train/agent=5327/part-00000-00e1542b-bf86-4f23-bda9-83c19edea9e3.c000.zstd.parquet',\n",
       " './data/input/train/agent=8902/part-00000-5df1bed8-1ece-4ebf-aa36-3c711293b0a6.c000.zstd.parquet',\n",
       " './data/input/train/agent=7087/part-00000-1de70d00-7cf6-4865-8a14-d873565f9a74.c000.zstd.parquet',\n",
       " './data/input/train/agent=6035/part-00000-cbd39edd-4c7c-4191-99c9-0cebd06b999c.c000.zstd.parquet',\n",
       " './data/input/train/agent=2884/part-00000-91efebec-e318-444c-9fba-4d449fbd3a92.c000.zstd.parquet',\n",
       " './data/input/train/agent=9877/part-00000-cc11842a-dc56-4ec3-9ead-cc3a455a8700.c000.zstd.parquet',\n",
       " './data/input/train/agent=845/part-00000-bfe835d9-9b99-4b00-9d39-edeffe5fb477.c000.zstd.parquet',\n",
       " './data/input/train/agent=5019/part-00000-1979779d-da75-4c9b-a20a-cfd4617bcb1d.c000.zstd.parquet',\n",
       " './data/input/train/agent=496/part-00000-0523c6ed-3f4d-426b-9694-02c3f9c29009.c000.zstd.parquet',\n",
       " './data/input/train/agent=8204/part-00000-2b146eb7-ddad-4a32-926e-26e706f61c0d.c000.zstd.parquet',\n",
       " './data/input/train/agent=61/part-00000-1d656834-51f9-41b1-8bb2-d2da8db98b8c.c000.zstd.parquet',\n",
       " './data/input/train/agent=3535/part-00000-c404523d-eccc-4e92-85ec-9f622c0d6d05.c000.zstd.parquet',\n",
       " './data/input/train/agent=841/part-00000-a83c68e2-2d5b-4692-94d9-94626a04f9fd.c000.zstd.parquet',\n",
       " './data/input/train/agent=3925/part-00000-1102b832-b4e7-4b99-b2b2-221e9e26f874.c000.zstd.parquet',\n",
       " './data/input/train/agent=6836/part-00000-62e27e10-ad95-49ed-ac96-cfb75dcb779a.c000.zstd.parquet',\n",
       " './data/input/train/agent=3804/part-00000-76d9f681-c032-479e-b6cf-19a29f108bb2.c000.zstd.parquet',\n",
       " './data/input/train/agent=8758/part-00000-252b5e21-15a3-4099-85c4-60a0801161d5.c000.zstd.parquet',\n",
       " './data/input/train/agent=3599/part-00000-32aebde8-1df4-4c82-8bcb-92fca785c076.c000.zstd.parquet',\n",
       " './data/input/train/agent=362/part-00000-c592b04d-8203-4a89-81b2-6f5031e2d1ce.c000.zstd.parquet',\n",
       " './data/input/train/agent=590/part-00000-b1f458a2-e3b6-497c-aba3-29ca5ff3ce64.c000.zstd.parquet',\n",
       " './data/input/train/agent=2597/part-00000-82818d4a-168b-4107-929b-69f0ecb2b90d.c000.zstd.parquet',\n",
       " './data/input/train/agent=124/part-00000-e18db639-6f93-4a35-a6f8-507ccb34bad4.c000.zstd.parquet',\n",
       " './data/input/train/agent=1501/part-00000-49d202ee-b614-46c1-b484-9e77558e2ce8.c000.zstd.parquet',\n",
       " './data/input/train/agent=4977/part-00000-b0610fff-3664-4698-8575-f8730f907f15.c000.zstd.parquet',\n",
       " './data/input/train/agent=8279/part-00000-ded4ce2d-af02-49e5-886e-f8ae4d8b2408.c000.zstd.parquet',\n",
       " './data/input/train/agent=7489/part-00000-febd8236-cc3d-4c7a-87a1-90fe70c4be67.c000.zstd.parquet',\n",
       " './data/input/train/agent=8433/part-00000-05b2c6a6-118a-4f6c-910b-5f0c42680a9f.c000.zstd.parquet',\n",
       " './data/input/train/agent=6893/part-00000-9524629f-6207-474e-93db-7ca701032c70.c000.zstd.parquet',\n",
       " './data/input/train/agent=3112/part-00000-3f772ff7-8d45-403d-acbf-7d6a4a91fc3b.c000.zstd.parquet',\n",
       " './data/input/train/agent=440/part-00000-0bc56211-42ef-4c06-ae5b-c12e55bcb04a.c000.zstd.parquet',\n",
       " './data/input/train/agent=5466/part-00000-613437f5-ff4e-4a21-b9ff-6c2a68fad2a2.c000.zstd.parquet',\n",
       " './data/input/train/agent=1807/part-00000-15a53b23-c3e9-48db-b3e1-413e881c5096.c000.zstd.parquet',\n",
       " './data/input/train/agent=7448/part-00000-b69d9a00-e5b3-4ba8-a870-23f7fa8a2155.c000.zstd.parquet',\n",
       " './data/input/train/agent=4555/part-00000-eab422f8-7f75-4575-9295-1f87e5ac8e01.c000.zstd.parquet',\n",
       " './data/input/train/agent=6849/part-00000-26e60eb7-f8bc-4dcc-89c7-09e03e6eb58f.c000.zstd.parquet',\n",
       " './data/input/train/agent=5403/part-00000-e9749884-1662-4147-a4de-133e4e9c4c43.c000.zstd.parquet',\n",
       " './data/input/train/agent=8777/part-00000-61a1de50-8d37-4cda-b0a2-fa459fc80e99.c000.zstd.parquet',\n",
       " './data/input/train/agent=3317/part-00000-09e58e79-0c4d-41df-8a5f-22d75f3d9794.c000.zstd.parquet',\n",
       " './data/input/train/agent=2982/part-00000-675ec2b0-51fa-4954-a014-9afd3a394c8f.c000.zstd.parquet',\n",
       " './data/input/train/agent=3132/part-00000-e7afa632-8f68-43e2-bb3d-74e961a7043c.c000.zstd.parquet',\n",
       " './data/input/train/agent=4586/part-00000-08713fbe-0c85-4c49-ad15-f668ae913f92.c000.zstd.parquet',\n",
       " './data/input/train/agent=2777/part-00000-d0f03a2d-bd53-4d65-baaf-f65644c4778d.c000.zstd.parquet',\n",
       " './data/input/train/agent=5779/part-00000-6d6b897b-2588-42ac-90bd-91160c1ec6de.c000.zstd.parquet',\n",
       " './data/input/train/agent=3940/part-00000-77cd35a3-d786-4e29-ba2b-6d9175d21787.c000.zstd.parquet',\n",
       " './data/input/train/agent=5275/part-00000-aabf207b-3226-43d8-b5f9-68d572187d2c.c000.zstd.parquet',\n",
       " './data/input/train/agent=3575/part-00000-62cf2483-2e70-4b8e-99ee-99314daf51d2.c000.zstd.parquet',\n",
       " './data/input/train/agent=1231/part-00000-0bd7e27a-c988-4e46-beb9-f2ccf45f5f75.c000.zstd.parquet',\n",
       " './data/input/train/agent=164/part-00000-5b5a706a-2829-4f5a-a321-58d7ecbb9575.c000.zstd.parquet',\n",
       " './data/input/train/agent=8075/part-00000-0c6b1a47-d681-4e0a-b329-425eedee58db.c000.zstd.parquet',\n",
       " './data/input/train/agent=3052/part-00000-1eca16d1-6774-4f0d-9ec1-277e5f05de2e.c000.zstd.parquet',\n",
       " './data/input/train/agent=1359/part-00000-84187d99-9a67-4706-82ba-175bc16fb209.c000.zstd.parquet',\n",
       " './data/input/train/agent=3354/part-00000-5a83b408-089b-4b22-baf6-7a0806389a00.c000.zstd.parquet',\n",
       " './data/input/train/agent=7824/part-00000-7c32d4f1-543f-48d5-b25e-699c4f3e7714.c000.zstd.parquet',\n",
       " './data/input/train/agent=9619/part-00000-fb6b0661-9498-46ab-9d39-d95a1fb3ed77.c000.zstd.parquet',\n",
       " './data/input/train/agent=9713/part-00000-f90a6f89-fc32-4a03-a7e4-263fb0d58c2b.c000.zstd.parquet',\n",
       " './data/input/train/agent=8746/part-00000-de28cc39-afc4-46ec-a158-6a007fa5c612.c000.zstd.parquet',\n",
       " './data/input/train/agent=622/part-00000-16104d8f-454a-44a3-812a-a18fde755535.c000.zstd.parquet',\n",
       " './data/input/train/agent=6436/part-00000-5aa6ba59-5187-4e2b-83aa-5c4f2a8e9a88.c000.zstd.parquet',\n",
       " './data/input/train/agent=9000/part-00000-37afc736-3155-4cc3-a63e-5d038db6b472.c000.zstd.parquet',\n",
       " './data/input/train/agent=5825/part-00000-5a0f60bb-0f0c-4b23-ae8c-58c9d2137541.c000.zstd.parquet',\n",
       " './data/input/train/agent=1963/part-00000-9a6a55b2-8911-45f2-b196-c843783ac984.c000.zstd.parquet',\n",
       " './data/input/train/agent=7779/part-00000-88e0e81c-6e13-436e-8be1-ec83b5a177b2.c000.zstd.parquet',\n",
       " './data/input/train/agent=837/part-00000-fbe08683-0aae-408f-bf5b-0910fd03c38c.c000.zstd.parquet',\n",
       " './data/input/train/agent=9836/part-00000-4d49d0c8-ca78-4380-9059-d342a606b676.c000.zstd.parquet',\n",
       " './data/input/train/agent=6251/part-00000-a73f63b5-4914-4734-b594-5fb20b42b3f5.c000.zstd.parquet',\n",
       " './data/input/train/agent=8782/part-00000-f8bd7ea8-a5d1-448f-a855-49857149b991.c000.zstd.parquet',\n",
       " './data/input/train/agent=278/part-00000-d3c27cc5-9d7c-41a3-a6ed-c0e1f1a3c893.c000.zstd.parquet',\n",
       " './data/input/train/agent=2174/part-00000-b95a2d34-93c8-4101-acb3-db645d1dcbd9.c000.zstd.parquet',\n",
       " './data/input/train/agent=8138/part-00000-0a1f65f2-775c-4fe4-966d-7aeb7c044323.c000.zstd.parquet',\n",
       " './data/input/train/agent=9071/part-00000-ae5f72d0-b920-45ca-bf70-90b4f3fe0bc3.c000.zstd.parquet',\n",
       " './data/input/train/agent=4713/part-00000-45782795-9a0d-4969-8edb-281e3a2fb00d.c000.zstd.parquet',\n",
       " './data/input/train/agent=5559/part-00000-02d36aae-0def-4198-bb69-a4d34ff53ac1.c000.zstd.parquet',\n",
       " './data/input/train/agent=5662/part-00000-ccda9dcf-e1af-4125-84d6-d318a430560e.c000.zstd.parquet',\n",
       " './data/input/train/agent=5259/part-00000-bdb5ca51-96d0-432e-90f5-f8f29fd10117.c000.zstd.parquet',\n",
       " './data/input/train/agent=168/part-00000-4d031fed-8349-4c0f-b586-342985c2c8e6.c000.zstd.parquet',\n",
       " './data/input/train/agent=6193/part-00000-a69070ac-34fb-4de8-808f-fd6822518075.c000.zstd.parquet',\n",
       " './data/input/train/agent=8565/part-00000-a29af21c-566a-48fb-a413-702ecd8dab65.c000.zstd.parquet',\n",
       " './data/input/train/agent=588/part-00000-35568073-b66a-4cf9-8838-6012da65598f.c000.zstd.parquet',\n",
       " './data/input/train/agent=9102/part-00000-12c60b59-f1d3-48a0-8761-a7df2deb0a82.c000.zstd.parquet',\n",
       " './data/input/train/agent=4768/part-00000-d64f2b22-f655-416f-b2cb-30c6d4646c87.c000.zstd.parquet',\n",
       " './data/input/train/agent=3703/part-00000-2b3f739d-b760-400c-a897-da4d7363f5b6.c000.zstd.parquet',\n",
       " './data/input/train/agent=7907/part-00000-bebf4a95-c635-4d57-9742-68812466ca57.c000.zstd.parquet',\n",
       " './data/input/train/agent=9486/part-00000-504361e7-ee3e-4da3-b782-cd1e6dc2a410.c000.zstd.parquet',\n",
       " './data/input/train/agent=5363/part-00000-ffe23b17-3ac5-4b4b-9e67-774ef2633ff1.c000.zstd.parquet',\n",
       " './data/input/train/agent=9871/part-00000-02b426cf-4557-4c3b-b8e8-5a99a54012e6.c000.zstd.parquet',\n",
       " './data/input/train/agent=6379/part-00000-3850faff-e85e-42b5-8929-1637d795ac7b.c000.zstd.parquet',\n",
       " './data/input/train/agent=3734/part-00000-b7bdac5e-39c2-4e99-856c-deec38dee18f.c000.zstd.parquet',\n",
       " './data/input/train/agent=9475/part-00000-62b0f691-75d8-423f-9592-9fe2704aa98f.c000.zstd.parquet',\n",
       " './data/input/train/agent=6958/part-00000-7f9b33b9-594c-4fc7-82ab-6b5d483dde26.c000.zstd.parquet',\n",
       " './data/input/train/agent=4512/part-00000-dd374adc-5c61-47f3-af75-1136a3c8e940.c000.zstd.parquet',\n",
       " './data/input/train/agent=3106/part-00000-9d1fef92-421c-4893-acd7-04c56cde6eb8.c000.zstd.parquet',\n",
       " './data/input/train/agent=702/part-00000-b430bcac-989e-4d53-ad42-8cf105da740f.c000.zstd.parquet',\n",
       " './data/input/train/agent=1609/part-00000-16399f2e-8701-4762-a5b9-64d49984c185.c000.zstd.parquet',\n",
       " './data/input/train/agent=7765/part-00000-40c9ef77-e88e-4a52-956c-1fff8edc603a.c000.zstd.parquet',\n",
       " './data/input/train/agent=6521/part-00000-446e9245-bc8a-4c7d-8b63-a4d24c3da5e6.c000.zstd.parquet',\n",
       " './data/input/train/agent=9199/part-00000-bf780c15-23d4-4c13-9e91-45d48c9fcdc2.c000.zstd.parquet',\n",
       " './data/input/train/agent=3659/part-00000-ce315826-504a-4836-a038-c3f99d93b4c6.c000.zstd.parquet',\n",
       " './data/input/train/agent=4779/part-00000-55de8b1e-0459-4311-8c71-7d959a7443ef.c000.zstd.parquet',\n",
       " './data/input/train/agent=2431/part-00000-ffe6f5e8-8c6d-45f2-9d41-a6c71ec88dcb.c000.zstd.parquet',\n",
       " './data/input/train/agent=7713/part-00000-e5ecc468-b63c-44c7-b9e4-24ee0c8606b4.c000.zstd.parquet',\n",
       " './data/input/train/agent=314/part-00000-1a752657-475e-4000-a263-d74c32d254b5.c000.zstd.parquet',\n",
       " './data/input/train/agent=2640/part-00000-940b3821-45d6-4b5b-b75c-7d4f1fde5e47.c000.zstd.parquet',\n",
       " './data/input/train/agent=5740/part-00000-6fba3399-d9c6-469e-a9e5-0b2cfd45b333.c000.zstd.parquet',\n",
       " './data/input/train/agent=7406/part-00000-b0301a38-c054-46c2-8a3b-5080f0a40db7.c000.zstd.parquet',\n",
       " './data/input/train/agent=4187/part-00000-093cd223-e09a-4b5d-bdbf-5a7da844202d.c000.zstd.parquet',\n",
       " './data/input/train/agent=8497/part-00000-e58d256c-ec2f-4ae8-ab42-70c4cf72c291.c000.zstd.parquet',\n",
       " './data/input/train/agent=5348/part-00000-43ae5974-115b-417f-9419-aff02d673e74.c000.zstd.parquet',\n",
       " './data/input/train/agent=6834/part-00000-84cd604f-dcdc-4149-8375-c0c37a188748.c000.zstd.parquet',\n",
       " './data/input/train/agent=7556/part-00000-bc9f0e59-5f4d-42aa-9c68-33d49ddb716b.c000.zstd.parquet',\n",
       " './data/input/train/agent=2978/part-00000-cd832b46-4d8c-4cbf-89e1-b4b5108279e7.c000.zstd.parquet',\n",
       " './data/input/train/agent=4142/part-00000-cade423e-6723-419b-93aa-74726fd93a59.c000.zstd.parquet',\n",
       " './data/input/train/agent=9974/part-00000-e8de7f1c-2d7d-486c-a1d5-82b590c30396.c000.zstd.parquet',\n",
       " './data/input/train/agent=3657/part-00000-ebdd5c48-402a-490f-a0b7-2b21e73ce7d4.c000.zstd.parquet',\n",
       " './data/input/train/agent=2058/part-00000-9b35efaf-0914-4c3f-8084-7ed220bc293e.c000.zstd.parquet',\n",
       " './data/input/train/agent=4838/part-00000-b0120715-a0a4-48b5-af4f-9bdd86ecd3aa.c000.zstd.parquet',\n",
       " './data/input/train/agent=6719/part-00000-7f4400bb-f2ef-4e73-ac7a-07ef1a6921dd.c000.zstd.parquet',\n",
       " './data/input/train/agent=4362/part-00000-4ee34df2-8e43-4b66-b8f9-0b97751c131b.c000.zstd.parquet',\n",
       " './data/input/train/agent=4486/part-00000-f43bcd95-8761-4f19-af6c-281bbde82f39.c000.zstd.parquet',\n",
       " './data/input/train/agent=1695/part-00000-c2f04782-a6fd-4e1c-8771-d8123ac78482.c000.zstd.parquet',\n",
       " './data/input/train/agent=8877/part-00000-63b7d035-430c-42b6-8450-7367bf49280a.c000.zstd.parquet',\n",
       " './data/input/train/agent=3986/part-00000-0a395750-cc08-4c8f-a1a3-02abe7d6ab1c.c000.zstd.parquet',\n",
       " './data/input/train/agent=2095/part-00000-d92a30b1-fd2d-4d62-b58f-57dac6d62db7.c000.zstd.parquet',\n",
       " './data/input/train/agent=4949/part-00000-4fcc32f5-41a3-4cfd-902a-cb682fa9f93f.c000.zstd.parquet',\n",
       " './data/input/train/agent=479/part-00000-dc79a7d8-bc56-49a1-9d51-2c0fc4ee007a.c000.zstd.parquet',\n",
       " './data/input/train/agent=7819/part-00000-b626f367-0594-409b-8dc9-49c64ec8db53.c000.zstd.parquet',\n",
       " './data/input/train/agent=3750/part-00000-0f89b7c9-120e-4858-8fd3-34d2ebbedbf9.c000.zstd.parquet',\n",
       " './data/input/train/agent=1435/part-00000-b57ffd7e-7e68-432b-b0bb-746496c8d8ec.c000.zstd.parquet',\n",
       " './data/input/train/agent=4325/part-00000-12de537d-71e3-450d-a684-203d644e1f97.c000.zstd.parquet',\n",
       " './data/input/train/agent=3404/part-00000-32f247ae-4259-4fb5-8b34-4021b8a4cbcd.c000.zstd.parquet',\n",
       " './data/input/train/agent=7741/part-00000-9f297806-bdb7-4146-808e-07cbc776be29.c000.zstd.parquet',\n",
       " './data/input/train/agent=7737/part-00000-a1440d64-102f-45a9-b4e3-e7334182619c.c000.zstd.parquet',\n",
       " './data/input/train/agent=584/part-00000-58375b32-03ab-4d88-9c4d-d2c3ff1f9a67.c000.zstd.parquet',\n",
       " './data/input/train/agent=7842/part-00000-8c6aaace-4be3-4fe6-9bad-c6750740bc63.c000.zstd.parquet',\n",
       " './data/input/train/agent=7314/part-00000-11c08e48-47f3-4975-909b-98351c9ebff4.c000.zstd.parquet',\n",
       " './data/input/train/agent=8048/part-00000-72013f5f-16ee-4845-ba0f-730bda5a00de.c000.zstd.parquet',\n",
       " './data/input/train/agent=1283/part-00000-ae54e13d-2a55-4ded-90aa-8b8a015c5dd1.c000.zstd.parquet',\n",
       " './data/input/train/agent=9419/part-00000-d6804bb8-dc33-43ee-834c-3764ec103e19.c000.zstd.parquet',\n",
       " './data/input/train/agent=4564/part-00000-077d951a-2a39-4c74-9bc1-7ef66372109d.c000.zstd.parquet',\n",
       " './data/input/train/agent=6967/part-00000-d967d994-53d6-4c14-b4dc-c8bd183b626a.c000.zstd.parquet',\n",
       " './data/input/train/agent=4001/part-00000-454e08ef-032e-4757-8cac-ca7ceee281b6.c000.zstd.parquet',\n",
       " './data/input/train/agent=2729/part-00000-8ee09593-f275-458b-8dce-3fad09aff518.c000.zstd.parquet',\n",
       " './data/input/train/agent=3774/part-00000-f5bd12b1-aa56-4de9-89d6-c4c80333ea61.c000.zstd.parquet',\n",
       " './data/input/train/agent=697/part-00000-9d55c98a-d88c-4775-b315-71fa4fbdd167.c000.zstd.parquet',\n",
       " './data/input/train/agent=9407/part-00000-ba6f2d5b-1f49-4c10-be2b-82943b3ae645.c000.zstd.parquet',\n",
       " './data/input/train/agent=8411/part-00000-efaf9643-e6c5-4d92-8012-bc55228ecfe7.c000.zstd.parquet',\n",
       " './data/input/train/agent=6790/part-00000-809130be-df71-4c8b-8702-0ae9688f593b.c000.zstd.parquet',\n",
       " './data/input/train/agent=2644/part-00000-69ff2ce7-aeec-4fd9-a45a-c2f91d113ba6.c000.zstd.parquet',\n",
       " './data/input/train/agent=8655/part-00000-2f7a103c-a1e9-4b25-a49f-e8bdb2e5ef16.c000.zstd.parquet',\n",
       " './data/input/train/agent=5066/part-00000-0106b463-d467-44e9-858b-38dd23a49abe.c000.zstd.parquet',\n",
       " './data/input/train/agent=6360/part-00000-eea19871-a063-4893-a247-90c2df540cb3.c000.zstd.parquet',\n",
       " './data/input/train/agent=303/part-00000-00bea544-cc5b-40e8-b35f-13723de1317e.c000.zstd.parquet',\n",
       " './data/input/train/agent=1889/part-00000-3f084d74-a97e-44d2-b3ac-279176c2f93f.c000.zstd.parquet',\n",
       " './data/input/train/agent=7137/part-00000-d483fed1-449c-473e-8f1b-6bbb44303bd2.c000.zstd.parquet',\n",
       " './data/input/train/agent=5757/part-00000-7eed93e3-30dd-465b-a5d5-193dad7375a6.c000.zstd.parquet',\n",
       " './data/input/train/agent=3347/part-00000-019adbb8-a232-49d0-923a-7e5588265be4.c000.zstd.parquet',\n",
       " './data/input/train/agent=4151/part-00000-a047f15a-54da-42eb-b0ce-d188a107f42e.c000.zstd.parquet',\n",
       " './data/input/train/agent=6950/part-00000-d0df338e-2d41-4006-a54b-03ec62c2b851.c000.zstd.parquet',\n",
       " './data/input/train/agent=5835/part-00000-1245becd-5400-495f-acc8-b8cfc9fbe526.c000.zstd.parquet',\n",
       " './data/input/train/agent=8553/part-00000-05f598ec-191c-4db2-b8b8-85e51cff5e1d.c000.zstd.parquet',\n",
       " './data/input/train/agent=1802/part-00000-6a2f8046-e7cf-445d-8514-2b5d0b0fbd42.c000.zstd.parquet',\n",
       " './data/input/train/agent=5619/part-00000-bf02aea0-2ad1-4dbf-864f-9ebd1a8e21b5.c000.zstd.parquet',\n",
       " './data/input/train/agent=9850/part-00000-e73cdac7-d861-489e-8b43-2e525101e74d.c000.zstd.parquet',\n",
       " './data/input/train/agent=9662/part-00000-73885a05-91f5-4ee9-a6a3-811ea38c43cb.c000.zstd.parquet',\n",
       " './data/input/train/agent=9250/part-00000-1dbb9d7a-4685-4b55-9115-a58f9a1f652d.c000.zstd.parquet',\n",
       " './data/input/train/agent=3956/part-00000-f2d0ac63-01c2-4fc6-9b81-353a0cd028f1.c000.zstd.parquet',\n",
       " './data/input/train/agent=3226/part-00000-0f44a486-5e4e-41b3-a094-3c128e988be9.c000.zstd.parquet',\n",
       " './data/input/train/agent=9019/part-00000-9da24680-6773-4be4-b7ab-035b387083fa.c000.zstd.parquet',\n",
       " './data/input/train/agent=108/part-00000-19f1cbff-828c-4abe-9e85-1dd2d06e6c94.c000.zstd.parquet',\n",
       " './data/input/train/agent=6130/part-00000-3666468c-47e6-4764-ad05-15a6223ed34a.c000.zstd.parquet',\n",
       " './data/input/train/agent=1076/part-00000-b5ae74ab-3086-4757-9377-3fb8bdac310d.c000.zstd.parquet',\n",
       " './data/input/train/agent=5556/part-00000-2f459f6d-d46b-4b64-a366-371c698a7461.c000.zstd.parquet',\n",
       " './data/input/train/agent=7456/part-00000-a9248982-8a40-4731-a457-51e15d640a0f.c000.zstd.parquet',\n",
       " './data/input/train/agent=3020/part-00000-3a2954c1-b612-4db8-b3d0-0e62cc27fc1a.c000.zstd.parquet',\n",
       " './data/input/train/agent=2194/part-00000-28d121e8-05be-4d5f-b294-f1b95feea772.c000.zstd.parquet',\n",
       " './data/input/train/agent=7421/part-00000-93d923b3-df40-4f1c-b194-f215fb9b31fc.c000.zstd.parquet',\n",
       " './data/input/train/agent=9893/part-00000-71a0e8e0-440e-4367-b86d-5dc94f6435c0.c000.zstd.parquet',\n",
       " './data/input/train/agent=1850/part-00000-f17b2bb0-70a5-46db-bc34-4acac00490cd.c000.zstd.parquet',\n",
       " './data/input/train/agent=7640/part-00000-d7f2781e-c78a-43b4-ba96-39bb985e2929.c000.zstd.parquet',\n",
       " './data/input/train/agent=4563/part-00000-a6531043-7b4c-4497-95f9-de361018fdeb.c000.zstd.parquet',\n",
       " './data/input/train/agent=5798/part-00000-3f93f822-8e3c-47fb-96e1-b69abf0fa634.c000.zstd.parquet',\n",
       " './data/input/train/agent=2462/part-00000-f7a43d75-0ba0-48db-bcbe-1b9e27f2db89.c000.zstd.parquet',\n",
       " './data/input/train/agent=7574/part-00000-089069f9-d1cf-4310-84f9-a43b460700b6.c000.zstd.parquet',\n",
       " './data/input/train/agent=6857/part-00000-75e78acd-dd82-4523-b4d2-95319a8998f7.c000.zstd.parquet',\n",
       " './data/input/train/agent=3816/part-00000-e67e3f2d-4f2e-4d1d-ace6-21f2108f8a1a.c000.zstd.parquet',\n",
       " './data/input/train/agent=8266/part-00000-1c26d074-9207-40cd-936d-a4285d1efb2c.c000.zstd.parquet',\n",
       " './data/input/train/agent=2126/part-00000-8c931068-2534-4e2b-8d91-8e91e7a0dcaf.c000.zstd.parquet',\n",
       " './data/input/train/agent=403/part-00000-6e245bb3-7a83-41bd-adec-787a638e9ff0.c000.zstd.parquet',\n",
       " './data/input/train/agent=6265/part-00000-c4499977-4213-48de-aba9-64e76a9c9a6f.c000.zstd.parquet',\n",
       " './data/input/train/agent=2565/part-00000-61baee30-2edf-48d1-bd51-a8db61050c25.c000.zstd.parquet',\n",
       " './data/input/train/agent=3631/part-00000-f0f6312d-be7f-4ae6-bd4e-a1c8ea5b3f36.c000.zstd.parquet',\n",
       " './data/input/train/agent=5374/part-00000-9d1769c6-2cfc-4c8b-9b20-4d3e541bc62e.c000.zstd.parquet',\n",
       " './data/input/train/agent=7585/part-00000-bee2573f-df0a-4e8f-80a1-803dbcec31d0.c000.zstd.parquet',\n",
       " './data/input/train/agent=4877/part-00000-441a5322-7145-45d7-90a3-7a0b1a45b491.c000.zstd.parquet',\n",
       " './data/input/train/agent=6274/part-00000-b64e5d65-81bd-41e8-a3ec-ad6073aac332.c000.zstd.parquet',\n",
       " './data/input/train/agent=937/part-00000-662df985-7acf-4097-b852-05883c678667.c000.zstd.parquet',\n",
       " './data/input/train/agent=8291/part-00000-680e1fa9-8da7-46c9-91d2-6d8713528e2a.c000.zstd.parquet',\n",
       " './data/input/train/agent=9428/part-00000-29f12a2f-78f0-4900-8df0-ed03fda4a0ce.c000.zstd.parquet',\n",
       " './data/input/train/agent=5525/part-00000-d97552ea-0840-49e0-9b3d-ac0a432f9392.c000.zstd.parquet',\n",
       " './data/input/train/agent=1303/part-00000-dfd57c98-3324-4c9b-b506-cfa4df504a36.c000.zstd.parquet',\n",
       " './data/input/train/agent=9562/part-00000-73b81b94-721e-4d74-847f-f983cc771d59.c000.zstd.parquet',\n",
       " './data/input/train/agent=9051/part-00000-46dc1ce3-acea-4547-9b41-4b9983dcb35d.c000.zstd.parquet',\n",
       " './data/input/train/agent=3516/part-00000-ea7105bb-4295-481a-ae14-e58ba3ff7c97.c000.zstd.parquet',\n",
       " './data/input/train/agent=9005/part-00000-6442f704-9b77-48d7-92ed-1f099a23e886.c000.zstd.parquet',\n",
       " './data/input/train/agent=5248/part-00000-2e5f4ff3-b9c7-4052-b2f2-180b062d8c4e.c000.zstd.parquet',\n",
       " './data/input/train/agent=7151/part-00000-38ae58f1-811f-448e-abe8-0025b95e2dd3.c000.zstd.parquet',\n",
       " './data/input/train/agent=9638/part-00000-2d91a213-133f-4d4c-8677-0825e08f7dcb.c000.zstd.parquet',\n",
       " './data/input/train/agent=1225/part-00000-d9b9f275-087f-4acd-b834-717fb8cff7e1.c000.zstd.parquet',\n",
       " './data/input/train/agent=4222/part-00000-e236af09-4bbc-4940-9242-611322757b8e.c000.zstd.parquet',\n",
       " './data/input/train/agent=9112/part-00000-89f81bef-d338-4707-a3f3-d5ac4a31f69a.c000.zstd.parquet',\n",
       " './data/input/train/agent=9656/part-00000-4b2db349-899a-40e2-be6e-b2d248ca6905.c000.zstd.parquet',\n",
       " './data/input/train/agent=6602/part-00000-da32bc94-cbd0-4650-b1a5-688c8cb5322b.c000.zstd.parquet',\n",
       " './data/input/train/agent=9461/part-00000-b66d789b-5ec9-4bac-b5b5-30ca19c9367f.c000.zstd.parquet',\n",
       " './data/input/train/agent=8404/part-00000-e6252539-71f7-4fbf-8cf5-29a84218e632.c000.zstd.parquet',\n",
       " './data/input/train/agent=9580/part-00000-ad2be2dd-666a-4539-b5cf-b746ee951f1d.c000.zstd.parquet',\n",
       " './data/input/train/agent=2000/part-00000-b080f25a-17fa-48bd-beec-9a5859daece4.c000.zstd.parquet',\n",
       " './data/input/train/agent=8215/part-00000-a2e8441a-a931-40cf-a154-430671871474.c000.zstd.parquet',\n",
       " './data/input/train/agent=3485/part-00000-eb0cfab7-a395-4933-b886-7fdcfdf7ed04.c000.zstd.parquet',\n",
       " './data/input/train/agent=7502/part-00000-decf31d4-c20c-49d3-8742-7551ac0066d4.c000.zstd.parquet',\n",
       " './data/input/train/agent=4186/part-00000-12c5274a-59d9-4d9f-92f1-3b8ef9d9803a.c000.zstd.parquet',\n",
       " './data/input/train/agent=2894/part-00000-38f51cfb-5401-4393-acd4-ebacdd8c4f4b.c000.zstd.parquet',\n",
       " './data/input/train/agent=3221/part-00000-7709c6c9-cbd8-430c-9eb2-dd62e8416328.c000.zstd.parquet',\n",
       " './data/input/train/agent=3987/part-00000-b52cc9a0-4078-45a3-84f7-d7794fd3970e.c000.zstd.parquet',\n",
       " './data/input/train/agent=1202/part-00000-e94c904c-ba0b-4cc6-8f13-6eeebdb6d0b4.c000.zstd.parquet',\n",
       " './data/input/train/agent=6102/part-00000-9855afa5-428f-4160-9a1d-005019263bb7.c000.zstd.parquet',\n",
       " './data/input/train/agent=5671/part-00000-338d657e-379c-435a-8e3f-488448571b39.c000.zstd.parquet',\n",
       " './data/input/train/agent=7373/part-00000-3ba2c5b4-fcbe-4afa-8efd-1863d2ed1793.c000.zstd.parquet',\n",
       " './data/input/train/agent=7801/part-00000-0d10cadd-f6e6-4d68-aed1-8a0e9842ced5.c000.zstd.parquet',\n",
       " './data/input/train/agent=923/part-00000-b4ae5912-acd8-44eb-9110-39433e492d24.c000.zstd.parquet',\n",
       " './data/input/train/agent=2385/part-00000-a7a54fe3-2678-465e-9309-22bce3fd6e22.c000.zstd.parquet',\n",
       " './data/input/train/agent=5205/part-00000-fcc01615-b71a-4700-a4bd-7a9020096f0f.c000.zstd.parquet',\n",
       " './data/input/train/agent=8593/part-00000-e0353b95-1368-4fd2-95ee-3a24171f05a0.c000.zstd.parquet',\n",
       " './data/input/train/agent=5962/part-00000-44417b90-fb63-4ad1-8d1a-47752470dfec.c000.zstd.parquet',\n",
       " './data/input/train/agent=2215/part-00000-f27954a5-d3c2-4e42-b356-634e1ff1963c.c000.zstd.parquet',\n",
       " './data/input/train/agent=7554/part-00000-41deb51a-4929-4539-88a4-87623bc5de29.c000.zstd.parquet',\n",
       " './data/input/train/agent=6192/part-00000-4456eec4-7527-4b27-a933-320005854cae.c000.zstd.parquet',\n",
       " './data/input/train/agent=6078/part-00000-bda71b63-9462-47c7-8076-15160958d36c.c000.zstd.parquet',\n",
       " './data/input/train/agent=1840/part-00000-10588170-10e0-40a6-a6f0-9000f1b66aa0.c000.zstd.parquet',\n",
       " './data/input/train/agent=1995/part-00000-9dcfece4-d4b2-4f72-93af-e0798338338d.c000.zstd.parquet',\n",
       " './data/input/train/agent=4672/part-00000-2c2b67e6-96c8-4939-912c-0e3eb15a10ed.c000.zstd.parquet',\n",
       " './data/input/train/agent=8750/part-00000-81dac6af-1f0f-49bc-b1ce-033f482715e7.c000.zstd.parquet',\n",
       " './data/input/train/agent=5478/part-00000-efdc2013-b473-478b-a94b-bb9175aef799.c000.zstd.parquet',\n",
       " './data/input/train/agent=5586/part-00000-976be364-dadd-45cf-87a7-aa19c3483529.c000.zstd.parquet',\n",
       " './data/input/train/agent=7353/part-00000-36d0174a-a860-4356-bc03-deb5fcfcbfc0.c000.zstd.parquet',\n",
       " './data/input/train/agent=3260/part-00000-e9221450-fab4-421f-ac67-d5e9ed68649f.c000.zstd.parquet',\n",
       " './data/input/train/agent=6328/part-00000-fc9806df-ec20-48ab-9c2b-399d861c9a5e.c000.zstd.parquet',\n",
       " './data/input/train/agent=1426/part-00000-01aa1715-2306-4ebd-a426-a959be226b23.c000.zstd.parquet',\n",
       " './data/input/train/agent=2823/part-00000-559b0ae7-052b-4b81-9e08-417ad4a5f725.c000.zstd.parquet',\n",
       " './data/input/train/agent=3783/part-00000-315c9f1d-b29f-4b02-9d79-dda3ccada95d.c000.zstd.parquet',\n",
       " './data/input/train/agent=7166/part-00000-acd12f34-79e4-4cee-acb6-ef8080b71b88.c000.zstd.parquet',\n",
       " './data/input/train/agent=6998/part-00000-0ac4ca7e-9e03-4dc8-b746-b6046c510574.c000.zstd.parquet',\n",
       " './data/input/train/agent=5291/part-00000-676ce143-f36e-4628-8e06-cdecb611495d.c000.zstd.parquet',\n",
       " './data/input/train/agent=1041/part-00000-3132c66f-6734-4f55-92e9-903ca50c730b.c000.zstd.parquet',\n",
       " './data/input/train/agent=5083/part-00000-b52d3358-f813-4f1d-9182-d14dab175ce1.c000.zstd.parquet',\n",
       " './data/input/train/agent=1024/part-00000-9f4a0047-738c-4ae6-b0d1-2049d9347137.c000.zstd.parquet',\n",
       " './data/input/train/agent=1179/part-00000-0a688a2c-5cc6-4942-9beb-472df6f8f276.c000.zstd.parquet',\n",
       " './data/input/train/agent=2390/part-00000-57a227ef-3b7f-4eb0-9bed-bf4b2a91c442.c000.zstd.parquet',\n",
       " './data/input/train/agent=7549/part-00000-088681d6-49bd-47ee-acc9-92487e71c947.c000.zstd.parquet',\n",
       " './data/input/train/agent=5630/part-00000-abf1bfed-cd69-4252-8ebe-8718607c2580.c000.zstd.parquet',\n",
       " './data/input/train/agent=6429/part-00000-cff91560-43d7-4382-910a-f837330fe732.c000.zstd.parquet',\n",
       " './data/input/train/agent=8868/part-00000-c8fc93c2-4b7a-4e58-99a7-84316c5871c2.c000.zstd.parquet',\n",
       " './data/input/train/agent=5465/part-00000-7aca0b2e-632e-4d31-bb3d-d07cc201afed.c000.zstd.parquet',\n",
       " './data/input/train/agent=4140/part-00000-a0e0263b-0673-44c8-b480-8a0ccc983011.c000.zstd.parquet',\n",
       " './data/input/train/agent=4757/part-00000-a01a8325-4880-4cdc-b1b2-b43f2538c2b4.c000.zstd.parquet',\n",
       " './data/input/train/agent=9450/part-00000-a73d9b0c-dc87-4978-97d3-20710a6d2f42.c000.zstd.parquet',\n",
       " './data/input/train/agent=7487/part-00000-0f97d7de-187f-4ab5-b768-df8bdfc87aa9.c000.zstd.parquet',\n",
       " './data/input/train/agent=8809/part-00000-a9bb7fb6-82ea-42f1-ac5f-59dfb71201aa.c000.zstd.parquet',\n",
       " './data/input/train/agent=1721/part-00000-24c611b8-7489-4cac-bcf0-eb3ef7183421.c000.zstd.parquet',\n",
       " './data/input/train/agent=6973/part-00000-2ae4f727-ed02-44e5-9371-15377c27fe81.c000.zstd.parquet',\n",
       " './data/input/train/agent=50/part-00000-1749b0cd-61fd-4a22-8ecb-4012383d9f3a.c000.zstd.parquet',\n",
       " './data/input/train/agent=5400/part-00000-3fff444d-7bfb-4d27-ae54-0fe1a7b9e5be.c000.zstd.parquet',\n",
       " './data/input/train/agent=411/part-00000-d56fa313-2444-492e-a82f-b030fff6eb76.c000.zstd.parquet',\n",
       " './data/input/train/agent=8526/part-00000-e3148b9a-a2c3-4007-9107-280d89f681f8.c000.zstd.parquet',\n",
       " './data/input/train/agent=1535/part-00000-353f59c9-397d-4233-95aa-be87f9d6fcec.c000.zstd.parquet',\n",
       " './data/input/train/agent=1015/part-00000-030f29cb-4a7f-428f-8a7a-da46d5a87053.c000.zstd.parquet',\n",
       " './data/input/train/agent=8659/part-00000-3182fa23-5259-4603-8b17-20e52b8434bb.c000.zstd.parquet',\n",
       " './data/input/train/agent=8720/part-00000-cca76b71-f67c-4dff-b5f8-20dd2fd79168.c000.zstd.parquet',\n",
       " './data/input/train/agent=5546/part-00000-21568ec6-9522-4b19-8c7b-439ebbf0469a.c000.zstd.parquet',\n",
       " './data/input/train/agent=9847/part-00000-307b7588-88d0-43a0-bce8-af245ba3f56b.c000.zstd.parquet',\n",
       " './data/input/train/agent=1343/part-00000-aff19257-618c-4e6a-b902-4e5810506b58.c000.zstd.parquet',\n",
       " './data/input/train/agent=4350/part-00000-08335318-0584-460f-ace2-1f18ee716727.c000.zstd.parquet',\n",
       " './data/input/train/agent=6213/part-00000-744004fb-4313-49fb-a65a-eef93a6d0067.c000.zstd.parquet',\n",
       " './data/input/train/agent=144/part-00000-af9489c8-fcd2-4e36-a773-f98544e7c075.c000.zstd.parquet',\n",
       " './data/input/train/agent=3738/part-00000-8cf2295f-3ce4-4d54-827d-57148e74e240.c000.zstd.parquet',\n",
       " './data/input/train/agent=7497/part-00000-f80348b1-92ba-41f4-b3cc-bae9f6e4b3e4.c000.zstd.parquet',\n",
       " './data/input/train/agent=9835/part-00000-cb508455-4266-42df-b903-b4c4bdbae32c.c000.zstd.parquet',\n",
       " './data/input/train/agent=9487/part-00000-7516e975-26bc-4729-9a3c-3d1cf7b3d21a.c000.zstd.parquet',\n",
       " './data/input/train/agent=7800/part-00000-3026790e-eee4-4f58-8f75-dc81be3d8c86.c000.zstd.parquet',\n",
       " './data/input/train/agent=419/part-00000-11de7214-2239-43a4-bde1-acacf8551744.c000.zstd.parquet',\n",
       " './data/input/train/agent=5700/part-00000-4080c39d-689b-459f-bb2d-6b3dfba1385a.c000.zstd.parquet',\n",
       " './data/input/train/agent=8628/part-00000-f28fb968-7f78-454f-af48-2deb23fa1cd6.c000.zstd.parquet',\n",
       " './data/input/train/agent=4332/part-00000-e1729fd0-a565-4ee5-abe5-0c69d2601acb.c000.zstd.parquet',\n",
       " './data/input/train/agent=558/part-00000-1124c622-f9c9-455d-b50b-b2b40e560b9e.c000.zstd.parquet',\n",
       " './data/input/train/agent=968/part-00000-d0c74bd2-16fd-41d7-aca8-6e03c6c03923.c000.zstd.parquet',\n",
       " './data/input/train/agent=5724/part-00000-49872efe-37cf-4a66-9be7-81f611750617.c000.zstd.parquet',\n",
       " './data/input/train/agent=2535/part-00000-c8de0b5d-2ffc-454d-8ba6-2eac5da7a2a0.c000.zstd.parquet',\n",
       " './data/input/train/agent=5015/part-00000-5a50f429-3857-4562-b86d-a38a8f4583b4.c000.zstd.parquet',\n",
       " './data/input/train/agent=1433/part-00000-e551e7f2-6912-4194-9b9d-9af77b4567ea.c000.zstd.parquet',\n",
       " './data/input/train/agent=5142/part-00000-d2907c2b-e205-4dcc-bc17-a9e0bbc78c73.c000.zstd.parquet',\n",
       " './data/input/train/agent=7174/part-00000-4a12bf46-0df1-462c-a4aa-abf2ffec5988.c000.zstd.parquet',\n",
       " './data/input/train/agent=9246/part-00000-48713b5a-8707-4395-9b76-6dd2574a5ce9.c000.zstd.parquet',\n",
       " './data/input/train/agent=7420/part-00000-94347184-cb2b-474b-9f2a-2879415894da.c000.zstd.parquet',\n",
       " './data/input/train/agent=2187/part-00000-257bb905-5eac-4fb5-afef-a4288f18717e.c000.zstd.parquet',\n",
       " './data/input/train/agent=8583/part-00000-dc415a0d-db6c-40f5-b5c1-24bb3ae93685.c000.zstd.parquet',\n",
       " './data/input/train/agent=4282/part-00000-33f3ece9-df66-43e3-8459-49dfadd53e2f.c000.zstd.parquet',\n",
       " './data/input/train/agent=9469/part-00000-60553c1a-948f-4ca3-b7c3-aa222b125201.c000.zstd.parquet',\n",
       " './data/input/train/agent=3555/part-00000-43febe52-c586-439a-93fb-66e98b09e140.c000.zstd.parquet',\n",
       " './data/input/train/agent=3857/part-00000-2a9b5d07-2ce1-4a2e-aa6a-6483e8c42fa3.c000.zstd.parquet',\n",
       " './data/input/train/agent=9161/part-00000-f315f239-bb22-40af-bffc-1d68d7af1d7d.c000.zstd.parquet',\n",
       " './data/input/train/agent=6754/part-00000-6229486a-46aa-457d-b8f7-570550322307.c000.zstd.parquet',\n",
       " './data/input/train/agent=7240/part-00000-48b93b99-4917-46c6-b07e-18bd02c14258.c000.zstd.parquet',\n",
       " './data/input/train/agent=8027/part-00000-e2ba29fb-b92c-4dd5-b644-5692613d4ccc.c000.zstd.parquet',\n",
       " './data/input/train/agent=4654/part-00000-2d614aef-a842-4998-a1b3-d5b92dd67628.c000.zstd.parquet',\n",
       " './data/input/train/agent=9869/part-00000-f99e4dbb-7940-4e85-bd4e-696f8ef6337f.c000.zstd.parquet',\n",
       " './data/input/train/agent=18/part-00000-23553246-7c4d-4127-87f2-a2fe4f11a7f7.c000.zstd.parquet',\n",
       " './data/input/train/agent=6671/part-00000-d724e738-3d51-44f3-a289-952fe9a2d352.c000.zstd.parquet',\n",
       " './data/input/train/agent=2206/part-00000-4a390d95-cff7-4d6c-b354-32934e70689c.c000.zstd.parquet',\n",
       " './data/input/train/agent=1708/part-00000-01df6ff4-20ac-40b4-a1f5-e5edf744ae12.c000.zstd.parquet',\n",
       " './data/input/train/agent=6308/part-00000-19d7acb3-c2ba-4e71-a70f-f14a018383c7.c000.zstd.parquet',\n",
       " './data/input/train/agent=3287/part-00000-2518ab48-0908-4125-b97c-d2ef94dda693.c000.zstd.parquet',\n",
       " './data/input/train/agent=3261/part-00000-1102492c-7e1a-4fad-9e3c-c91dc1061f68.c000.zstd.parquet',\n",
       " './data/input/train/agent=3185/part-00000-ec2d005a-d658-46eb-acba-bdfba52a1d42.c000.zstd.parquet',\n",
       " './data/input/train/agent=1965/part-00000-89103693-b294-49ba-9374-4058f11a1c55.c000.zstd.parquet',\n",
       " './data/input/train/agent=6905/part-00000-1600b76b-768e-4214-b99b-1553b28ea7fc.c000.zstd.parquet',\n",
       " './data/input/train/agent=1088/part-00000-9909bb99-ef40-483a-a56d-ce4d3a0cf5e0.c000.zstd.parquet',\n",
       " './data/input/train/agent=8828/part-00000-dc89b128-8d0b-4ea8-9346-5cc63fa17577.c000.zstd.parquet',\n",
       " './data/input/train/agent=6453/part-00000-4cd17955-33a7-48c4-b227-95c0aa87b2f3.c000.zstd.parquet',\n",
       " './data/input/train/agent=6853/part-00000-632ae7ba-5c17-4d96-96af-0db4957ba17f.c000.zstd.parquet',\n",
       " './data/input/train/agent=3025/part-00000-2b377544-34ce-43a0-9888-afab950a6b56.c000.zstd.parquet',\n",
       " './data/input/train/agent=9787/part-00000-780af490-bc3f-4a6b-b8f7-a52074fd6ab1.c000.zstd.parquet',\n",
       " './data/input/train/agent=7973/part-00000-92f5530b-82db-457b-8d80-06c5846f809e.c000.zstd.parquet',\n",
       " './data/input/train/agent=4600/part-00000-caef7371-e8d6-48da-a1b3-345774e1c85a.c000.zstd.parquet',\n",
       " './data/input/train/agent=9363/part-00000-c8db6674-e713-4a06-bc46-05f2ae33f056.c000.zstd.parquet',\n",
       " './data/input/train/agent=5623/part-00000-f989159f-4a00-4525-836c-d329d57de2fa.c000.zstd.parquet',\n",
       " './data/input/train/agent=9451/part-00000-26da0aea-752f-4263-9dc9-3fd4a8c86d2d.c000.zstd.parquet',\n",
       " './data/input/train/agent=6741/part-00000-ed207f6b-5c3f-4501-88d2-46dc43be9137.c000.zstd.parquet',\n",
       " './data/input/train/agent=7282/part-00000-1c15dc9d-cac9-4f19-8235-47a3f8aa6cc5.c000.zstd.parquet',\n",
       " './data/input/train/agent=9326/part-00000-0d583da3-edf4-48df-bdb0-000a0e6faccf.c000.zstd.parquet',\n",
       " './data/input/train/agent=8500/part-00000-fc554f17-1b86-4aaa-a592-1cb9be389619.c000.zstd.parquet',\n",
       " './data/input/train/agent=1784/part-00000-58499b5b-a66f-4877-8eee-f01e6de9cf64.c000.zstd.parquet',\n",
       " './data/input/train/agent=1425/part-00000-6b00a343-09e5-42be-9286-74f4fe190649.c000.zstd.parquet',\n",
       " './data/input/train/agent=6209/part-00000-2b110c84-7f6c-49f3-adac-1a0bc38a7eca.c000.zstd.parquet',\n",
       " './data/input/train/agent=242/part-00000-859aa330-7b38-4578-af55-2c447205feaa.c000.zstd.parquet',\n",
       " './data/input/train/agent=2811/part-00000-40cc0bbd-2abb-42b2-8282-c9c7aa0cc044.c000.zstd.parquet',\n",
       " './data/input/train/agent=604/part-00000-b65b84e4-15ad-408f-a938-8153ec4029c0.c000.zstd.parquet',\n",
       " './data/input/train/agent=8166/part-00000-e373f5e7-33ad-42ff-9577-5a78501719ca.c000.zstd.parquet',\n",
       " './data/input/train/agent=4295/part-00000-c1545811-fbd8-4f2b-b8d2-784d5df3b62d.c000.zstd.parquet',\n",
       " './data/input/train/agent=1846/part-00000-58edf061-c8a6-4a4d-b24d-21db2b1e4401.c000.zstd.parquet',\n",
       " './data/input/train/agent=4943/part-00000-ef3520f4-bb63-448d-a694-92d1678896f3.c000.zstd.parquet',\n",
       " './data/input/train/agent=950/part-00000-b9220436-3c71-4a1c-b2de-043a8125c5d0.c000.zstd.parquet',\n",
       " './data/input/train/agent=2774/part-00000-b269e40d-da21-48bc-8b7d-2cdde8ac5c59.c000.zstd.parquet',\n",
       " './data/input/train/agent=2690/part-00000-05dbf4e9-33b9-4aa2-8125-4d303ba01102.c000.zstd.parquet',\n",
       " './data/input/train/agent=1010/part-00000-a6b2ce1e-4493-49c9-9e56-c876ed2ae173.c000.zstd.parquet',\n",
       " './data/input/train/agent=4944/part-00000-c1fc755a-e8ab-42ce-b035-23920300c3ea.c000.zstd.parquet',\n",
       " './data/input/train/agent=7651/part-00000-5102bf04-575b-483f-a430-a13514f4fa71.c000.zstd.parquet',\n",
       " './data/input/train/agent=343/part-00000-05f0415d-28fb-4bf9-a202-cd505892a4f1.c000.zstd.parquet',\n",
       " './data/input/train/agent=27/part-00000-15eb3875-46bf-48c0-8740-4bb79e238df2.c000.zstd.parquet',\n",
       " './data/input/train/agent=9035/part-00000-e73b249f-79da-423f-b4a2-adbab9e63152.c000.zstd.parquet',\n",
       " './data/input/train/agent=3975/part-00000-bf0114d8-343a-49e7-b577-89752c5e332e.c000.zstd.parquet',\n",
       " './data/input/train/agent=5764/part-00000-418ebff6-f2b2-4a14-a9cc-20b5b8b84096.c000.zstd.parquet',\n",
       " './data/input/train/agent=5567/part-00000-f061259a-b2e2-49e5-976f-97e0e28f03e2.c000.zstd.parquet',\n",
       " './data/input/train/agent=2620/part-00000-ef1eee79-23d2-481d-86c6-86e419376c92.c000.zstd.parquet',\n",
       " './data/input/train/agent=3284/part-00000-12ff4390-5e0c-43ac-a873-65ebca5585ab.c000.zstd.parquet',\n",
       " './data/input/train/agent=9917/part-00000-9584a453-279f-46ca-a830-7a1268cad945.c000.zstd.parquet',\n",
       " './data/input/train/agent=1610/part-00000-af77e2c7-0858-4dbb-8d56-8285423d5752.c000.zstd.parquet',\n",
       " './data/input/train/agent=2106/part-00000-00520188-b2d5-493a-9193-54dea25f1c54.c000.zstd.parquet',\n",
       " './data/input/train/agent=6426/part-00000-d799c00b-9ec0-4f3a-9ffb-0cabc6df4f61.c000.zstd.parquet',\n",
       " './data/input/train/agent=7756/part-00000-9b0ca1c8-cbb7-4e1d-b10d-ac27fd431839.c000.zstd.parquet',\n",
       " './data/input/train/agent=2054/part-00000-b99ac355-0852-421d-aea7-402a76c59255.c000.zstd.parquet',\n",
       " './data/input/train/agent=973/part-00000-df51c5ce-c25f-42a0-b434-6e577e3336d5.c000.zstd.parquet',\n",
       " './data/input/train/agent=4392/part-00000-5f53d234-82b3-457a-90f0-3931621e3caa.c000.zstd.parquet',\n",
       " './data/input/train/agent=7117/part-00000-3494fd85-e885-4ab4-adc2-e4395fd1049f.c000.zstd.parquet',\n",
       " './data/input/train/agent=3812/part-00000-0f15f993-deb4-4ab6-9800-1a1c1193bb53.c000.zstd.parquet',\n",
       " './data/input/train/agent=1207/part-00000-73fbca80-4075-4360-b647-e37752e04353.c000.zstd.parquet',\n",
       " './data/input/train/agent=691/part-00000-8f851efe-3680-4981-9537-06e2694af733.c000.zstd.parquet',\n",
       " './data/input/train/agent=423/part-00000-a5527ed6-c28b-45b3-8eb0-2968f61bc83b.c000.zstd.parquet',\n",
       " './data/input/train/agent=3182/part-00000-c8194745-a81d-417b-858f-f29eacc9a6e1.c000.zstd.parquet',\n",
       " './data/input/train/agent=2234/part-00000-162d0194-3f1c-4879-a2a5-7a277e3411d3.c000.zstd.parquet',\n",
       " './data/input/train/agent=616/part-00000-0d54e51c-e167-4fe0-a8ee-d00292ca2d33.c000.zstd.parquet',\n",
       " './data/input/train/agent=404/part-00000-65ec1516-dc6c-4001-abce-c3accfcb4690.c000.zstd.parquet',\n",
       " './data/input/train/agent=333/part-00000-be02d820-8e9f-448c-9603-769ee45a4dde.c000.zstd.parquet',\n",
       " './data/input/train/agent=5648/part-00000-1821c1c7-1069-41ba-bd71-653d5e44a257.c000.zstd.parquet',\n",
       " './data/input/train/agent=6254/part-00000-58189a3e-5135-4313-8f32-c934a740df7d.c000.zstd.parquet',\n",
       " './data/input/train/agent=4514/part-00000-c1538474-e072-4bbd-a7ab-6029578bb01c.c000.zstd.parquet',\n",
       " './data/input/train/agent=6361/part-00000-e1566f1a-839f-451c-9c50-a61541b32f71.c000.zstd.parquet',\n",
       " './data/input/train/agent=7870/part-00000-d5830ec1-d750-497d-89f3-88ddefc7e765.c000.zstd.parquet',\n",
       " './data/input/train/agent=9041/part-00000-b4b0541f-3146-4185-bf03-79c2138dc524.c000.zstd.parquet',\n",
       " './data/input/train/agent=7275/part-00000-a56e63f4-71a4-493e-be46-18b0b50c3afd.c000.zstd.parquet',\n",
       " './data/input/train/agent=7102/part-00000-8d4151dd-64d6-4571-80ad-bc9a2b73d907.c000.zstd.parquet',\n",
       " './data/input/train/agent=8722/part-00000-eba94e8a-7e82-4f39-b96b-1378c75ef090.c000.zstd.parquet',\n",
       " './data/input/train/agent=7598/part-00000-108ae787-552f-4fe1-a855-d477dafd1562.c000.zstd.parquet',\n",
       " './data/input/train/agent=1146/part-00000-c88d7e37-ac82-4f7d-816e-137314b02a35.c000.zstd.parquet',\n",
       " './data/input/train/agent=439/part-00000-bdf3acb5-2862-4d50-928a-00ea2915cff4.c000.zstd.parquet',\n",
       " './data/input/train/agent=1374/part-00000-c6241e70-89c3-4543-b9c4-c62b5ca3cff1.c000.zstd.parquet',\n",
       " './data/input/train/agent=4846/part-00000-e9403002-a30e-4e03-9f58-97749639d560.c000.zstd.parquet',\n",
       " './data/input/train/agent=6444/part-00000-42ead61c-c42c-428c-9e59-73193665ed50.c000.zstd.parquet',\n",
       " './data/input/train/agent=3973/part-00000-630adf97-cb8b-4f68-8e32-43a4d691f0ed.c000.zstd.parquet',\n",
       " './data/input/train/agent=2830/part-00000-87acfdc0-4a05-4f3e-938d-fda232add5fe.c000.zstd.parquet',\n",
       " './data/input/train/agent=457/part-00000-fc95258f-65b3-4f6d-9a3a-f79925a00d94.c000.zstd.parquet',\n",
       " './data/input/train/agent=4507/part-00000-22c1d96b-1d81-473c-b9aa-343a294f8f6f.c000.zstd.parquet',\n",
       " './data/input/train/agent=4904/part-00000-cfb80a71-b304-4c9c-b4b4-a22b95069fe2.c000.zstd.parquet',\n",
       " './data/input/train/agent=7490/part-00000-29ab28ed-edae-4d7d-93b6-ade2d7815896.c000.zstd.parquet',\n",
       " './data/input/train/agent=3976/part-00000-3cf2f910-d103-4ac9-97a8-fdba32ea050e.c000.zstd.parquet',\n",
       " './data/input/train/agent=1642/part-00000-651d237c-854e-44fa-9cd5-1d7a33d167ba.c000.zstd.parquet',\n",
       " './data/input/train/agent=4154/part-00000-5e16130b-6696-49df-b5b9-2425f6fcac60.c000.zstd.parquet',\n",
       " './data/input/train/agent=4660/part-00000-bf36ce39-6de8-4f63-a9ca-6665b87af290.c000.zstd.parquet',\n",
       " './data/input/train/agent=1626/part-00000-e675ed2c-21ef-4b79-94b7-166a39ba5950.c000.zstd.parquet',\n",
       " './data/input/train/agent=2357/part-00000-d561196c-376f-4812-b080-88fde4dd9ce7.c000.zstd.parquet',\n",
       " './data/input/train/agent=5989/part-00000-184d9aaa-f983-4c21-b9f3-c6de7337c7f6.c000.zstd.parquet',\n",
       " './data/input/train/agent=2284/part-00000-e87849e5-66ac-48bc-bc80-894173e0d38b.c000.zstd.parquet',\n",
       " './data/input/train/agent=4901/part-00000-f78eb03c-4462-403a-b456-c4e4b0769d7c.c000.zstd.parquet',\n",
       " './data/input/train/agent=8227/part-00000-bc8fc4c9-da94-41a0-adcf-93ab20943966.c000.zstd.parquet',\n",
       " './data/input/train/agent=110/part-00000-8ce97a45-db4a-4117-a789-c0c4f45ac8ec.c000.zstd.parquet',\n",
       " './data/input/train/agent=7303/part-00000-2cb0a271-b6b4-4188-8045-c67157f2c630.c000.zstd.parquet',\n",
       " './data/input/train/agent=688/part-00000-5598e9cd-6792-4ac0-a25a-d6fcaabba183.c000.zstd.parquet',\n",
       " './data/input/train/agent=2428/part-00000-3142eebd-feed-40b4-9b38-e16e36f59fd9.c000.zstd.parquet',\n",
       " './data/input/train/agent=5332/part-00000-3eb2878b-6ef0-4c4e-9f34-3fb62a38650d.c000.zstd.parquet',\n",
       " './data/input/train/agent=8096/part-00000-440ae657-84a3-4bb3-b461-7945205ab706.c000.zstd.parquet',\n",
       " './data/input/train/agent=3323/part-00000-42b3d5e6-d433-495a-a21b-5ff9d48ae51e.c000.zstd.parquet',\n",
       " './data/input/train/agent=4623/part-00000-03c27b8b-f97d-40a2-b22b-54d955c399ec.c000.zstd.parquet',\n",
       " './data/input/train/agent=4246/part-00000-1ead3191-2e62-46c1-a96c-329d9a6524ca.c000.zstd.parquet',\n",
       " './data/input/train/agent=6427/part-00000-5fc3d63b-86ff-4cab-a7d1-8a92e636cf38.c000.zstd.parquet',\n",
       " './data/input/train/agent=9219/part-00000-bf3339d4-e710-46e5-a26b-63e8989a8eed.c000.zstd.parquet',\n",
       " './data/input/train/agent=4044/part-00000-8068ad5d-9889-4052-928a-df490fa30c94.c000.zstd.parquet',\n",
       " './data/input/train/agent=8568/part-00000-ed94cbc8-0d4a-4500-808c-d237107c6dce.c000.zstd.parquet',\n",
       " './data/input/train/agent=1990/part-00000-d268525a-25ee-4963-b46b-1482a2588323.c000.zstd.parquet',\n",
       " './data/input/train/agent=2118/part-00000-87dac9ee-2336-469c-9d9d-99d03c85aeea.c000.zstd.parquet',\n",
       " './data/input/train/agent=8869/part-00000-074430a8-9c66-41e1-8ccb-cd2042b16351.c000.zstd.parquet',\n",
       " './data/input/train/agent=4571/part-00000-c4b98a27-13a3-4072-87c1-026dcf2442a3.c000.zstd.parquet',\n",
       " './data/input/train/agent=3624/part-00000-93df676d-0102-48d7-a008-c1282f1e7d4a.c000.zstd.parquet',\n",
       " './data/input/train/agent=3305/part-00000-8183159d-b62c-4dc3-bd29-c8eb60bebd9e.c000.zstd.parquet',\n",
       " './data/input/train/agent=7374/part-00000-4dcc3237-989a-4cef-b892-b88965c2c2d9.c000.zstd.parquet',\n",
       " './data/input/train/agent=1924/part-00000-bda02905-ec8b-439b-9f56-e89e0ee3ec1c.c000.zstd.parquet',\n",
       " './data/input/train/agent=3903/part-00000-606905e9-32b1-4417-ac31-970b1946c089.c000.zstd.parquet',\n",
       " './data/input/train/agent=7708/part-00000-9c620f31-e675-4a76-b881-137b48700326.c000.zstd.parquet',\n",
       " './data/input/train/agent=320/part-00000-d7d14395-6f16-4829-b0f4-8ed9533a70db.c000.zstd.parquet',\n",
       " './data/input/train/agent=8954/part-00000-44cc9c21-da2a-4e1e-bb4f-475f16781601.c000.zstd.parquet',\n",
       " './data/input/train/agent=6087/part-00000-c8676508-ec9a-4eda-9fa9-1920ba4862c4.c000.zstd.parquet',\n",
       " './data/input/train/agent=6146/part-00000-cd1fee15-1af8-45d8-b8e9-a9ce5c76dcaa.c000.zstd.parquet',\n",
       " './data/input/train/agent=8812/part-00000-7733691c-48eb-4b8c-9678-fc8b82b5b7f4.c000.zstd.parquet',\n",
       " './data/input/train/agent=7661/part-00000-34a2bb5f-08e6-4eaf-9958-7ce2ffc398cc.c000.zstd.parquet',\n",
       " './data/input/train/agent=483/part-00000-bd67bfcf-3881-4d47-aab2-5dd06f9d474b.c000.zstd.parquet',\n",
       " './data/input/train/agent=1304/part-00000-b41954ba-f1e8-487e-b95a-c28336f7bc05.c000.zstd.parquet',\n",
       " './data/input/train/agent=9273/part-00000-f82eab9c-f13e-4ccb-94b1-e8339ef43295.c000.zstd.parquet',\n",
       " './data/input/train/agent=2180/part-00000-301997cc-63f4-4a10-abe7-0e3629bf9b0b.c000.zstd.parquet',\n",
       " './data/input/train/agent=4056/part-00000-1da2a5d3-ad67-4a65-9c23-e74a1bb94c55.c000.zstd.parquet',\n",
       " './data/input/train/agent=749/part-00000-5144cbbf-653e-4ece-9202-c030122cf8f5.c000.zstd.parquet',\n",
       " './data/input/train/agent=3414/part-00000-44fed771-c80a-4d18-9e5f-bcf9ca45add8.c000.zstd.parquet',\n",
       " './data/input/train/agent=485/part-00000-31343904-f639-49c7-b8eb-6e2a3195bbe3.c000.zstd.parquet',\n",
       " './data/input/train/agent=9609/part-00000-d81ad7a8-7ffd-455b-9722-084ef13e4133.c000.zstd.parquet',\n",
       " './data/input/train/agent=133/part-00000-fe5a109d-785d-449f-8cd7-28343c259019.c000.zstd.parquet',\n",
       " './data/input/train/agent=9361/part-00000-8c02cf65-6efa-436e-b4ce-b70842b89214.c000.zstd.parquet',\n",
       " './data/input/train/agent=4356/part-00000-2db56574-f983-4b3f-9c67-4b8b52211688.c000.zstd.parquet',\n",
       " './data/input/train/agent=1693/part-00000-af525c94-97ff-49b2-9ab9-2c7d91bff0f0.c000.zstd.parquet',\n",
       " './data/input/train/agent=9016/part-00000-66cf3d3c-0c97-484e-bb9f-4db4d1d49474.c000.zstd.parquet',\n",
       " './data/input/train/agent=648/part-00000-68684020-feca-49db-b408-938651e97a38.c000.zstd.parquet',\n",
       " './data/input/train/agent=5108/part-00000-27888ee5-b5fe-4e1f-9968-ee77cd14776b.c000.zstd.parquet',\n",
       " './data/input/train/agent=1091/part-00000-c44a6a22-400d-4fb8-ac7f-87d789716e76.c000.zstd.parquet',\n",
       " './data/input/train/agent=1847/part-00000-af4428e6-9682-478b-ad42-73a0e03d9d74.c000.zstd.parquet',\n",
       " './data/input/train/agent=7241/part-00000-42bf1fc0-4b35-49b6-88ac-811d1f8c345f.c000.zstd.parquet',\n",
       " './data/input/train/agent=2111/part-00000-e39a0a69-2a03-4106-a58e-e540f9679be8.c000.zstd.parquet',\n",
       " './data/input/train/agent=1221/part-00000-28c36de6-0b73-4c65-a07d-e93ecfa84a32.c000.zstd.parquet',\n",
       " './data/input/train/agent=7415/part-00000-d0a2ca90-fddd-4461-aec4-dd3d2dcc8724.c000.zstd.parquet',\n",
       " './data/input/train/agent=7520/part-00000-e674c76b-4ba0-467b-9617-7bb80a8bce9e.c000.zstd.parquet',\n",
       " './data/input/train/agent=5811/part-00000-45c323eb-357b-4605-9ba9-2d831ff18f00.c000.zstd.parquet',\n",
       " './data/input/train/agent=1865/part-00000-e04df8be-6297-4d0b-bda7-e464f3b114ef.c000.zstd.parquet',\n",
       " './data/input/train/agent=8976/part-00000-22b78421-d78b-4ebc-8658-2156d596c4cc.c000.zstd.parquet',\n",
       " './data/input/train/agent=349/part-00000-c86ae5f0-6263-4475-80c6-66f1cc5cb5c5.c000.zstd.parquet',\n",
       " './data/input/train/agent=9263/part-00000-6bc84085-25c1-4572-88d3-07521533cff2.c000.zstd.parquet',\n",
       " './data/input/train/agent=5430/part-00000-935a2352-9ea8-4a6a-a05f-20e528f5fc84.c000.zstd.parquet',\n",
       " './data/input/train/agent=4009/part-00000-a9ca19a7-3664-4950-8bd6-b50585e5e482.c000.zstd.parquet',\n",
       " './data/input/train/agent=1422/part-00000-1c1a9d30-99bc-4d48-a5f5-5a694ffd9ff7.c000.zstd.parquet',\n",
       " './data/input/train/agent=6770/part-00000-26671b01-1376-4487-99a4-e6287748af40.c000.zstd.parquet',\n",
       " './data/input/train/agent=5778/part-00000-616d0863-657c-4fc5-8e94-bd6a5762ef4e.c000.zstd.parquet',\n",
       " './data/input/train/agent=5293/part-00000-781c6aee-77c9-43c5-ada2-172176a9155a.c000.zstd.parquet',\n",
       " './data/input/train/agent=6623/part-00000-c9e8cc56-115b-47c1-8985-162f39f110f3.c000.zstd.parquet',\n",
       " './data/input/train/agent=1000/part-00000-c12467e2-39be-4167-8e8a-c34e85e336ad.c000.zstd.parquet',\n",
       " './data/input/train/agent=7352/part-00000-b724ee83-91e7-4e5b-8cff-4cb2fe5156e6.c000.zstd.parquet',\n",
       " './data/input/train/agent=5733/part-00000-1229dbd2-12dd-42f4-834e-f1d29a9ac9a6.c000.zstd.parquet',\n",
       " './data/input/train/agent=8821/part-00000-962922f0-6e9e-447c-bfa7-4afdf458bc6a.c000.zstd.parquet',\n",
       " './data/input/train/agent=8242/part-00000-f54e52f6-cac2-41c5-9a45-ba209672e319.c000.zstd.parquet',\n",
       " './data/input/train/agent=228/part-00000-e99b2aa4-1e99-4084-bd1e-4be2f478b483.c000.zstd.parquet',\n",
       " './data/input/train/agent=7693/part-00000-a1c79e01-0e15-4a37-9629-75391319edca.c000.zstd.parquet',\n",
       " './data/input/train/agent=5802/part-00000-d6ed1d66-b954-4e05-94ae-6bd5ea5d2227.c000.zstd.parquet',\n",
       " './data/input/train/agent=2338/part-00000-bf5af377-6f22-4c42-a240-9052da75574e.c000.zstd.parquet',\n",
       " './data/input/train/agent=322/part-00000-cb3eca22-e4fa-4d50-b144-86c04686d8a1.c000.zstd.parquet',\n",
       " './data/input/train/agent=8830/part-00000-b0a57fe5-ca3f-44fb-b45d-3f7586692786.c000.zstd.parquet',\n",
       " './data/input/train/agent=6663/part-00000-e5e14589-42d0-40aa-b5f3-38a1d66fe450.c000.zstd.parquet',\n",
       " './data/input/train/agent=5042/part-00000-cecd6a2b-652f-46c9-a44d-59bf56169663.c000.zstd.parquet',\n",
       " './data/input/train/agent=6090/part-00000-b3a79875-3982-430c-a7da-69ef63ae979a.c000.zstd.parquet',\n",
       " './data/input/train/agent=5315/part-00000-203f63fe-06ee-4efb-bbcc-75593f10c295.c000.zstd.parquet',\n",
       " './data/input/train/agent=7848/part-00000-f66d7a4d-092b-4eae-86fd-844ef020f7d2.c000.zstd.parquet',\n",
       " './data/input/train/agent=7499/part-00000-738d6b24-50e7-4709-b737-679877bfbdfd.c000.zstd.parquet',\n",
       " './data/input/train/agent=1463/part-00000-6ec96257-9d87-4ef5-957e-13566735b70d.c000.zstd.parquet',\n",
       " './data/input/train/agent=9014/part-00000-0cf2b1a3-02b0-4be6-928b-cc6bdef5a656.c000.zstd.parquet',\n",
       " './data/input/train/agent=8881/part-00000-c6c675cf-e241-4578-972e-400057e17762.c000.zstd.parquet',\n",
       " './data/input/train/agent=4629/part-00000-1c7675a9-e1bb-4985-811f-e5a3e18670da.c000.zstd.parquet',\n",
       " './data/input/train/agent=1933/part-00000-65f13d70-b098-4d40-9048-800e14cf6373.c000.zstd.parquet',\n",
       " './data/input/train/agent=1646/part-00000-bc15d02b-cfba-452c-b859-94e6f4bee879.c000.zstd.parquet',\n",
       " './data/input/train/agent=5032/part-00000-b24153bd-bd07-48be-98ac-50e94a532832.c000.zstd.parquet',\n",
       " './data/input/train/agent=2468/part-00000-1786970f-e9cb-41db-b658-ec60d9a8bb68.c000.zstd.parquet',\n",
       " './data/input/train/agent=4322/part-00000-fc793236-1978-45e8-b9cf-3f4a76be32ed.c000.zstd.parquet',\n",
       " './data/input/train/agent=4073/part-00000-d66f0202-aff0-446f-aab0-b920833ff7d0.c000.zstd.parquet',\n",
       " './data/input/train/agent=2117/part-00000-e51578bc-80c5-4a07-aa43-032a1449d0b3.c000.zstd.parquet',\n",
       " './data/input/train/agent=4464/part-00000-70290036-9fce-43c8-a8e2-66c2bdb3062e.c000.zstd.parquet',\n",
       " './data/input/train/agent=215/part-00000-afa3f98c-ab04-435e-a6dc-3712c49df537.c000.zstd.parquet',\n",
       " './data/input/train/agent=8064/part-00000-9d63e788-cde6-4aee-9d3f-1809635d6a21.c000.zstd.parquet',\n",
       " './data/input/train/agent=9433/part-00000-6ea5bb11-5bb2-44c7-a074-8a78ec15aba8.c000.zstd.parquet',\n",
       " './data/input/train/agent=6104/part-00000-9f024b4c-bc14-4439-a059-16c39b9de9ad.c000.zstd.parquet',\n",
       " './data/input/train/agent=6764/part-00000-548505d0-878d-40bc-9f23-bc75ca7d5bfb.c000.zstd.parquet',\n",
       " './data/input/train/agent=259/part-00000-9bf7cc4a-e9aa-4142-a96a-85ffbfb8bf52.c000.zstd.parquet',\n",
       " './data/input/train/agent=3360/part-00000-4121f69f-d776-4f57-a658-4407a29805eb.c000.zstd.parquet',\n",
       " './data/input/train/agent=8872/part-00000-ec3a2490-97a4-48d7-bced-63d8d81bf838.c000.zstd.parquet',\n",
       " './data/input/train/agent=7920/part-00000-b25c0a81-3165-4bee-89fb-119c717d493c.c000.zstd.parquet',\n",
       " './data/input/train/agent=6807/part-00000-f156219c-d8fb-4bda-bc51-78a3910a81ac.c000.zstd.parquet',\n",
       " './data/input/train/agent=2243/part-00000-e1dd7140-8687-4bcf-88b9-bd81f4597eec.c000.zstd.parquet',\n",
       " './data/input/train/agent=5931/part-00000-9a932b8f-c836-46a4-8c2d-a44b004a2c59.c000.zstd.parquet',\n",
       " './data/input/train/agent=8172/part-00000-88ce02c7-4c65-4789-bd6a-d53f4701c654.c000.zstd.parquet',\n",
       " './data/input/train/agent=2414/part-00000-a4aa9c9a-7d7f-4b48-b306-1e59bc19abfa.c000.zstd.parquet',\n",
       " './data/input/train/agent=4544/part-00000-1e590c0a-f7fe-4d81-b233-2f3b34a900fa.c000.zstd.parquet',\n",
       " './data/input/train/agent=4421/part-00000-6f450fa6-e250-46dd-9068-5ed2871e65dc.c000.zstd.parquet',\n",
       " './data/input/train/agent=9409/part-00000-b1f6ed53-aa20-4439-a1b0-480980e5c615.c000.zstd.parquet',\n",
       " './data/input/train/agent=9874/part-00000-c357d8f0-4915-4a57-a321-bd505572bbbc.c000.zstd.parquet',\n",
       " './data/input/train/agent=2359/part-00000-989b0b83-064f-405e-9733-7442bcea8e00.c000.zstd.parquet',\n",
       " './data/input/train/agent=4188/part-00000-9264c848-ff08-4bea-83cd-eee717b175f6.c000.zstd.parquet',\n",
       " './data/input/train/agent=193/part-00000-60c5de1f-b03e-4b63-8f40-b4906d8ef284.c000.zstd.parquet',\n",
       " './data/input/train/agent=6404/part-00000-a03c2b70-aea7-4597-a052-2f75c2f5e6b5.c000.zstd.parquet',\n",
       " './data/input/train/agent=1845/part-00000-c77fdf2c-ca8d-4a53-bb3e-14dc2c70ef5b.c000.zstd.parquet',\n",
       " './data/input/train/agent=4505/part-00000-47c81684-2f22-4144-b047-33c324bb8ab5.c000.zstd.parquet',\n",
       " './data/input/train/agent=5575/part-00000-3c1b0350-3609-490c-8426-c97f5fded078.c000.zstd.parquet',\n",
       " './data/input/train/agent=2034/part-00000-a07fe333-f48e-410a-8b2e-996edc19fe5c.c000.zstd.parquet',\n",
       " './data/input/train/agent=6084/part-00000-76e94095-69d2-4ef3-8f69-ba5a0b938603.c000.zstd.parquet',\n",
       " './data/input/train/agent=7783/part-00000-0a73453c-57b8-4561-9cb9-cc905177da21.c000.zstd.parquet',\n",
       " './data/input/train/agent=4127/part-00000-89c52549-b642-4a04-a111-fb907b672d06.c000.zstd.parquet',\n",
       " './data/input/train/agent=4773/part-00000-66067eb8-2ed6-4284-a9b0-f916d91eb0b6.c000.zstd.parquet',\n",
       " './data/input/train/agent=1099/part-00000-21c66524-c1e7-4ca5-9ea1-c96e67462d4a.c000.zstd.parquet',\n",
       " './data/input/train/agent=2807/part-00000-93dec565-109f-4a49-9c95-625bf419dae9.c000.zstd.parquet',\n",
       " './data/input/train/agent=6878/part-00000-76625441-ac13-4f5a-be6c-f1592d54d31c.c000.zstd.parquet',\n",
       " './data/input/train/agent=1287/part-00000-8be2cd77-c2a6-4d0e-8fc9-febe5ad3c0b2.c000.zstd.parquet',\n",
       " './data/input/train/agent=8971/part-00000-9ac2afd2-c488-4d66-bf7a-5d4c8e96790f.c000.zstd.parquet',\n",
       " './data/input/train/agent=4193/part-00000-3c6ddaf6-938e-4066-b21f-c8ea5d63ab49.c000.zstd.parquet',\n",
       " './data/input/train/agent=2032/part-00000-2b130fe5-a5f0-4d02-a544-eaa5979db832.c000.zstd.parquet',\n",
       " './data/input/train/agent=5484/part-00000-8ed7763d-6ffd-424f-99bd-288faca86ccc.c000.zstd.parquet',\n",
       " './data/input/train/agent=1681/part-00000-47ad4e24-b527-4db7-8e17-0db249ad4256.c000.zstd.parquet',\n",
       " './data/input/train/agent=9573/part-00000-1793a080-e51d-49e5-b1e4-7eb35f879c80.c000.zstd.parquet',\n",
       " './data/input/train/agent=9288/part-00000-6376a3c0-8dd2-4ed7-b0dd-5a92e2fac339.c000.zstd.parquet',\n",
       " './data/input/train/agent=872/part-00000-73cac7f2-04ff-40db-afab-13cdec4535c4.c000.zstd.parquet',\n",
       " './data/input/train/agent=9276/part-00000-7b99dc59-8172-451c-9943-e1eb5714873a.c000.zstd.parquet',\n",
       " './data/input/train/agent=5406/part-00000-339037dc-7fc5-4a0d-bb8b-27f1c293b688.c000.zstd.parquet',\n",
       " './data/input/train/agent=5157/part-00000-f275312d-8945-4187-87eb-fbbfce61d2eb.c000.zstd.parquet',\n",
       " './data/input/train/agent=6341/part-00000-315aebc1-2754-47e3-ba43-1c5292459efd.c000.zstd.parquet',\n",
       " './data/input/train/agent=6889/part-00000-5eb17e9e-746b-421e-86ff-b65808fb1c22.c000.zstd.parquet',\n",
       " './data/input/train/agent=4408/part-00000-184fe575-e46f-41e5-b807-d8d0c45228b1.c000.zstd.parquet',\n",
       " './data/input/train/agent=2403/part-00000-b10dcaa0-eb87-4c26-8403-62b8b4a32a2f.c000.zstd.parquet',\n",
       " './data/input/train/agent=2162/part-00000-edfc4598-96d2-475b-9360-d372e259f18d.c000.zstd.parquet',\n",
       " './data/input/train/agent=2316/part-00000-da1d4b73-6694-4546-ab49-68f0b9e9a281.c000.zstd.parquet',\n",
       " './data/input/train/agent=8257/part-00000-8ae3e6f8-23e6-4073-a49b-60f403a715d8.c000.zstd.parquet',\n",
       " './data/input/train/agent=2079/part-00000-468da8cf-53a9-4d1e-afce-1f9091aacf60.c000.zstd.parquet',\n",
       " './data/input/train/agent=6801/part-00000-ceafb4d6-db54-4e41-8a43-10ff3f05dad2.c000.zstd.parquet',\n",
       " './data/input/train/agent=6281/part-00000-1b753a56-7626-43be-9fff-819914f979f0.c000.zstd.parquet',\n",
       " './data/input/train/agent=4769/part-00000-9a75f9d1-525f-4b5b-ae59-d62475b708b3.c000.zstd.parquet',\n",
       " './data/input/train/agent=833/part-00000-981bfb6d-525e-431b-a358-80019a62353f.c000.zstd.parquet',\n",
       " './data/input/train/agent=4064/part-00000-0a270869-0966-48f4-bd8e-81b0f14ebffb.c000.zstd.parquet',\n",
       " './data/input/train/agent=6357/part-00000-e56a74a0-0b30-431c-a808-33127b4bc143.c000.zstd.parquet',\n",
       " './data/input/train/agent=334/part-00000-138a5614-aa59-4ffc-b545-5bdeb5b539ec.c000.zstd.parquet',\n",
       " './data/input/train/agent=8317/part-00000-b5efa556-3b24-4729-95b3-665daf183543.c000.zstd.parquet',\n",
       " './data/input/train/agent=4926/part-00000-bdecff33-df80-4d95-b0d0-7d64ee54572a.c000.zstd.parquet',\n",
       " './data/input/train/agent=3564/part-00000-6d167679-051b-4101-a9ac-b1a89b5de80c.c000.zstd.parquet',\n",
       " './data/input/train/agent=4965/part-00000-89bbcee1-5240-41b9-b615-daf075ebc03d.c000.zstd.parquet',\n",
       " './data/input/train/agent=1447/part-00000-91be1fb5-c280-4c6c-ad91-0a89c995c45f.c000.zstd.parquet',\n",
       " './data/input/train/agent=8047/part-00000-39d134de-aee6-41e0-98b3-03c4eaf613fd.c000.zstd.parquet',\n",
       " './data/input/train/agent=270/part-00000-ab78ca0e-0d2f-464a-a081-38df8a4be90b.c000.zstd.parquet',\n",
       " './data/input/train/agent=5563/part-00000-28e8e949-fbf0-4b8e-8dd2-2e4aeeadaa6d.c000.zstd.parquet',\n",
       " './data/input/train/agent=4163/part-00000-2f33f2e5-5799-40ef-86ea-22563e10a958.c000.zstd.parquet',\n",
       " './data/input/train/agent=6109/part-00000-277ee70c-31f8-4796-bdf2-3d1deb70684a.c000.zstd.parquet',\n",
       " './data/input/train/agent=3878/part-00000-2444619a-e3fd-4e66-8b07-8ce6af17f1cf.c000.zstd.parquet',\n",
       " './data/input/train/agent=696/part-00000-22d5ac89-051c-400a-9a86-f584bc2ebe38.c000.zstd.parquet',\n",
       " './data/input/train/agent=5539/part-00000-84119104-de7b-4e06-9c26-898685cee75b.c000.zstd.parquet',\n",
       " './data/input/train/agent=8512/part-00000-ba100153-c8d3-4439-b379-c9355223874a.c000.zstd.parquet',\n",
       " './data/input/train/agent=2674/part-00000-72078d59-cd1e-4ffe-a619-1a6a3cd50d38.c000.zstd.parquet',\n",
       " './data/input/train/agent=3579/part-00000-b65021ca-e34e-4ef8-b7c0-cbf765ec6437.c000.zstd.parquet',\n",
       " './data/input/train/agent=7168/part-00000-d45f4e26-98a4-4a4d-814d-9ad1c818b188.c000.zstd.parquet',\n",
       " './data/input/train/agent=3565/part-00000-c7750900-dc48-4e1a-8169-312a277d34ad.c000.zstd.parquet',\n",
       " './data/input/train/agent=5508/part-00000-88251ff1-1df5-4553-810d-64794ae9535e.c000.zstd.parquet',\n",
       " './data/input/train/agent=4069/part-00000-d85343a2-b4e8-43e9-a9f1-20dac01432cd.c000.zstd.parquet',\n",
       " './data/input/train/agent=4444/part-00000-9f65b260-d5bb-4f71-880b-667387112973.c000.zstd.parquet',\n",
       " './data/input/train/agent=8002/part-00000-fefe0979-b1ee-47b3-bf44-3661a88f8087.c000.zstd.parquet',\n",
       " './data/input/train/agent=2502/part-00000-4609adf0-a881-4eae-9293-5fc6d01c8b0d.c000.zstd.parquet',\n",
       " './data/input/train/agent=2756/part-00000-1153ea36-3ce7-4b3c-a260-ff0ed2e34c93.c000.zstd.parquet',\n",
       " './data/input/train/agent=3229/part-00000-809a901f-03d7-4930-980a-19bb384540ee.c000.zstd.parquet',\n",
       " './data/input/train/agent=6629/part-00000-706f3a17-43fe-427d-a136-1667fd685b17.c000.zstd.parquet',\n",
       " './data/input/train/agent=1417/part-00000-84e5bb79-5c56-43f5-a937-2cc19e7bd4c0.c000.zstd.parquet',\n",
       " './data/input/train/agent=2812/part-00000-d2ea8b93-0933-4d75-915b-314a9f019f98.c000.zstd.parquet',\n",
       " './data/input/train/agent=3177/part-00000-a858698c-d48f-4787-a99b-cc0b47f408f3.c000.zstd.parquet',\n",
       " './data/input/train/agent=4874/part-00000-eea14c10-bd26-459b-963c-912c9c9a7c5b.c000.zstd.parquet',\n",
       " './data/input/train/agent=4988/part-00000-8fd5ab27-3ad3-4693-b4b1-117e2b5108ec.c000.zstd.parquet',\n",
       " './data/input/train/agent=8312/part-00000-175ecbc8-045b-4ac3-bc7d-383ad2af7000.c000.zstd.parquet',\n",
       " './data/input/train/agent=8952/part-00000-9ee7e9f6-30d7-4119-b7fa-f490ea06b4eb.c000.zstd.parquet',\n",
       " './data/input/train/agent=5783/part-00000-944bfc83-5d98-4bd4-b36e-21a1c3a74b03.c000.zstd.parquet',\n",
       " './data/input/train/agent=2646/part-00000-e3ce9a27-49ef-48b8-b124-a602bb09fe2c.c000.zstd.parquet',\n",
       " './data/input/train/agent=2971/part-00000-109d7507-6d3d-4aa8-a901-a5c2cc40fd4a.c000.zstd.parquet',\n",
       " './data/input/train/agent=396/part-00000-a6de1c14-39c6-4b39-a3de-cf3a4f68427b.c000.zstd.parquet',\n",
       " './data/input/train/agent=4719/part-00000-699f7247-fd01-4fa1-bc42-1a03b6bbfcdf.c000.zstd.parquet',\n",
       " './data/input/train/agent=3005/part-00000-b96f1386-47e9-46cb-9647-252fff35d7bb.c000.zstd.parquet',\n",
       " './data/input/train/agent=3607/part-00000-f5c0c02f-f2ac-4163-8c04-b2d678d169ce.c000.zstd.parquet',\n",
       " './data/input/train/agent=9941/part-00000-1e7dcd6c-bfd3-4fb0-a94d-d6c1761ca163.c000.zstd.parquet',\n",
       " './data/input/train/agent=6125/part-00000-ab35e21f-bf1f-4e10-9e5c-26459f3c687a.c000.zstd.parquet',\n",
       " './data/input/train/agent=6034/part-00000-a429301b-aea8-4fac-b79f-d0c6b004cb2f.c000.zstd.parquet',\n",
       " './data/input/train/agent=868/part-00000-df0c71e5-a78b-4f16-8c0e-16be9cebdfb5.c000.zstd.parquet',\n",
       " './data/input/train/agent=3319/part-00000-7e8ccc02-74ad-4508-9cc5-9271bad7063c.c000.zstd.parquet',\n",
       " './data/input/train/agent=5643/part-00000-04f83ff9-1d54-4ace-8bf4-0b99d464aadf.c000.zstd.parquet',\n",
       " './data/input/train/agent=4357/part-00000-f46f90ee-74fd-4355-a140-033f9f9b5415.c000.zstd.parquet',\n",
       " './data/input/train/agent=5946/part-00000-3cc616a8-d930-41d6-98ce-76168d8cc028.c000.zstd.parquet',\n",
       " './data/input/train/agent=3342/part-00000-9b76b235-c29a-4775-865c-02a6cc0a5fb9.c000.zstd.parquet',\n",
       " './data/input/train/agent=2645/part-00000-435ab426-e047-4d0f-93a9-223ae39ebdc5.c000.zstd.parquet',\n",
       " './data/input/train/agent=1541/part-00000-0cfa69cd-05ff-4e5d-9754-a3ac5f4c0b35.c000.zstd.parquet',\n",
       " './data/input/train/agent=8853/part-00000-e8f090e3-8242-48d5-8331-714c66d5853e.c000.zstd.parquet',\n",
       " './data/input/train/agent=3202/part-00000-69e3d9fd-7651-4caf-926e-2d8ecec0ba9a.c000.zstd.parquet',\n",
       " './data/input/train/agent=3430/part-00000-4d34f596-f0e6-4cdd-a129-d8b9f07ad68a.c000.zstd.parquet',\n",
       " './data/input/train/agent=2116/part-00000-403536d7-aaf8-4446-ad1b-481188733a3d.c000.zstd.parquet',\n",
       " './data/input/train/agent=5867/part-00000-6cbfe151-9d71-49f8-93b2-dabb75408b83.c000.zstd.parquet',\n",
       " './data/input/train/agent=8083/part-00000-feafffe5-b34c-4150-bf53-b96ab9170682.c000.zstd.parquet',\n",
       " './data/input/train/agent=8959/part-00000-370edd0a-7726-4986-b72c-3467a207fe6d.c000.zstd.parquet',\n",
       " './data/input/train/agent=547/part-00000-c39b9f93-14ac-4ad7-9b8e-5454e8aa3301.c000.zstd.parquet',\n",
       " './data/input/train/agent=3856/part-00000-f3cc0069-c7c7-4706-b5e8-cf3a14840c0d.c000.zstd.parquet',\n",
       " './data/input/train/agent=4405/part-00000-6d7e502c-1bc4-483f-a6b7-eb8f2c844a54.c000.zstd.parquet',\n",
       " './data/input/train/agent=6579/part-00000-6da1a69a-30cd-48d2-9d68-20244517290d.c000.zstd.parquet',\n",
       " './data/input/train/agent=8278/part-00000-7db92966-0e28-4392-9aab-c5b757e870b3.c000.zstd.parquet',\n",
       " './data/input/train/agent=2522/part-00000-f47d0ec3-4993-4313-a112-bb4b9b2e5349.c000.zstd.parquet',\n",
       " './data/input/train/agent=7372/part-00000-0fe79519-e58b-4fc8-b44f-765bef03084b.c000.zstd.parquet',\n",
       " './data/input/train/agent=5808/part-00000-449c6184-f9bb-4be5-afc7-ca365092ebaf.c000.zstd.parquet',\n",
       " './data/input/train/agent=4150/part-00000-ba6eb2b1-2edb-447f-b052-0f354bcf889a.c000.zstd.parquet',\n",
       " './data/input/train/agent=6347/part-00000-0e7a93d9-1c68-4b8d-8c9c-61b475f0bac4.c000.zstd.parquet',\n",
       " './data/input/train/agent=3218/part-00000-71be72f9-345a-4fb0-b53b-d25bbb78a19f.c000.zstd.parquet',\n",
       " './data/input/train/agent=2137/part-00000-cd60718d-2c88-4d38-b54d-dbe56ab857c4.c000.zstd.parquet',\n",
       " './data/input/train/agent=8876/part-00000-a8812166-0e24-4d7f-851e-077c3186203a.c000.zstd.parquet',\n",
       " './data/input/train/agent=3220/part-00000-345dd59c-b800-417c-b858-335a0124a0b8.c000.zstd.parquet',\n",
       " './data/input/train/agent=1640/part-00000-c280013a-910a-4c9d-97c7-2c8640b49d72.c000.zstd.parquet',\n",
       " './data/input/train/agent=3642/part-00000-4ee69648-337b-4884-b1b3-8dca94e12eeb.c000.zstd.parquet',\n",
       " './data/input/train/agent=5609/part-00000-59341d45-b00c-4c9e-9d63-f49106cd86ec.c000.zstd.parquet',\n",
       " './data/input/train/agent=857/part-00000-4c3205b6-e0da-4dad-b917-a98e05fff8a6.c000.zstd.parquet',\n",
       " './data/input/train/agent=8403/part-00000-3985e621-ac53-4ee3-a094-bed78d5d0974.c000.zstd.parquet',\n",
       " './data/input/train/agent=9312/part-00000-e9650065-8efe-4578-8b4f-7ade0f80c72c.c000.zstd.parquet',\n",
       " './data/input/train/agent=1260/part-00000-46573bb6-4727-40b9-a67f-0281794d934e.c000.zstd.parquet',\n",
       " './data/input/train/agent=7578/part-00000-2a60f15a-42dd-482f-8645-37aa03fdae4a.c000.zstd.parquet',\n",
       " './data/input/train/agent=345/part-00000-412a9b4c-68fc-422f-b916-444217e4adbd.c000.zstd.parquet',\n",
       " './data/input/train/agent=5109/part-00000-8f0c99b8-06aa-49ba-a896-8b7d6e43c6c9.c000.zstd.parquet',\n",
       " './data/input/train/agent=7096/part-00000-e55e80dc-97d1-4dc2-9949-ebd6450447f1.c000.zstd.parquet',\n",
       " './data/input/train/agent=768/part-00000-421e0c06-85ee-4146-8684-1a48a447229d.c000.zstd.parquet',\n",
       " './data/input/train/agent=246/part-00000-a810b206-9ff8-4b20-b6ec-b3599828edc9.c000.zstd.parquet',\n",
       " './data/input/train/agent=2857/part-00000-ff607573-f236-4979-b1b5-c73406ef7e8c.c000.zstd.parquet',\n",
       " './data/input/train/agent=4426/part-00000-bbb8c67d-20f1-4352-8e41-5370061c2e34.c000.zstd.parquet',\n",
       " './data/input/train/agent=6085/part-00000-5b0c47db-d556-4742-bb36-1873395e1edf.c000.zstd.parquet',\n",
       " './data/input/train/agent=160/part-00000-49762e3f-5b6e-494a-9a76-18a1b7c357c3.c000.zstd.parquet',\n",
       " './data/input/train/agent=4531/part-00000-a0656c59-7d4c-41e1-8ced-190fd2b2760a.c000.zstd.parquet',\n",
       " './data/input/train/agent=5276/part-00000-f34e1f2a-c1e3-48ce-b45f-4e002638b14c.c000.zstd.parquet',\n",
       " './data/input/train/agent=9553/part-00000-40710a1d-4c61-4f73-83e6-54eabe0656fb.c000.zstd.parquet',\n",
       " './data/input/train/agent=9924/part-00000-db5cfdba-bb96-4b0a-b2c2-77d50625422e.c000.zstd.parquet',\n",
       " './data/input/train/agent=2514/part-00000-a6ebdc66-69a8-454c-ae4f-fb0b3a136e2e.c000.zstd.parquet',\n",
       " './data/input/train/agent=8277/part-00000-864c2ee0-9932-4747-b94a-4e829fecbdfa.c000.zstd.parquet',\n",
       " './data/input/train/agent=6846/part-00000-94e456f8-0760-4473-ab97-5f4f22c41c92.c000.zstd.parquet',\n",
       " './data/input/train/agent=7466/part-00000-c6faa01c-da12-47c3-b4af-f02475650852.c000.zstd.parquet',\n",
       " './data/input/train/agent=5169/part-00000-64a13b22-79b2-4ccd-a233-e1aaf2ca68c5.c000.zstd.parquet',\n",
       " './data/input/train/agent=8610/part-00000-829aba95-b69e-4c85-8aae-52a1db78273e.c000.zstd.parquet',\n",
       " './data/input/train/agent=3807/part-00000-110df4d4-9b7d-41c8-9abc-d2f0fc5747ef.c000.zstd.parquet',\n",
       " './data/input/train/agent=7719/part-00000-9e478280-ffd3-4a3d-8a26-197f6b2f2f18.c000.zstd.parquet',\n",
       " './data/input/train/agent=9876/part-00000-ba015546-65a1-4f58-b60b-7554c118d875.c000.zstd.parquet',\n",
       " './data/input/train/agent=7386/part-00000-c5862ffc-cfad-400e-99b7-e339723f1b12.c000.zstd.parquet',\n",
       " './data/input/train/agent=1/part-00000-d8ba5a12-9cde-4042-beb1-e5d904dbe354.c000.zstd.parquet',\n",
       " './data/input/train/agent=9490/part-00000-a1b93dbf-b387-45d8-9aeb-22530ba0770a.c000.zstd.parquet',\n",
       " './data/input/train/agent=6206/part-00000-c3124480-f6ab-46b6-ae58-df60cb4524c0.c000.zstd.parquet',\n",
       " './data/input/train/agent=581/part-00000-a1dcfa9f-7f80-4141-b871-93709522f15a.c000.zstd.parquet',\n",
       " './data/input/train/agent=5746/part-00000-9a60d2dd-1046-47b5-8222-b2d1cddc5319.c000.zstd.parquet',\n",
       " './data/input/train/agent=4622/part-00000-10e54d24-3586-47c4-be6d-dd8c02a3cbb7.c000.zstd.parquet',\n",
       " './data/input/train/agent=4262/part-00000-8695d96c-77af-4287-93de-5e57c76aeff5.c000.zstd.parquet',\n",
       " './data/input/train/agent=9182/part-00000-209049bf-e660-44b6-bc7f-6004b3981003.c000.zstd.parquet',\n",
       " './data/input/train/agent=2300/part-00000-13db8a52-b46a-46da-aead-eddfa312ec60.c000.zstd.parquet',\n",
       " './data/input/train/agent=9067/part-00000-dd2f3bd5-c40d-437d-9343-03fb28246a0e.c000.zstd.parquet',\n",
       " './data/input/train/agent=9704/part-00000-4696d24f-ada3-44b4-9315-737ed3dcc243.c000.zstd.parquet',\n",
       " './data/input/train/agent=8265/part-00000-43cc5a84-1a9b-4d5d-b666-03b06d675d72.c000.zstd.parquet',\n",
       " './data/input/train/agent=2873/part-00000-ddda25b4-14b8-4a41-94ef-09b2bd3bf10a.c000.zstd.parquet',\n",
       " './data/input/train/agent=7339/part-00000-ac9f4fc0-4705-435e-bdf3-0f4f964358f2.c000.zstd.parquet',\n",
       " './data/input/train/agent=7009/part-00000-15482a60-e597-4c80-9a59-9501547dadf5.c000.zstd.parquet',\n",
       " './data/input/train/agent=7459/part-00000-ff161735-ca9a-4b14-84d3-b6a38b72092d.c000.zstd.parquet',\n",
       " './data/input/train/agent=550/part-00000-1b205899-2eeb-49f9-bb3e-d4daa1f2c818.c000.zstd.parquet',\n",
       " './data/input/train/agent=3626/part-00000-5dad2d49-8490-4491-a37e-8bb33c122dd5.c000.zstd.parquet',\n",
       " './data/input/train/agent=8104/part-00000-0f1195ea-5d01-4bc9-b53f-5a614121454e.c000.zstd.parquet',\n",
       " './data/input/train/agent=420/part-00000-53e723fe-7d96-4128-b750-f076a0e7b78b.c000.zstd.parquet',\n",
       " './data/input/train/agent=2988/part-00000-a7eaacb0-4ea5-4eaf-bebb-36d9578a03af.c000.zstd.parquet',\n",
       " './data/input/train/agent=7959/part-00000-c18c316b-c52e-4cca-9ae7-bbae9b5833de.c000.zstd.parquet',\n",
       " './data/input/train/agent=5086/part-00000-36e2b2dd-0cfb-4f90-a59c-80ea2f9bb213.c000.zstd.parquet',\n",
       " './data/input/train/agent=8762/part-00000-faa4b84e-14e7-4e5b-98d9-af5d31f40ba3.c000.zstd.parquet',\n",
       " './data/input/train/agent=9882/part-00000-14280a03-f459-44b5-90bf-a1921eedfea9.c000.zstd.parquet',\n",
       " './data/input/train/agent=2616/part-00000-05cca60d-fc9f-435c-bb83-c0f4c27ce30f.c000.zstd.parquet',\n",
       " './data/input/train/agent=5177/part-00000-4547c7c0-f997-4760-92ca-daeeddd7acc5.c000.zstd.parquet',\n",
       " './data/input/train/agent=9813/part-00000-500ad291-d64b-4763-8b4a-4057f456e2f5.c000.zstd.parquet',\n",
       " './data/input/train/agent=9145/part-00000-b8fb5bea-87a1-4755-aba2-56f4d66d790b.c000.zstd.parquet',\n",
       " './data/input/train/agent=1193/part-00000-52a87425-5a28-4617-8a53-7e479125f3df.c000.zstd.parquet',\n",
       " './data/input/train/agent=1723/part-00000-32809731-bc8a-4a5c-be87-a085c9072458.c000.zstd.parquet',\n",
       " './data/input/train/agent=9484/part-00000-202aa220-472a-449a-aa54-54f547eff728.c000.zstd.parquet',\n",
       " './data/input/train/agent=7922/part-00000-be040238-2135-40c0-afae-d352e6f4d24c.c000.zstd.parquet',\n",
       " './data/input/train/agent=1186/part-00000-d1a3c0ea-24ed-4307-820d-47849153e749.c000.zstd.parquet',\n",
       " './data/input/train/agent=3324/part-00000-793ed1d7-6278-483a-827c-fb270d271f78.c000.zstd.parquet',\n",
       " './data/input/train/agent=1244/part-00000-d66cf04a-20f0-4d99-bb24-2090153dfb61.c000.zstd.parquet',\n",
       " './data/input/train/agent=223/part-00000-1bfaf1c7-1a79-4642-a0f6-d79cf251a7d2.c000.zstd.parquet',\n",
       " './data/input/train/agent=3904/part-00000-abc8d6fd-78f9-462d-a570-485b6ab9fb27.c000.zstd.parquet',\n",
       " './data/input/train/agent=5047/part-00000-7804055d-0c77-4e08-ab74-1b6047e34714.c000.zstd.parquet',\n",
       " './data/input/train/agent=2664/part-00000-75b09588-34f5-475d-83ce-79e05f654bce.c000.zstd.parquet',\n",
       " './data/input/train/agent=2389/part-00000-eb9a0dc1-ed25-4158-b4d4-9139d370d048.c000.zstd.parquet',\n",
       " './data/input/train/agent=8225/part-00000-bf1e2a74-66d6-4e94-a919-dfb8c6fab506.c000.zstd.parquet',\n",
       " './data/input/train/agent=3497/part-00000-d8ca63b6-fe33-4e93-93f0-6ac7818f0a8b.c000.zstd.parquet',\n",
       " './data/input/train/agent=7632/part-00000-226092ab-75dd-45f0-afd1-25a696c9230c.c000.zstd.parquet',\n",
       " './data/input/train/agent=6547/part-00000-e530aa3d-94b9-4698-937c-84e9e7908028.c000.zstd.parquet',\n",
       " './data/input/train/agent=6567/part-00000-431f274c-51fd-43b1-b488-ffb1de20d46c.c000.zstd.parquet',\n",
       " './data/input/train/agent=107/part-00000-45f86ed5-4312-4787-aee3-547ef66868dc.c000.zstd.parquet',\n",
       " './data/input/train/agent=8320/part-00000-e74b2ce2-3b5c-4819-bd90-4a1db4f9cff1.c000.zstd.parquet',\n",
       " './data/input/train/agent=775/part-00000-c376fec1-e447-4391-b19d-826ea0559ea3.c000.zstd.parquet',\n",
       " './data/input/train/agent=1812/part-00000-60a9fd07-fe5d-4feb-b2f4-6ec54c224dd7.c000.zstd.parquet',\n",
       " './data/input/train/agent=4257/part-00000-a517a448-abe1-4c71-9e74-de9bbeb50885.c000.zstd.parquet',\n",
       " './data/input/train/agent=4485/part-00000-accf813e-2853-46eb-992d-c48bed49be17.c000.zstd.parquet',\n",
       " './data/input/train/agent=2399/part-00000-1c3a4c80-3629-4002-9708-3f1ba5374081.c000.zstd.parquet',\n",
       " './data/input/train/agent=862/part-00000-9a2e50ed-3c8e-416c-921a-c495c473154b.c000.zstd.parquet',\n",
       " './data/input/train/agent=9412/part-00000-dffe5d9a-8570-4b9c-ba5e-14a00a7d0d3d.c000.zstd.parquet',\n",
       " './data/input/train/agent=2883/part-00000-723f9be9-bb65-49d9-b302-23329fb624d8.c000.zstd.parquet',\n",
       " './data/input/train/agent=3104/part-00000-a5ce677d-0aea-43a6-964b-b4eb4e3d902d.c000.zstd.parquet',\n",
       " './data/input/train/agent=7433/part-00000-d66a0824-9b3d-4153-b29a-33def856a217.c000.zstd.parquet',\n",
       " './data/input/train/agent=8058/part-00000-88251b9e-9225-47e2-8ad8-646eff690884.c000.zstd.parquet',\n",
       " './data/input/train/agent=5213/part-00000-45cc4f9a-4c67-4761-bfb9-6567111b427d.c000.zstd.parquet',\n",
       " './data/input/train/agent=3656/part-00000-74802bc0-8cdd-4482-8395-7bee0c0e6296.c000.zstd.parquet',\n",
       " './data/input/train/agent=2718/part-00000-145ec7b0-d5d1-4e5d-9a10-b71f3fd60f73.c000.zstd.parquet',\n",
       " './data/input/train/agent=6287/part-00000-ba5dca24-63a0-4b7b-ac1b-275afbfa1f81.c000.zstd.parquet',\n",
       " './data/input/train/agent=9968/part-00000-b8254b73-e6ce-464c-a034-a5124f8f32b7.c000.zstd.parquet',\n",
       " './data/input/train/agent=6079/part-00000-97843339-5dce-4936-8a8d-5e7c21e678a9.c000.zstd.parquet',\n",
       " './data/input/train/agent=969/part-00000-c8ac01c5-2e95-41fb-a22c-5d06acbe7606.c000.zstd.parquet',\n",
       " './data/input/train/agent=3887/part-00000-a727dbd4-71cf-46ba-acfc-86220b71f064.c000.zstd.parquet',\n",
       " './data/input/train/agent=576/part-00000-b7e9513e-be65-4266-bced-82a1bb264e61.c000.zstd.parquet',\n",
       " './data/input/train/agent=3795/part-00000-1febbbd2-159a-44b1-9e1b-5346a9211548.c000.zstd.parquet',\n",
       " './data/input/train/agent=3263/part-00000-232d8f18-dbe8-4850-86f1-69f0f289ce12.c000.zstd.parquet',\n",
       " './data/input/train/agent=4085/part-00000-00e36f0b-82b9-446c-9c2c-404144b968fc.c000.zstd.parquet',\n",
       " './data/input/train/agent=1335/part-00000-bfe9b6f6-e262-4541-98e0-a7cb4a4a08b4.c000.zstd.parquet',\n",
       " './data/input/train/agent=4070/part-00000-2993c11a-78fc-4ead-997b-7ffcc8fb194f.c000.zstd.parquet',\n",
       " './data/input/train/agent=6059/part-00000-edd87caa-1968-4932-8b7c-c17a60c7c9ed.c000.zstd.parquet',\n",
       " './data/input/train/agent=5814/part-00000-b92b74a3-c53c-4c31-afa9-1e8021fd9963.c000.zstd.parquet',\n",
       " './data/input/train/agent=7933/part-00000-e0870951-4283-415b-8771-4bffc3f2b624.c000.zstd.parquet',\n",
       " './data/input/train/agent=1747/part-00000-74a032fb-78aa-4e7c-b3f1-ba726bd46ff7.c000.zstd.parquet',\n",
       " './data/input/train/agent=9370/part-00000-8aca1f00-d24b-4655-80b7-9032588afbbf.c000.zstd.parquet',\n",
       " './data/input/train/agent=3870/part-00000-1789f981-3557-4a91-bcee-6982c85ddfe2.c000.zstd.parquet',\n",
       " './data/input/train/agent=9303/part-00000-775018cb-997f-462e-b673-01ddc369dc08.c000.zstd.parquet',\n",
       " './data/input/train/agent=1786/part-00000-5f707e24-e5cf-427e-9073-277f7fc8c00d.c000.zstd.parquet',\n",
       " './data/input/train/agent=6817/part-00000-121c0d21-18c9-470f-9180-dda750aa317d.c000.zstd.parquet',\n",
       " './data/input/train/agent=6092/part-00000-be5092a6-8a66-4239-b09f-a11cbcadf73a.c000.zstd.parquet',\n",
       " './data/input/train/agent=2477/part-00000-37480ac9-d852-4efc-88f3-d29e3c0fabcc.c000.zstd.parquet',\n",
       " './data/input/train/agent=3040/part-00000-84a403a6-d5c8-49a8-8af6-5c3a5335190a.c000.zstd.parquet',\n",
       " './data/input/train/agent=4509/part-00000-85b84db8-4b91-46cd-be43-65dbaa895f8f.c000.zstd.parquet',\n",
       " './data/input/train/agent=9232/part-00000-f65e3cc3-c36e-436c-b86b-34de7007e5e5.c000.zstd.parquet',\n",
       " './data/input/train/agent=4861/part-00000-ed13033c-7b94-444b-b1c3-a3c123934871.c000.zstd.parquet',\n",
       " './data/input/train/agent=8145/part-00000-c60688a1-f408-495b-afb7-ce2184390953.c000.zstd.parquet',\n",
       " './data/input/train/agent=8810/part-00000-48af254b-603b-45fa-80de-86460bb4a661.c000.zstd.parquet',\n",
       " './data/input/train/agent=1458/part-00000-180e1874-96e2-4827-999e-17bd6a5c4373.c000.zstd.parquet',\n",
       " './data/input/train/agent=2295/part-00000-88c780ff-1376-4511-9947-6ce44a620efc.c000.zstd.parquet',\n",
       " './data/input/train/agent=9352/part-00000-57266f55-9825-4b8a-8c39-fbd6da089bb7.c000.zstd.parquet',\n",
       " './data/input/train/agent=3053/part-00000-c5565ec4-becd-4b2a-91f5-8c504b0d6060.c000.zstd.parquet',\n",
       " './data/input/train/agent=1573/part-00000-e32c52ce-cc0d-4867-b47b-466bd4711bbb.c000.zstd.parquet',\n",
       " './data/input/train/agent=2364/part-00000-4a15317b-4901-4796-a30f-c83beae2201e.c000.zstd.parquet',\n",
       " './data/input/train/agent=3002/part-00000-6fda740b-e9fe-49db-a08f-be84d00adf3d.c000.zstd.parquet',\n",
       " './data/input/train/agent=3602/part-00000-793c5cd7-f958-4c94-9d5f-f681c1dfeefc.c000.zstd.parquet',\n",
       " './data/input/train/agent=2381/part-00000-d77dfb53-c26c-452f-9935-a589df4879a2.c000.zstd.parquet',\n",
       " './data/input/train/agent=926/part-00000-bce4100d-b4a5-4da4-abea-a5f9e0bc536d.c000.zstd.parquet',\n",
       " './data/input/train/agent=8368/part-00000-e9693ae1-9055-48fc-a848-d6b6cfd8b0cc.c000.zstd.parquet',\n",
       " './data/input/train/agent=4702/part-00000-2bdf5b61-d368-4d30-99c7-7f9cea6ce134.c000.zstd.parquet',\n",
       " './data/input/train/agent=2869/part-00000-5c8d5618-0a4e-41c8-84c5-013aaaf87cd7.c000.zstd.parquet',\n",
       " './data/input/train/agent=1175/part-00000-ea13b7f8-4609-4a6e-bfaa-7d6303e685af.c000.zstd.parquet',\n",
       " './data/input/train/agent=8369/part-00000-42f6402c-c9dc-4483-90ef-ea5b2b5952a1.c000.zstd.parquet',\n",
       " './data/input/train/agent=7994/part-00000-416af2f2-8b02-4a6f-8633-bce8fa7f5d9a.c000.zstd.parquet',\n",
       " './data/input/train/agent=9571/part-00000-59771771-faa4-4c24-baa3-601cc503a093.c000.zstd.parquet',\n",
       " './data/input/train/agent=1810/part-00000-ab7197fe-6a84-4865-ac9a-c2b807b51ee8.c000.zstd.parquet',\n",
       " './data/input/train/agent=7090/part-00000-57e066bc-f3a9-4284-b4ff-466dc3926f9d.c000.zstd.parquet',\n",
       " './data/input/train/agent=9982/part-00000-c60d56b1-cf20-4b05-bee0-e3736f009e3d.c000.zstd.parquet',\n",
       " './data/input/train/agent=5646/part-00000-4fd61670-0510-4cd0-b632-85173a3a2bfd.c000.zstd.parquet',\n",
       " './data/input/train/agent=8425/part-00000-1e82eb4a-7c21-4f1e-826f-8a08bf690d30.c000.zstd.parquet',\n",
       " './data/input/train/agent=4518/part-00000-d07da776-133a-4010-8ae1-a097ed24b344.c000.zstd.parquet',\n",
       " './data/input/train/agent=6366/part-00000-02f1dac1-29e2-4019-a028-c00d6d9b0b57.c000.zstd.parquet',\n",
       " './data/input/train/agent=5407/part-00000-ab2ed0cb-1816-40b9-8ea6-7bfa54c7edce.c000.zstd.parquet',\n",
       " './data/input/train/agent=9139/part-00000-7b03aa3b-1250-4114-b105-20b8bee1f288.c000.zstd.parquet',\n",
       " './data/input/train/agent=7979/part-00000-73f24a5d-7456-4959-8b49-4637c832d0a0.c000.zstd.parquet',\n",
       " './data/input/train/agent=7744/part-00000-034ebc5e-1c7b-47d3-9d87-d092fb6de0f4.c000.zstd.parquet',\n",
       " './data/input/train/agent=5469/part-00000-d2856a26-c942-4a73-b8ec-052c7cd013e7.c000.zstd.parquet',\n",
       " './data/input/train/agent=3933/part-00000-8d8ccc4b-e0c6-48fd-adb3-a3bf010fabe6.c000.zstd.parquet',\n",
       " './data/input/train/agent=5352/part-00000-2b0f2dcb-44e8-462c-b9f4-27c76044bf54.c000.zstd.parquet',\n",
       " './data/input/train/agent=2221/part-00000-9fe34e35-7d38-4619-bcd8-554d6ff0f02f.c000.zstd.parquet',\n",
       " './data/input/train/agent=8139/part-00000-dd64f035-b28d-497d-8990-37ccabbe2c55.c000.zstd.parquet',\n",
       " './data/input/train/agent=5780/part-00000-07a766ec-0117-4890-9209-400f106f87ec.c000.zstd.parquet',\n",
       " './data/input/train/agent=4418/part-00000-add6a735-fa9d-4b3a-9067-8aa92c7a11ae.c000.zstd.parquet',\n",
       " './data/input/train/agent=9737/part-00000-3edfe463-830b-4c19-abb3-233021c0d4ee.c000.zstd.parquet',\n",
       " './data/input/train/agent=6984/part-00000-a763d059-f372-4262-af1d-268e8b59b68d.c000.zstd.parquet',\n",
       " './data/input/train/agent=9559/part-00000-5a519208-6180-49c4-82fb-860dbf6388b0.c000.zstd.parquet',\n",
       " './data/input/train/agent=3285/part-00000-2ffb1ff7-4571-4c63-8159-ebbe1de9582d.c000.zstd.parquet',\n",
       " './data/input/train/agent=8847/part-00000-5cd40d9d-6c98-4878-9add-7b65e769b1e4.c000.zstd.parquet',\n",
       " './data/input/train/agent=200/part-00000-4ccc2342-78ca-4dd4-90c5-bc7520971704.c000.zstd.parquet',\n",
       " './data/input/train/agent=7910/part-00000-f3dfab89-2229-4eec-abde-005e769d545e.c000.zstd.parquet',\n",
       " './data/input/train/agent=3885/part-00000-7bad188c-41ff-49bd-82bb-2ed4b7c527e6.c000.zstd.parquet',\n",
       " './data/input/train/agent=8626/part-00000-68d2bbb6-0435-449d-b4b8-060a148dae33.c000.zstd.parquet',\n",
       " './data/input/train/agent=4283/part-00000-4428722a-72d9-4530-9779-fa7fae28fc88.c000.zstd.parquet',\n",
       " './data/input/train/agent=6001/part-00000-745cf9d6-635e-4b3d-9bfe-c3ae9ef30437.c000.zstd.parquet',\n",
       " './data/input/train/agent=1052/part-00000-2e579f8b-1ad3-4436-a5fd-88bf9ced1b52.c000.zstd.parquet',\n",
       " './data/input/train/agent=2537/part-00000-1fb92059-64e5-4dab-970e-74b4f46f090b.c000.zstd.parquet',\n",
       " './data/input/train/agent=865/part-00000-3b50b2f9-8fd7-45c9-b767-38ae741b31a2.c000.zstd.parquet',\n",
       " './data/input/train/agent=2395/part-00000-443b4f3d-a77a-4398-83a0-996b3dc2012a.c000.zstd.parquet',\n",
       " './data/input/train/agent=9957/part-00000-44353944-e85b-4d53-889f-bb844c3956c8.c000.zstd.parquet',\n",
       " './data/input/train/agent=6492/part-00000-7898eb49-ce88-4a03-aafc-797ff3f3f31b.c000.zstd.parquet',\n",
       " './data/input/train/agent=8691/part-00000-9a4ea194-49f9-4ca8-a341-4ab7ab99baf4.c000.zstd.parquet',\n",
       " './data/input/train/agent=6218/part-00000-47c047eb-2d46-4672-bfaf-a0564dc8a796.c000.zstd.parquet',\n",
       " './data/input/train/agent=8674/part-00000-4a2fa5ce-fe56-4db9-b378-898b9ef2da68.c000.zstd.parquet',\n",
       " './data/input/train/agent=8052/part-00000-189a9a7e-4dc7-4874-b248-72b5920d83af.c000.zstd.parquet',\n",
       " './data/input/train/agent=9271/part-00000-7f2bd7b5-b4b9-42ff-bb39-84d73ad50b51.c000.zstd.parquet',\n",
       " './data/input/train/agent=9137/part-00000-4a5a8d03-88f5-4c42-b19e-4a7f9f3ffa1e.c000.zstd.parquet',\n",
       " './data/input/train/agent=3016/part-00000-0f38c0aa-fdcc-4704-a897-ce8112d0b09f.c000.zstd.parquet',\n",
       " './data/input/train/agent=4384/part-00000-e151e5f0-b4ed-4b98-8948-93b87a503402.c000.zstd.parquet',\n",
       " './data/input/train/agent=4625/part-00000-968b5101-0488-4760-9555-480c5eec8722.c000.zstd.parquet',\n",
       " './data/input/train/agent=3556/part-00000-e6dc4131-bdff-42e7-8636-82d6570d28cd.c000.zstd.parquet',\n",
       " './data/input/train/agent=5458/part-00000-771a37e1-4f62-4f08-8e22-4623daa16522.c000.zstd.parquet',\n",
       " './data/input/train/agent=633/part-00000-67c23848-120d-4875-8394-a96cbc32adfa.c000.zstd.parquet',\n",
       " './data/input/train/agent=6301/part-00000-a8d16609-c304-4c20-9c36-520746946225.c000.zstd.parquet',\n",
       " './data/input/train/agent=3533/part-00000-539065a3-5de9-4262-92cb-a1a4fb07966c.c000.zstd.parquet',\n",
       " './data/input/train/agent=2770/part-00000-9c3ce417-4f06-4903-9fac-19270c6f9b39.c000.zstd.parquet',\n",
       " './data/input/train/agent=9367/part-00000-820e6b06-7278-4314-b244-a677434c93bc.c000.zstd.parquet',\n",
       " './data/input/train/agent=2104/part-00000-7e568570-e700-405d-8742-109ca8a88065.c000.zstd.parquet',\n",
       " './data/input/train/agent=1599/part-00000-5009bd25-3428-4001-98cd-e819ec4debcd.c000.zstd.parquet',\n",
       " './data/input/train/agent=5210/part-00000-c8e3367a-381b-4220-8fc5-1d4c42782124.c000.zstd.parquet',\n",
       " './data/input/train/agent=9615/part-00000-ef3703b8-8441-4e4e-b2db-4be75754b0c1.c000.zstd.parquet',\n",
       " './data/input/train/agent=6312/part-00000-eb0512b0-da02-4c14-a2f5-539da95afd60.c000.zstd.parquet',\n",
       " './data/input/train/agent=8128/part-00000-e3934254-13cc-4cd3-9ae2-a98e023aa493.c000.zstd.parquet',\n",
       " './data/input/train/agent=1568/part-00000-03bcee44-658a-4ab9-be98-e4d91590d0db.c000.zstd.parquet',\n",
       " './data/input/train/agent=9752/part-00000-3f573f52-222c-47c4-9fef-04171429fe69.c000.zstd.parquet',\n",
       " './data/input/train/agent=7400/part-00000-225ae30d-499f-4e84-a658-031ce58ec4eb.c000.zstd.parquet',\n",
       " './data/input/train/agent=8735/part-00000-05411d27-dd2f-4496-b34f-d7f7727f1f33.c000.zstd.parquet',\n",
       " './data/input/train/agent=1887/part-00000-9782af5e-add2-46e9-be1c-741c32ca7d9b.c000.zstd.parquet',\n",
       " './data/input/train/agent=5653/part-00000-48ca9717-a3cd-4128-8669-cddf64442c5a.c000.zstd.parquet',\n",
       " './data/input/train/agent=5173/part-00000-0224fd51-f528-47a5-a9de-482fd8bd8624.c000.zstd.parquet',\n",
       " './data/input/train/agent=2421/part-00000-ed727797-9e13-4a4f-8d7f-a3d3c66eccee.c000.zstd.parquet',\n",
       " './data/input/train/agent=5068/part-00000-c3fef50a-89ca-4d7d-bbc5-9ff358fff955.c000.zstd.parquet',\n",
       " './data/input/train/agent=7379/part-00000-b483f457-e4da-4918-8483-6d5886c0c51b.c000.zstd.parquet',\n",
       " './data/input/train/agent=1232/part-00000-a1c0fe33-e76f-493a-a587-7597ae3d993c.c000.zstd.parquet',\n",
       " './data/input/train/agent=9442/part-00000-b517641a-7970-4263-9b14-9e6850ccfed4.c000.zstd.parquet',\n",
       " './data/input/train/agent=7034/part-00000-f2201f0a-dd35-4697-b4a4-68bf40be40d6.c000.zstd.parquet',\n",
       " './data/input/train/agent=6473/part-00000-180363b0-038c-45e0-b105-6a3411790ab0.c000.zstd.parquet',\n",
       " './data/input/train/agent=4913/part-00000-f67d372c-bf76-4b43-9167-30b85ca522e3.c000.zstd.parquet',\n",
       " './data/input/train/agent=8207/part-00000-49cc8245-bb2d-4e74-bbd4-b06215ff2f56.c000.zstd.parquet',\n",
       " './data/input/train/agent=6637/part-00000-e3503231-d55d-4560-83bb-81ebe7173d3c.c000.zstd.parquet',\n",
       " './data/input/train/agent=5794/part-00000-50b6bede-890d-48f9-ab2d-1154fcbb1324.c000.zstd.parquet',\n",
       " './data/input/train/agent=7119/part-00000-6b7582d8-9acc-4219-b02f-4fc23229cf71.c000.zstd.parquet',\n",
       " './data/input/train/agent=100/part-00000-68da5289-92ea-4cc4-94d0-1d4da16c83c1.c000.zstd.parquet',\n",
       " './data/input/train/agent=5531/part-00000-c461197e-5768-4336-a175-571928fc8ccc.c000.zstd.parquet',\n",
       " './data/input/train/agent=8677/part-00000-4a1a792c-0d43-443b-8b80-584f22b69f5e.c000.zstd.parquet',\n",
       " './data/input/train/agent=7958/part-00000-4fb6bc97-3cfc-4cf7-a703-c72db3bb832f.c000.zstd.parquet',\n",
       " './data/input/train/agent=5417/part-00000-269a02df-730f-4ffa-a654-f03884a6105a.c000.zstd.parquet',\n",
       " './data/input/train/agent=1637/part-00000-41963940-8aa4-4b0b-b63a-2b8cd5266fc3.c000.zstd.parquet',\n",
       " './data/input/train/agent=6543/part-00000-d99cd434-4c7c-49e7-a192-800c9259f4f6.c000.zstd.parquet',\n",
       " './data/input/train/agent=1408/part-00000-c2b92073-f966-49ff-8644-47d0f0ea8fbb.c000.zstd.parquet',\n",
       " './data/input/train/agent=6599/part-00000-c2873362-3da0-4e65-a355-a3af7af3483b.c000.zstd.parquet',\n",
       " './data/input/train/agent=594/part-00000-ee989d2d-5758-4f5d-a89a-6cce0cc7fab0.c000.zstd.parquet',\n",
       " './data/input/train/agent=2368/part-00000-fa3e50ab-be5b-4095-a0f4-ce950821251b.c000.zstd.parquet',\n",
       " './data/input/train/agent=8588/part-00000-03f68dff-dce0-4093-8ec9-9dc927940dba.c000.zstd.parquet',\n",
       " './data/input/train/agent=742/part-00000-dce54170-6a55-4c80-ae9b-3b9ae3cac582.c000.zstd.parquet',\n",
       " './data/input/train/agent=8506/part-00000-de9c8b15-2f1f-4600-a659-3c39249be798.c000.zstd.parquet',\n",
       " './data/input/train/agent=1177/part-00000-babdcefa-7973-4041-ac18-f3ab305a8329.c000.zstd.parquet',\n",
       " './data/input/train/agent=8010/part-00000-69ceb9df-845f-46c8-a7a4-7bad8f68c05e.c000.zstd.parquet',\n",
       " './data/input/train/agent=6179/part-00000-4d2e3a3f-f7d9-4f3f-b876-96313ff5998c.c000.zstd.parquet',\n",
       " './data/input/train/agent=8903/part-00000-6ac5a3a9-ad32-45d9-80ab-e17b52f6ed99.c000.zstd.parquet',\n",
       " './data/input/train/agent=2706/part-00000-bf05b44f-0713-4374-8bc4-9a52df1b55f6.c000.zstd.parquet',\n",
       " './data/input/train/agent=9021/part-00000-831ccb15-8600-46d3-8e4b-9bf804664821.c000.zstd.parquet',\n",
       " './data/input/train/agent=8555/part-00000-2fe2bd97-d34c-4255-8668-0626458f6d0d.c000.zstd.parquet',\n",
       " './data/input/train/agent=1688/part-00000-de8e2553-be64-4e96-a2a9-04447979a3b4.c000.zstd.parquet',\n",
       " './data/input/train/agent=9036/part-00000-050d13be-51e5-4830-982e-43d5ecd18a01.c000.zstd.parquet',\n",
       " './data/input/train/agent=2972/part-00000-81462d84-0b18-4bb7-9260-522b1a14c694.c000.zstd.parquet',\n",
       " './data/input/train/agent=3191/part-00000-8e938ade-78f7-4982-8a4d-6df4c5ca9032.c000.zstd.parquet',\n",
       " './data/input/train/agent=7239/part-00000-f5d318f2-8652-4047-984f-8a81b205a44f.c000.zstd.parquet',\n",
       " './data/input/train/agent=490/part-00000-2f27cc9f-b1f9-4571-94be-2ad0fd7578b9.c000.zstd.parquet',\n",
       " './data/input/train/agent=2065/part-00000-4e914429-14c7-45ed-a392-e1a19afd8c82.c000.zstd.parquet',\n",
       " './data/input/train/agent=7512/part-00000-e41820de-d186-4047-8f49-f1a8bec37fe1.c000.zstd.parquet',\n",
       " './data/input/train/agent=9840/part-00000-17f0e7e7-fa76-4fe9-a53e-fdfc1430523b.c000.zstd.parquet',\n",
       " './data/input/train/agent=7070/part-00000-06e7c44c-a140-40fd-80a9-2d88cf90d4f2.c000.zstd.parquet',\n",
       " './data/input/train/agent=6250/part-00000-06a84fd0-52f5-49dd-8401-fae39e8569e2.c000.zstd.parquet',\n",
       " './data/input/train/agent=7044/part-00000-1e27addc-8481-4446-aa04-b1358e51bb42.c000.zstd.parquet',\n",
       " './data/input/train/agent=9727/part-00000-ffa7cb9b-1b45-41e3-8156-2158d366410d.c000.zstd.parquet',\n",
       " './data/input/train/agent=8016/part-00000-a71c7f28-afcb-4d65-afaa-61cbcc88c507.c000.zstd.parquet',\n",
       " './data/input/train/agent=8781/part-00000-28a6e0ef-530b-4a8b-b485-27183b63cd56.c000.zstd.parquet',\n",
       " './data/input/train/agent=6922/part-00000-4cd76a6c-ad8c-49a9-8e83-4bca0769a300.c000.zstd.parquet',\n",
       " './data/input/train/agent=6156/part-00000-af649218-f14a-4f49-865d-3dcec1ac74f3.c000.zstd.parquet',\n",
       " './data/input/train/agent=8692/part-00000-fb65a24f-1ccd-49cd-8856-4aca7a8ad8ce.c000.zstd.parquet',\n",
       " './data/input/train/agent=3094/part-00000-072a85d2-3dc2-4c99-8c76-ea8f8571f9f7.c000.zstd.parquet',\n",
       " './data/input/train/agent=8149/part-00000-c5e9a471-fb82-4493-b341-af9bfaccf0e5.c000.zstd.parquet',\n",
       " './data/input/train/agent=6877/part-00000-221c4930-4c38-434c-a4ba-12c30dd50e6a.c000.zstd.parquet',\n",
       " './data/input/train/agent=9793/part-00000-d3fd7e71-b08b-40ee-995e-480973bac80a.c000.zstd.parquet',\n",
       " './data/input/train/agent=2387/part-00000-fa87cfee-c634-4523-9839-7ad6ccfbb4fa.c000.zstd.parquet',\n",
       " './data/input/train/agent=2052/part-00000-da089625-a788-4eba-ba07-418a57e39ee9.c000.zstd.parquet',\n",
       " './data/input/train/agent=1436/part-00000-4ca43ee6-1026-492e-985b-cd36a8a4a22f.c000.zstd.parquet',\n",
       " './data/input/train/agent=9536/part-00000-db011f83-75f1-41ef-9b94-738b9bd50946.c000.zstd.parquet',\n",
       " './data/input/train/agent=5477/part-00000-0b7a0e7e-524c-41ce-8188-f61297aa2f03.c000.zstd.parquet',\n",
       " './data/input/train/agent=5768/part-00000-b6dada74-1ec1-4ad0-b47a-895e4a45b7ef.c000.zstd.parquet',\n",
       " './data/input/train/agent=9214/part-00000-9588cc7c-63b7-41c8-b829-cb94293f28b8.c000.zstd.parquet',\n",
       " './data/input/train/agent=2908/part-00000-9d86d7ed-bb87-4460-bf00-798c044698c8.c000.zstd.parquet',\n",
       " './data/input/train/agent=9189/part-00000-6951a3e0-5d1a-476e-8b95-3e0c1b4a30da.c000.zstd.parquet',\n",
       " './data/input/train/agent=1384/part-00000-d41eae0a-7a53-4213-80a9-63896f024fe9.c000.zstd.parquet',\n",
       " './data/input/train/agent=7616/part-00000-a797ea20-6bd0-441d-ae0e-c8d9a659f161.c000.zstd.parquet',\n",
       " './data/input/train/agent=8211/part-00000-166d8594-7421-45c2-b5d2-658b36696fc0.c000.zstd.parquet',\n",
       " './data/input/train/agent=1566/part-00000-0c3e11fc-3113-4843-8170-f948a9170c80.c000.zstd.parquet',\n",
       " './data/input/train/agent=6763/part-00000-2af93650-4165-4f37-88af-9269c0be81b6.c000.zstd.parquet',\n",
       " './data/input/train/agent=1678/part-00000-d955d490-e052-4d38-be0e-51c275c42a39.c000.zstd.parquet',\n",
       " './data/input/train/agent=8929/part-00000-d8b803e2-155b-4d86-9f1f-9f15c8446112.c000.zstd.parquet',\n",
       " './data/input/train/agent=9245/part-00000-bca3dc6f-cd35-4933-a9c5-87dab36e7ccb.c000.zstd.parquet',\n",
       " './data/input/train/agent=2085/part-00000-0e8e9fd1-57fa-45e9-8c31-6313f817dcad.c000.zstd.parquet',\n",
       " './data/input/train/agent=8454/part-00000-ed8a176c-58c6-4f40-bae8-7d4efdd97692.c000.zstd.parquet',\n",
       " './data/input/train/agent=1249/part-00000-67563c63-785b-40f8-9584-6bfe918bd042.c000.zstd.parquet',\n",
       " './data/input/train/agent=9015/part-00000-847afca0-1838-4f9f-8c8a-498e8835f186.c000.zstd.parquet',\n",
       " './data/input/train/agent=3909/part-00000-1c5904c6-2e21-4690-8cdc-94ec6bea82af.c000.zstd.parquet',\n",
       " './data/input/train/agent=9064/part-00000-a27e8189-eed2-4b65-a12e-d68d7f4a1b87.c000.zstd.parquet',\n",
       " './data/input/train/agent=8380/part-00000-4745d55a-3c91-46cc-b9bb-b778cd9f3f5b.c000.zstd.parquet',\n",
       " './data/input/train/agent=3003/part-00000-bd817d0b-18ca-4e03-ab8e-8e299f6efc53.c000.zstd.parquet',\n",
       " './data/input/train/agent=6660/part-00000-5c361bf9-78b7-4d97-8b7b-61362c4e4d49.c000.zstd.parquet',\n",
       " './data/input/train/agent=9009/part-00000-f57bcc61-4fc4-4830-b574-412f2d94ec46.c000.zstd.parquet',\n",
       " './data/input/train/agent=4274/part-00000-ec0aa940-3f2f-4c5c-92ec-8f53950aa9f3.c000.zstd.parquet',\n",
       " './data/input/train/agent=1976/part-00000-fc08d0b9-80eb-403b-a080-5b38b25dd3f7.c000.zstd.parquet',\n",
       " './data/input/train/agent=126/part-00000-667d633a-d808-4d0f-8bd3-06cd4975b9f1.c000.zstd.parquet',\n",
       " './data/input/train/agent=5547/part-00000-52faa030-c1d5-4a16-af77-39e4f59a33ef.c000.zstd.parquet',\n",
       " './data/input/train/agent=1348/part-00000-1a9086e3-45ca-42cc-aa7f-041d9d3e5953.c000.zstd.parquet',\n",
       " './data/input/train/agent=9099/part-00000-a9cc4b76-25ba-4fe4-9752-ac4600be5ad8.c000.zstd.parquet',\n",
       " './data/input/train/agent=4455/part-00000-cfd3e2e3-109c-4266-930e-c7f07a01f9e3.c000.zstd.parquet',\n",
       " './data/input/train/agent=7345/part-00000-c1275e69-752b-4a31-9c28-0ec63734d193.c000.zstd.parquet',\n",
       " './data/input/train/agent=9076/part-00000-1f0e7a00-80bf-4a56-acf6-18226d3f499c.c000.zstd.parquet',\n",
       " './data/input/train/agent=2397/part-00000-045a79ac-ec0e-4913-a2f8-50061d5e60e5.c000.zstd.parquet',\n",
       " './data/input/train/agent=8665/part-00000-8d91826c-8fb4-491c-b094-628202ee6ea2.c000.zstd.parquet',\n",
       " './data/input/train/agent=1650/part-00000-2550c779-e5a6-4961-a19e-f4aef4286c5b.c000.zstd.parquet',\n",
       " './data/input/train/agent=1913/part-00000-088c35d4-009a-4787-bf00-f019623e8f47.c000.zstd.parquet',\n",
       " './data/input/train/agent=9899/part-00000-8c86c6d5-5194-44d8-841a-7a7f81557dba.c000.zstd.parquet',\n",
       " './data/input/train/agent=3019/part-00000-62c955b6-d2e0-446e-9eb5-eeee83c1a85c.c000.zstd.parquet',\n",
       " './data/input/train/agent=5372/part-00000-1f269a46-96e6-462f-9650-91426c4b3a5a.c000.zstd.parquet',\n",
       " './data/input/train/agent=7876/part-00000-6c8ea8b7-7042-44c2-ada1-3dc5c4fb7d15.c000.zstd.parquet',\n",
       " './data/input/train/agent=6474/part-00000-14125324-9d64-4b73-b633-785a039f069b.c000.zstd.parquet',\n",
       " './data/input/train/agent=6384/part-00000-3c04b3c0-a154-40b9-9fa0-05a55e95872f.c000.zstd.parquet',\n",
       " './data/input/train/agent=790/part-00000-3ee61d87-8ae2-4ff2-bbe0-4e6da2c70252.c000.zstd.parquet',\n",
       " './data/input/train/agent=3370/part-00000-43f6fe0c-653a-49f5-a00f-f96fe0228e93.c000.zstd.parquet',\n",
       " './data/input/train/agent=4261/part-00000-fc8818de-0d4a-4cc0-9b38-fd5ad4756234.c000.zstd.parquet',\n",
       " './data/input/train/agent=4868/part-00000-1152f315-b630-4929-b657-47427032693c.c000.zstd.parquet',\n",
       " './data/input/train/agent=9892/part-00000-e73b2879-11e8-439e-925b-45edce608119.c000.zstd.parquet',\n",
       " './data/input/train/agent=4695/part-00000-984cba6f-0346-475a-8d43-e557a5481c23.c000.zstd.parquet',\n",
       " './data/input/train/agent=9279/part-00000-23459f00-d103-4d81-9168-bf7b6e34d2b5.c000.zstd.parquet',\n",
       " './data/input/train/agent=5681/part-00000-bd7b85cb-9a38-4f8c-8630-6f0b13db147e.c000.zstd.parquet',\n",
       " './data/input/train/agent=7200/part-00000-7c165449-614e-476b-9abe-9c29436549e4.c000.zstd.parquet',\n",
       " './data/input/train/agent=9625/part-00000-efa99fe5-2fa6-4482-8927-0e053c8f1965.c000.zstd.parquet',\n",
       " './data/input/train/agent=3059/part-00000-b1f7e0d4-c42c-4271-b097-3b658c898089.c000.zstd.parquet',\n",
       " './data/input/train/agent=5769/part-00000-3fde140c-b83e-46f9-83d2-3950664cb855.c000.zstd.parquet',\n",
       " './data/input/train/agent=8313/part-00000-aaf63a01-d7a4-4d90-af8d-492d40612e27.c000.zstd.parquet',\n",
       " './data/input/train/agent=9059/part-00000-c278ebef-4275-46c9-ad39-cb971d82a8ec.c000.zstd.parquet',\n",
       " './data/input/train/agent=7328/part-00000-1287512c-ee37-4dfb-b463-4482bd04e203.c000.zstd.parquet',\n",
       " './data/input/train/agent=1399/part-00000-9a546d39-b34b-49e7-bb79-a091bbf4298d.c000.zstd.parquet',\n",
       " './data/input/train/agent=7988/part-00000-41ae463e-2b63-4e2c-bf72-b7f99e697d86.c000.zstd.parquet',\n",
       " './data/input/train/agent=5731/part-00000-1199f2f2-6cc9-4ec7-b2d6-76446d3ebee8.c000.zstd.parquet',\n",
       " './data/input/train/agent=6507/part-00000-cda4b4ee-7d48-4d53-86be-f4c74c94e1f3.c000.zstd.parquet',\n",
       " './data/input/train/agent=9649/part-00000-cda85ddc-c548-4a8f-9a38-e4141966d76a.c000.zstd.parquet',\n",
       " './data/input/train/agent=7402/part-00000-94cbbab4-0d8c-4b99-a4c9-721b580a77f6.c000.zstd.parquet',\n",
       " './data/input/train/agent=7534/part-00000-99905360-204e-455b-916c-c207698f6d89.c000.zstd.parquet',\n",
       " './data/input/train/agent=8332/part-00000-5af11b90-aede-4c11-8321-c0b02f82e401.c000.zstd.parquet',\n",
       " './data/input/train/agent=9589/part-00000-558e7f0a-1942-44b6-a9f9-4220ca0a83db.c000.zstd.parquet',\n",
       " './data/input/train/agent=4440/part-00000-9a507ef6-5f1a-4428-bec2-ebc395f4312d.c000.zstd.parquet',\n",
       " './data/input/train/agent=7484/part-00000-179aeab3-0df4-4adc-8f39-b618b5e08389.c000.zstd.parquet',\n",
       " './data/input/train/agent=4206/part-00000-60e9575c-691f-490d-9956-517fa1aacd61.c000.zstd.parquet',\n",
       " './data/input/train/agent=6457/part-00000-3aee4034-ec81-4d5d-95d9-89232ddf8968.c000.zstd.parquet',\n",
       " './data/input/train/agent=4892/part-00000-50600cb3-06a9-4de1-8b0b-13fe3e4e5cd0.c000.zstd.parquet',\n",
       " './data/input/train/agent=6063/part-00000-3ece6240-1ad9-453a-bd12-8a7730a5aa0f.c000.zstd.parquet',\n",
       " './data/input/train/agent=4504/part-00000-903d10ff-4956-48bd-a9b3-4307f05205da.c000.zstd.parquet',\n",
       " ...]"
      ]
     },
     "execution_count": 11,
     "metadata": {},
     "output_type": "execute_result"
    }
   ],
   "source": [
    "#actor_files = glob.glob(os.path.join(actor_dir, \"*.csv\"))\n",
    "actor_files = glob.glob(os.path.join(actor_dir, \"*.parquet\"))\n",
    "actor_files += glob.glob(actor_dir + \"/*/*.parquet\")\n",
    "actor_files"
   ]
  },
  {
   "cell_type": "code",
   "execution_count": 12,
   "id": "cd1f251f",
   "metadata": {
    "ExecuteTime": {
     "end_time": "2023-03-31T12:44:07.574258Z",
     "start_time": "2023-03-31T12:44:07.571258Z"
    }
   },
   "outputs": [
    {
     "data": {
      "text/plain": [
       "10000"
      ]
     },
     "execution_count": 12,
     "metadata": {},
     "output_type": "execute_result"
    }
   ],
   "source": [
    "n_actors = len(actor_files)\n",
    "n_actors"
   ]
  },
  {
   "attachments": {},
   "cell_type": "markdown",
   "id": "4343f2e0",
   "metadata": {},
   "source": [
    "##### Store the Stops Points and a dataframe of them once processed for later use"
   ]
  },
  {
   "cell_type": "code",
   "execution_count": 13,
   "id": "57ca9668",
   "metadata": {
    "ExecuteTime": {
     "end_time": "2023-03-31T12:44:09.756667Z",
     "start_time": "2023-03-31T12:44:09.753108Z"
    }
   },
   "outputs": [],
   "source": [
    "sp_processed = {}\n",
    "sp_dfs_processed = {}"
   ]
  },
  {
   "cell_type": "code",
   "execution_count": 14,
   "id": "f21d442e",
   "metadata": {
    "ExecuteTime": {
     "end_time": "2023-03-31T12:44:11.330100Z",
     "start_time": "2023-03-31T12:44:11.326712Z"
    }
   },
   "outputs": [
    {
     "data": {
      "text/plain": [
       "'sl_l1_sp'"
      ]
     },
     "execution_count": 14,
     "metadata": {},
     "output_type": "execute_result"
    }
   ],
   "source": [
    "_actor_files = actor_files\n",
    "_out_path = prep_dir\n",
    "_out_file_base = prep_sl_l1_sp_base\n",
    "_out_file_base"
   ]
  },
  {
   "cell_type": "code",
   "execution_count": 16,
   "id": "8aef0263",
   "metadata": {},
   "outputs": [],
   "source": [
    "# save list of agent uids\n",
    "uids = []\n",
    "for af in _actor_files:\n",
    "    uids.append(af.split(os.sep)[-2])\n",
    "\n",
    "actor_pd = pandas.DataFrame(sorted(uids))\n",
    "\n",
    "\n",
    "actor_pd.to_csv(_out_path + \"/agent_uids.csv\", header=False)\n"
   ]
  },
  {
   "cell_type": "code",
   "execution_count": 19,
   "id": "0e9e85ae",
   "metadata": {},
   "outputs": [],
   "source": [
    "import pandas as pd\n",
    "from tqdm import tqdm\n",
    "from multiprocessing import Pool\n",
    "\n",
    "def get_stop_points(params):\n",
    "    '''\n",
    "    This function is meant to be called in parallel (Pool)\n",
    "    '''\n",
    "    filename = params\n",
    "\n",
    "    # get the uid from the filename\n",
    "    #uid = filename.split(os.sep)[-1].split(\".\")[0]\n",
    "    uid = filename.split(os.sep)[-2]\n",
    "    #print(f\"** User/Agent/Actor – {uid} **\")\n",
    "\n",
    "    user_data = pandas.read_parquet(filename)\n",
    "\n",
    "    user_data[\"timestamp\"] = user_data[\"timestamp\"].map(\n",
    "        lambda x: pandas.Timestamp(x).timestamp()\n",
    "        )\n",
    "\n",
    "    # Call ``trakit.stop_point.extract_stop_points()`` to calculate the\n",
    "    # Stop Points (Stop Locations Level-1) for a simulation actor's trajectory data\n",
    "    stops = trakit.stop_point.extract_stop_points(user_data)\n",
    "    stops_frame = pandas.DataFrame.from_records(item.to_dict() for item in stops)\n",
    "\n",
    "    # write out level-1 stop points\n",
    "    outpath = os.path.join(_out_path, f\"{_out_file_base}_{uid}.csv\")\n",
    "    stops_frame.to_csv(outpath, index=False) \n",
    "\n",
    "    # return the info for re-assembly\n",
    "    return (uid, stops, stops_frame)\n"
   ]
  },
  {
   "cell_type": "code",
   "execution_count": 24,
   "id": "e9d84b8a",
   "metadata": {
    "ExecuteTime": {
     "end_time": "2023-03-31T13:10:27.188093Z",
     "start_time": "2023-03-31T12:44:19.923515Z"
    }
   },
   "outputs": [
    {
     "name": "stderr",
     "output_type": "stream",
     "text": [
      "  0%|          | 0/10000 [00:00<?, ?it/s]"
     ]
    },
    {
     "name": "stderr",
     "output_type": "stream",
     "text": [
      " 83%|████████▎ | 8272/10000 [10:43:50<2:14:29,  4.67s/it]\n"
     ]
    },
    {
     "ename": "KeyboardInterrupt",
     "evalue": "",
     "output_type": "error",
     "traceback": [
      "\u001b[0;31m---------------------------------------------------------------------------\u001b[0m",
      "\u001b[0;31mIndexError\u001b[0m                                Traceback (most recent call last)",
      "File \u001b[0;32m~/miniconda3/envs/py310_trakit/lib/python3.10/multiprocessing/pool.py:856\u001b[0m, in \u001b[0;36mIMapIterator.next\u001b[0;34m(self, timeout)\u001b[0m\n\u001b[1;32m    855\u001b[0m \u001b[39mtry\u001b[39;00m:\n\u001b[0;32m--> 856\u001b[0m     item \u001b[39m=\u001b[39m \u001b[39mself\u001b[39;49m\u001b[39m.\u001b[39;49m_items\u001b[39m.\u001b[39;49mpopleft()\n\u001b[1;32m    857\u001b[0m \u001b[39mexcept\u001b[39;00m \u001b[39mIndexError\u001b[39;00m:\n",
      "\u001b[0;31mIndexError\u001b[0m: pop from an empty deque",
      "\nDuring handling of the above exception, another exception occurred:\n",
      "\u001b[0;31mKeyboardInterrupt\u001b[0m                         Traceback (most recent call last)",
      "Cell \u001b[0;32mIn[24], line 52\u001b[0m\n\u001b[1;32m      6\u001b[0m \u001b[39m\"\"\"\u001b[39;00m\n\u001b[1;32m      7\u001b[0m \u001b[39mfor inpath in _actor_files:\u001b[39;00m\n\u001b[1;32m      8\u001b[0m \u001b[39m    \u001b[39;00m\n\u001b[0;32m   (...)\u001b[0m\n\u001b[1;32m     48\u001b[0m \u001b[39m    print(\"----------------------------------------------------------------\\n\\n\")\u001b[39;00m\n\u001b[1;32m     49\u001b[0m \u001b[39m\"\"\"\u001b[39;00m\n\u001b[1;32m     51\u001b[0m \u001b[39mwith\u001b[39;00m Pool(\u001b[39m10\u001b[39m) \u001b[39mas\u001b[39;00m p:\n\u001b[0;32m---> 52\u001b[0m     return_data \u001b[39m=\u001b[39m \u001b[39mlist\u001b[39;49m(tqdm(p\u001b[39m.\u001b[39;49mimap(get_stop_points, _actor_files),\n\u001b[1;32m     53\u001b[0m                             total\u001b[39m=\u001b[39;49m\u001b[39mlen\u001b[39;49m(_actor_files)))\n\u001b[1;32m     55\u001b[0m \u001b[39mprint\u001b[39m(\u001b[39m\"\u001b[39m\u001b[39m===============================================================\u001b[39m\u001b[39m\"\u001b[39m)\n\u001b[1;32m     56\u001b[0m stop_time \u001b[39m=\u001b[39m \u001b[39mround\u001b[39m(time\u001b[39m.\u001b[39mtime() \u001b[39m-\u001b[39m start_time, \u001b[39m3\u001b[39m)    \n",
      "File \u001b[0;32m~/miniconda3/envs/py310_trakit/lib/python3.10/site-packages/tqdm/std.py:1178\u001b[0m, in \u001b[0;36mtqdm.__iter__\u001b[0;34m(self)\u001b[0m\n\u001b[1;32m   1175\u001b[0m time \u001b[39m=\u001b[39m \u001b[39mself\u001b[39m\u001b[39m.\u001b[39m_time\n\u001b[1;32m   1177\u001b[0m \u001b[39mtry\u001b[39;00m:\n\u001b[0;32m-> 1178\u001b[0m     \u001b[39mfor\u001b[39;00m obj \u001b[39min\u001b[39;00m iterable:\n\u001b[1;32m   1179\u001b[0m         \u001b[39myield\u001b[39;00m obj\n\u001b[1;32m   1180\u001b[0m         \u001b[39m# Update and possibly print the progressbar.\u001b[39;00m\n\u001b[1;32m   1181\u001b[0m         \u001b[39m# Note: does not call self.update(1) for speed optimisation.\u001b[39;00m\n",
      "File \u001b[0;32m~/miniconda3/envs/py310_trakit/lib/python3.10/multiprocessing/pool.py:861\u001b[0m, in \u001b[0;36mIMapIterator.next\u001b[0;34m(self, timeout)\u001b[0m\n\u001b[1;32m    859\u001b[0m     \u001b[39mself\u001b[39m\u001b[39m.\u001b[39m_pool \u001b[39m=\u001b[39m \u001b[39mNone\u001b[39;00m\n\u001b[1;32m    860\u001b[0m     \u001b[39mraise\u001b[39;00m \u001b[39mStopIteration\u001b[39;00m \u001b[39mfrom\u001b[39;00m \u001b[39mNone\u001b[39;00m\n\u001b[0;32m--> 861\u001b[0m \u001b[39mself\u001b[39;49m\u001b[39m.\u001b[39;49m_cond\u001b[39m.\u001b[39;49mwait(timeout)\n\u001b[1;32m    862\u001b[0m \u001b[39mtry\u001b[39;00m:\n\u001b[1;32m    863\u001b[0m     item \u001b[39m=\u001b[39m \u001b[39mself\u001b[39m\u001b[39m.\u001b[39m_items\u001b[39m.\u001b[39mpopleft()\n",
      "File \u001b[0;32m~/miniconda3/envs/py310_trakit/lib/python3.10/threading.py:320\u001b[0m, in \u001b[0;36mCondition.wait\u001b[0;34m(self, timeout)\u001b[0m\n\u001b[1;32m    318\u001b[0m \u001b[39mtry\u001b[39;00m:    \u001b[39m# restore state no matter what (e.g., KeyboardInterrupt)\u001b[39;00m\n\u001b[1;32m    319\u001b[0m     \u001b[39mif\u001b[39;00m timeout \u001b[39mis\u001b[39;00m \u001b[39mNone\u001b[39;00m:\n\u001b[0;32m--> 320\u001b[0m         waiter\u001b[39m.\u001b[39;49macquire()\n\u001b[1;32m    321\u001b[0m         gotit \u001b[39m=\u001b[39m \u001b[39mTrue\u001b[39;00m\n\u001b[1;32m    322\u001b[0m     \u001b[39melse\u001b[39;00m:\n",
      "\u001b[0;31mKeyboardInterrupt\u001b[0m: "
     ]
    }
   ],
   "source": [
    "\n",
    "\n",
    "start_time = time.time()\n",
    "\n",
    "# - For each Actor:\n",
    "#   - Read in the trajectory data file\n",
    "#   - Generate the corresponding Stop Points (Stop Locations Level-1)\n",
    "\"\"\"\n",
    "for inpath in _actor_files:\n",
    "    \n",
    "    __start_time = time.time()\n",
    "    \n",
    "    # isolate the user/actor ID\n",
    "    uid = inpath.split(os.sep)[-1].split(\".\")[0]\n",
    "    print(f\"** User/Agent/Actor – {uid} **\")\n",
    "    \n",
    "    if (uid in sp_processed) and (uid in sp_dfs_processed):\n",
    "        print(f\"\\n\\t--> Level 1 Stop Locations already processed <--\")\n",
    "        stops_frame = sp_dfs_processed[uid]\n",
    "    else:\n",
    "        # Reading trajectory data file\n",
    "        #user_data = pandas.read_csv(inpath, index_col=0)\n",
    "        user_data = pandas.read_parquet(inpath)\n",
    "        print(f\"\\t Trajectory records: {user_data.shape[0]}\")\n",
    "        display(user_data.head())\n",
    "        \n",
    "        user_data[\"timestamp\"] = user_data[\"timestamp\"].map(\n",
    "            lambda x: pandas.Timestamp(x).timestamp()\n",
    "        )\n",
    "\n",
    "        # Call ``trakit.stop_point.extract_stop_points()`` to calculate the\n",
    "        # Stop Points (Stop Locations Level-1) for a simulation actor's trajectory data\n",
    "        stops = trakit.stop_point.extract_stop_points(user_data)\n",
    "        stops_frame = pandas.DataFrame.from_records(item.to_dict() for item in stops)\n",
    "\n",
    "        # write out level-1 stop points\n",
    "        outpath = os.path.join(_out_path, f\"{_out_file_base}_{uid}.csv\")\n",
    "        stops_frame.to_csv(outpath, index=False) \n",
    "\n",
    "        # Store both user's Stops Points and dataframe for later use\n",
    "        sp_processed[uid] = stops\n",
    "        sp_dfs_processed[uid] = stops_frame\n",
    "    \n",
    "\n",
    "    print(f\"\\n\\tStop Points calculated: {stops_frame.shape[0]}\")\n",
    "    display(stops_frame.head())\n",
    "\n",
    "    __stop_time = round(time.time() - __start_time, 3)\n",
    "    print(f\"\\n\\tProcess time (sec.) for {uid}: {__stop_time}\")\n",
    "    print(\"----------------------------------------------------------------\\n\\n\")\n",
    "\"\"\"\n",
    "\n",
    "with Pool(10) as p:\n",
    "    return_data = list(tqdm(p.imap(get_stop_points, _actor_files),\n",
    "                            total=len(_actor_files)))\n",
    "\n",
    "print(\"===============================================================\")\n",
    "stop_time = round(time.time() - start_time, 3)    \n",
    "print(f\"Process time (sec.) for {len(_actor_files)} users (actors): {stop_time}\")\n",
    "print(\"===============================================================\")"
   ]
  },
  {
   "cell_type": "code",
   "execution_count": 321,
   "id": "a0d11fec",
   "metadata": {},
   "outputs": [
    {
     "name": "stdout",
     "output_type": "stream",
     "text": [
      "not stops for agent agent=1359\n",
      "not stops for agent agent=7063\n",
      "not stops for agent agent=7634\n",
      "not stops for agent agent=876\n",
      "not stops for agent agent=5320\n",
      "not stops for agent agent=1978\n",
      "not stops for agent agent=4165\n",
      "not stops for agent agent=7135\n",
      "not stops for agent agent=1962\n",
      "not stops for agent agent=5854\n",
      "not stops for agent agent=69\n",
      "not stops for agent agent=6364\n",
      "not stops for agent agent=8579\n",
      "not stops for agent agent=4703\n",
      "not stops for agent agent=1891\n",
      "not stops for agent agent=4523\n"
     ]
    }
   ],
   "source": [
    "# reassemble the points from the return data\n",
    "for x in return_data:\n",
    "    uid, stops, stops_frame = x\n",
    "    if stops == []:\n",
    "        # remove these agents from the list of agents for now\n",
    "        print(f\"not stops for agent {uid}\")\n",
    "        continue\n",
    "    # Store both user's Stops Points and dataframe for later use\n",
    "    sp_processed[uid] = stops\n",
    "    sp_dfs_processed[uid] = stops_frame"
   ]
  },
  {
   "attachments": {},
   "cell_type": "markdown",
   "id": "d2c4b587",
   "metadata": {},
   "source": [
    "### Illustrating/visualizing Stop Points computed for 1 actor "
   ]
  },
  {
   "cell_type": "code",
   "execution_count": 322,
   "id": "b517a712",
   "metadata": {
    "ExecuteTime": {
     "end_time": "2023-03-31T13:10:27.196541Z",
     "start_time": "2023-03-31T13:10:27.193115Z"
    }
   },
   "outputs": [
    {
     "name": "stdout",
     "output_type": "stream",
     "text": [
      "agent=4787\n",
      "[<trakit.stop_point.StopPoint object at 0x7f48d00eb460>, <trakit.stop_point.StopPoint object at 0x7f48d00ea920>, <trakit.stop_point.StopPoint object at 0x7f48d00ead10>, <trakit.stop_point.StopPoint object at 0x7f48d00eae60>, <trakit.stop_point.StopPoint object at 0x7f48d00eada0>, <trakit.stop_point.StopPoint object at 0x7f48d00eaf80>, <trakit.stop_point.StopPoint object at 0x7f48d00eaef0>, <trakit.stop_point.StopPoint object at 0x7f48d00eacb0>, <trakit.stop_point.StopPoint object at 0x7f48d00eadd0>, <trakit.stop_point.StopPoint object at 0x7f48d00ead40>, <trakit.stop_point.StopPoint object at 0x7f48d00eae00>, <trakit.stop_point.StopPoint object at 0x7f48d00ea980>, <trakit.stop_point.StopPoint object at 0x7f48d00eabc0>, <trakit.stop_point.StopPoint object at 0x7f48d00eace0>, <trakit.stop_point.StopPoint object at 0x7f48d00eabf0>]\n",
      "    id  latitude   longitude  start_timestamp  stop_timestamp  points\n",
      "0    0  1.335307  103.745074     1.677600e+09    1.677645e+09   45059\n",
      "1    1  1.311319  103.944220     1.677647e+09    1.677690e+09   43217\n",
      "2    2  1.335303  103.745073     1.677692e+09    1.677729e+09   37380\n",
      "3    3  1.311322  103.944242     1.677731e+09    1.677774e+09   43216\n",
      "4    4  1.335234  103.745041     1.677776e+09    1.677814e+09   38096\n",
      "5    5  1.311320  103.944228     1.677816e+09    1.677860e+09   43219\n",
      "6    6  1.335283  103.745064     1.677861e+09    1.677901e+09   39784\n",
      "7    7  1.311322  103.944240     1.677903e+09    1.677946e+09   43218\n",
      "8    8  1.335248  103.745048     1.677948e+09    1.677988e+09   40080\n",
      "9    9  1.311308  103.944152     1.677990e+09    1.678033e+09   43216\n",
      "10  10  1.335247  103.745047     1.678035e+09    1.678078e+09   43565\n",
      "11  11  1.311315  103.944193     1.678080e+09    1.678123e+09   43217\n",
      "12  12  1.335294  103.745069     1.678125e+09    1.678147e+09   22378\n",
      "13  13  1.389682  103.851685     1.678149e+09    1.678150e+09     577\n",
      "14  14  1.311320  103.944222     1.678151e+09    1.678194e+09   43220\n"
     ]
    }
   ],
   "source": [
    "#actor = \"0a1039e3-373d-44bd-9dfb-2138b621334c\"\n",
    "actor = list(sp_dfs_processed.keys())[0]\n",
    "#actor = \"agent=1359\"\n",
    "print(actor)\n",
    "actor_sp_df = sp_dfs_processed[actor]\n",
    "print(sp_processed[actor])\n",
    "print(sp_dfs_processed[actor])"
   ]
  },
  {
   "cell_type": "code",
   "execution_count": 323,
   "id": "304bbe98",
   "metadata": {
    "ExecuteTime": {
     "end_time": "2023-03-31T13:10:27.403499Z",
     "start_time": "2023-03-31T13:10:27.199889Z"
    }
   },
   "outputs": [
    {
     "data": {
      "text/html": [
       "<div style=\"width:100%;\"><div style=\"position:relative;width:100%;height:0;padding-bottom:60%;\"><span style=\"color:#565656\">Make this Notebook Trusted to load map: File -> Trust Notebook</span><iframe srcdoc=\"&lt;!DOCTYPE html&gt;\n",
       "&lt;html&gt;\n",
       "&lt;head&gt;\n",
       "    \n",
       "    &lt;meta http-equiv=&quot;content-type&quot; content=&quot;text/html; charset=UTF-8&quot; /&gt;\n",
       "    \n",
       "        &lt;script&gt;\n",
       "            L_NO_TOUCH = false;\n",
       "            L_DISABLE_3D = false;\n",
       "        &lt;/script&gt;\n",
       "    \n",
       "    &lt;style&gt;html, body {width: 100%;height: 100%;margin: 0;padding: 0;}&lt;/style&gt;\n",
       "    &lt;style&gt;#map {position:absolute;top:0;bottom:0;right:0;left:0;}&lt;/style&gt;\n",
       "    &lt;script src=&quot;https://cdn.jsdelivr.net/npm/leaflet@1.9.3/dist/leaflet.js&quot;&gt;&lt;/script&gt;\n",
       "    &lt;script src=&quot;https://code.jquery.com/jquery-1.12.4.min.js&quot;&gt;&lt;/script&gt;\n",
       "    &lt;script src=&quot;https://cdn.jsdelivr.net/npm/bootstrap@5.2.2/dist/js/bootstrap.bundle.min.js&quot;&gt;&lt;/script&gt;\n",
       "    &lt;script src=&quot;https://cdnjs.cloudflare.com/ajax/libs/Leaflet.awesome-markers/2.0.2/leaflet.awesome-markers.js&quot;&gt;&lt;/script&gt;\n",
       "    &lt;link rel=&quot;stylesheet&quot; href=&quot;https://cdn.jsdelivr.net/npm/leaflet@1.9.3/dist/leaflet.css&quot;/&gt;\n",
       "    &lt;link rel=&quot;stylesheet&quot; href=&quot;https://cdn.jsdelivr.net/npm/bootstrap@5.2.2/dist/css/bootstrap.min.css&quot;/&gt;\n",
       "    &lt;link rel=&quot;stylesheet&quot; href=&quot;https://netdna.bootstrapcdn.com/bootstrap/3.0.0/css/bootstrap.min.css&quot;/&gt;\n",
       "    &lt;link rel=&quot;stylesheet&quot; href=&quot;https://cdn.jsdelivr.net/npm/@fortawesome/fontawesome-free@6.2.0/css/all.min.css&quot;/&gt;\n",
       "    &lt;link rel=&quot;stylesheet&quot; href=&quot;https://cdnjs.cloudflare.com/ajax/libs/Leaflet.awesome-markers/2.0.2/leaflet.awesome-markers.css&quot;/&gt;\n",
       "    &lt;link rel=&quot;stylesheet&quot; href=&quot;https://cdn.jsdelivr.net/gh/python-visualization/folium/folium/templates/leaflet.awesome.rotate.min.css&quot;/&gt;\n",
       "    \n",
       "            &lt;meta name=&quot;viewport&quot; content=&quot;width=device-width,\n",
       "                initial-scale=1.0, maximum-scale=1.0, user-scalable=no&quot; /&gt;\n",
       "            &lt;style&gt;\n",
       "                #map_e84b500883a1bcce12a6d24706872d24 {\n",
       "                    position: relative;\n",
       "                    width: 100.0%;\n",
       "                    height: 100.0%;\n",
       "                    left: 0.0%;\n",
       "                    top: 0.0%;\n",
       "                }\n",
       "                .leaflet-container { font-size: 1rem; }\n",
       "            &lt;/style&gt;\n",
       "        \n",
       "&lt;/head&gt;\n",
       "&lt;body&gt;\n",
       "    \n",
       "    \n",
       "            &lt;div class=&quot;folium-map&quot; id=&quot;map_e84b500883a1bcce12a6d24706872d24&quot; &gt;&lt;/div&gt;\n",
       "        \n",
       "&lt;/body&gt;\n",
       "&lt;script&gt;\n",
       "    \n",
       "    \n",
       "            var map_e84b500883a1bcce12a6d24706872d24 = L.map(\n",
       "                &quot;map_e84b500883a1bcce12a6d24706872d24&quot;,\n",
       "                {\n",
       "                    center: [1.3277216765689484, 103.845106407739],\n",
       "                    crs: L.CRS.EPSG3857,\n",
       "                    zoom: 10,\n",
       "                    zoomControl: true,\n",
       "                    preferCanvas: false,\n",
       "                }\n",
       "            );\n",
       "            L.control.scale().addTo(map_e84b500883a1bcce12a6d24706872d24);\n",
       "\n",
       "            \n",
       "\n",
       "        \n",
       "    \n",
       "            var tile_layer_a2f02268ea027f818138cde52390c5dd = L.tileLayer(\n",
       "                &quot;https://{s}.tile.openstreetmap.org/{z}/{x}/{y}.png&quot;,\n",
       "                {&quot;attribution&quot;: &quot;Data by \\u0026copy; \\u003ca target=\\&quot;_blank\\&quot; href=\\&quot;http://openstreetmap.org\\&quot;\\u003eOpenStreetMap\\u003c/a\\u003e, under \\u003ca target=\\&quot;_blank\\&quot; href=\\&quot;http://www.openstreetmap.org/copyright\\&quot;\\u003eODbL\\u003c/a\\u003e.&quot;, &quot;detectRetina&quot;: false, &quot;maxNativeZoom&quot;: 18, &quot;maxZoom&quot;: 18, &quot;minZoom&quot;: 0, &quot;noWrap&quot;: false, &quot;opacity&quot;: 1, &quot;subdomains&quot;: &quot;abc&quot;, &quot;tms&quot;: false}\n",
       "            ).addTo(map_e84b500883a1bcce12a6d24706872d24);\n",
       "        \n",
       "    \n",
       "            var marker_b648197dea4b8b7b38830c5298582b72 = L.marker(\n",
       "                [1.335307040769357, 103.7450740199012],\n",
       "                {}\n",
       "            ).addTo(map_e84b500883a1bcce12a6d24706872d24);\n",
       "        \n",
       "    \n",
       "        var popup_376ca18b69b19c2b328da381f5ebedb7 = L.popup({&quot;maxWidth&quot;: &quot;100%&quot;});\n",
       "\n",
       "        \n",
       "            \n",
       "                var html_d292b541a216eb5d9fc125556dcfbbc9 = $(`&lt;div id=&quot;html_d292b541a216eb5d9fc125556dcfbbc9&quot; style=&quot;width: 100.0%; height: 100.0%;&quot;&gt;45059.0&lt;/div&gt;`)[0];\n",
       "                popup_376ca18b69b19c2b328da381f5ebedb7.setContent(html_d292b541a216eb5d9fc125556dcfbbc9);\n",
       "            \n",
       "        \n",
       "\n",
       "        marker_b648197dea4b8b7b38830c5298582b72.bindPopup(popup_376ca18b69b19c2b328da381f5ebedb7)\n",
       "        ;\n",
       "\n",
       "        \n",
       "    \n",
       "    \n",
       "            var marker_3969ba2704f2564b33b415dad1425636 = L.marker(\n",
       "                [1.3113189965063443, 103.94421999527937],\n",
       "                {}\n",
       "            ).addTo(map_e84b500883a1bcce12a6d24706872d24);\n",
       "        \n",
       "    \n",
       "        var popup_e6bf8dc55a4cd421d695aa98ca00749e = L.popup({&quot;maxWidth&quot;: &quot;100%&quot;});\n",
       "\n",
       "        \n",
       "            \n",
       "                var html_22cc8f505c161bec596eb09939c2550d = $(`&lt;div id=&quot;html_22cc8f505c161bec596eb09939c2550d&quot; style=&quot;width: 100.0%; height: 100.0%;&quot;&gt;43217.0&lt;/div&gt;`)[0];\n",
       "                popup_e6bf8dc55a4cd421d695aa98ca00749e.setContent(html_22cc8f505c161bec596eb09939c2550d);\n",
       "            \n",
       "        \n",
       "\n",
       "        marker_3969ba2704f2564b33b415dad1425636.bindPopup(popup_e6bf8dc55a4cd421d695aa98ca00749e)\n",
       "        ;\n",
       "\n",
       "        \n",
       "    \n",
       "    \n",
       "            var marker_260b24476e9842b23bc6cb3e7775c41f = L.marker(\n",
       "                [1.3353031936063793, 103.74507276519711],\n",
       "                {}\n",
       "            ).addTo(map_e84b500883a1bcce12a6d24706872d24);\n",
       "        \n",
       "    \n",
       "        var popup_3af2c50a8eea7142eb67c8b5ecf6b536 = L.popup({&quot;maxWidth&quot;: &quot;100%&quot;});\n",
       "\n",
       "        \n",
       "            \n",
       "                var html_456e781cbcc70a852e1b7432d32ca14b = $(`&lt;div id=&quot;html_456e781cbcc70a852e1b7432d32ca14b&quot; style=&quot;width: 100.0%; height: 100.0%;&quot;&gt;37380.0&lt;/div&gt;`)[0];\n",
       "                popup_3af2c50a8eea7142eb67c8b5ecf6b536.setContent(html_456e781cbcc70a852e1b7432d32ca14b);\n",
       "            \n",
       "        \n",
       "\n",
       "        marker_260b24476e9842b23bc6cb3e7775c41f.bindPopup(popup_3af2c50a8eea7142eb67c8b5ecf6b536)\n",
       "        ;\n",
       "\n",
       "        \n",
       "    \n",
       "    \n",
       "            var marker_8b0e3006e07f371fa31b7f0227553f1e = L.marker(\n",
       "                [1.31132199882077, 103.9442420084796],\n",
       "                {}\n",
       "            ).addTo(map_e84b500883a1bcce12a6d24706872d24);\n",
       "        \n",
       "    \n",
       "        var popup_bdbb4352c7b0669646b41fed6e56f589 = L.popup({&quot;maxWidth&quot;: &quot;100%&quot;});\n",
       "\n",
       "        \n",
       "            \n",
       "                var html_7cf011899f45808d8c142d5a78301430 = $(`&lt;div id=&quot;html_7cf011899f45808d8c142d5a78301430&quot; style=&quot;width: 100.0%; height: 100.0%;&quot;&gt;43216.0&lt;/div&gt;`)[0];\n",
       "                popup_bdbb4352c7b0669646b41fed6e56f589.setContent(html_7cf011899f45808d8c142d5a78301430);\n",
       "            \n",
       "        \n",
       "\n",
       "        marker_8b0e3006e07f371fa31b7f0227553f1e.bindPopup(popup_bdbb4352c7b0669646b41fed6e56f589)\n",
       "        ;\n",
       "\n",
       "        \n",
       "    \n",
       "    \n",
       "            var marker_dccecb367a8d75c0013f8ec785cb1baf = L.marker(\n",
       "                [1.3352342954107113, 103.74504081210112],\n",
       "                {}\n",
       "            ).addTo(map_e84b500883a1bcce12a6d24706872d24);\n",
       "        \n",
       "    \n",
       "        var popup_0040e43d97ad01acd9a57c74f126e7a3 = L.popup({&quot;maxWidth&quot;: &quot;100%&quot;});\n",
       "\n",
       "        \n",
       "            \n",
       "                var html_84d7a65ff17d165f0a96f3289bf650bf = $(`&lt;div id=&quot;html_84d7a65ff17d165f0a96f3289bf650bf&quot; style=&quot;width: 100.0%; height: 100.0%;&quot;&gt;38096.0&lt;/div&gt;`)[0];\n",
       "                popup_0040e43d97ad01acd9a57c74f126e7a3.setContent(html_84d7a65ff17d165f0a96f3289bf650bf);\n",
       "            \n",
       "        \n",
       "\n",
       "        marker_dccecb367a8d75c0013f8ec785cb1baf.bindPopup(popup_0040e43d97ad01acd9a57c74f126e7a3)\n",
       "        ;\n",
       "\n",
       "        \n",
       "    \n",
       "    \n",
       "            var marker_cf3e16227088b81c5c5f9b813ca28794 = L.marker(\n",
       "                [1.3113199925501642, 103.94422797571194],\n",
       "                {}\n",
       "            ).addTo(map_e84b500883a1bcce12a6d24706872d24);\n",
       "        \n",
       "    \n",
       "        var popup_0d470d5604f12378c95e94860c3b20e4 = L.popup({&quot;maxWidth&quot;: &quot;100%&quot;});\n",
       "\n",
       "        \n",
       "            \n",
       "                var html_849e038b5e2f3dd6493b03cc57026a11 = $(`&lt;div id=&quot;html_849e038b5e2f3dd6493b03cc57026a11&quot; style=&quot;width: 100.0%; height: 100.0%;&quot;&gt;43219.0&lt;/div&gt;`)[0];\n",
       "                popup_0d470d5604f12378c95e94860c3b20e4.setContent(html_849e038b5e2f3dd6493b03cc57026a11);\n",
       "            \n",
       "        \n",
       "\n",
       "        marker_cf3e16227088b81c5c5f9b813ca28794.bindPopup(popup_0d470d5604f12378c95e94860c3b20e4)\n",
       "        ;\n",
       "\n",
       "        \n",
       "    \n",
       "    \n",
       "            var marker_8aa7ba7dd8ca3aaa305e0eca37a21baf = L.marker(\n",
       "                [1.3352832706369941, 103.74506379367875],\n",
       "                {}\n",
       "            ).addTo(map_e84b500883a1bcce12a6d24706872d24);\n",
       "        \n",
       "    \n",
       "        var popup_8d2efae343874bb094b14242704d627b = L.popup({&quot;maxWidth&quot;: &quot;100%&quot;});\n",
       "\n",
       "        \n",
       "            \n",
       "                var html_8f04e5a03ce71490dece0f150319087f = $(`&lt;div id=&quot;html_8f04e5a03ce71490dece0f150319087f&quot; style=&quot;width: 100.0%; height: 100.0%;&quot;&gt;39784.0&lt;/div&gt;`)[0];\n",
       "                popup_8d2efae343874bb094b14242704d627b.setContent(html_8f04e5a03ce71490dece0f150319087f);\n",
       "            \n",
       "        \n",
       "\n",
       "        marker_8aa7ba7dd8ca3aaa305e0eca37a21baf.bindPopup(popup_8d2efae343874bb094b14242704d627b)\n",
       "        ;\n",
       "\n",
       "        \n",
       "    \n",
       "    \n",
       "            var marker_3621b848013059748e73e2a8c174434e = L.marker(\n",
       "                [1.3113219922957733, 103.94423997364865],\n",
       "                {}\n",
       "            ).addTo(map_e84b500883a1bcce12a6d24706872d24);\n",
       "        \n",
       "    \n",
       "        var popup_4c3ebb06421387c54b610210aa23808e = L.popup({&quot;maxWidth&quot;: &quot;100%&quot;});\n",
       "\n",
       "        \n",
       "            \n",
       "                var html_16117a167322ba5eb80d10c2b63b6c0c = $(`&lt;div id=&quot;html_16117a167322ba5eb80d10c2b63b6c0c&quot; style=&quot;width: 100.0%; height: 100.0%;&quot;&gt;43218.0&lt;/div&gt;`)[0];\n",
       "                popup_4c3ebb06421387c54b610210aa23808e.setContent(html_16117a167322ba5eb80d10c2b63b6c0c);\n",
       "            \n",
       "        \n",
       "\n",
       "        marker_3621b848013059748e73e2a8c174434e.bindPopup(popup_4c3ebb06421387c54b610210aa23808e)\n",
       "        ;\n",
       "\n",
       "        \n",
       "    \n",
       "    \n",
       "            var marker_7db5e63c742e04131a250494078bc965 = L.marker(\n",
       "                [1.3352483135490893, 103.74504781420787],\n",
       "                {}\n",
       "            ).addTo(map_e84b500883a1bcce12a6d24706872d24);\n",
       "        \n",
       "    \n",
       "        var popup_8ef417c353dc35ee8923175db4c1c504 = L.popup({&quot;maxWidth&quot;: &quot;100%&quot;});\n",
       "\n",
       "        \n",
       "            \n",
       "                var html_a245a23ddee9966110d2c50ad52550ae = $(`&lt;div id=&quot;html_a245a23ddee9966110d2c50ad52550ae&quot; style=&quot;width: 100.0%; height: 100.0%;&quot;&gt;40080.0&lt;/div&gt;`)[0];\n",
       "                popup_8ef417c353dc35ee8923175db4c1c504.setContent(html_a245a23ddee9966110d2c50ad52550ae);\n",
       "            \n",
       "        \n",
       "\n",
       "        marker_7db5e63c742e04131a250494078bc965.bindPopup(popup_8ef417c353dc35ee8923175db4c1c504)\n",
       "        ;\n",
       "\n",
       "        \n",
       "    \n",
       "    \n",
       "            var marker_42456424af1d5869a8cd004eb7ac7da4 = L.marker(\n",
       "                [1.3113079971062687, 103.9441520009241],\n",
       "                {}\n",
       "            ).addTo(map_e84b500883a1bcce12a6d24706872d24);\n",
       "        \n",
       "    \n",
       "        var popup_8a3cf169c64bfc45754bd3aab7a5f00e = L.popup({&quot;maxWidth&quot;: &quot;100%&quot;});\n",
       "\n",
       "        \n",
       "            \n",
       "                var html_62a03204a43643ad69c2b28dec914091 = $(`&lt;div id=&quot;html_62a03204a43643ad69c2b28dec914091&quot; style=&quot;width: 100.0%; height: 100.0%;&quot;&gt;43216.0&lt;/div&gt;`)[0];\n",
       "                popup_8a3cf169c64bfc45754bd3aab7a5f00e.setContent(html_62a03204a43643ad69c2b28dec914091);\n",
       "            \n",
       "        \n",
       "\n",
       "        marker_42456424af1d5869a8cd004eb7ac7da4.bindPopup(popup_8a3cf169c64bfc45754bd3aab7a5f00e)\n",
       "        ;\n",
       "\n",
       "        \n",
       "    \n",
       "    \n",
       "            var marker_f9a2d287abcebbf18efce2f2ad2ae99a = L.marker(\n",
       "                [1.3352473592344365, 103.74504682709025],\n",
       "                {}\n",
       "            ).addTo(map_e84b500883a1bcce12a6d24706872d24);\n",
       "        \n",
       "    \n",
       "        var popup_fb838788bcaa20da3a72e8682d14f8e0 = L.popup({&quot;maxWidth&quot;: &quot;100%&quot;});\n",
       "\n",
       "        \n",
       "            \n",
       "                var html_1d51d3cb6cbc17476db3d57b377080bc = $(`&lt;div id=&quot;html_1d51d3cb6cbc17476db3d57b377080bc&quot; style=&quot;width: 100.0%; height: 100.0%;&quot;&gt;43565.0&lt;/div&gt;`)[0];\n",
       "                popup_fb838788bcaa20da3a72e8682d14f8e0.setContent(html_1d51d3cb6cbc17476db3d57b377080bc);\n",
       "            \n",
       "        \n",
       "\n",
       "        marker_f9a2d287abcebbf18efce2f2ad2ae99a.bindPopup(popup_fb838788bcaa20da3a72e8682d14f8e0)\n",
       "        ;\n",
       "\n",
       "        \n",
       "    \n",
       "    \n",
       "            var marker_105bbe9fbea2cdfe27d11e566d10118d = L.marker(\n",
       "                [1.3113149963897235, 103.94419299650497],\n",
       "                {}\n",
       "            ).addTo(map_e84b500883a1bcce12a6d24706872d24);\n",
       "        \n",
       "    \n",
       "        var popup_dee727966ddaf1c9df5fa37efc396d12 = L.popup({&quot;maxWidth&quot;: &quot;100%&quot;});\n",
       "\n",
       "        \n",
       "            \n",
       "                var html_b09b4e499cb4b7a65398823628751eaa = $(`&lt;div id=&quot;html_b09b4e499cb4b7a65398823628751eaa&quot; style=&quot;width: 100.0%; height: 100.0%;&quot;&gt;43217.0&lt;/div&gt;`)[0];\n",
       "                popup_dee727966ddaf1c9df5fa37efc396d12.setContent(html_b09b4e499cb4b7a65398823628751eaa);\n",
       "            \n",
       "        \n",
       "\n",
       "        marker_105bbe9fbea2cdfe27d11e566d10118d.bindPopup(popup_dee727966ddaf1c9df5fa37efc396d12)\n",
       "        ;\n",
       "\n",
       "        \n",
       "    \n",
       "    \n",
       "            var marker_882485f602f8c16ff15f5541328b0622 = L.marker(\n",
       "                [1.3352936099299302, 103.74506859444602],\n",
       "                {}\n",
       "            ).addTo(map_e84b500883a1bcce12a6d24706872d24);\n",
       "        \n",
       "    \n",
       "        var popup_9621485674be25e6f68cc752e2e7622f = L.popup({&quot;maxWidth&quot;: &quot;100%&quot;});\n",
       "\n",
       "        \n",
       "            \n",
       "                var html_9fb56c50776cadef52c64407571346a7 = $(`&lt;div id=&quot;html_9fb56c50776cadef52c64407571346a7&quot; style=&quot;width: 100.0%; height: 100.0%;&quot;&gt;22378.0&lt;/div&gt;`)[0];\n",
       "                popup_9621485674be25e6f68cc752e2e7622f.setContent(html_9fb56c50776cadef52c64407571346a7);\n",
       "            \n",
       "        \n",
       "\n",
       "        marker_882485f602f8c16ff15f5541328b0622.bindPopup(popup_9621485674be25e6f68cc752e2e7622f)\n",
       "        ;\n",
       "\n",
       "        \n",
       "    \n",
       "    \n",
       "            var marker_1f3a2b3685f8374ee0bfdaf75dbb4dd0 = L.marker(\n",
       "                [1.3896821005199234, 103.85168456499228],\n",
       "                {}\n",
       "            ).addTo(map_e84b500883a1bcce12a6d24706872d24);\n",
       "        \n",
       "    \n",
       "        var popup_b6bcab2c882333225f7718961ea60ed5 = L.popup({&quot;maxWidth&quot;: &quot;100%&quot;});\n",
       "\n",
       "        \n",
       "            \n",
       "                var html_8f5f343ac86d59e502e6170640fcea46 = $(`&lt;div id=&quot;html_8f5f343ac86d59e502e6170640fcea46&quot; style=&quot;width: 100.0%; height: 100.0%;&quot;&gt;577.0&lt;/div&gt;`)[0];\n",
       "                popup_b6bcab2c882333225f7718961ea60ed5.setContent(html_8f5f343ac86d59e502e6170640fcea46);\n",
       "            \n",
       "        \n",
       "\n",
       "        marker_1f3a2b3685f8374ee0bfdaf75dbb4dd0.bindPopup(popup_b6bcab2c882333225f7718961ea60ed5)\n",
       "        ;\n",
       "\n",
       "        \n",
       "    \n",
       "    \n",
       "            var marker_f589708d553bb80206f7ff3af81375ba = L.marker(\n",
       "                [1.3113199912083613, 103.94422197392198],\n",
       "                {}\n",
       "            ).addTo(map_e84b500883a1bcce12a6d24706872d24);\n",
       "        \n",
       "    \n",
       "        var popup_40e917787c75355732a6d80d639291c5 = L.popup({&quot;maxWidth&quot;: &quot;100%&quot;});\n",
       "\n",
       "        \n",
       "            \n",
       "                var html_66f4a89e336e1ced35dd88bd2ccf7a71 = $(`&lt;div id=&quot;html_66f4a89e336e1ced35dd88bd2ccf7a71&quot; style=&quot;width: 100.0%; height: 100.0%;&quot;&gt;43220.0&lt;/div&gt;`)[0];\n",
       "                popup_40e917787c75355732a6d80d639291c5.setContent(html_66f4a89e336e1ced35dd88bd2ccf7a71);\n",
       "            \n",
       "        \n",
       "\n",
       "        marker_f589708d553bb80206f7ff3af81375ba.bindPopup(popup_40e917787c75355732a6d80d639291c5)\n",
       "        ;\n",
       "\n",
       "        \n",
       "    \n",
       "&lt;/script&gt;\n",
       "&lt;/html&gt;\" style=\"position:absolute;width:100%;height:100%;left:0;top:0;border:none !important;\" allowfullscreen webkitallowfullscreen mozallowfullscreen></iframe></div></div>"
      ],
      "text/plain": [
       "<folium.folium.Map at 0x7f488907cc10>"
      ]
     },
     "execution_count": 323,
     "metadata": {},
     "output_type": "execute_result"
    }
   ],
   "source": [
    "mean_lat_lon = [actor_sp_df.latitude.mean(), actor_sp_df.longitude.mean()]\n",
    "stops_plot = folium.Map(location=mean_lat_lon, zoom_start=10, control_scale=True)\n",
    "\n",
    "for _, location_info in actor_sp_df.iterrows():\n",
    "    lat_lon = location_info[\"latitude\"], location_info[\"longitude\"]\n",
    "    folium.Marker(lat_lon, popup=location_info[\"points\"]).add_to(stops_plot)\n",
    "\n",
    "stops_plot "
   ]
  },
  {
   "attachments": {},
   "cell_type": "markdown",
   "id": "4e7e89c9",
   "metadata": {},
   "source": [
    "-------------------------------------------------------------\n",
    "\n",
    "### 2.B. Stop Locations level-2 (Unique Stop Points)\n",
    "\n",
    "Function call:\n",
    "* `trakit.stop_unique.unique_stops()`\n",
    "\n",
    "##### Reading raw trajectory data from (zipped) parquet files in this example "
   ]
  },
  {
   "cell_type": "code",
   "execution_count": 324,
   "id": "f7d9a9ad",
   "metadata": {
    "ExecuteTime": {
     "end_time": "2023-03-31T13:10:27.415181Z",
     "start_time": "2023-03-31T13:10:27.407305Z"
    }
   },
   "outputs": [
    {
     "name": "stdout",
     "output_type": "stream",
     "text": [
      "Help on function unique_stops in module trakit.stop_unique:\n",
      "\n",
      "unique_stops(stop_points: collections.abc.Iterable[trakit.stop_point.StopPoint | trakit.stop_unique.UniqueStop], radius: float = 37.5) -> list[trakit.stop_unique.UniqueStop]\n",
      "\n",
      "None\n"
     ]
    }
   ],
   "source": [
    "print(help(trakit.stop_unique.unique_stops))"
   ]
  },
  {
   "attachments": {},
   "cell_type": "markdown",
   "id": "8ee6a0a9",
   "metadata": {},
   "source": [
    "##### Store the Unique Stops Points and a dataframe of them once processed for later use"
   ]
  },
  {
   "cell_type": "code",
   "execution_count": 325,
   "id": "4632caa6",
   "metadata": {
    "ExecuteTime": {
     "end_time": "2023-03-31T13:10:27.426978Z",
     "start_time": "2023-03-31T13:10:27.423522Z"
    }
   },
   "outputs": [],
   "source": [
    "usp_processed = {}\n",
    "usp_dfs_processed = {}"
   ]
  },
  {
   "cell_type": "code",
   "execution_count": 326,
   "id": "4a14278f",
   "metadata": {
    "ExecuteTime": {
     "end_time": "2023-03-31T13:10:27.434205Z",
     "start_time": "2023-03-31T13:10:27.430045Z"
    }
   },
   "outputs": [],
   "source": [
    "_out_path = prep_dir\n",
    "_out_file_base = prep_sl_l2_usp_base"
   ]
  },
  {
   "cell_type": "code",
   "execution_count": null,
   "id": "a6a540b0",
   "metadata": {},
   "outputs": [],
   "source": [
    "def process_level2(uid):\n",
    "    unique_stops = trakit.stop_unique.unique_stops(sp_processed[uid])\n",
    "    unique_stops_frame = pandas.DataFrame.from_records(\n",
    "        item.to_dict() for item in unique_stops\n",
    "    )\n",
    "\n",
    "    # write out level-2 stop points\n",
    "    outpath = os.path.join(_out_path, f\"{_out_file_base}_unique_{uid}.csv\")\n",
    "    unique_stops_frame.to_csv(outpath, index=False)\n",
    "\n",
    "    return (uid, unique_stops, unique_stops_frame)"
   ]
  },
  {
   "cell_type": "code",
   "execution_count": 327,
   "id": "87d03d8f",
   "metadata": {
    "ExecuteTime": {
     "end_time": "2023-03-31T13:10:28.551290Z",
     "start_time": "2023-03-31T13:10:27.437866Z"
    }
   },
   "outputs": [
    {
     "name": "stdout",
     "output_type": "stream",
     "text": [
      "===============================================================\n",
      "Process time (sec.) for 9984 users (actors): 23188.781\n",
      "===============================================================\n"
     ]
    }
   ],
   "source": [
    "start_time = time.time()\n",
    "\n",
    "# - For each Actor:\n",
    "#   - Read in the trajectory data file\n",
    "#   - Generate the corresponding Unique Stop Points (Stop Locations Level-2)\n",
    "'''\n",
    "for uid in sp_processed:\n",
    "    __start_time = time.time()\n",
    "    # print(f\"** User/Agent/Actor – {uid} **\")\n",
    "    \n",
    "    if (uid in usp_processed) and (uid in usp_dfs_processed):\n",
    "        # print(f\"\\n\\t--> Level 2 Stop Locations already processed <--\")\n",
    "        unique_stops_frame = usp_dfs_processed[uid]\n",
    "    else:\n",
    "        # 1. Call ``trakit.stop_unique.unique_stops()`` to calculate\n",
    "        #    the Unique Stop Points (Stop Locations Level-2) for a simulation\n",
    "        #    actor's trajectory data. \n",
    "        unique_stops = trakit.stop_unique.unique_stops(sp_processed[uid])\n",
    "        unique_stops_frame = pandas.DataFrame.from_records(\n",
    "            item.to_dict() for item in unique_stops\n",
    "        )\n",
    "\n",
    "        # write out level-1 stop points\n",
    "        outpath = os.path.join(_out_path, f\"{_out_file_base}_unique_{uid}.csv\")\n",
    "        unique_stops_frame.to_csv(outpath, index=False)\n",
    "\n",
    "        # Store both user's Unique Stops Points and dataframe for later use\n",
    "        usp_processed[uid] = unique_stops\n",
    "        usp_dfs_processed[uid] = unique_stops_frame\n",
    "\n",
    "    # print(f\"\\n\\tUnique Stop Points calculated: {unique_stops_frame.shape[0]}\")\n",
    "    # display(unique_stops_frame.head())\n",
    "    \n",
    "    __stop_time = round(time.time() - __start_time, 3)\n",
    "    # print(f\"\\n\\tProcess time (sec.) for {uid}: {__stop_time}\")\n",
    "    # print(\"----------------------------------------------------------------\\n\\n\")\n",
    "'''\n",
    "\n",
    "# make this parallel\n",
    "with Pool(10) as p:\n",
    "    return_data = list(tqdm(p.imap(process_level2, sp_processed.keys()),\n",
    "                            total=len(sp_processed.keys())))\n",
    "\n",
    "print(\"===============================================================\")\n",
    "stop_time = round(time.time() - start_time, 3)    \n",
    "print(f\"Process time (sec.) for {len(sp_processed)} users (actors): {stop_time}\")\n",
    "print(\"===============================================================\")"
   ]
  },
  {
   "cell_type": "code",
   "execution_count": null,
   "id": "ec31e567",
   "metadata": {},
   "outputs": [],
   "source": [
    "# reassemble the items into the dictionary\n",
    "for x in return_data:\n",
    "    uid, unique_stops, unique_stops_frame = x\n",
    "    # Store both user's Unique Stops Points and dataframe for later use\n",
    "    usp_processed[uid] = unique_stops\n",
    "    usp_dfs_processed[uid] = unique_stops_frame"
   ]
  },
  {
   "attachments": {},
   "cell_type": "markdown",
   "id": "e21fcd94",
   "metadata": {},
   "source": [
    "### Illustrating/visualizing Unique Stop Points computed for 1 actor "
   ]
  },
  {
   "cell_type": "code",
   "execution_count": 328,
   "id": "b3652976",
   "metadata": {
    "ExecuteTime": {
     "end_time": "2023-03-31T13:10:28.557542Z",
     "start_time": "2023-03-31T13:10:28.554972Z"
    }
   },
   "outputs": [
    {
     "name": "stdout",
     "output_type": "stream",
     "text": [
      "agent=4787\n"
     ]
    }
   ],
   "source": [
    "#actor = \"0a1039e3-373d-44bd-9dfb-2138b621334c\"\n",
    "actor = list(sp_dfs_processed.keys())[0]\n",
    "print(actor)\n",
    "actor_usp_df = usp_dfs_processed[actor]"
   ]
  },
  {
   "cell_type": "code",
   "execution_count": 329,
   "id": "180ba7e5",
   "metadata": {
    "ExecuteTime": {
     "end_time": "2023-03-31T13:10:28.607193Z",
     "start_time": "2023-03-31T13:10:28.560511Z"
    }
   },
   "outputs": [
    {
     "data": {
      "text/html": [
       "<div style=\"width:100%;\"><div style=\"position:relative;width:100%;height:0;padding-bottom:60%;\"><span style=\"color:#565656\">Make this Notebook Trusted to load map: File -> Trust Notebook</span><iframe srcdoc=\"&lt;!DOCTYPE html&gt;\n",
       "&lt;html&gt;\n",
       "&lt;head&gt;\n",
       "    \n",
       "    &lt;meta http-equiv=&quot;content-type&quot; content=&quot;text/html; charset=UTF-8&quot; /&gt;\n",
       "    \n",
       "        &lt;script&gt;\n",
       "            L_NO_TOUCH = false;\n",
       "            L_DISABLE_3D = false;\n",
       "        &lt;/script&gt;\n",
       "    \n",
       "    &lt;style&gt;html, body {width: 100%;height: 100%;margin: 0;padding: 0;}&lt;/style&gt;\n",
       "    &lt;style&gt;#map {position:absolute;top:0;bottom:0;right:0;left:0;}&lt;/style&gt;\n",
       "    &lt;script src=&quot;https://cdn.jsdelivr.net/npm/leaflet@1.9.3/dist/leaflet.js&quot;&gt;&lt;/script&gt;\n",
       "    &lt;script src=&quot;https://code.jquery.com/jquery-1.12.4.min.js&quot;&gt;&lt;/script&gt;\n",
       "    &lt;script src=&quot;https://cdn.jsdelivr.net/npm/bootstrap@5.2.2/dist/js/bootstrap.bundle.min.js&quot;&gt;&lt;/script&gt;\n",
       "    &lt;script src=&quot;https://cdnjs.cloudflare.com/ajax/libs/Leaflet.awesome-markers/2.0.2/leaflet.awesome-markers.js&quot;&gt;&lt;/script&gt;\n",
       "    &lt;link rel=&quot;stylesheet&quot; href=&quot;https://cdn.jsdelivr.net/npm/leaflet@1.9.3/dist/leaflet.css&quot;/&gt;\n",
       "    &lt;link rel=&quot;stylesheet&quot; href=&quot;https://cdn.jsdelivr.net/npm/bootstrap@5.2.2/dist/css/bootstrap.min.css&quot;/&gt;\n",
       "    &lt;link rel=&quot;stylesheet&quot; href=&quot;https://netdna.bootstrapcdn.com/bootstrap/3.0.0/css/bootstrap.min.css&quot;/&gt;\n",
       "    &lt;link rel=&quot;stylesheet&quot; href=&quot;https://cdn.jsdelivr.net/npm/@fortawesome/fontawesome-free@6.2.0/css/all.min.css&quot;/&gt;\n",
       "    &lt;link rel=&quot;stylesheet&quot; href=&quot;https://cdnjs.cloudflare.com/ajax/libs/Leaflet.awesome-markers/2.0.2/leaflet.awesome-markers.css&quot;/&gt;\n",
       "    &lt;link rel=&quot;stylesheet&quot; href=&quot;https://cdn.jsdelivr.net/gh/python-visualization/folium/folium/templates/leaflet.awesome.rotate.min.css&quot;/&gt;\n",
       "    \n",
       "            &lt;meta name=&quot;viewport&quot; content=&quot;width=device-width,\n",
       "                initial-scale=1.0, maximum-scale=1.0, user-scalable=no&quot; /&gt;\n",
       "            &lt;style&gt;\n",
       "                #map_bf701c82f34ee3e27c7f8a8a6e1cfc82 {\n",
       "                    position: relative;\n",
       "                    width: 100.0%;\n",
       "                    height: 100.0%;\n",
       "                    left: 0.0%;\n",
       "                    top: 0.0%;\n",
       "                }\n",
       "                .leaflet-container { font-size: 1rem; }\n",
       "            &lt;/style&gt;\n",
       "        \n",
       "&lt;/head&gt;\n",
       "&lt;body&gt;\n",
       "    \n",
       "    \n",
       "            &lt;div class=&quot;folium-map&quot; id=&quot;map_bf701c82f34ee3e27c7f8a8a6e1cfc82&quot; &gt;&lt;/div&gt;\n",
       "        \n",
       "&lt;/body&gt;\n",
       "&lt;script&gt;\n",
       "    \n",
       "    \n",
       "            var map_bf701c82f34ee3e27c7f8a8a6e1cfc82 = L.map(\n",
       "                &quot;map_bf701c82f34ee3e27c7f8a8a6e1cfc82&quot;,\n",
       "                {\n",
       "                    center: [1.345424304281736, 103.84698571031102],\n",
       "                    crs: L.CRS.EPSG3857,\n",
       "                    zoom: 10,\n",
       "                    zoomControl: true,\n",
       "                    preferCanvas: false,\n",
       "                }\n",
       "            );\n",
       "            L.control.scale().addTo(map_bf701c82f34ee3e27c7f8a8a6e1cfc82);\n",
       "\n",
       "            \n",
       "\n",
       "        \n",
       "    \n",
       "            var tile_layer_c051a4d40bee8adf602ac393ae4904a0 = L.tileLayer(\n",
       "                &quot;https://{s}.tile.openstreetmap.org/{z}/{x}/{y}.png&quot;,\n",
       "                {&quot;attribution&quot;: &quot;Data by \\u0026copy; \\u003ca target=\\&quot;_blank\\&quot; href=\\&quot;http://openstreetmap.org\\&quot;\\u003eOpenStreetMap\\u003c/a\\u003e, under \\u003ca target=\\&quot;_blank\\&quot; href=\\&quot;http://www.openstreetmap.org/copyright\\&quot;\\u003eODbL\\u003c/a\\u003e.&quot;, &quot;detectRetina&quot;: false, &quot;maxNativeZoom&quot;: 18, &quot;maxZoom&quot;: 18, &quot;minZoom&quot;: 0, &quot;noWrap&quot;: false, &quot;opacity&quot;: 1, &quot;subdomains&quot;: &quot;abc&quot;, &quot;tms&quot;: false}\n",
       "            ).addTo(map_bf701c82f34ee3e27c7f8a8a6e1cfc82);\n",
       "        \n",
       "    \n",
       "            var marker_338cf8f123b74a82951fc7d720111135 = L.marker(\n",
       "                [1.335272817276769, 103.74505871921613],\n",
       "                {}\n",
       "            ).addTo(map_bf701c82f34ee3e27c7f8a8a6e1cfc82);\n",
       "        \n",
       "    \n",
       "        var popup_ed4e8f3b2d63accfd06aedb42de9529c = L.popup({&quot;maxWidth&quot;: &quot;100%&quot;});\n",
       "\n",
       "        \n",
       "            \n",
       "                var html_fb7f8c0b6ebc54093f3d6e8c6666087b = $(`&lt;div id=&quot;html_fb7f8c0b6ebc54093f3d6e8c6666087b&quot; style=&quot;width: 100.0%; height: 100.0%;&quot;&gt;[0, 2, 4, 6, 8, 10, 12]&lt;/div&gt;`)[0];\n",
       "                popup_ed4e8f3b2d63accfd06aedb42de9529c.setContent(html_fb7f8c0b6ebc54093f3d6e8c6666087b);\n",
       "            \n",
       "        \n",
       "\n",
       "        marker_338cf8f123b74a82951fc7d720111135.bindPopup(popup_ed4e8f3b2d63accfd06aedb42de9529c)\n",
       "        ;\n",
       "\n",
       "        \n",
       "    \n",
       "    \n",
       "            var marker_ee65fa16bae6bbc9709fbf43ff2d70b1 = L.marker(\n",
       "                [1.311317995048515, 103.94421384672464],\n",
       "                {}\n",
       "            ).addTo(map_bf701c82f34ee3e27c7f8a8a6e1cfc82);\n",
       "        \n",
       "    \n",
       "        var popup_d9d43b441b0e49df6d3ca258e0b01095 = L.popup({&quot;maxWidth&quot;: &quot;100%&quot;});\n",
       "\n",
       "        \n",
       "            \n",
       "                var html_2181d440057fd3c160fefe1c08af9c5e = $(`&lt;div id=&quot;html_2181d440057fd3c160fefe1c08af9c5e&quot; style=&quot;width: 100.0%; height: 100.0%;&quot;&gt;[1, 3, 5, 7, 9, 11, 14]&lt;/div&gt;`)[0];\n",
       "                popup_d9d43b441b0e49df6d3ca258e0b01095.setContent(html_2181d440057fd3c160fefe1c08af9c5e);\n",
       "            \n",
       "        \n",
       "\n",
       "        marker_ee65fa16bae6bbc9709fbf43ff2d70b1.bindPopup(popup_d9d43b441b0e49df6d3ca258e0b01095)\n",
       "        ;\n",
       "\n",
       "        \n",
       "    \n",
       "    \n",
       "            var marker_14b2f5970eeeb904499375f014ded2e5 = L.marker(\n",
       "                [1.3896821005199234, 103.85168456499228],\n",
       "                {}\n",
       "            ).addTo(map_bf701c82f34ee3e27c7f8a8a6e1cfc82);\n",
       "        \n",
       "    \n",
       "        var popup_379a703a55def11c4ae0b633af9c3a09 = L.popup({&quot;maxWidth&quot;: &quot;100%&quot;});\n",
       "\n",
       "        \n",
       "            \n",
       "                var html_1f87a2ed2e216a9a36b468438c15ed9a = $(`&lt;div id=&quot;html_1f87a2ed2e216a9a36b468438c15ed9a&quot; style=&quot;width: 100.0%; height: 100.0%;&quot;&gt;[13]&lt;/div&gt;`)[0];\n",
       "                popup_379a703a55def11c4ae0b633af9c3a09.setContent(html_1f87a2ed2e216a9a36b468438c15ed9a);\n",
       "            \n",
       "        \n",
       "\n",
       "        marker_14b2f5970eeeb904499375f014ded2e5.bindPopup(popup_379a703a55def11c4ae0b633af9c3a09)\n",
       "        ;\n",
       "\n",
       "        \n",
       "    \n",
       "&lt;/script&gt;\n",
       "&lt;/html&gt;\" style=\"position:absolute;width:100%;height:100%;left:0;top:0;border:none !important;\" allowfullscreen webkitallowfullscreen mozallowfullscreen></iframe></div></div>"
      ],
      "text/plain": [
       "<folium.folium.Map at 0x7f48e1f93790>"
      ]
     },
     "execution_count": 329,
     "metadata": {},
     "output_type": "execute_result"
    }
   ],
   "source": [
    "mean_lat_lon = [\n",
    "    actor_usp_df.latitude.mean(), actor_usp_df.longitude.mean()\n",
    "]\n",
    "unique_stops_plot = folium.Map(location=mean_lat_lon, zoom_start=10, control_scale=True)\n",
    "\n",
    "for _, location_info in actor_usp_df.iterrows():\n",
    "    lat_lon = location_info[\"latitude\"], location_info[\"longitude\"]\n",
    "    folium.Marker(lat_lon, popup=location_info[\"stop_points\"]).add_to(unique_stops_plot)\n",
    "\n",
    "unique_stops_plot"
   ]
  },
  {
   "attachments": {},
   "cell_type": "markdown",
   "id": "d337c268",
   "metadata": {},
   "source": [
    "-------------------------------------------------------------\n",
    "\n",
    "### 2.C. Stop Locations level-3 (Set Unique Stop Points) "
   ]
  },
  {
   "cell_type": "code",
   "execution_count": 330,
   "id": "0d5bff38",
   "metadata": {
    "ExecuteTime": {
     "end_time": "2023-03-31T13:10:28.616902Z",
     "start_time": "2023-03-31T13:10:28.614177Z"
    }
   },
   "outputs": [],
   "source": [
    "_in_path = prep_dir\n",
    "_in_file_base = prep_sl_l2_usp_base\n",
    "\n",
    "_out_path = prep_dir\n",
    "_out_file_base = prep_sl_l3_susp_base"
   ]
  },
  {
   "cell_type": "code",
   "execution_count": null,
   "id": "3f25dbe2",
   "metadata": {},
   "outputs": [],
   "source": [
    "def process_level3(uid):\n",
    "    unique_stops = usp_processed[uid]\n",
    "    temp_list = list(\n",
    "        trakit.stop_unique.uid_tag_id_values(uid, unique_stops)\n",
    "    )\n",
    "\n",
    "    return (uid, temp_list)\n"
   ]
  },
  {
   "cell_type": "code",
   "execution_count": 331,
   "id": "26a42479",
   "metadata": {
    "ExecuteTime": {
     "end_time": "2023-03-31T13:10:32.335706Z",
     "start_time": "2023-03-31T13:10:28.619791Z"
    }
   },
   "outputs": [],
   "source": [
    "# Extend id values to {uid}_{stop_id}\n",
    "'''\n",
    "unique_stops_id_extended = dict()\n",
    "for uid, unique_stops in usp_processed.items():\n",
    "    unique_stops_id_extended[uid] = list(\n",
    "        trakit.stop_unique.uid_tag_id_values(uid, unique_stops)\n",
    "    )\n",
    "'''\n",
    "\n",
    "# run this in parallel\n",
    "with Pool(10) as p:\n",
    "    return_data = list(tqdm(p.imap(process_level3, usp_processed.keys()),\n",
    "                            total=len(usp_processed.keys())))\n",
    "# re-assemble the data into the dictionary\n",
    "unique_stops_id_extended = dict()\n",
    "for x in return_data:\n",
    "    uid, templist = x\n",
    "    unique_stops_id_extended[uid] = templist\n",
    "\n",
    "# And extract set unique stops from extended id unique stops\n",
    "set_unique_stops = trakit.stop_unique.unique_stops(\n",
    "    itertools.chain(*unique_stops_id_extended.values())\n",
    ")"
   ]
  },
  {
   "cell_type": "code",
   "execution_count": 1,
   "id": "6fe55713",
   "metadata": {
    "ExecuteTime": {
     "end_time": "2023-03-31T13:10:32.352063Z",
     "start_time": "2023-03-31T13:10:32.338032Z"
    }
   },
   "outputs": [
    {
     "ename": "NameError",
     "evalue": "name 'pandas' is not defined",
     "output_type": "error",
     "traceback": [
      "\u001b[0;31m---------------------------------------------------------------------------\u001b[0m",
      "\u001b[0;31mNameError\u001b[0m                                 Traceback (most recent call last)",
      "Cell \u001b[0;32mIn[1], line 1\u001b[0m\n\u001b[0;32m----> 1\u001b[0m set_unique_frame \u001b[39m=\u001b[39m pandas\u001b[39m.\u001b[39mDataFrame\u001b[39m.\u001b[39mfrom_records(\n\u001b[1;32m      2\u001b[0m     item\u001b[39m.\u001b[39mto_dict() \u001b[39mfor\u001b[39;00m item \u001b[39min\u001b[39;00m set_unique_stops\n\u001b[1;32m      3\u001b[0m )\n\u001b[1;32m      4\u001b[0m set_unique_frame\u001b[39m.\u001b[39mto_csv(os\u001b[39m.\u001b[39mpath\u001b[39m.\u001b[39mjoin(_out_path, \u001b[39mf\u001b[39m\u001b[39m\"\u001b[39m\u001b[39m{\u001b[39;00m_out_file_base\u001b[39m}\u001b[39;00m\u001b[39m.csv\u001b[39m\u001b[39m\"\u001b[39m), index\u001b[39m=\u001b[39m\u001b[39mFalse\u001b[39;00m)\n",
      "\u001b[0;31mNameError\u001b[0m: name 'pandas' is not defined"
     ]
    }
   ],
   "source": [
    "set_unique_frame = pandas.DataFrame.from_records(\n",
    "    item.to_dict() for item in set_unique_stops\n",
    ")\n",
    "set_unique_frame.to_csv(os.path.join(_out_path, f\"{_out_file_base}.csv\"), index=False)"
   ]
  },
  {
   "attachments": {},
   "cell_type": "markdown",
   "id": "67ee71f6",
   "metadata": {},
   "source": [
    "### Illustrating/visualizing Set Unique Stop Points computed for all actors"
   ]
  },
  {
   "cell_type": "code",
   "execution_count": 280,
   "id": "e3008ffa",
   "metadata": {
    "ExecuteTime": {
     "end_time": "2023-03-31T13:10:32.604856Z",
     "start_time": "2023-03-31T13:10:32.354237Z"
    }
   },
   "outputs": [
    {
     "data": {
      "text/html": [
       "<div style=\"width:100%;\"><div style=\"position:relative;width:100%;height:0;padding-bottom:60%;\"><span style=\"color:#565656\">Make this Notebook Trusted to load map: File -> Trust Notebook</span><iframe srcdoc=\"&lt;!DOCTYPE html&gt;\n",
       "&lt;html&gt;\n",
       "&lt;head&gt;\n",
       "    \n",
       "    &lt;meta http-equiv=&quot;content-type&quot; content=&quot;text/html; charset=UTF-8&quot; /&gt;\n",
       "    \n",
       "        &lt;script&gt;\n",
       "            L_NO_TOUCH = false;\n",
       "            L_DISABLE_3D = false;\n",
       "        &lt;/script&gt;\n",
       "    \n",
       "    &lt;style&gt;html, body {width: 100%;height: 100%;margin: 0;padding: 0;}&lt;/style&gt;\n",
       "    &lt;style&gt;#map {position:absolute;top:0;bottom:0;right:0;left:0;}&lt;/style&gt;\n",
       "    &lt;script src=&quot;https://cdn.jsdelivr.net/npm/leaflet@1.9.3/dist/leaflet.js&quot;&gt;&lt;/script&gt;\n",
       "    &lt;script src=&quot;https://code.jquery.com/jquery-1.12.4.min.js&quot;&gt;&lt;/script&gt;\n",
       "    &lt;script src=&quot;https://cdn.jsdelivr.net/npm/bootstrap@5.2.2/dist/js/bootstrap.bundle.min.js&quot;&gt;&lt;/script&gt;\n",
       "    &lt;script src=&quot;https://cdnjs.cloudflare.com/ajax/libs/Leaflet.awesome-markers/2.0.2/leaflet.awesome-markers.js&quot;&gt;&lt;/script&gt;\n",
       "    &lt;link rel=&quot;stylesheet&quot; href=&quot;https://cdn.jsdelivr.net/npm/leaflet@1.9.3/dist/leaflet.css&quot;/&gt;\n",
       "    &lt;link rel=&quot;stylesheet&quot; href=&quot;https://cdn.jsdelivr.net/npm/bootstrap@5.2.2/dist/css/bootstrap.min.css&quot;/&gt;\n",
       "    &lt;link rel=&quot;stylesheet&quot; href=&quot;https://netdna.bootstrapcdn.com/bootstrap/3.0.0/css/bootstrap.min.css&quot;/&gt;\n",
       "    &lt;link rel=&quot;stylesheet&quot; href=&quot;https://cdn.jsdelivr.net/npm/@fortawesome/fontawesome-free@6.2.0/css/all.min.css&quot;/&gt;\n",
       "    &lt;link rel=&quot;stylesheet&quot; href=&quot;https://cdnjs.cloudflare.com/ajax/libs/Leaflet.awesome-markers/2.0.2/leaflet.awesome-markers.css&quot;/&gt;\n",
       "    &lt;link rel=&quot;stylesheet&quot; href=&quot;https://cdn.jsdelivr.net/gh/python-visualization/folium/folium/templates/leaflet.awesome.rotate.min.css&quot;/&gt;\n",
       "    \n",
       "            &lt;meta name=&quot;viewport&quot; content=&quot;width=device-width,\n",
       "                initial-scale=1.0, maximum-scale=1.0, user-scalable=no&quot; /&gt;\n",
       "            &lt;style&gt;\n",
       "                #map_6798ebb83bffe13ac0fe9b46ffc219b6 {\n",
       "                    position: relative;\n",
       "                    width: 100.0%;\n",
       "                    height: 100.0%;\n",
       "                    left: 0.0%;\n",
       "                    top: 0.0%;\n",
       "                }\n",
       "                .leaflet-container { font-size: 1rem; }\n",
       "            &lt;/style&gt;\n",
       "        \n",
       "&lt;/head&gt;\n",
       "&lt;body&gt;\n",
       "    \n",
       "    \n",
       "            &lt;div class=&quot;folium-map&quot; id=&quot;map_6798ebb83bffe13ac0fe9b46ffc219b6&quot; &gt;&lt;/div&gt;\n",
       "        \n",
       "&lt;/body&gt;\n",
       "&lt;script&gt;\n",
       "    \n",
       "    \n",
       "            var map_6798ebb83bffe13ac0fe9b46ffc219b6 = L.map(\n",
       "                &quot;map_6798ebb83bffe13ac0fe9b46ffc219b6&quot;,\n",
       "                {\n",
       "                    center: [1.3215752055703058, 103.810610730972],\n",
       "                    crs: L.CRS.EPSG3857,\n",
       "                    zoom: 10,\n",
       "                    zoomControl: true,\n",
       "                    preferCanvas: false,\n",
       "                }\n",
       "            );\n",
       "            L.control.scale().addTo(map_6798ebb83bffe13ac0fe9b46ffc219b6);\n",
       "\n",
       "            \n",
       "\n",
       "        \n",
       "    \n",
       "            var tile_layer_3bdd24fd3c3b5fdbdccbc6cf89be3b61 = L.tileLayer(\n",
       "                &quot;https://{s}.tile.openstreetmap.org/{z}/{x}/{y}.png&quot;,\n",
       "                {&quot;attribution&quot;: &quot;Data by \\u0026copy; \\u003ca target=\\&quot;_blank\\&quot; href=\\&quot;http://openstreetmap.org\\&quot;\\u003eOpenStreetMap\\u003c/a\\u003e, under \\u003ca target=\\&quot;_blank\\&quot; href=\\&quot;http://www.openstreetmap.org/copyright\\&quot;\\u003eODbL\\u003c/a\\u003e.&quot;, &quot;detectRetina&quot;: false, &quot;maxNativeZoom&quot;: 18, &quot;maxZoom&quot;: 18, &quot;minZoom&quot;: 0, &quot;noWrap&quot;: false, &quot;opacity&quot;: 1, &quot;subdomains&quot;: &quot;abc&quot;, &quot;tms&quot;: false}\n",
       "            ).addTo(map_6798ebb83bffe13ac0fe9b46ffc219b6);\n",
       "        \n",
       "    \n",
       "            var marker_ed5e07978c3202bf3b0d5aedddb13556 = L.marker(\n",
       "                [1.3099798203125468, 103.93101951785043],\n",
       "                {}\n",
       "            ).addTo(map_6798ebb83bffe13ac0fe9b46ffc219b6);\n",
       "        \n",
       "    \n",
       "        var popup_1d6cf2b230b39debd46fa9229c0432e4 = L.popup({&quot;maxWidth&quot;: &quot;100%&quot;});\n",
       "\n",
       "        \n",
       "            \n",
       "                var html_5734e10c838e04c2a9ba0faf1ba653cb = $(`&lt;div id=&quot;html_5734e10c838e04c2a9ba0faf1ba653cb&quot; style=&quot;width: 100.0%; height: 100.0%;&quot;&gt;[&#x27;agent=11_0&#x27;]&lt;/div&gt;`)[0];\n",
       "                popup_1d6cf2b230b39debd46fa9229c0432e4.setContent(html_5734e10c838e04c2a9ba0faf1ba653cb);\n",
       "            \n",
       "        \n",
       "\n",
       "        marker_ed5e07978c3202bf3b0d5aedddb13556.bindPopup(popup_1d6cf2b230b39debd46fa9229c0432e4)\n",
       "        ;\n",
       "\n",
       "        \n",
       "    \n",
       "    \n",
       "            var marker_bbcd37fb06c3b46afa8d40a591984f83 = L.marker(\n",
       "                [1.2965162595399569, 103.86771963794527],\n",
       "                {}\n",
       "            ).addTo(map_6798ebb83bffe13ac0fe9b46ffc219b6);\n",
       "        \n",
       "    \n",
       "        var popup_859acec9677709896dc5407c75b0802d = L.popup({&quot;maxWidth&quot;: &quot;100%&quot;});\n",
       "\n",
       "        \n",
       "            \n",
       "                var html_56467333ce096071fef5abd0c0ca10a0 = $(`&lt;div id=&quot;html_56467333ce096071fef5abd0c0ca10a0&quot; style=&quot;width: 100.0%; height: 100.0%;&quot;&gt;[&#x27;agent=11_1&#x27;]&lt;/div&gt;`)[0];\n",
       "                popup_859acec9677709896dc5407c75b0802d.setContent(html_56467333ce096071fef5abd0c0ca10a0);\n",
       "            \n",
       "        \n",
       "\n",
       "        marker_bbcd37fb06c3b46afa8d40a591984f83.bindPopup(popup_859acec9677709896dc5407c75b0802d)\n",
       "        ;\n",
       "\n",
       "        \n",
       "    \n",
       "    \n",
       "            var marker_1208c608e8832905ceb37992aa73682c = L.marker(\n",
       "                [1.388837264405529, 103.989854044995],\n",
       "                {}\n",
       "            ).addTo(map_6798ebb83bffe13ac0fe9b46ffc219b6);\n",
       "        \n",
       "    \n",
       "        var popup_0db08360112317d0e749f720adc91636 = L.popup({&quot;maxWidth&quot;: &quot;100%&quot;});\n",
       "\n",
       "        \n",
       "            \n",
       "                var html_fc363c8c45eec05bfc5e6d24f54eb0f9 = $(`&lt;div id=&quot;html_fc363c8c45eec05bfc5e6d24f54eb0f9&quot; style=&quot;width: 100.0%; height: 100.0%;&quot;&gt;[&#x27;agent=10_0&#x27;]&lt;/div&gt;`)[0];\n",
       "                popup_0db08360112317d0e749f720adc91636.setContent(html_fc363c8c45eec05bfc5e6d24f54eb0f9);\n",
       "            \n",
       "        \n",
       "\n",
       "        marker_1208c608e8832905ceb37992aa73682c.bindPopup(popup_0db08360112317d0e749f720adc91636)\n",
       "        ;\n",
       "\n",
       "        \n",
       "    \n",
       "    \n",
       "            var marker_fd495f62bd8dc7f0792800a109011dba = L.marker(\n",
       "                [1.2661929852129403, 103.614604284031],\n",
       "                {}\n",
       "            ).addTo(map_6798ebb83bffe13ac0fe9b46ffc219b6);\n",
       "        \n",
       "    \n",
       "        var popup_b782a2535cf0f66938b06f27da1e1389 = L.popup({&quot;maxWidth&quot;: &quot;100%&quot;});\n",
       "\n",
       "        \n",
       "            \n",
       "                var html_2cf7d64a666afcad4b9af63cacdf842b = $(`&lt;div id=&quot;html_2cf7d64a666afcad4b9af63cacdf842b&quot; style=&quot;width: 100.0%; height: 100.0%;&quot;&gt;[&#x27;agent=10_1&#x27;]&lt;/div&gt;`)[0];\n",
       "                popup_b782a2535cf0f66938b06f27da1e1389.setContent(html_2cf7d64a666afcad4b9af63cacdf842b);\n",
       "            \n",
       "        \n",
       "\n",
       "        marker_fd495f62bd8dc7f0792800a109011dba.bindPopup(popup_b782a2535cf0f66938b06f27da1e1389)\n",
       "        ;\n",
       "\n",
       "        \n",
       "    \n",
       "    \n",
       "            var marker_c81212cc056713f10a57514bfb2b73e1 = L.marker(\n",
       "                [1.3463496983805563, 103.64985617003838],\n",
       "                {}\n",
       "            ).addTo(map_6798ebb83bffe13ac0fe9b46ffc219b6);\n",
       "        \n",
       "    \n",
       "        var popup_72a7c6f97f05e98062d916d1dd44db21 = L.popup({&quot;maxWidth&quot;: &quot;100%&quot;});\n",
       "\n",
       "        \n",
       "            \n",
       "                var html_f5238c67744d6afba580e779510ae105 = $(`&lt;div id=&quot;html_f5238c67744d6afba580e779510ae105&quot; style=&quot;width: 100.0%; height: 100.0%;&quot;&gt;[&#x27;agent=10_2&#x27;]&lt;/div&gt;`)[0];\n",
       "                popup_72a7c6f97f05e98062d916d1dd44db21.setContent(html_f5238c67744d6afba580e779510ae105);\n",
       "            \n",
       "        \n",
       "\n",
       "        marker_c81212cc056713f10a57514bfb2b73e1.bindPopup(popup_72a7c6f97f05e98062d916d1dd44db21)\n",
       "        ;\n",
       "\n",
       "        \n",
       "    \n",
       "&lt;/script&gt;\n",
       "&lt;/html&gt;\" style=\"position:absolute;width:100%;height:100%;left:0;top:0;border:none !important;\" allowfullscreen webkitallowfullscreen mozallowfullscreen></iframe></div></div>"
      ],
      "text/plain": [
       "<folium.folium.Map at 0x7f48cfbc9ed0>"
      ]
     },
     "execution_count": 280,
     "metadata": {},
     "output_type": "execute_result"
    }
   ],
   "source": [
    "mean_lat_lon = [\n",
    "    set_unique_frame.latitude.mean(), set_unique_frame.longitude.mean()\n",
    "]\n",
    "set_unique_stops_plot = folium.Map(\n",
    "    location=mean_lat_lon, zoom_start=10, control_scale=True\n",
    ")\n",
    "\n",
    "for _, location_info in set_unique_frame.iterrows():\n",
    "    lat_lon = location_info[\"latitude\"], location_info[\"longitude\"]\n",
    "    folium.Marker(\n",
    "        lat_lon, popup=location_info[\"stop_points\"]\n",
    "    ).add_to(set_unique_stops_plot)\n",
    "\n",
    "set_unique_stops_plot"
   ]
  },
  {
   "attachments": {},
   "cell_type": "markdown",
   "id": "8d55770e",
   "metadata": {},
   "source": [
    "-------------------------------------------------------------\n",
    "\n",
    "\n",
    "### 2.D. Timed Trips Linking Locations (TTLL) \n",
    "\n",
    "Function call:\n",
    "* `trakit.timed_trips_linking_locations.timed_trips_linking_locations()`"
   ]
  },
  {
   "cell_type": "code",
   "execution_count": 281,
   "id": "38e1065f",
   "metadata": {
    "ExecuteTime": {
     "end_time": "2023-03-31T13:10:32.616711Z",
     "start_time": "2023-03-31T13:10:32.610108Z"
    }
   },
   "outputs": [
    {
     "name": "stdout",
     "output_type": "stream",
     "text": [
      "Help on function timed_trips_linking_locations in module trakit.timed_trips_linking_locations:\n",
      "\n",
      "timed_trips_linking_locations(df: pandas.core.frame.DataFrame, udf: pandas.core.frame.DataFrame, threshold: float = 5.0, proc_kws: dict = {}, ttll_kws: dict = {}) -> pandas.core.frame.DataFrame\n",
      "    Generate Timed Trips Linking Locations from raw and unique stop locations.\n",
      "    \n",
      "    Parameters\n",
      "    ----------\n",
      "    \n",
      "    df : pandas.DataFrame\n",
      "        All stop locations.\n",
      "    udf : pandas.DataFrame\n",
      "        Unique stop locations.\n",
      "    threshold : int (default 5.)\n",
      "        Minimum minutes for an identical from-to pair to be\n",
      "        considered round trip vs. squashed record.\n",
      "          * round trip – valid identical from-to pair – take dog for long walk\n",
      "          * squashed record – walk to end of drive to check mail\n",
      "    proc_kws : dict (default is dict())\n",
      "        Keyword arguements for ``process_stops()``.\n",
      "    ttll_kws : dict (default is dict())\n",
      "        Keyword arguements for ``generate_ttll()``.\n",
      "    \n",
      "    Returns\n",
      "    -------\n",
      "    \n",
      "    ttll : pandas.DataFrame\n",
      "        Timed Trips Linking Locations in a COO-style sparse format with:\n",
      "          * ``'from'`` - From unique ID\n",
      "          * ``'to'`` - To unique ID\n",
      "          * ``trip_info_col`` - Aggregated trip information in the following\n",
      "              format: ``[<count>, [[t0_0, t1_0], [t0_1, t1_1], ...]]]``\n",
      "\n",
      "None\n"
     ]
    }
   ],
   "source": [
    "from trakit.timed_trips_linking_locations import timed_trips_linking_locations\n",
    "\n",
    "print(help(timed_trips_linking_locations))"
   ]
  },
  {
   "attachments": {},
   "cell_type": "markdown",
   "id": "26f9abb7",
   "metadata": {},
   "source": [
    "##### Parameters\n",
    "* `threshold`\n",
    "  * minutes (default 5) by which round trips (from node == to node) are merged into a single location if the trip duration is less than `threshold`."
   ]
  },
  {
   "cell_type": "code",
   "execution_count": 33,
   "id": "2d015a48",
   "metadata": {
    "ExecuteTime": {
     "end_time": "2023-03-31T13:10:32.624236Z",
     "start_time": "2023-03-31T13:10:32.620786Z"
    }
   },
   "outputs": [],
   "source": [
    "threshold = 5"
   ]
  },
  {
   "attachments": {},
   "cell_type": "markdown",
   "id": "105617b8",
   "metadata": {},
   "source": [
    "##### Generate from processed Stop Point and Unique Stop Point data"
   ]
  },
  {
   "cell_type": "code",
   "execution_count": 34,
   "id": "6e576bbb",
   "metadata": {
    "ExecuteTime": {
     "end_time": "2023-03-31T13:10:32.632705Z",
     "start_time": "2023-03-31T13:10:32.627157Z"
    }
   },
   "outputs": [],
   "source": [
    "ttll_dfs = {}"
   ]
  },
  {
   "cell_type": "code",
   "execution_count": null,
   "id": "751cec84",
   "metadata": {
    "ExecuteTime": {
     "end_time": "2023-03-31T13:10:32.640196Z",
     "start_time": "2023-03-31T13:10:32.636106Z"
    }
   },
   "outputs": [],
   "source": [
    "_out_path = prep_dir\n",
    "_out_file_base = prep_ttll_base.format(threshold)"
   ]
  },
  {
   "cell_type": "code",
   "execution_count": 35,
   "id": "62c1ede1",
   "metadata": {
    "ExecuteTime": {
     "end_time": "2023-03-31T13:10:33.030803Z",
     "start_time": "2023-03-31T13:10:32.643665Z"
    }
   },
   "outputs": [
    {
     "name": "stdout",
     "output_type": "stream",
     "text": [
      "2 users/actors runs in 0.073 seconds.\n"
     ]
    },
    {
     "data": {
      "text/html": [
       "<div>\n",
       "<style scoped>\n",
       "    .dataframe tbody tr th:only-of-type {\n",
       "        vertical-align: middle;\n",
       "    }\n",
       "\n",
       "    .dataframe tbody tr th {\n",
       "        vertical-align: top;\n",
       "    }\n",
       "\n",
       "    .dataframe thead th {\n",
       "        text-align: right;\n",
       "    }\n",
       "</style>\n",
       "<table border=\"1\" class=\"dataframe\">\n",
       "  <thead>\n",
       "    <tr style=\"text-align: right;\">\n",
       "      <th></th>\n",
       "      <th>mean</th>\n",
       "      <th>std</th>\n",
       "      <th>min</th>\n",
       "      <th>max</th>\n",
       "    </tr>\n",
       "  </thead>\n",
       "  <tbody>\n",
       "    <tr>\n",
       "      <th>0</th>\n",
       "      <td>0.0365</td>\n",
       "      <td>0.003536</td>\n",
       "      <td>0.034</td>\n",
       "      <td>0.039</td>\n",
       "    </tr>\n",
       "  </tbody>\n",
       "</table>\n",
       "</div>"
      ],
      "text/plain": [
       "     mean       std    min    max\n",
       "0  0.0365  0.003536  0.034  0.039"
      ]
     },
     "execution_count": 35,
     "metadata": {},
     "output_type": "execute_result"
    }
   ],
   "source": [
    "time_per = []\n",
    "for ix, uid in enumerate(sp_dfs_processed.keys()):\n",
    "    \n",
    "    time_start = time.time()\n",
    "    \n",
    "    # Isolate the Stop Points and Unique Stop Points dataframes\n",
    "    sp_df = sp_dfs_processed[uid].copy()\n",
    "    usp_df = usp_dfs_processed[uid].copy()\n",
    "    \n",
    "    # Calculate the TTLL\n",
    "    ttll_df = timed_trips_linking_locations(sp_df, usp_df, threshold=threshold)\n",
    "    ttll_df.reset_index(inplace=True)\n",
    "    \n",
    "    # Write TTLL for file\n",
    "    outpath = os.path.join(_out_path, f\"{_out_file_base}_{uid}.csv\")\n",
    "    ttll_df.to_csv(outpath, index=False)\n",
    "    \n",
    "    # Record timing for performance evaluation\n",
    "    time_end = time.time() - time_start\n",
    "    time_per.append(round(time_end, 3))\n",
    "    \n",
    "    ttll_dfs[uid] = ttll_df\n",
    "\n",
    "time_per = pandas.DataFrame(time_per)\n",
    "n_users = time_per.shape[0]\n",
    "total_time = round(time_per[0].sum(), 3)\n",
    "print(f\"{n_users} users/actors runs in {total_time} seconds.\")\n",
    "time_per.describe().T[[\"mean\", \"std\", \"min\", \"max\"]]"
   ]
  },
  {
   "attachments": {},
   "cell_type": "markdown",
   "id": "d09c0723",
   "metadata": {},
   "source": [
    "#### Demonstrating the TTLL data structure's [COO-style sparse format](https://scipy-lectures.org/advanced/scipy_sparse/coo_matrix.html) for 1 actor\n",
    "\n",
    "* ``'from'`` - From unique ID\n",
    "* ``'to'`` - To unique ID\n",
    "* ``'trip_info'`` - Aggregated trip information in the following\n",
    "  list format:\n",
    "  *   ``[<count>, [[t0_0, t1_0], [t0_1, t1_1], ...]]]``\n",
    "  * Where:\n",
    "    * The first element (``<count>``) is the number of trips between ``'from'``and ``'to'``.\n",
    "    * The second element ``[[t0_0, t1_0], [t0_1, t1_1], ...]]`` is a nested list of lists representing the start  (``t0_X``) and stop (``t1_X``) time for each trip comprising ``<count>``. For example, the first trip (``[t0_0, t1_0]``) is indexed as ``_0``, and starts at ``t0`` and stops at ``t1``."
   ]
  },
  {
   "cell_type": "code",
   "execution_count": 37,
   "id": "a85142e2",
   "metadata": {
    "ExecuteTime": {
     "end_time": "2023-03-31T13:10:33.053722Z",
     "start_time": "2023-03-31T13:10:33.034167Z"
    }
   },
   "outputs": [
    {
     "name": "stdout",
     "output_type": "stream",
     "text": [
      "part-00000-5551339c-daa2-46af-ad3d-05486818b52d\n"
     ]
    },
    {
     "data": {
      "text/html": [
       "<div>\n",
       "<style scoped>\n",
       "    .dataframe tbody tr th:only-of-type {\n",
       "        vertical-align: middle;\n",
       "    }\n",
       "\n",
       "    .dataframe tbody tr th {\n",
       "        vertical-align: top;\n",
       "    }\n",
       "\n",
       "    .dataframe thead th {\n",
       "        text-align: right;\n",
       "    }\n",
       "</style>\n",
       "<table border=\"1\" class=\"dataframe\">\n",
       "  <thead>\n",
       "    <tr style=\"text-align: right;\">\n",
       "      <th></th>\n",
       "      <th>from</th>\n",
       "      <th>to</th>\n",
       "      <th>trip_info</th>\n",
       "    </tr>\n",
       "  </thead>\n",
       "  <tbody>\n",
       "    <tr>\n",
       "      <th>0</th>\n",
       "      <td>0</td>\n",
       "      <td>1</td>\n",
       "      <td>[7, [(1677634621.0, 1677635391.0), (1677731778.0, 1677732513.0), (1677808105.0, 1677808806.0), (1677893679.0, 1677894402.0), (1677987099.0, 1677987803.0), (1678086105.0, 1678086817.0), (1678152886.0, 1678153706.0)]]</td>\n",
       "    </tr>\n",
       "    <tr>\n",
       "      <th>1</th>\n",
       "      <td>1</td>\n",
       "      <td>0</td>\n",
       "      <td>[6, [(1677678613.0, 1677679061.0), (1677775734.0, 1677776264.0), (1677852025.0, 1677852603.0), (1677937622.0, 1677938102.0), (1678031022.0, 1678031594.0), (1678130037.0, 1678130597.0)]]</td>\n",
       "    </tr>\n",
       "  </tbody>\n",
       "</table>\n",
       "</div>"
      ],
      "text/plain": [
       "   from  to  \\\n",
       "0     0   1   \n",
       "1     1   0   \n",
       "\n",
       "                                                                                                                                                                                                                 trip_info  \n",
       "0  [7, [(1677634621.0, 1677635391.0), (1677731778.0, 1677732513.0), (1677808105.0, 1677808806.0), (1677893679.0, 1677894402.0), (1677987099.0, 1677987803.0), (1678086105.0, 1678086817.0), (1678152886.0, 1678153706.0)]]  \n",
       "1                                [6, [(1677678613.0, 1677679061.0), (1677775734.0, 1677776264.0), (1677852025.0, 1677852603.0), (1677937622.0, 1677938102.0), (1678031022.0, 1678031594.0), (1678130037.0, 1678130597.0)]]  "
      ]
     },
     "execution_count": 37,
     "metadata": {},
     "output_type": "execute_result"
    }
   ],
   "source": [
    "#actor = \"0a1039e3-373d-44bd-9dfb-2138b621334c\"\n",
    "actor = list(sp_dfs_processed.keys())[0]\n",
    "print(actor)\n",
    "ttll_dfs[actor]"
   ]
  },
  {
   "attachments": {},
   "cell_type": "markdown",
   "id": "b8c1ac00",
   "metadata": {},
   "source": [
    "-------------------------------------------------------------\n",
    "\n",
    "### 2.E. ~~Stop Locations level-3b (Set Unique Stop Points v.b)~~"
   ]
  },
  {
   "cell_type": "code",
   "execution_count": 38,
   "id": "dd5cb4e9",
   "metadata": {
    "ExecuteTime": {
     "end_time": "2023-03-31T13:10:33.058573Z",
     "start_time": "2023-03-31T13:10:33.055710Z"
    }
   },
   "outputs": [],
   "source": [
    "# Not provided this iteration."
   ]
  },
  {
   "attachments": {},
   "cell_type": "markdown",
   "id": "c9871951",
   "metadata": {},
   "source": [
    "-------------------------------------------------------------\n",
    "\n",
    "### 2.F. Set Timed Trips Linking Locations (STTLL)\n",
    "\n",
    "Function call:\n",
    "* `trakit.timed_trips_linking_locations.set_timed_trips_linking_locations()`"
   ]
  },
  {
   "cell_type": "code",
   "execution_count": 39,
   "id": "66a23487",
   "metadata": {
    "ExecuteTime": {
     "end_time": "2023-03-31T13:10:33.064157Z",
     "start_time": "2023-03-31T13:10:33.060986Z"
    }
   },
   "outputs": [
    {
     "name": "stdout",
     "output_type": "stream",
     "text": [
      "Help on function set_timed_trips_linking_locations in module trakit.timed_trips_linking_locations:\n",
      "\n",
      "set_timed_trips_linking_locations(susp_df: str | pandas.core.frame.DataFrame, ttll_data: list | pandas.core.frame.DataFrame, spnts: str = 'stop_points', generic_id: str = 'id', susp_id: str = 'susp', usp_id: str = 'usp', tinfo_col: str = 'trip_info', user_id: str = 'user_id', f: str = 'from', t: str = 'to') -> pandas.core.frame.DataFrame\n",
      "    Create a set-TTLL dataframe.\n",
      "    \n",
      "    Parameters\n",
      "    ----------\n",
      "    \n",
      "    susp_df : str | pandas.DataFrame\n",
      "        Set Unique Stop Points data.\n",
      "    ttll_data : list | pandas.DataFrame\n",
      "        All user's Timed Trips Linking Locations data.\n",
      "    spnts : str (default 'stop_points')\n",
      "        Stop point column in ``susp_df``. These are unique stop point in the\n",
      "        format <USERID>_<USPID>.\n",
      "    generic_id: str (default 'id')\n",
      "        Generic ID column name ``susp_df`` for Set Unique Stop Points.\n",
      "    susp_id: str (default 'susp')\n",
      "        Set Unique Stop Points ID.\n",
      "    usp_id: str (default 'usp')\n",
      "        (User) Unique Stop Points ID.\n",
      "    tinfo_col: str (default 'trip_info')\n",
      "        Trip information column name in ``ttll_data`` in the following\n",
      "        format: ``[<count>, [[t0_0, t1_0], [t0_1, t1_1], ...]]]``\n",
      "    user_id: str (default 'user_id')\n",
      "        Column name to be used in intermediary processing ``ttll_data``.\n",
      "    f : str (default is 'from')\n",
      "        From node column name in ``ttll_data`` dataframes.\n",
      "    t : str (default is 'to')\n",
      "        To node column name in ``ttll_data`` dataframes.\n",
      "    \n",
      "    Returns\n",
      "    -------\n",
      "    \n",
      "    sttll : pandas.DataFrame\n",
      "        Set Timed Trips Linking Locations.\n",
      "\n",
      "None\n"
     ]
    }
   ],
   "source": [
    "print(help(trakit.timed_trips_linking_locations.set_timed_trips_linking_locations))"
   ]
  },
  {
   "attachments": {},
   "cell_type": "markdown",
   "id": "9b59fc4b",
   "metadata": {
    "ExecuteTime": {
     "end_time": "2023-03-28T17:21:14.526209Z",
     "start_time": "2023-03-28T17:21:14.361500Z"
    }
   },
   "source": [
    "##### First, stack the TTLL actor-level data"
   ]
  },
  {
   "cell_type": "code",
   "execution_count": 40,
   "id": "729df2e8",
   "metadata": {
    "ExecuteTime": {
     "end_time": "2023-03-31T13:10:33.071022Z",
     "start_time": "2023-03-31T13:10:33.067033Z"
    }
   },
   "outputs": [
    {
     "name": "stdout",
     "output_type": "stream",
     "text": [
      "Help on function stack_ttll_frames in module trakit.timed_trips_linking_locations:\n",
      "\n",
      "stack_ttll_frames(ttll_data: dict, tinfo_col: str, user_id: str) -> pandas.core.frame.DataFrame\n",
      "    Concatenate all TTLL user dataframes into single\n",
      "    dataframe with a column denoting User ID.\n",
      "    \n",
      "    Parameters\n",
      "    ----------\n",
      "    \n",
      "    ttll_data : dict\n",
      "        User-level TTLL data keyed by user ID.\n",
      "    tinfo_col: str (default 'trip_info')\n",
      "        Trip information column name in ``ttll_data`` in the following\n",
      "        format: ``[<count>, [[t0_0, t1_0], [t0_1, t1_1], ...]]]``\n",
      "    user_id: str (default 'user_id')\n",
      "        Column name to be used in intermediary processing ``ttll_data``.\n",
      "    \n",
      "    Returns\n",
      "    -------\n",
      "    \n",
      "    ttll_data : pandas.DataFrame\n",
      "        stacked Timed Trips Linking Locations.\n",
      "\n",
      "None\n"
     ]
    }
   ],
   "source": [
    "print(help(trakit.timed_trips_linking_locations.stack_ttll_frames))"
   ]
  },
  {
   "cell_type": "code",
   "execution_count": 41,
   "id": "c14c2dc8",
   "metadata": {
    "ExecuteTime": {
     "end_time": "2023-03-31T13:10:33.102039Z",
     "start_time": "2023-03-31T13:10:33.073044Z"
    }
   },
   "outputs": [
    {
     "data": {
      "text/html": [
       "<div>\n",
       "<style scoped>\n",
       "    .dataframe tbody tr th:only-of-type {\n",
       "        vertical-align: middle;\n",
       "    }\n",
       "\n",
       "    .dataframe tbody tr th {\n",
       "        vertical-align: top;\n",
       "    }\n",
       "\n",
       "    .dataframe thead th {\n",
       "        text-align: right;\n",
       "    }\n",
       "</style>\n",
       "<table border=\"1\" class=\"dataframe\">\n",
       "  <thead>\n",
       "    <tr style=\"text-align: right;\">\n",
       "      <th></th>\n",
       "      <th>from</th>\n",
       "      <th>to</th>\n",
       "      <th>trip_info</th>\n",
       "      <th>user_id</th>\n",
       "    </tr>\n",
       "  </thead>\n",
       "  <tbody>\n",
       "    <tr>\n",
       "      <th>0</th>\n",
       "      <td>0</td>\n",
       "      <td>1</td>\n",
       "      <td>[7, [(1677634621.0, 1677635391.0), (1677731778.0, 1677732513.0), (1677808105.0, 1677808806.0), (1677893679.0, 1677894402.0), (1677987099.0, 1677987803.0), (1678086105.0, 1678086817.0), (1678152886.0, 1678153706.0)]]</td>\n",
       "      <td>part-00000-5551339c-daa2-46af-ad3d-05486818b52d</td>\n",
       "    </tr>\n",
       "    <tr>\n",
       "      <th>1</th>\n",
       "      <td>1</td>\n",
       "      <td>0</td>\n",
       "      <td>[6, [(1677678613.0, 1677679061.0), (1677775734.0, 1677776264.0), (1677852025.0, 1677852603.0), (1677937622.0, 1677938102.0), (1678031022.0, 1678031594.0), (1678130037.0, 1678130597.0)]]</td>\n",
       "      <td>part-00000-5551339c-daa2-46af-ad3d-05486818b52d</td>\n",
       "    </tr>\n",
       "    <tr>\n",
       "      <th>2</th>\n",
       "      <td>0</td>\n",
       "      <td>1</td>\n",
       "      <td>[6, [(1677634976.0, 1677637996.0), (1677802235.0, 1677806468.0), (1677894184.0, 1677897927.0), (1677979887.0, 1677982778.0), (1678066857.0, 1678069816.0), (1678153208.0, 1678156119.0)]]</td>\n",
       "      <td>part-00000-1377f0cb-4454-4ccf-9d1c-5205488cfb3d</td>\n",
       "    </tr>\n",
       "    <tr>\n",
       "      <th>3</th>\n",
       "      <td>0</td>\n",
       "      <td>2</td>\n",
       "      <td>[1, [(1677714176.0, 1677716562.0)]]</td>\n",
       "      <td>part-00000-1377f0cb-4454-4ccf-9d1c-5205488cfb3d</td>\n",
       "    </tr>\n",
       "    <tr>\n",
       "      <th>4</th>\n",
       "      <td>1</td>\n",
       "      <td>0</td>\n",
       "      <td>[6, [(1677681206.0, 1677684997.0), (1677762215.0, 1677765909.0), (1677849685.0, 1677853666.0), (1677941142.0, 1677944550.0), (1678025994.0, 1678029696.0), (1678113028.0, 1678116085.0)]]</td>\n",
       "      <td>part-00000-1377f0cb-4454-4ccf-9d1c-5205488cfb3d</td>\n",
       "    </tr>\n",
       "    <tr>\n",
       "      <th>5</th>\n",
       "      <td>2</td>\n",
       "      <td>1</td>\n",
       "      <td>[1, [(1677717550.0, 1677719003.0)]]</td>\n",
       "      <td>part-00000-1377f0cb-4454-4ccf-9d1c-5205488cfb3d</td>\n",
       "    </tr>\n",
       "  </tbody>\n",
       "</table>\n",
       "</div>"
      ],
      "text/plain": [
       "   from  to  \\\n",
       "0     0   1   \n",
       "1     1   0   \n",
       "2     0   1   \n",
       "3     0   2   \n",
       "4     1   0   \n",
       "5     2   1   \n",
       "\n",
       "                                                                                                                                                                                                                 trip_info  \\\n",
       "0  [7, [(1677634621.0, 1677635391.0), (1677731778.0, 1677732513.0), (1677808105.0, 1677808806.0), (1677893679.0, 1677894402.0), (1677987099.0, 1677987803.0), (1678086105.0, 1678086817.0), (1678152886.0, 1678153706.0)]]   \n",
       "1                                [6, [(1677678613.0, 1677679061.0), (1677775734.0, 1677776264.0), (1677852025.0, 1677852603.0), (1677937622.0, 1677938102.0), (1678031022.0, 1678031594.0), (1678130037.0, 1678130597.0)]]   \n",
       "2                                [6, [(1677634976.0, 1677637996.0), (1677802235.0, 1677806468.0), (1677894184.0, 1677897927.0), (1677979887.0, 1677982778.0), (1678066857.0, 1678069816.0), (1678153208.0, 1678156119.0)]]   \n",
       "3                                                                                                                                                                                      [1, [(1677714176.0, 1677716562.0)]]   \n",
       "4                                [6, [(1677681206.0, 1677684997.0), (1677762215.0, 1677765909.0), (1677849685.0, 1677853666.0), (1677941142.0, 1677944550.0), (1678025994.0, 1678029696.0), (1678113028.0, 1678116085.0)]]   \n",
       "5                                                                                                                                                                                      [1, [(1677717550.0, 1677719003.0)]]   \n",
       "\n",
       "                                           user_id  \n",
       "0  part-00000-5551339c-daa2-46af-ad3d-05486818b52d  \n",
       "1  part-00000-5551339c-daa2-46af-ad3d-05486818b52d  \n",
       "2  part-00000-1377f0cb-4454-4ccf-9d1c-5205488cfb3d  \n",
       "3  part-00000-1377f0cb-4454-4ccf-9d1c-5205488cfb3d  \n",
       "4  part-00000-1377f0cb-4454-4ccf-9d1c-5205488cfb3d  \n",
       "5  part-00000-1377f0cb-4454-4ccf-9d1c-5205488cfb3d  "
      ]
     },
     "execution_count": 41,
     "metadata": {},
     "output_type": "execute_result"
    }
   ],
   "source": [
    "stacked_ttll = trakit.timed_trips_linking_locations.stack_ttll_frames(\n",
    "    ttll_dfs, \"trip_info\", \"user_id\"\n",
    ")\n",
    "stacked_ttll"
   ]
  },
  {
   "attachments": {},
   "cell_type": "markdown",
   "id": "8ba06e28",
   "metadata": {},
   "source": [
    "##### Next, Generate the STTLL data from the SUSP and stacked TTLL"
   ]
  },
  {
   "cell_type": "code",
   "execution_count": 42,
   "id": "23d6be1d",
   "metadata": {
    "ExecuteTime": {
     "end_time": "2023-03-31T13:10:33.137479Z",
     "start_time": "2023-03-31T13:10:33.104292Z"
    }
   },
   "outputs": [],
   "source": [
    "sttll = trakit.timed_trips_linking_locations.set_timed_trips_linking_locations(\n",
    "    set_unique_frame.copy(),\n",
    "    stacked_ttll.copy()\n",
    ")"
   ]
  },
  {
   "cell_type": "code",
   "execution_count": 43,
   "id": "40b34c3e",
   "metadata": {
    "ExecuteTime": {
     "end_time": "2023-03-31T13:10:33.150476Z",
     "start_time": "2023-03-31T13:10:33.140044Z"
    }
   },
   "outputs": [],
   "source": [
    "_out_path = prep_dir\n",
    "_out_file_base = prep_sttll_base.format(threshold)\n",
    "out_path = os.path.join(_out_path, f\"{_out_file_base}.csv\")\n",
    "sttll.to_csv(out_path, index=False)"
   ]
  },
  {
   "attachments": {},
   "cell_type": "markdown",
   "id": "cdf77124",
   "metadata": {},
   "source": [
    "#### Demonstrating the STTLL data structure's [COO-style sparse format](https://scipy-lectures.org/advanced/scipy_sparse/coo_matrix.html) (all actors)\n",
    "\n",
    "* Structure identical to TTLL above."
   ]
  },
  {
   "cell_type": "code",
   "execution_count": 44,
   "id": "88c10755",
   "metadata": {
    "ExecuteTime": {
     "end_time": "2023-03-31T13:10:33.174698Z",
     "start_time": "2023-03-31T13:10:33.153805Z"
    }
   },
   "outputs": [
    {
     "data": {
      "text/html": [
       "<div>\n",
       "<style scoped>\n",
       "    .dataframe tbody tr th:only-of-type {\n",
       "        vertical-align: middle;\n",
       "    }\n",
       "\n",
       "    .dataframe tbody tr th {\n",
       "        vertical-align: top;\n",
       "    }\n",
       "\n",
       "    .dataframe thead th {\n",
       "        text-align: right;\n",
       "    }\n",
       "</style>\n",
       "<table border=\"1\" class=\"dataframe\">\n",
       "  <thead>\n",
       "    <tr style=\"text-align: right;\">\n",
       "      <th></th>\n",
       "      <th>from</th>\n",
       "      <th>to</th>\n",
       "      <th>trip_info</th>\n",
       "    </tr>\n",
       "  </thead>\n",
       "  <tbody>\n",
       "    <tr>\n",
       "      <th>0</th>\n",
       "      <td>0</td>\n",
       "      <td>1</td>\n",
       "      <td>[7, [(1677634621.0, 1677635391.0), (1677731778.0, 1677732513.0), (1677808105.0, 1677808806.0), (1677893679.0, 1677894402.0), (1677987099.0, 1677987803.0), (1678086105.0, 1678086817.0), (1678152886.0, 1678153706.0)]]</td>\n",
       "    </tr>\n",
       "    <tr>\n",
       "      <th>1</th>\n",
       "      <td>1</td>\n",
       "      <td>0</td>\n",
       "      <td>[6, [(1677678613.0, 1677679061.0), (1677775734.0, 1677776264.0), (1677852025.0, 1677852603.0), (1677937622.0, 1677938102.0), (1678031022.0, 1678031594.0), (1678130037.0, 1678130597.0)]]</td>\n",
       "    </tr>\n",
       "    <tr>\n",
       "      <th>2</th>\n",
       "      <td>2</td>\n",
       "      <td>3</td>\n",
       "      <td>[6, [(1677634976.0, 1677637996.0), (1677802235.0, 1677806468.0), (1677894184.0, 1677897927.0), (1677979887.0, 1677982778.0), (1678066857.0, 1678069816.0), (1678153208.0, 1678156119.0)]]</td>\n",
       "    </tr>\n",
       "    <tr>\n",
       "      <th>3</th>\n",
       "      <td>2</td>\n",
       "      <td>4</td>\n",
       "      <td>[1, [(1677714176.0, 1677716562.0)]]</td>\n",
       "    </tr>\n",
       "    <tr>\n",
       "      <th>4</th>\n",
       "      <td>3</td>\n",
       "      <td>2</td>\n",
       "      <td>[6, [(1677681206.0, 1677684997.0), (1677762215.0, 1677765909.0), (1677849685.0, 1677853666.0), (1677941142.0, 1677944550.0), (1678025994.0, 1678029696.0), (1678113028.0, 1678116085.0)]]</td>\n",
       "    </tr>\n",
       "    <tr>\n",
       "      <th>5</th>\n",
       "      <td>4</td>\n",
       "      <td>3</td>\n",
       "      <td>[1, [(1677717550.0, 1677719003.0)]]</td>\n",
       "    </tr>\n",
       "  </tbody>\n",
       "</table>\n",
       "</div>"
      ],
      "text/plain": [
       "   from  to  \\\n",
       "0     0   1   \n",
       "1     1   0   \n",
       "2     2   3   \n",
       "3     2   4   \n",
       "4     3   2   \n",
       "5     4   3   \n",
       "\n",
       "                                                                                                                                                                                                                 trip_info  \n",
       "0  [7, [(1677634621.0, 1677635391.0), (1677731778.0, 1677732513.0), (1677808105.0, 1677808806.0), (1677893679.0, 1677894402.0), (1677987099.0, 1677987803.0), (1678086105.0, 1678086817.0), (1678152886.0, 1678153706.0)]]  \n",
       "1                                [6, [(1677678613.0, 1677679061.0), (1677775734.0, 1677776264.0), (1677852025.0, 1677852603.0), (1677937622.0, 1677938102.0), (1678031022.0, 1678031594.0), (1678130037.0, 1678130597.0)]]  \n",
       "2                                [6, [(1677634976.0, 1677637996.0), (1677802235.0, 1677806468.0), (1677894184.0, 1677897927.0), (1677979887.0, 1677982778.0), (1678066857.0, 1678069816.0), (1678153208.0, 1678156119.0)]]  \n",
       "3                                                                                                                                                                                      [1, [(1677714176.0, 1677716562.0)]]  \n",
       "4                                [6, [(1677681206.0, 1677684997.0), (1677762215.0, 1677765909.0), (1677849685.0, 1677853666.0), (1677941142.0, 1677944550.0), (1678025994.0, 1678029696.0), (1678113028.0, 1678116085.0)]]  \n",
       "5                                                                                                                                                                                      [1, [(1677717550.0, 1677719003.0)]]  "
      ]
     },
     "execution_count": 44,
     "metadata": {},
     "output_type": "execute_result"
    }
   ],
   "source": [
    "sttll"
   ]
  },
  {
   "attachments": {},
   "cell_type": "markdown",
   "id": "2be78cb6",
   "metadata": {},
   "source": [
    "-------------------------------------------------------------\n",
    "-------------------------------------------------------------\n",
    "-------------------------------------------------------------\n",
    "\n",
    "\n",
    "\n",
    "## 3. Metrics: Movement\n",
    "### 3.A. M1 – Total Distance per Day"
   ]
  },
  {
   "cell_type": "code",
   "execution_count": 45,
   "id": "550ff643",
   "metadata": {
    "ExecuteTime": {
     "end_time": "2023-03-31T13:12:28.295712Z",
     "start_time": "2023-03-31T13:12:28.293263Z"
    }
   },
   "outputs": [],
   "source": [
    "from trakit import distance_per_day"
   ]
  },
  {
   "attachments": {},
   "cell_type": "markdown",
   "id": "2519b1f6",
   "metadata": {},
   "source": [
    "#### Generate and write user-level Total Distance per Day"
   ]
  },
  {
   "cell_type": "code",
   "execution_count": 46,
   "id": "3bd215f9",
   "metadata": {
    "ExecuteTime": {
     "end_time": "2023-03-31T13:12:36.829116Z",
     "start_time": "2023-03-31T13:12:36.826341Z"
    }
   },
   "outputs": [],
   "source": [
    "metric_label = \"1\"\n",
    "_out_path = inter_metric_dir"
   ]
  },
  {
   "cell_type": "code",
   "execution_count": 48,
   "id": "d2d83bf0",
   "metadata": {
    "ExecuteTime": {
     "end_time": "2023-03-31T13:12:44.534500Z",
     "start_time": "2023-03-31T13:12:44.107956Z"
    }
   },
   "outputs": [],
   "source": [
    "distances = []\n",
    "for uid, sp in sp_dfs_processed.items():\n",
    "    sp_df = sp.copy()\n",
    "    sp_df = pandas.DataFrame({\"uid\": uid, \"distance\": distance_per_day(sp_df)})\n",
    "    sp_df.reset_index(inplace=True)\n",
    "    sp_df[\"datetime\"] = sp_df[\"start_datetime\"]\n",
    "    sp_df = sp_df[[\"uid\", \"datetime\", \"distance\"]].copy()\n",
    "    _out_file_base = metric_output_base.format(metric_label, uid)\n",
    "    out_path = os.path.join(_out_path, f\"{_out_file_base}.csv\")\n",
    "    sp_df.to_csv(out_path, index=False)\n",
    "    distances.append(sp_df)"
   ]
  },
  {
   "attachments": {},
   "cell_type": "markdown",
   "id": "74055e2d",
   "metadata": {},
   "source": [
    "##### Demonstrating 1 user's Total Distance per Day data"
   ]
  },
  {
   "cell_type": "code",
   "execution_count": 49,
   "id": "b6655436",
   "metadata": {
    "ExecuteTime": {
     "end_time": "2023-03-31T13:12:45.528432Z",
     "start_time": "2023-03-31T13:12:45.519753Z"
    }
   },
   "outputs": [
    {
     "data": {
      "text/html": [
       "<div>\n",
       "<style scoped>\n",
       "    .dataframe tbody tr th:only-of-type {\n",
       "        vertical-align: middle;\n",
       "    }\n",
       "\n",
       "    .dataframe tbody tr th {\n",
       "        vertical-align: top;\n",
       "    }\n",
       "\n",
       "    .dataframe thead th {\n",
       "        text-align: right;\n",
       "    }\n",
       "</style>\n",
       "<table border=\"1\" class=\"dataframe\">\n",
       "  <thead>\n",
       "    <tr style=\"text-align: right;\">\n",
       "      <th></th>\n",
       "      <th>uid</th>\n",
       "      <th>datetime</th>\n",
       "      <th>distance</th>\n",
       "    </tr>\n",
       "  </thead>\n",
       "  <tbody>\n",
       "    <tr>\n",
       "      <th>0</th>\n",
       "      <td>part-00000-5551339c-daa2-46af-ad3d-05486818b52d</td>\n",
       "      <td>2023-03-01</td>\n",
       "      <td>14402.246452</td>\n",
       "    </tr>\n",
       "    <tr>\n",
       "      <th>1</th>\n",
       "      <td>part-00000-5551339c-daa2-46af-ad3d-05486818b52d</td>\n",
       "      <td>2023-03-02</td>\n",
       "      <td>7209.286693</td>\n",
       "    </tr>\n",
       "    <tr>\n",
       "      <th>2</th>\n",
       "      <td>part-00000-5551339c-daa2-46af-ad3d-05486818b52d</td>\n",
       "      <td>2023-03-03</td>\n",
       "      <td>21594.974558</td>\n",
       "    </tr>\n",
       "    <tr>\n",
       "      <th>3</th>\n",
       "      <td>part-00000-5551339c-daa2-46af-ad3d-05486818b52d</td>\n",
       "      <td>2023-03-04</td>\n",
       "      <td>14405.576181</td>\n",
       "    </tr>\n",
       "    <tr>\n",
       "      <th>4</th>\n",
       "      <td>part-00000-5551339c-daa2-46af-ad3d-05486818b52d</td>\n",
       "      <td>2023-03-05</td>\n",
       "      <td>14395.77823</td>\n",
       "    </tr>\n",
       "    <tr>\n",
       "      <th>5</th>\n",
       "      <td>part-00000-5551339c-daa2-46af-ad3d-05486818b52d</td>\n",
       "      <td>2023-03-06</td>\n",
       "      <td>7196.340071</td>\n",
       "    </tr>\n",
       "    <tr>\n",
       "      <th>6</th>\n",
       "      <td>part-00000-5551339c-daa2-46af-ad3d-05486818b52d</td>\n",
       "      <td>2023-03-07</td>\n",
       "      <td>14400.297836</td>\n",
       "    </tr>\n",
       "  </tbody>\n",
       "</table>\n",
       "</div>"
      ],
      "text/plain": [
       "                                               uid    datetime      distance\n",
       "0  part-00000-5551339c-daa2-46af-ad3d-05486818b52d  2023-03-01  14402.246452\n",
       "1  part-00000-5551339c-daa2-46af-ad3d-05486818b52d  2023-03-02   7209.286693\n",
       "2  part-00000-5551339c-daa2-46af-ad3d-05486818b52d  2023-03-03  21594.974558\n",
       "3  part-00000-5551339c-daa2-46af-ad3d-05486818b52d  2023-03-04  14405.576181\n",
       "4  part-00000-5551339c-daa2-46af-ad3d-05486818b52d  2023-03-05   14395.77823\n",
       "5  part-00000-5551339c-daa2-46af-ad3d-05486818b52d  2023-03-06   7196.340071\n",
       "6  part-00000-5551339c-daa2-46af-ad3d-05486818b52d  2023-03-07  14400.297836"
      ]
     },
     "execution_count": 49,
     "metadata": {},
     "output_type": "execute_result"
    }
   ],
   "source": [
    "distances[0]"
   ]
  },
  {
   "attachments": {},
   "cell_type": "markdown",
   "id": "baa6ed30",
   "metadata": {},
   "source": [
    "#### Aggregate user-level Total Distance per Day for one combined file"
   ]
  },
  {
   "cell_type": "code",
   "execution_count": 50,
   "id": "f678c292",
   "metadata": {
    "ExecuteTime": {
     "end_time": "2023-03-31T13:13:28.877012Z",
     "start_time": "2023-03-31T13:13:28.872061Z"
    }
   },
   "outputs": [],
   "source": [
    "_out_path = agg_metric_dir\n",
    "_out_file_base = metric_output_base.format(metric_label, \"\")\n",
    "out_path = os.path.join(_out_path, f\"{_out_file_base}\")\n",
    "if out_path.endswith(\"_\"):\n",
    "    out_path = out_path[:-1]\n",
    "out_path = f\"{out_path}.csv\""
   ]
  },
  {
   "cell_type": "code",
   "execution_count": 52,
   "id": "1a041721",
   "metadata": {
    "ExecuteTime": {
     "end_time": "2023-03-31T13:13:36.385533Z",
     "start_time": "2023-03-31T13:13:36.374714Z"
    }
   },
   "outputs": [
    {
     "data": {
      "text/html": [
       "<div>\n",
       "<style scoped>\n",
       "    .dataframe tbody tr th:only-of-type {\n",
       "        vertical-align: middle;\n",
       "    }\n",
       "\n",
       "    .dataframe tbody tr th {\n",
       "        vertical-align: top;\n",
       "    }\n",
       "\n",
       "    .dataframe thead th {\n",
       "        text-align: right;\n",
       "    }\n",
       "</style>\n",
       "<table border=\"1\" class=\"dataframe\">\n",
       "  <thead>\n",
       "    <tr style=\"text-align: right;\">\n",
       "      <th></th>\n",
       "      <th>uid</th>\n",
       "      <th>datetime</th>\n",
       "      <th>distance</th>\n",
       "    </tr>\n",
       "  </thead>\n",
       "  <tbody>\n",
       "    <tr>\n",
       "      <th>0</th>\n",
       "      <td>part-00000-5551339c-daa2-46af-ad3d-05486818b52d</td>\n",
       "      <td>2023-03-01</td>\n",
       "      <td>14402.246452</td>\n",
       "    </tr>\n",
       "    <tr>\n",
       "      <th>1</th>\n",
       "      <td>part-00000-5551339c-daa2-46af-ad3d-05486818b52d</td>\n",
       "      <td>2023-03-02</td>\n",
       "      <td>7209.286693</td>\n",
       "    </tr>\n",
       "    <tr>\n",
       "      <th>2</th>\n",
       "      <td>part-00000-5551339c-daa2-46af-ad3d-05486818b52d</td>\n",
       "      <td>2023-03-03</td>\n",
       "      <td>21594.974558</td>\n",
       "    </tr>\n",
       "    <tr>\n",
       "      <th>3</th>\n",
       "      <td>part-00000-5551339c-daa2-46af-ad3d-05486818b52d</td>\n",
       "      <td>2023-03-04</td>\n",
       "      <td>14405.576181</td>\n",
       "    </tr>\n",
       "    <tr>\n",
       "      <th>4</th>\n",
       "      <td>part-00000-5551339c-daa2-46af-ad3d-05486818b52d</td>\n",
       "      <td>2023-03-05</td>\n",
       "      <td>14395.77823</td>\n",
       "    </tr>\n",
       "    <tr>\n",
       "      <th>5</th>\n",
       "      <td>part-00000-5551339c-daa2-46af-ad3d-05486818b52d</td>\n",
       "      <td>2023-03-06</td>\n",
       "      <td>7196.340071</td>\n",
       "    </tr>\n",
       "    <tr>\n",
       "      <th>6</th>\n",
       "      <td>part-00000-5551339c-daa2-46af-ad3d-05486818b52d</td>\n",
       "      <td>2023-03-07</td>\n",
       "      <td>14400.297836</td>\n",
       "    </tr>\n",
       "    <tr>\n",
       "      <th>0</th>\n",
       "      <td>part-00000-1377f0cb-4454-4ccf-9d1c-5205488cfb3d</td>\n",
       "      <td>2023-03-01</td>\n",
       "      <td>87819.145477</td>\n",
       "    </tr>\n",
       "    <tr>\n",
       "      <th>1</th>\n",
       "      <td>part-00000-1377f0cb-4454-4ccf-9d1c-5205488cfb3d</td>\n",
       "      <td>2023-03-02</td>\n",
       "      <td>91719.268659</td>\n",
       "    </tr>\n",
       "    <tr>\n",
       "      <th>2</th>\n",
       "      <td>part-00000-1377f0cb-4454-4ccf-9d1c-5205488cfb3d</td>\n",
       "      <td>2023-03-03</td>\n",
       "      <td>87806.720075</td>\n",
       "    </tr>\n",
       "    <tr>\n",
       "      <th>3</th>\n",
       "      <td>part-00000-1377f0cb-4454-4ccf-9d1c-5205488cfb3d</td>\n",
       "      <td>2023-03-04</td>\n",
       "      <td>87820.449126</td>\n",
       "    </tr>\n",
       "    <tr>\n",
       "      <th>4</th>\n",
       "      <td>part-00000-1377f0cb-4454-4ccf-9d1c-5205488cfb3d</td>\n",
       "      <td>2023-03-05</td>\n",
       "      <td>87821.283328</td>\n",
       "    </tr>\n",
       "    <tr>\n",
       "      <th>5</th>\n",
       "      <td>part-00000-1377f0cb-4454-4ccf-9d1c-5205488cfb3d</td>\n",
       "      <td>2023-03-06</td>\n",
       "      <td>87828.503409</td>\n",
       "    </tr>\n",
       "    <tr>\n",
       "      <th>6</th>\n",
       "      <td>part-00000-1377f0cb-4454-4ccf-9d1c-5205488cfb3d</td>\n",
       "      <td>2023-03-07</td>\n",
       "      <td>43908.558973</td>\n",
       "    </tr>\n",
       "  </tbody>\n",
       "</table>\n",
       "</div>"
      ],
      "text/plain": [
       "                                               uid    datetime      distance\n",
       "0  part-00000-5551339c-daa2-46af-ad3d-05486818b52d  2023-03-01  14402.246452\n",
       "1  part-00000-5551339c-daa2-46af-ad3d-05486818b52d  2023-03-02   7209.286693\n",
       "2  part-00000-5551339c-daa2-46af-ad3d-05486818b52d  2023-03-03  21594.974558\n",
       "3  part-00000-5551339c-daa2-46af-ad3d-05486818b52d  2023-03-04  14405.576181\n",
       "4  part-00000-5551339c-daa2-46af-ad3d-05486818b52d  2023-03-05   14395.77823\n",
       "5  part-00000-5551339c-daa2-46af-ad3d-05486818b52d  2023-03-06   7196.340071\n",
       "6  part-00000-5551339c-daa2-46af-ad3d-05486818b52d  2023-03-07  14400.297836\n",
       "0  part-00000-1377f0cb-4454-4ccf-9d1c-5205488cfb3d  2023-03-01  87819.145477\n",
       "1  part-00000-1377f0cb-4454-4ccf-9d1c-5205488cfb3d  2023-03-02  91719.268659\n",
       "2  part-00000-1377f0cb-4454-4ccf-9d1c-5205488cfb3d  2023-03-03  87806.720075\n",
       "3  part-00000-1377f0cb-4454-4ccf-9d1c-5205488cfb3d  2023-03-04  87820.449126\n",
       "4  part-00000-1377f0cb-4454-4ccf-9d1c-5205488cfb3d  2023-03-05  87821.283328\n",
       "5  part-00000-1377f0cb-4454-4ccf-9d1c-5205488cfb3d  2023-03-06  87828.503409\n",
       "6  part-00000-1377f0cb-4454-4ccf-9d1c-5205488cfb3d  2023-03-07  43908.558973"
      ]
     },
     "execution_count": 52,
     "metadata": {},
     "output_type": "execute_result"
    }
   ],
   "source": [
    "aggregated_distances = pandas.concat(distances)\n",
    "aggregated_distances.to_csv(out_path, index=False)\n",
    "aggregated_distances"
   ]
  },
  {
   "attachments": {},
   "cell_type": "markdown",
   "id": "fe51025c",
   "metadata": {},
   "source": [
    "-------------------------------------------------------------\n",
    "\n",
    "### 3.B. M2 – Radius of Gyration\n",
    "\n",
    "Function call:\n",
    "* `trakit.radius_of_gyration()`"
   ]
  },
  {
   "cell_type": "code",
   "execution_count": 53,
   "id": "5bc12b28",
   "metadata": {
    "ExecuteTime": {
     "end_time": "2023-03-31T13:13:49.661133Z",
     "start_time": "2023-03-31T13:13:49.657536Z"
    }
   },
   "outputs": [
    {
     "name": "stdout",
     "output_type": "stream",
     "text": [
      "Help on function radius_of_gyration in module trakit.metrics.radius_of_gyration:\n",
      "\n",
      "radius_of_gyration(df: pandas.core.frame.DataFrame, wcol: None | str = None, ycol: str = 'latitude', xcol: str = 'longitude', time_start: str = 'start_timestamp', time_stop: str = 'stop_timestamp', time_units: str = 'minutes', sq_dist_kws: dict = {}) -> float\n",
      "    Calculate the Radius of Gyration for 1 user.\n",
      "    \n",
      "    .. math:\n",
      "    \n",
      "        \\displaystyle r^u_g=\\sqrt{\\frac{1}{T}\\sum^N_{n=1}t^u_n(r^u_n-r^u_{cm})^2}\n",
      "    \n",
      "    Parameters\n",
      "    ----------\n",
      "    \n",
      "    df : pandas.DataFrame\n",
      "        A single user's profile.\n",
      "    wcol : str (default None)\n",
      "        Weights column name. Leave as ``None`` for the unweighted RoG.\n",
      "    ycol : str (default is 'latitude')\n",
      "        Y / latitude of a stop point.\n",
      "    xcol : str (default is 'longitude')\n",
      "        X / longitude of a stop point.\n",
      "    time_start : str (default is 'start_timestamp')\n",
      "        Starting timestamp at stop point.\n",
      "    time_stop : str (default is 'stop_timestamp')\n",
      "        Ending timestamp at stop point.\n",
      "    time_units : str (default 'minutes')\n",
      "        See ``trakit.metrics.radius_of_gyration.timestamp_to_elapsed()``.\n",
      "    sq_dist_kws : dict (default is dict())\n",
      "        See ``trakit.metrics.radius_of_gyration.sq_dist()``.\n",
      "    \n",
      "    Returns\n",
      "    -------\n",
      "    \n",
      "    rog : float\n",
      "        Radius of Gyration.\n",
      "\n",
      "None\n"
     ]
    }
   ],
   "source": [
    "from trakit import radius_of_gyration\n",
    "print(help(radius_of_gyration))"
   ]
  },
  {
   "attachments": {},
   "cell_type": "markdown",
   "id": "207f9091",
   "metadata": {},
   "source": [
    "##### Parameters\n",
    "* `dist_units`\n",
    "  * calculate the Radius of Gyration in kilometers."
   ]
  },
  {
   "cell_type": "code",
   "execution_count": 54,
   "id": "391757e2",
   "metadata": {
    "ExecuteTime": {
     "end_time": "2023-03-31T13:13:51.486450Z",
     "start_time": "2023-03-31T13:13:51.483857Z"
    }
   },
   "outputs": [],
   "source": [
    "dist_units = \"km\"\n",
    "dist_params = dict(dist_units=dist_units)"
   ]
  },
  {
   "attachments": {},
   "cell_type": "markdown",
   "id": "f8a1d5c7",
   "metadata": {},
   "source": [
    "##### Set up a storage dataframe for results and diagnostic information"
   ]
  },
  {
   "cell_type": "code",
   "execution_count": 55,
   "id": "57077904",
   "metadata": {
    "ExecuteTime": {
     "end_time": "2023-03-31T13:13:52.169899Z",
     "start_time": "2023-03-31T13:13:52.160943Z"
    }
   },
   "outputs": [
    {
     "data": {
      "text/html": [
       "<div>\n",
       "<style scoped>\n",
       "    .dataframe tbody tr th:only-of-type {\n",
       "        vertical-align: middle;\n",
       "    }\n",
       "\n",
       "    .dataframe tbody tr th {\n",
       "        vertical-align: top;\n",
       "    }\n",
       "\n",
       "    .dataframe thead th {\n",
       "        text-align: right;\n",
       "    }\n",
       "</style>\n",
       "<table border=\"1\" class=\"dataframe\">\n",
       "  <thead>\n",
       "    <tr style=\"text-align: right;\">\n",
       "      <th></th>\n",
       "      <th>user_id</th>\n",
       "      <th>n_obs</th>\n",
       "      <th>RoG_km</th>\n",
       "      <th>runtime_sec</th>\n",
       "    </tr>\n",
       "  </thead>\n",
       "  <tbody>\n",
       "    <tr>\n",
       "      <th>0</th>\n",
       "      <td>NaN</td>\n",
       "      <td>NaN</td>\n",
       "      <td>NaN</td>\n",
       "      <td>NaN</td>\n",
       "    </tr>\n",
       "    <tr>\n",
       "      <th>1</th>\n",
       "      <td>NaN</td>\n",
       "      <td>NaN</td>\n",
       "      <td>NaN</td>\n",
       "      <td>NaN</td>\n",
       "    </tr>\n",
       "  </tbody>\n",
       "</table>\n",
       "</div>"
      ],
      "text/plain": [
       "  user_id n_obs RoG_km runtime_sec\n",
       "0     NaN   NaN    NaN         NaN\n",
       "1     NaN   NaN    NaN         NaN"
      ]
     },
     "execution_count": 55,
     "metadata": {},
     "output_type": "execute_result"
    }
   ],
   "source": [
    "rog_lab = f\"RoG_{dist_units}\"\n",
    "columns = [\"user_id\", \"n_obs\", rog_lab, \"runtime_sec\"]\n",
    "rog_df = pandas.DataFrame(columns=columns, index=range(n_actors))\n",
    "rog_df"
   ]
  },
  {
   "attachments": {},
   "cell_type": "markdown",
   "id": "673e9ebb",
   "metadata": {},
   "source": [
    "##### Calculate Radius of Gyration from processed Stop Point data"
   ]
  },
  {
   "cell_type": "code",
   "execution_count": 56,
   "id": "7c2dff9a",
   "metadata": {
    "ExecuteTime": {
     "end_time": "2023-03-31T13:14:06.468904Z",
     "start_time": "2023-03-31T13:14:06.466140Z"
    }
   },
   "outputs": [],
   "source": [
    "metric_label = \"2\"\n",
    "_out_path = agg_metric_dir\n",
    "_out_file_base = metric_output_base.format(metric_label, \"\")"
   ]
  },
  {
   "cell_type": "code",
   "execution_count": 57,
   "id": "6dc021d0",
   "metadata": {
    "ExecuteTime": {
     "end_time": "2023-03-31T13:14:10.643765Z",
     "start_time": "2023-03-31T13:14:10.358634Z"
    }
   },
   "outputs": [
    {
     "name": "stdout",
     "output_type": "stream",
     "text": [
      "Total Runtime (seconds): 0.03\n"
     ]
    },
    {
     "data": {
      "text/html": [
       "<div>\n",
       "<style scoped>\n",
       "    .dataframe tbody tr th:only-of-type {\n",
       "        vertical-align: middle;\n",
       "    }\n",
       "\n",
       "    .dataframe tbody tr th {\n",
       "        vertical-align: top;\n",
       "    }\n",
       "\n",
       "    .dataframe thead th {\n",
       "        text-align: right;\n",
       "    }\n",
       "</style>\n",
       "<table border=\"1\" class=\"dataframe\">\n",
       "  <thead>\n",
       "    <tr style=\"text-align: right;\">\n",
       "      <th></th>\n",
       "      <th>user_id</th>\n",
       "      <th>n_obs</th>\n",
       "      <th>RoG_km</th>\n",
       "      <th>runtime_sec</th>\n",
       "    </tr>\n",
       "  </thead>\n",
       "  <tbody>\n",
       "    <tr>\n",
       "      <th>0</th>\n",
       "      <td>part-00000-5551339c-daa2-46af-ad3d-05486818b52d</td>\n",
       "      <td>14</td>\n",
       "      <td>3.599934</td>\n",
       "      <td>0.01</td>\n",
       "    </tr>\n",
       "    <tr>\n",
       "      <th>1</th>\n",
       "      <td>part-00000-1377f0cb-4454-4ccf-9d1c-5205488cfb3d</td>\n",
       "      <td>15</td>\n",
       "      <td>21.633633</td>\n",
       "      <td>0.01</td>\n",
       "    </tr>\n",
       "  </tbody>\n",
       "</table>\n",
       "</div>"
      ],
      "text/plain": [
       "                                           user_id  n_obs     RoG_km  \\\n",
       "0  part-00000-5551339c-daa2-46af-ad3d-05486818b52d     14   3.599934   \n",
       "1  part-00000-1377f0cb-4454-4ccf-9d1c-5205488cfb3d     15  21.633633   \n",
       "\n",
       "   runtime_sec  \n",
       "0         0.01  \n",
       "1         0.01  "
      ]
     },
     "execution_count": 57,
     "metadata": {},
     "output_type": "execute_result"
    }
   ],
   "source": [
    "global_start_time = time.time()\n",
    "for ix, (uid, sp) in enumerate(sp_dfs_processed.items()):\n",
    "    \n",
    "    # calculate 1 user's Radius of Gyration\n",
    "    user_time_start = time.time()\n",
    "    sp_df = sp.copy()\n",
    "    rog = radius_of_gyration(sp_df, sq_dist_kws=dist_params)\n",
    "    user_time_end = round(time.time() - user_time_start, 2)\n",
    "    \n",
    "    # store output\n",
    "    rog_df.loc[ix] = [uid, sp_df.shape[0], rog, user_time_end]\n",
    "\n",
    "# ensure numeric dtype\n",
    "rog_df = trakit.utils.coerce_numeric(rog_df, *[\"n_obs\", rog_lab, \"runtime_sec\"])\n",
    "\n",
    "# write results\n",
    "outpath = os.path.join(_out_path, f\"{_out_file_base}\")\n",
    "if outpath.endswith(\"_\"):\n",
    "    outpath = outpath[:-1]\n",
    "outpath = f\"{outpath}.csv\"\n",
    "rog_df.to_csv(outpath, index=False)\n",
    "\n",
    "global_time_end = round(time.time() - global_start_time, 2)\n",
    "print(f\"Total Runtime (seconds): {global_time_end}\")\n",
    "rog_df"
   ]
  },
  {
   "attachments": {},
   "cell_type": "markdown",
   "id": "3a898963",
   "metadata": {},
   "source": [
    "##### Descriptive statistics of solutions"
   ]
  },
  {
   "cell_type": "code",
   "execution_count": 58,
   "id": "53a32b99",
   "metadata": {
    "ExecuteTime": {
     "end_time": "2023-03-31T13:14:12.927027Z",
     "start_time": "2023-03-31T13:14:12.914678Z"
    }
   },
   "outputs": [
    {
     "data": {
      "text/html": [
       "<div>\n",
       "<style scoped>\n",
       "    .dataframe tbody tr th:only-of-type {\n",
       "        vertical-align: middle;\n",
       "    }\n",
       "\n",
       "    .dataframe tbody tr th {\n",
       "        vertical-align: top;\n",
       "    }\n",
       "\n",
       "    .dataframe thead th {\n",
       "        text-align: right;\n",
       "    }\n",
       "</style>\n",
       "<table border=\"1\" class=\"dataframe\">\n",
       "  <thead>\n",
       "    <tr style=\"text-align: right;\">\n",
       "      <th></th>\n",
       "      <th>n_obs</th>\n",
       "      <th>RoG_km</th>\n",
       "      <th>runtime_sec</th>\n",
       "    </tr>\n",
       "  </thead>\n",
       "  <tbody>\n",
       "    <tr>\n",
       "      <th>count</th>\n",
       "      <td>2.000000</td>\n",
       "      <td>2.000000</td>\n",
       "      <td>2.00</td>\n",
       "    </tr>\n",
       "    <tr>\n",
       "      <th>mean</th>\n",
       "      <td>14.500000</td>\n",
       "      <td>12.616784</td>\n",
       "      <td>0.01</td>\n",
       "    </tr>\n",
       "    <tr>\n",
       "      <th>std</th>\n",
       "      <td>0.707107</td>\n",
       "      <td>12.751751</td>\n",
       "      <td>0.00</td>\n",
       "    </tr>\n",
       "    <tr>\n",
       "      <th>min</th>\n",
       "      <td>14.000000</td>\n",
       "      <td>3.599934</td>\n",
       "      <td>0.01</td>\n",
       "    </tr>\n",
       "    <tr>\n",
       "      <th>25%</th>\n",
       "      <td>14.250000</td>\n",
       "      <td>8.108359</td>\n",
       "      <td>0.01</td>\n",
       "    </tr>\n",
       "    <tr>\n",
       "      <th>50%</th>\n",
       "      <td>14.500000</td>\n",
       "      <td>12.616784</td>\n",
       "      <td>0.01</td>\n",
       "    </tr>\n",
       "    <tr>\n",
       "      <th>75%</th>\n",
       "      <td>14.750000</td>\n",
       "      <td>17.125208</td>\n",
       "      <td>0.01</td>\n",
       "    </tr>\n",
       "    <tr>\n",
       "      <th>max</th>\n",
       "      <td>15.000000</td>\n",
       "      <td>21.633633</td>\n",
       "      <td>0.01</td>\n",
       "    </tr>\n",
       "  </tbody>\n",
       "</table>\n",
       "</div>"
      ],
      "text/plain": [
       "           n_obs     RoG_km  runtime_sec\n",
       "count   2.000000   2.000000         2.00\n",
       "mean   14.500000  12.616784         0.01\n",
       "std     0.707107  12.751751         0.00\n",
       "min    14.000000   3.599934         0.01\n",
       "25%    14.250000   8.108359         0.01\n",
       "50%    14.500000  12.616784         0.01\n",
       "75%    14.750000  17.125208         0.01\n",
       "max    15.000000  21.633633         0.01"
      ]
     },
     "execution_count": 58,
     "metadata": {},
     "output_type": "execute_result"
    }
   ],
   "source": [
    "rog_df[[\"n_obs\", \"RoG_km\", \"runtime_sec\"]].describe()"
   ]
  },
  {
   "attachments": {},
   "cell_type": "markdown",
   "id": "c884c4eb",
   "metadata": {},
   "source": [
    "-------------------------------------------------------------\n",
    "\n",
    "### 3.C. M3 – Number of Locations Visited\n"
   ]
  },
  {
   "cell_type": "code",
   "execution_count": 59,
   "id": "c362f6fd",
   "metadata": {
    "ExecuteTime": {
     "end_time": "2023-03-31T13:14:21.720808Z",
     "start_time": "2023-03-31T13:14:21.716560Z"
    }
   },
   "outputs": [
    {
     "name": "stdout",
     "output_type": "stream",
     "text": [
      "Help on function stop_points_reduce in module trakit.metrics.locations_frequency:\n",
      "\n",
      "stop_points_reduce(stops: list[trakit.stop_point.StopPoint], unique_stops: list[trakit.stop_unique.UniqueStop], drop_weekends: bool = True) -> list[tuple[datetime.date, int]]\n",
      "    Using stop points, pairs occurrences of unique stops to dates\n",
      "    \n",
      "    Parameters\n",
      "    ----------\n",
      "    stops: list of StopPoint objects of a given actor\n",
      "    unique_stops: list of UniqueStop objects of a given actor\n",
      "    drop_weekends: bool for whether weekends should be ignored\n",
      "    \n",
      "    Returns\n",
      "    -------\n",
      "    list of (datetime.date, unique stop id int) items\n",
      "\n",
      "None\n",
      "Help on function locations_per_day in module trakit.metrics.locations_frequency:\n",
      "\n",
      "locations_per_day(date_locs: list[tuple[datetime.date, int]]) -> list[tuple[str, int]]\n",
      "    Sums unique locations per day given date, unique id pairs\n",
      "    \n",
      "    Parameters\n",
      "    ----------\n",
      "    date_locs: list of date, unique id int pairs\n",
      "    \n",
      "    Returns\n",
      "    -------\n",
      "    list of (date, locations visited int) pairs\n",
      "\n",
      "None\n"
     ]
    }
   ],
   "source": [
    "stops_formatter = os.path.join(\n",
    "    prep_dir, \"{}_{}.csv\".format(prep_sl_l1_sp_base, \"{}\")\n",
    ")\n",
    "unique_stops_formatter = os.path.join(\n",
    "    prep_dir, \"{}_{}.csv\".format(prep_sl_l2_usp_base, \"{}\")\n",
    ")\n",
    "\n",
    "print(help(trakit.locations_frequency.stop_points_reduce))\n",
    "print(help(trakit.locations_frequency.locations_per_day))"
   ]
  },
  {
   "cell_type": "code",
   "execution_count": 60,
   "id": "8b697965",
   "metadata": {
    "ExecuteTime": {
     "end_time": "2023-03-31T13:14:29.022408Z",
     "start_time": "2023-03-31T13:14:28.957153Z"
    }
   },
   "outputs": [
    {
     "data": {
      "text/html": [
       "<div>\n",
       "<style scoped>\n",
       "    .dataframe tbody tr th:only-of-type {\n",
       "        vertical-align: middle;\n",
       "    }\n",
       "\n",
       "    .dataframe tbody tr th {\n",
       "        vertical-align: top;\n",
       "    }\n",
       "\n",
       "    .dataframe thead th {\n",
       "        text-align: right;\n",
       "    }\n",
       "</style>\n",
       "<table border=\"1\" class=\"dataframe\">\n",
       "  <thead>\n",
       "    <tr style=\"text-align: right;\">\n",
       "      <th></th>\n",
       "      <th>uid</th>\n",
       "      <th>dates</th>\n",
       "      <th>locations</th>\n",
       "    </tr>\n",
       "  </thead>\n",
       "  <tbody>\n",
       "    <tr>\n",
       "      <th>0</th>\n",
       "      <td>part-00000-5551339c-daa2-46af-ad3d-05486818b52d</td>\n",
       "      <td>2023_03_01</td>\n",
       "      <td>2</td>\n",
       "    </tr>\n",
       "    <tr>\n",
       "      <th>1</th>\n",
       "      <td>part-00000-5551339c-daa2-46af-ad3d-05486818b52d</td>\n",
       "      <td>2023_03_02</td>\n",
       "      <td>1</td>\n",
       "    </tr>\n",
       "    <tr>\n",
       "      <th>2</th>\n",
       "      <td>part-00000-5551339c-daa2-46af-ad3d-05486818b52d</td>\n",
       "      <td>2023_03_03</td>\n",
       "      <td>2</td>\n",
       "    </tr>\n",
       "    <tr>\n",
       "      <th>3</th>\n",
       "      <td>part-00000-5551339c-daa2-46af-ad3d-05486818b52d</td>\n",
       "      <td>2023_03_04</td>\n",
       "      <td>2</td>\n",
       "    </tr>\n",
       "    <tr>\n",
       "      <th>4</th>\n",
       "      <td>part-00000-5551339c-daa2-46af-ad3d-05486818b52d</td>\n",
       "      <td>2023_03_05</td>\n",
       "      <td>2</td>\n",
       "    </tr>\n",
       "  </tbody>\n",
       "</table>\n",
       "</div>"
      ],
      "text/plain": [
       "                                               uid       dates  locations\n",
       "0  part-00000-5551339c-daa2-46af-ad3d-05486818b52d  2023_03_01          2\n",
       "1  part-00000-5551339c-daa2-46af-ad3d-05486818b52d  2023_03_02          1\n",
       "2  part-00000-5551339c-daa2-46af-ad3d-05486818b52d  2023_03_03          2\n",
       "3  part-00000-5551339c-daa2-46af-ad3d-05486818b52d  2023_03_04          2\n",
       "4  part-00000-5551339c-daa2-46af-ad3d-05486818b52d  2023_03_05          2"
      ]
     },
     "execution_count": 60,
     "metadata": {},
     "output_type": "execute_result"
    }
   ],
   "source": [
    "uid_list = [\n",
    "    os.path.basename(filename)[len(prep_sl_l1_sp_base)+1:-4]\n",
    "    for filename\n",
    "    in glob.glob(os.path.join(prep_dir, f\"{prep_sl_l1_sp_base}_*.csv\"))\n",
    "]\n",
    "\n",
    "locations_per_day_frames = list()\n",
    "\n",
    "start_time = time.perf_counter()\n",
    "for uid in uid_list:\n",
    "    _stops = trakit.stop_point.stop_points_from_file(stops_formatter.format(uid))\n",
    "    _unique_stops = trakit.stop_unique.unique_stop_points_from_file(\n",
    "        unique_stops_formatter.format(uid)\n",
    "    )\n",
    "    uniques_with_day = trakit.locations_frequency.stop_points_reduce(\n",
    "        _stops, _unique_stops, drop_weekends=False\n",
    "    )\n",
    "    locations_by_day = trakit.locations_frequency.locations_per_day(uniques_with_day)\n",
    "    _dates, _locations = zip(*locations_by_day)\n",
    "    locations_per_day_frames.append(\n",
    "        pandas.DataFrame({\"uid\": uid, \"dates\": _dates, \"locations\": _locations})\n",
    "    )\n",
    "\n",
    "locations_per_day_df = pandas.concat(locations_per_day_frames)\n",
    "locations_per_day_df.head()"
   ]
  },
  {
   "cell_type": "code",
   "execution_count": 61,
   "id": "bedefc0c",
   "metadata": {
    "ExecuteTime": {
     "end_time": "2023-03-31T13:14:39.560354Z",
     "start_time": "2023-03-31T13:14:39.554150Z"
    }
   },
   "outputs": [],
   "source": [
    "# set up output path\n",
    "metric_label = \"3\"\n",
    "_out_path = agg_metric_dir\n",
    "_out_file_base = metric_output_base.format(metric_label, \"\")\n",
    "out_path = os.path.join(_out_path, _out_file_base)\n",
    "if out_path.endswith(\"_\"):\n",
    "    out_path = out_path[:-1]\n",
    "out_path = f\"{out_path}.csv\"\n",
    "\n",
    "locations_per_day_df.to_csv(out_path, index=False)"
   ]
  },
  {
   "attachments": {},
   "cell_type": "markdown",
   "id": "552cf8b0",
   "metadata": {},
   "source": [
    "-------------------------------------------------------------\n",
    "\n",
    "### 3.D. M4 – Temporal Variability\n",
    "Function call:\n",
    "* `trakit.temporal_variability()`"
   ]
  },
  {
   "cell_type": "code",
   "execution_count": 62,
   "id": "ab9e44f3",
   "metadata": {
    "ExecuteTime": {
     "end_time": "2023-03-31T13:14:41.779260Z",
     "start_time": "2023-03-31T13:14:41.776867Z"
    }
   },
   "outputs": [],
   "source": [
    "from trakit import temporal_variability"
   ]
  },
  {
   "cell_type": "code",
   "execution_count": 63,
   "id": "dbb570ec",
   "metadata": {
    "ExecuteTime": {
     "end_time": "2023-03-31T13:14:42.250517Z",
     "start_time": "2023-03-31T13:14:42.247214Z"
    }
   },
   "outputs": [
    {
     "name": "stdout",
     "output_type": "stream",
     "text": [
      "Help on function temporal_variability in module trakit.metrics.temporal_variability:\n",
      "\n",
      "temporal_variability(sdf: pandas.core.frame.DataFrame, udf: pandas.core.frame.DataFrame, n_ranks: int = 2, omit_weekend: bool = True, tz_col: str = 'tz', wkday_moment: str = 'start_timestamp', print_user_warning: bool = True) -> dict\n",
      "    Calculate the standard deviation of start/stop\n",
      "    time for 1 user at :math:`n` ranks.\n",
      "    \n",
      "    ..math:\n",
      "    \n",
      "       \\displaystyle \\sigma_{R_n^u} =\n",
      "           \\sqrt{\\frac{1}{N_{R_n^u}}\\sum^N_{n=1}(t_n^u - \\mu_{R_n^u})^2}\n",
      "    \n",
      "    * Where\n",
      "      * $\\sigma_{R_n^u}$ is the standard deviation for an arrival (or departure) time at stop location of $R_n^u$\n",
      "      * $R_n^u$ is the rank of stop location $n$ for user $u$\n",
      "      * $n$ is an indexed stop point in the complete set of stop points $(n \\in N)$\n",
      "      * $u$ is a single user ID in the universe of users $U$ $(u \\in U)$\n",
      "      * $t_n^u$ is the timestamp of arrival time $n$ for user $u$\n",
      "      * $\\mu_{R_n^u}$ is the average arrival time at stop location of rank $R_n^u$\n",
      "    \n",
      "    Parameters\n",
      "    ----------\n",
      "    \n",
      "    sdf : pandas.DataFrame\n",
      "        All stop points dataframe.\n",
      "    udf : list\n",
      "        All unique stop points dataframe.\n",
      "    n_ranks : int (default 2)\n",
      "        The number of ranks for locations.\n",
      "    omit_weekend : bool (default True)\n",
      "        Only use \"weekday\" (Monday-Friday), though this raises questions\n",
      "        considering the cultural implications of concept of 'weekend.'\n",
      "    tz_col : str (default 'tz')\n",
      "        Time zone column in ``sdf`` to be added.\n",
      "    wkday_moment : str (default 'start_timestamp')\n",
      "        Timestamp for determining if weekday or not.\n",
      "    print_user_warning : bool (default True)\n",
      "        Check if there are more than 1 timezone present in a user's stop locations\n",
      "        if set to ``True``.\n",
      "    \n",
      "    Returns\n",
      "    -------\n",
      "    \n",
      "    std_dict : dict\n",
      "        Standard deviation values keyed by column name.\n",
      "\n",
      "None\n"
     ]
    }
   ],
   "source": [
    "print(help(temporal_variability))"
   ]
  },
  {
   "attachments": {},
   "cell_type": "markdown",
   "id": "bfc37ab2",
   "metadata": {},
   "source": [
    "##### Parameters:\n",
    "* `n_ranks`\n",
    "  * the top $n$ ranks to consider\n",
    "* `omit_weekend`\n",
    "  * remove Saturday and Sunday from the input\n",
    "* `drop_na`\n",
    "  * drop `NULL` values (where there is no standard deviation due to 1 value in rank group"
   ]
  },
  {
   "cell_type": "code",
   "execution_count": 64,
   "id": "f3fc448d",
   "metadata": {
    "ExecuteTime": {
     "end_time": "2023-03-31T13:14:43.894667Z",
     "start_time": "2023-03-31T13:14:43.892094Z"
    }
   },
   "outputs": [],
   "source": [
    "n_ranks = 2\n",
    "omit_weekend = True\n",
    "drop_na = True"
   ]
  },
  {
   "attachments": {},
   "cell_type": "markdown",
   "id": "93e7779b",
   "metadata": {},
   "source": [
    "##### Calculate Temporal Variability from processed Stop Point and Unique Stop Point data"
   ]
  },
  {
   "cell_type": "code",
   "execution_count": 65,
   "id": "68fce13d",
   "metadata": {
    "ExecuteTime": {
     "end_time": "2023-03-31T13:15:00.370218Z",
     "start_time": "2023-03-31T13:15:00.367610Z"
    }
   },
   "outputs": [],
   "source": [
    "metric_label = \"4\"\n",
    "_out_path_1 = inter_metric_dir\n",
    "_out_path_2 = agg_metric_dir\n",
    "_out_file_base = metric_output_base.format(metric_label, \"\")"
   ]
  },
  {
   "cell_type": "code",
   "execution_count": 66,
   "id": "98c3486e",
   "metadata": {
    "ExecuteTime": {
     "end_time": "2023-03-31T13:15:04.368364Z",
     "start_time": "2023-03-31T13:15:04.157163Z"
    }
   },
   "outputs": [
    {
     "name": "stdout",
     "output_type": "stream",
     "text": [
      "Total Runtime (seconds): 0.05\n"
     ]
    }
   ],
   "source": [
    "global_start_time = time.time()\n",
    "for ix, (uid, sp) in enumerate(sp_dfs_processed.items()):\n",
    "    \n",
    "    # calculate 1 user's Temporal Variability\n",
    "    user_time_start = time.time()\n",
    "    sp_df = sp.copy()\n",
    "    usp_df = usp_dfs_processed[uid].copy()\n",
    "    user_tv = temporal_variability(\n",
    "        sp_df,\n",
    "        usp_df,\n",
    "        n_ranks=n_ranks,\n",
    "        omit_weekend=omit_weekend,\n",
    "        print_user_warning=uid,\n",
    "    )\n",
    "    user_time_end = round(time.time() - user_time_start, 2)\n",
    "    user_tv.update({\"user_id\": [uid], \"runtime_sec\": [user_time_end]})\n",
    "    \n",
    "    # store output\n",
    "    if not ix:\n",
    "        tv_df = pandas.DataFrame(user_tv)\n",
    "    else:\n",
    "        tv_df = pandas.concat([tv_df, pandas.DataFrame(user_tv)], ignore_index=True)\n",
    "\n",
    "global_time_end = round(time.time() - global_start_time, 2)\n",
    "print(f\"Total Runtime (seconds): {global_time_end}\")"
   ]
  },
  {
   "attachments": {},
   "cell_type": "markdown",
   "id": "b47279b3",
   "metadata": {},
   "source": [
    "##### User-level results"
   ]
  },
  {
   "cell_type": "code",
   "execution_count": 67,
   "id": "c7f4c0f6",
   "metadata": {
    "ExecuteTime": {
     "end_time": "2023-03-31T13:15:07.380705Z",
     "start_time": "2023-03-31T13:15:07.367867Z"
    }
   },
   "outputs": [
    {
     "data": {
      "text/html": [
       "<div>\n",
       "<style scoped>\n",
       "    .dataframe tbody tr th:only-of-type {\n",
       "        vertical-align: middle;\n",
       "    }\n",
       "\n",
       "    .dataframe tbody tr th {\n",
       "        vertical-align: top;\n",
       "    }\n",
       "\n",
       "    .dataframe thead th {\n",
       "        text-align: right;\n",
       "    }\n",
       "</style>\n",
       "<table border=\"1\" class=\"dataframe\">\n",
       "  <thead>\n",
       "    <tr style=\"text-align: right;\">\n",
       "      <th></th>\n",
       "      <th>r1-start-std</th>\n",
       "      <th>r1-stop-std</th>\n",
       "      <th>r2-start-std</th>\n",
       "      <th>r2-stop-std</th>\n",
       "      <th>user_id</th>\n",
       "      <th>runtime_sec</th>\n",
       "    </tr>\n",
       "  </thead>\n",
       "  <tbody>\n",
       "    <tr>\n",
       "      <th>0</th>\n",
       "      <td>133.735934</td>\n",
       "      <td>79.700690</td>\n",
       "      <td>145.348891</td>\n",
       "      <td>145.173000</td>\n",
       "      <td>part-00000-5551339c-daa2-46af-ad3d-05486818b52d</td>\n",
       "      <td>0.03</td>\n",
       "    </tr>\n",
       "    <tr>\n",
       "      <th>1</th>\n",
       "      <td>48.173644</td>\n",
       "      <td>602.030564</td>\n",
       "      <td>43.410828</td>\n",
       "      <td>43.410828</td>\n",
       "      <td>part-00000-1377f0cb-4454-4ccf-9d1c-5205488cfb3d</td>\n",
       "      <td>0.02</td>\n",
       "    </tr>\n",
       "  </tbody>\n",
       "</table>\n",
       "</div>"
      ],
      "text/plain": [
       "   r1-start-std  r1-stop-std  r2-start-std  r2-stop-std  \\\n",
       "0    133.735934    79.700690    145.348891   145.173000   \n",
       "1     48.173644   602.030564     43.410828    43.410828   \n",
       "\n",
       "                                           user_id  runtime_sec  \n",
       "0  part-00000-5551339c-daa2-46af-ad3d-05486818b52d         0.03  \n",
       "1  part-00000-1377f0cb-4454-4ccf-9d1c-5205488cfb3d         0.02  "
      ]
     },
     "execution_count": 67,
     "metadata": {},
     "output_type": "execute_result"
    }
   ],
   "source": [
    "# Save intermediate data\n",
    "outpath_1 = os.path.join(_out_path_1, f\"{_out_file_base}\")\n",
    "if outpath_1.endswith(\"_\"):\n",
    "    outpath_1 = outpath_1[:-1]\n",
    "outpath_1 = f\"{outpath_1}.csv\"\n",
    "tv_df.to_csv(outpath_1, index=False)\n",
    "tv_df"
   ]
  },
  {
   "attachments": {},
   "cell_type": "markdown",
   "id": "b5e60957",
   "metadata": {},
   "source": [
    "##### Aggregate results"
   ]
  },
  {
   "cell_type": "code",
   "execution_count": 68,
   "id": "ca10c9c8",
   "metadata": {
    "ExecuteTime": {
     "end_time": "2023-03-31T13:15:15.430489Z",
     "start_time": "2023-03-31T13:15:15.421829Z"
    }
   },
   "outputs": [
    {
     "data": {
      "text/plain": [
       "array([133.73593384,  79.70069008, 145.3488906 , 145.17300024,\n",
       "        48.17364425, 602.03056401,  43.41082814,  43.41082814])"
      ]
     },
     "execution_count": 68,
     "metadata": {},
     "output_type": "execute_result"
    }
   ],
   "source": [
    "std_values = tv_df.drop(columns=[\"user_id\", \"runtime_sec\"]).copy().values.flatten()\n",
    "if drop_na:\n",
    "    std_values = std_values[~numpy.isnan(std_values)]\n",
    "std_values"
   ]
  },
  {
   "cell_type": "code",
   "execution_count": 69,
   "id": "86a831b7",
   "metadata": {
    "ExecuteTime": {
     "end_time": "2023-03-31T13:15:16.087984Z",
     "start_time": "2023-03-31T13:15:16.082545Z"
    }
   },
   "outputs": [],
   "source": [
    "# Save aggregate data\n",
    "outpath_2 = os.path.join(_out_path_2, f\"{_out_file_base}\")\n",
    "if outpath_2.endswith(\"_\"):\n",
    "    outpath_2 = outpath_2[:-1]\n",
    "outpath_2 = f\"{outpath_2}.csv\"\n",
    "std_df = pandas.DataFrame(std_values, columns=[\"std\"])\n",
    "std_df.to_csv(outpath_2, index=False)"
   ]
  },
  {
   "attachments": {},
   "cell_type": "markdown",
   "id": "0b345f63",
   "metadata": {},
   "source": [
    "-------------------------------------------------------------\n",
    "\n",
    "### 3.E. M5 – Level of Exploration\n"
   ]
  },
  {
   "cell_type": "code",
   "execution_count": 70,
   "id": "1d984657",
   "metadata": {
    "ExecuteTime": {
     "end_time": "2023-03-31T13:15:25.962291Z",
     "start_time": "2023-03-31T13:15:25.959410Z"
    }
   },
   "outputs": [],
   "source": [
    "metric_label = \"5\"\n",
    "_out_path = agg_metric_dir\n",
    "_out_file_base = metric_output_base.format(metric_label, \"\")"
   ]
  },
  {
   "cell_type": "code",
   "execution_count": 71,
   "id": "c03ece45",
   "metadata": {
    "ExecuteTime": {
     "end_time": "2023-03-31T13:15:26.641637Z",
     "start_time": "2023-03-31T13:15:26.518188Z"
    }
   },
   "outputs": [],
   "source": [
    "from trakit.metrics import exploration\n",
    "dfs = []\n",
    "for ix, uid in enumerate(usp_dfs_processed.keys()):\n",
    "    sp_df = usp_dfs_processed[uid].copy()\n",
    "    dfs.append(exploration.calculate_level_of_exploration(sp_df, uid))\n",
    "df = pandas.concat(dfs)\n",
    "ex = exploration.calculate_freq_pct(df)\n",
    "\n",
    "rf = ex.head(100)\n",
    "outpath = os.path.join(_out_path, f\"{_out_file_base}\")\n",
    "if outpath.endswith(\"_\"):\n",
    "    outpath = outpath[:-1]\n",
    "outpath = f\"{outpath}.csv\"\n",
    "rf.to_csv(outpath)"
   ]
  },
  {
   "cell_type": "code",
   "execution_count": 72,
   "id": "f7383906",
   "metadata": {
    "ExecuteTime": {
     "end_time": "2023-03-31T13:15:27.864590Z",
     "start_time": "2023-03-31T13:15:27.857847Z"
    }
   },
   "outputs": [
    {
     "data": {
      "text/html": [
       "<div>\n",
       "<style scoped>\n",
       "    .dataframe tbody tr th:only-of-type {\n",
       "        vertical-align: middle;\n",
       "    }\n",
       "\n",
       "    .dataframe tbody tr th {\n",
       "        vertical-align: top;\n",
       "    }\n",
       "\n",
       "    .dataframe thead th {\n",
       "        text-align: right;\n",
       "    }\n",
       "</style>\n",
       "<table border=\"1\" class=\"dataframe\">\n",
       "  <thead>\n",
       "    <tr style=\"text-align: right;\">\n",
       "      <th></th>\n",
       "      <th>frequency</th>\n",
       "      <th>frequency_pct</th>\n",
       "    </tr>\n",
       "    <tr>\n",
       "      <th>Rank</th>\n",
       "      <th></th>\n",
       "      <th></th>\n",
       "    </tr>\n",
       "  </thead>\n",
       "  <tbody>\n",
       "    <tr>\n",
       "      <th>1</th>\n",
       "      <td>14</td>\n",
       "      <td>48.275862</td>\n",
       "    </tr>\n",
       "    <tr>\n",
       "      <th>2</th>\n",
       "      <td>14</td>\n",
       "      <td>48.275862</td>\n",
       "    </tr>\n",
       "    <tr>\n",
       "      <th>3</th>\n",
       "      <td>1</td>\n",
       "      <td>3.448276</td>\n",
       "    </tr>\n",
       "  </tbody>\n",
       "</table>\n",
       "</div>"
      ],
      "text/plain": [
       "      frequency  frequency_pct\n",
       "Rank                          \n",
       "1            14      48.275862\n",
       "2            14      48.275862\n",
       "3             1       3.448276"
      ]
     },
     "execution_count": 72,
     "metadata": {},
     "output_type": "execute_result"
    }
   ],
   "source": [
    "rf"
   ]
  },
  {
   "attachments": {},
   "cell_type": "markdown",
   "id": "dcb46d33",
   "metadata": {},
   "source": [
    "-------------------------------------------------------------\n",
    "\n",
    "### 3.F. M6, M7, M8 – Speed and Acceleration Metrics\n"
   ]
  },
  {
   "cell_type": "code",
   "execution_count": 73,
   "id": "98b4ebeb",
   "metadata": {
    "ExecuteTime": {
     "end_time": "2023-03-31T13:15:30.505143Z",
     "start_time": "2023-03-31T13:15:30.499550Z"
    }
   },
   "outputs": [
    {
     "name": "stdout",
     "output_type": "stream",
     "text": [
      "Help on function calculate_kinematics in module trakit.metrics.kinematics:\n",
      "\n",
      "calculate_kinematics(actor_frame: pandas.core.frame.DataFrame, time_delta_limit: int = 300, time_deltas: pandas.core.series.Series = None, valid_times: pandas.core.series.Series = None) -> tuple[pandas.core.series.Series, pandas.core.series.Series]\n",
      "\n",
      "None\n"
     ]
    }
   ],
   "source": [
    "from trakit.metrics import kinematics\n",
    "print(help(kinematics.calculate_kinematics))"
   ]
  },
  {
   "cell_type": "code",
   "execution_count": 75,
   "id": "82bec97b",
   "metadata": {
    "ExecuteTime": {
     "end_time": "2023-03-31T13:23:46.029801Z",
     "start_time": "2023-03-31T13:15:41.254213Z"
    }
   },
   "outputs": [
    {
     "name": "stdout",
     "output_type": "stream",
     "text": [
      "** User/Agent/Actor - part-00000-5551339c-daa2-46af-ad3d-05486818b52d **\n"
     ]
    },
    {
     "data": {
      "text/html": [
       "<div>\n",
       "<style scoped>\n",
       "    .dataframe tbody tr th:only-of-type {\n",
       "        vertical-align: middle;\n",
       "    }\n",
       "\n",
       "    .dataframe tbody tr th {\n",
       "        vertical-align: top;\n",
       "    }\n",
       "\n",
       "    .dataframe thead th {\n",
       "        text-align: right;\n",
       "    }\n",
       "</style>\n",
       "<table border=\"1\" class=\"dataframe\">\n",
       "  <thead>\n",
       "    <tr style=\"text-align: right;\">\n",
       "      <th></th>\n",
       "      <th>uuid</th>\n",
       "      <th>average</th>\n",
       "      <th>speed_edges</th>\n",
       "      <th>speed_agg</th>\n",
       "      <th>outliers</th>\n",
       "    </tr>\n",
       "  </thead>\n",
       "  <tbody>\n",
       "    <tr>\n",
       "      <th>0</th>\n",
       "      <td>part-00000-5551339c-daa2-46af-ad3d-05486818b52d</td>\n",
       "      <td>0.193024</td>\n",
       "      <td>0</td>\n",
       "      <td>NaN</td>\n",
       "      <td>0</td>\n",
       "    </tr>\n",
       "    <tr>\n",
       "      <th>1</th>\n",
       "      <td>part-00000-5551339c-daa2-46af-ad3d-05486818b52d</td>\n",
       "      <td>0.193024</td>\n",
       "      <td>5</td>\n",
       "      <td>597072.0</td>\n",
       "      <td>0</td>\n",
       "    </tr>\n",
       "    <tr>\n",
       "      <th>2</th>\n",
       "      <td>part-00000-5551339c-daa2-46af-ad3d-05486818b52d</td>\n",
       "      <td>0.193024</td>\n",
       "      <td>10</td>\n",
       "      <td>1206.0</td>\n",
       "      <td>0</td>\n",
       "    </tr>\n",
       "    <tr>\n",
       "      <th>3</th>\n",
       "      <td>part-00000-5551339c-daa2-46af-ad3d-05486818b52d</td>\n",
       "      <td>0.193024</td>\n",
       "      <td>15</td>\n",
       "      <td>3786.0</td>\n",
       "      <td>0</td>\n",
       "    </tr>\n",
       "    <tr>\n",
       "      <th>4</th>\n",
       "      <td>part-00000-5551339c-daa2-46af-ad3d-05486818b52d</td>\n",
       "      <td>0.193024</td>\n",
       "      <td>20</td>\n",
       "      <td>981.0</td>\n",
       "      <td>0</td>\n",
       "    </tr>\n",
       "  </tbody>\n",
       "</table>\n",
       "</div>"
      ],
      "text/plain": [
       "                                              uuid   average  speed_edges  \\\n",
       "0  part-00000-5551339c-daa2-46af-ad3d-05486818b52d  0.193024            0   \n",
       "1  part-00000-5551339c-daa2-46af-ad3d-05486818b52d  0.193024            5   \n",
       "2  part-00000-5551339c-daa2-46af-ad3d-05486818b52d  0.193024           10   \n",
       "3  part-00000-5551339c-daa2-46af-ad3d-05486818b52d  0.193024           15   \n",
       "4  part-00000-5551339c-daa2-46af-ad3d-05486818b52d  0.193024           20   \n",
       "\n",
       "   speed_agg  outliers  \n",
       "0        NaN         0  \n",
       "1   597072.0         0  \n",
       "2     1206.0         0  \n",
       "3     3786.0         0  \n",
       "4      981.0         0  "
      ]
     },
     "metadata": {},
     "output_type": "display_data"
    },
    {
     "name": "stdout",
     "output_type": "stream",
     "text": [
      "part-00000-5551339c-daa2-46af-ad3d-05486818b52d process time: 23.78736891702283\n",
      "** User/Agent/Actor - part-00000-1377f0cb-4454-4ccf-9d1c-5205488cfb3d **\n"
     ]
    },
    {
     "data": {
      "text/html": [
       "<div>\n",
       "<style scoped>\n",
       "    .dataframe tbody tr th:only-of-type {\n",
       "        vertical-align: middle;\n",
       "    }\n",
       "\n",
       "    .dataframe tbody tr th {\n",
       "        vertical-align: top;\n",
       "    }\n",
       "\n",
       "    .dataframe thead th {\n",
       "        text-align: right;\n",
       "    }\n",
       "</style>\n",
       "<table border=\"1\" class=\"dataframe\">\n",
       "  <thead>\n",
       "    <tr style=\"text-align: right;\">\n",
       "      <th></th>\n",
       "      <th>uuid</th>\n",
       "      <th>average</th>\n",
       "      <th>speed_edges</th>\n",
       "      <th>speed_agg</th>\n",
       "      <th>outliers</th>\n",
       "    </tr>\n",
       "  </thead>\n",
       "  <tbody>\n",
       "    <tr>\n",
       "      <th>0</th>\n",
       "      <td>part-00000-1377f0cb-4454-4ccf-9d1c-5205488cfb3d</td>\n",
       "      <td>1.391714</td>\n",
       "      <td>0</td>\n",
       "      <td>NaN</td>\n",
       "      <td>0</td>\n",
       "    </tr>\n",
       "    <tr>\n",
       "      <th>1</th>\n",
       "      <td>part-00000-1377f0cb-4454-4ccf-9d1c-5205488cfb3d</td>\n",
       "      <td>1.391714</td>\n",
       "      <td>5</td>\n",
       "      <td>561713.0</td>\n",
       "      <td>0</td>\n",
       "    </tr>\n",
       "    <tr>\n",
       "      <th>2</th>\n",
       "      <td>part-00000-1377f0cb-4454-4ccf-9d1c-5205488cfb3d</td>\n",
       "      <td>1.391714</td>\n",
       "      <td>10</td>\n",
       "      <td>1243.0</td>\n",
       "      <td>0</td>\n",
       "    </tr>\n",
       "    <tr>\n",
       "      <th>3</th>\n",
       "      <td>part-00000-1377f0cb-4454-4ccf-9d1c-5205488cfb3d</td>\n",
       "      <td>1.391714</td>\n",
       "      <td>15</td>\n",
       "      <td>6962.0</td>\n",
       "      <td>0</td>\n",
       "    </tr>\n",
       "    <tr>\n",
       "      <th>4</th>\n",
       "      <td>part-00000-1377f0cb-4454-4ccf-9d1c-5205488cfb3d</td>\n",
       "      <td>1.391714</td>\n",
       "      <td>20</td>\n",
       "      <td>14423.0</td>\n",
       "      <td>0</td>\n",
       "    </tr>\n",
       "  </tbody>\n",
       "</table>\n",
       "</div>"
      ],
      "text/plain": [
       "                                              uuid   average  speed_edges  \\\n",
       "0  part-00000-1377f0cb-4454-4ccf-9d1c-5205488cfb3d  1.391714            0   \n",
       "1  part-00000-1377f0cb-4454-4ccf-9d1c-5205488cfb3d  1.391714            5   \n",
       "2  part-00000-1377f0cb-4454-4ccf-9d1c-5205488cfb3d  1.391714           10   \n",
       "3  part-00000-1377f0cb-4454-4ccf-9d1c-5205488cfb3d  1.391714           15   \n",
       "4  part-00000-1377f0cb-4454-4ccf-9d1c-5205488cfb3d  1.391714           20   \n",
       "\n",
       "   speed_agg  outliers  \n",
       "0        NaN         0  \n",
       "1   561713.0         0  \n",
       "2     1243.0         0  \n",
       "3     6962.0         0  \n",
       "4    14423.0         0  "
      ]
     },
     "metadata": {},
     "output_type": "display_data"
    },
    {
     "name": "stdout",
     "output_type": "stream",
     "text": [
      "part-00000-1377f0cb-4454-4ccf-9d1c-5205488cfb3d process time: 23.55205116898287\n",
      "metric process time: 47.34025403589476\n"
     ]
    }
   ],
   "source": [
    "# M6 speed and M8 acceleration are calculated in the same step with calculate_kinematics\n",
    "# M7 is calculated using the speed output to count violations\n",
    "\n",
    "metric_start = time.perf_counter()\n",
    "speed_by_uid = dict()\n",
    "acceleration_by_uid = dict()\n",
    "\n",
    "for inpath in _actor_files:\n",
    "    user_start = time.perf_counter()\n",
    "    uid = os.path.basename(inpath).rsplit(\".\")[0]\n",
    "    print(f\"** User/Agent/Actor - {uid} **\")\n",
    "    \n",
    "    #user_data = pandas.read_csv(inpath, index_col=0)\n",
    "    user_data = pandas.read_parquet(inpath)\n",
    "    user_data[\"timestamp\"] = user_data[\"timestamp\"].map(\n",
    "        lambda x: pandas.Timestamp(x).timestamp()\n",
    "    )\n",
    "    \n",
    "    speed, acceleration = kinematics.calculate_kinematics(user_data)\n",
    "    \n",
    "    # averages\n",
    "    speed_avg = speed.mean()\n",
    "    acceleration_avg = acceleration.mean()\n",
    "    \n",
    "    # bin edges\n",
    "    speed_edges = list(range(0, 101, 5))\n",
    "    acceleration_edges = list(range(-10, 11, 1))\n",
    "    \n",
    "    # aggregate histograms\n",
    "    speed_hist = kinematics.speed_histogram(speed, speed_edges)\n",
    "    acceleration_hist = kinematics.acceleration_histogram(\n",
    "        acceleration, acceleration_edges\n",
    "    )\n",
    "    \n",
    "    # outliers: convenient function for speed, inference for acceleration\n",
    "    speed_outliers = kinematics.calculate_speed_violations(speed)\n",
    "    acceleration_outliers = acceleration.shape[0] - acceleration_hist.sum()\n",
    "    \n",
    "    # speed and acceleration to df for caching and later export\n",
    "    # --> for ``'speed_agg'`` align lists with a fill NaN\n",
    "    speed_df = pandas.DataFrame({\n",
    "        \"uuid\": uid,\n",
    "        \"average\": speed_avg,\n",
    "        \"speed_edges\": speed_edges,\n",
    "        \"speed_agg\": itertools.chain([numpy.NaN], speed_hist),\n",
    "        \"outliers\": speed_outliers\n",
    "    })\n",
    "    # --> for ``'acceleration_agg'`` align lists with a fill NaN\n",
    "    acceleration_df = pandas.DataFrame({\n",
    "        \"uuid\": uid,\n",
    "        \"average\": acceleration_avg,\n",
    "        \"acceleration_edges\": acceleration_edges,\n",
    "        \"acceleration_agg\": itertools.chain([numpy.NaN], acceleration_hist),\n",
    "        \"outliers\": acceleration_outliers\n",
    "    })\n",
    "    display(speed_df.head())\n",
    "    print(f\"{uid} process time: {time.perf_counter()-user_start}\")\n",
    "    \n",
    "    # cache values\n",
    "    speed_by_uid[uid] = speed_df\n",
    "    acceleration_by_uid[uid] = acceleration_df\n",
    "\n",
    "print(f\"metric process time: {time.perf_counter()-metric_start}\")"
   ]
  },
  {
   "cell_type": "code",
   "execution_count": 77,
   "id": "2c99b002",
   "metadata": {
    "ExecuteTime": {
     "end_time": "2023-03-31T13:23:46.061417Z",
     "start_time": "2023-03-31T13:23:46.032852Z"
    }
   },
   "outputs": [],
   "source": [
    "# save the three metrics\n",
    "# while M7 will exist within the output of M6,\n",
    "#    M7 will also be output as a duplicate of M6 for file consistency\n",
    "# output speed first\n",
    "\n",
    "# set up output path\n",
    "metric_label = \"6\"\n",
    "_out_path = agg_metric_dir\n",
    "_out_file_base = metric_output_base.format(metric_label, \"\")\n",
    "out_path = os.path.join(_out_path, _out_file_base)\n",
    "if out_path.endswith(\"_\"):\n",
    "    out_path = out_path[:-1]\n",
    "out_path = f\"{out_path}.csv\"\n",
    "\n",
    "# stack all the speed dataframes and output them\n",
    "speed_df_stack = pandas.concat(list(speed_by_uid.values()), ignore_index=True)\n",
    "speed_df_stack.to_csv(out_path, index=False)\n",
    "\n",
    "# speed again but for M7\n",
    "# set up output path\n",
    "metric_label = \"7\"\n",
    "_out_path = agg_metric_dir\n",
    "_out_file_base = metric_output_base.format(metric_label, \"\")\n",
    "out_path = os.path.join(_out_path, _out_file_base)\n",
    "if out_path.endswith(\"_\"):\n",
    "    out_path = out_path[:-1]\n",
    "out_path = f\"{out_path}.csv\"\n",
    "\n",
    "# stack all the speed dataframes and output them\n",
    "speed_df_stack = pandas.concat(list(speed_by_uid.values()), ignore_index=True)\n",
    "speed_df_stack.to_csv(out_path, index=False)\n",
    "\n",
    "# and then output acceleration\n",
    "metric_label = \"8\"\n",
    "_out_path = agg_metric_dir\n",
    "_out_file_base = metric_output_base.format(metric_label, \"\")\n",
    "out_path = os.path.join(_out_path, _out_file_base)\n",
    "if out_path.endswith(\"_\"):\n",
    "    out_path = out_path[:-1]\n",
    "out_path = f\"{out_path}.csv\"\n",
    "\n",
    "# stack all the acceleration dataframes and output them\n",
    "acceleration_df_stack = pandas.concat(\n",
    "    list(acceleration_by_uid.values()), ignore_index=True\n",
    ")\n",
    "acceleration_df_stack.to_csv(out_path, index=False)"
   ]
  },
  {
   "attachments": {},
   "cell_type": "markdown",
   "id": "edd46e87",
   "metadata": {},
   "source": [
    "-------------------------------------------------------------\n",
    "\n",
    "### 3.G. M9 – Travel Time Information\n",
    "\n"
   ]
  },
  {
   "cell_type": "code",
   "execution_count": 78,
   "id": "e56fab2e",
   "metadata": {
    "ExecuteTime": {
     "end_time": "2023-03-31T13:23:46.066167Z",
     "start_time": "2023-03-31T13:23:46.063382Z"
    }
   },
   "outputs": [],
   "source": [
    "from trakit import calculate_travel_time"
   ]
  },
  {
   "attachments": {},
   "cell_type": "markdown",
   "id": "579f3268",
   "metadata": {},
   "source": [
    "#### Generate user-level Travel Time"
   ]
  },
  {
   "cell_type": "code",
   "execution_count": 79,
   "id": "bc2b5f85",
   "metadata": {
    "ExecuteTime": {
     "end_time": "2023-03-31T13:23:46.073489Z",
     "start_time": "2023-03-31T13:23:46.070362Z"
    }
   },
   "outputs": [],
   "source": [
    "metric_label = \"9\""
   ]
  },
  {
   "cell_type": "code",
   "execution_count": 80,
   "id": "876c08b4",
   "metadata": {
    "ExecuteTime": {
     "end_time": "2023-03-31T13:23:46.111349Z",
     "start_time": "2023-03-31T13:23:46.075712Z"
    }
   },
   "outputs": [],
   "source": [
    "travel_times = []\n",
    "\n",
    "for uid, sp in sp_dfs_processed.items():\n",
    "    \n",
    "    sp_df = sp.copy()\n",
    "    travel_time = calculate_travel_time(sp_df)\n",
    "    travel_times.append(pandas.DataFrame({'uid': uid, 'travel_time': travel_time}))\n",
    "\n",
    "travel_times_df = pandas.concat(travel_times).reset_index(drop=True)"
   ]
  },
  {
   "attachments": {},
   "cell_type": "markdown",
   "id": "98f187f7",
   "metadata": {},
   "source": [
    "##### Demonstrating 1 user's Travel Time data"
   ]
  },
  {
   "cell_type": "code",
   "execution_count": 81,
   "id": "5ee7ec3c",
   "metadata": {
    "ExecuteTime": {
     "end_time": "2023-03-31T13:23:46.122714Z",
     "start_time": "2023-03-31T13:23:46.113778Z"
    }
   },
   "outputs": [
    {
     "data": {
      "text/html": [
       "<div>\n",
       "<style scoped>\n",
       "    .dataframe tbody tr th:only-of-type {\n",
       "        vertical-align: middle;\n",
       "    }\n",
       "\n",
       "    .dataframe tbody tr th {\n",
       "        vertical-align: top;\n",
       "    }\n",
       "\n",
       "    .dataframe thead th {\n",
       "        text-align: right;\n",
       "    }\n",
       "</style>\n",
       "<table border=\"1\" class=\"dataframe\">\n",
       "  <thead>\n",
       "    <tr style=\"text-align: right;\">\n",
       "      <th></th>\n",
       "      <th>uid</th>\n",
       "      <th>travel_time</th>\n",
       "    </tr>\n",
       "  </thead>\n",
       "  <tbody>\n",
       "    <tr>\n",
       "      <th>1</th>\n",
       "      <td>part-00000-5551339c-daa2-46af-ad3d-05486818b52d</td>\n",
       "      <td>770.0</td>\n",
       "    </tr>\n",
       "    <tr>\n",
       "      <th>2</th>\n",
       "      <td>part-00000-5551339c-daa2-46af-ad3d-05486818b52d</td>\n",
       "      <td>448.0</td>\n",
       "    </tr>\n",
       "    <tr>\n",
       "      <th>3</th>\n",
       "      <td>part-00000-5551339c-daa2-46af-ad3d-05486818b52d</td>\n",
       "      <td>735.0</td>\n",
       "    </tr>\n",
       "    <tr>\n",
       "      <th>4</th>\n",
       "      <td>part-00000-5551339c-daa2-46af-ad3d-05486818b52d</td>\n",
       "      <td>530.0</td>\n",
       "    </tr>\n",
       "    <tr>\n",
       "      <th>5</th>\n",
       "      <td>part-00000-5551339c-daa2-46af-ad3d-05486818b52d</td>\n",
       "      <td>701.0</td>\n",
       "    </tr>\n",
       "    <tr>\n",
       "      <th>6</th>\n",
       "      <td>part-00000-5551339c-daa2-46af-ad3d-05486818b52d</td>\n",
       "      <td>578.0</td>\n",
       "    </tr>\n",
       "    <tr>\n",
       "      <th>7</th>\n",
       "      <td>part-00000-5551339c-daa2-46af-ad3d-05486818b52d</td>\n",
       "      <td>723.0</td>\n",
       "    </tr>\n",
       "    <tr>\n",
       "      <th>8</th>\n",
       "      <td>part-00000-5551339c-daa2-46af-ad3d-05486818b52d</td>\n",
       "      <td>480.0</td>\n",
       "    </tr>\n",
       "    <tr>\n",
       "      <th>9</th>\n",
       "      <td>part-00000-5551339c-daa2-46af-ad3d-05486818b52d</td>\n",
       "      <td>704.0</td>\n",
       "    </tr>\n",
       "    <tr>\n",
       "      <th>10</th>\n",
       "      <td>part-00000-5551339c-daa2-46af-ad3d-05486818b52d</td>\n",
       "      <td>572.0</td>\n",
       "    </tr>\n",
       "    <tr>\n",
       "      <th>11</th>\n",
       "      <td>part-00000-5551339c-daa2-46af-ad3d-05486818b52d</td>\n",
       "      <td>712.0</td>\n",
       "    </tr>\n",
       "    <tr>\n",
       "      <th>12</th>\n",
       "      <td>part-00000-5551339c-daa2-46af-ad3d-05486818b52d</td>\n",
       "      <td>560.0</td>\n",
       "    </tr>\n",
       "    <tr>\n",
       "      <th>13</th>\n",
       "      <td>part-00000-5551339c-daa2-46af-ad3d-05486818b52d</td>\n",
       "      <td>820.0</td>\n",
       "    </tr>\n",
       "  </tbody>\n",
       "</table>\n",
       "</div>"
      ],
      "text/plain": [
       "                                                uid travel_time\n",
       "1   part-00000-5551339c-daa2-46af-ad3d-05486818b52d       770.0\n",
       "2   part-00000-5551339c-daa2-46af-ad3d-05486818b52d       448.0\n",
       "3   part-00000-5551339c-daa2-46af-ad3d-05486818b52d       735.0\n",
       "4   part-00000-5551339c-daa2-46af-ad3d-05486818b52d       530.0\n",
       "5   part-00000-5551339c-daa2-46af-ad3d-05486818b52d       701.0\n",
       "6   part-00000-5551339c-daa2-46af-ad3d-05486818b52d       578.0\n",
       "7   part-00000-5551339c-daa2-46af-ad3d-05486818b52d       723.0\n",
       "8   part-00000-5551339c-daa2-46af-ad3d-05486818b52d       480.0\n",
       "9   part-00000-5551339c-daa2-46af-ad3d-05486818b52d       704.0\n",
       "10  part-00000-5551339c-daa2-46af-ad3d-05486818b52d       572.0\n",
       "11  part-00000-5551339c-daa2-46af-ad3d-05486818b52d       712.0\n",
       "12  part-00000-5551339c-daa2-46af-ad3d-05486818b52d       560.0\n",
       "13  part-00000-5551339c-daa2-46af-ad3d-05486818b52d       820.0"
      ]
     },
     "execution_count": 81,
     "metadata": {},
     "output_type": "execute_result"
    }
   ],
   "source": [
    "travel_times[0]"
   ]
  },
  {
   "attachments": {},
   "cell_type": "markdown",
   "id": "1495d91a",
   "metadata": {},
   "source": [
    "#### Aggregate user-levelTravel Time for one combined file"
   ]
  },
  {
   "cell_type": "code",
   "execution_count": 82,
   "id": "b1e06590",
   "metadata": {
    "ExecuteTime": {
     "end_time": "2023-03-31T13:23:46.128791Z",
     "start_time": "2023-03-31T13:23:46.125613Z"
    }
   },
   "outputs": [],
   "source": [
    "_out_path = agg_metric_dir\n",
    "_out_file_base = metric_output_base.format(metric_label, \"\")\n",
    "out_path = os.path.join(_out_path, f\"{_out_file_base}\")\n",
    "if out_path.endswith(\"_\"):\n",
    "    out_path = out_path[:-1]\n",
    "out_path = f\"{out_path}.csv\""
   ]
  },
  {
   "cell_type": "code",
   "execution_count": 83,
   "id": "83b0f72a",
   "metadata": {
    "ExecuteTime": {
     "end_time": "2023-03-31T13:23:46.139328Z",
     "start_time": "2023-03-31T13:23:46.131350Z"
    }
   },
   "outputs": [],
   "source": [
    "travel_times_df.to_csv(out_path, index=False)"
   ]
  },
  {
   "attachments": {},
   "cell_type": "markdown",
   "id": "bdec99a5",
   "metadata": {},
   "source": [
    "-------------------------------------------------------------\n",
    "\n",
    "### 3.H. M10, M11 – Pairwise Encounter Frequency and Inter-encounter Time\n"
   ]
  },
  {
   "cell_type": "code",
   "execution_count": 84,
   "id": "a0da26f3",
   "metadata": {
    "ExecuteTime": {
     "end_time": "2023-03-31T13:23:46.148272Z",
     "start_time": "2023-03-31T13:23:46.142907Z"
    }
   },
   "outputs": [
    {
     "name": "stdout",
     "output_type": "stream",
     "text": [
      "Help on function resolve_collisions in module trakit.metrics.pairwise_encounters:\n",
      "\n",
      "resolve_collisions(stops_list: list[trakit.stop_unique.UniqueStop], actor_id_left: str, actor_id_right: str, stops_pattern: str = 'data/output/humonet/preprocess/sl_l1_sp_{}.csv', unique_stops_pattern: str = 'data/output/humonet/preprocess/sl_l2_usp_{}.csv') -> list[dict]\n",
      "    Get collisions between two actors from set unique stop points\n",
      "    \n",
      "    Parameters\n",
      "    ----------\n",
      "    stops_list: list[UniqueStop]\n",
      "        List of set unique stop points\n",
      "    actor_id_left: str\n",
      "        uid of first colliding actor\n",
      "    actor_id_right: str\n",
      "        uid of second colliding actor\n",
      "    stops_pattern: str\n",
      "        string that may be uid formatted to produce a valid stop points path\n",
      "    unique_stops_pattern: str\n",
      "        string that may be uid formatted to produce a valid unique stop points path\n",
      "    \n",
      "    Returns\n",
      "    -------\n",
      "        List of stops by possible collisions with actual collisions added\n",
      "\n",
      "None\n"
     ]
    }
   ],
   "source": [
    "stops_formatter = os.path.join(\n",
    "    prep_dir, \"{}_{}.csv\".format(prep_sl_l1_sp_base, \"{}\")\n",
    ")\n",
    "unique_stops_formatter = os.path.join(\n",
    "    prep_dir, \"{}_{}.csv\".format(prep_sl_l2_usp_base, \"{}\")\n",
    ")\n",
    "set_unique_stops_path = os.path.join(\n",
    "    prep_dir, f\"{prep_sl_l3_susp_base}.csv\"\n",
    ")\n",
    "\n",
    "print(help(trakit.pairwise_encounters.resolve_collisions))"
   ]
  },
  {
   "cell_type": "code",
   "execution_count": 85,
   "id": "36b499b7",
   "metadata": {
    "ExecuteTime": {
     "end_time": "2023-03-31T13:23:46.158474Z",
     "start_time": "2023-03-31T13:23:46.155814Z"
    }
   },
   "outputs": [],
   "source": [
    "iett_col = \"interencounter_time_total\"\n",
    "etr_col = \"encounters_time_range\""
   ]
  },
  {
   "cell_type": "code",
   "execution_count": 86,
   "id": "8cffd2f6",
   "metadata": {
    "ExecuteTime": {
     "end_time": "2023-03-31T13:23:46.818424Z",
     "start_time": "2023-03-31T13:23:46.161129Z"
    }
   },
   "outputs": [
    {
     "name": "stdout",
     "output_type": "stream",
     "text": [
      "Runtime:  0.002729105995967984\n"
     ]
    }
   ],
   "source": [
    "set_unique_stops = trakit.stop_unique.unique_stop_points_from_file(\n",
    "    set_unique_stops_path\n",
    ")\n",
    "\n",
    "uid_list = [\n",
    "    os.path.basename(filename)[len(prep_sl_l1_sp_base)+1:-4]\n",
    "    for filename\n",
    "    in glob.glob(os.path.join(prep_dir, f\"{prep_sl_l1_sp_base}_*.csv\"))\n",
    "]\n",
    "\n",
    "pair_stats_list = list()\n",
    "\n",
    "start_time = time.perf_counter()\n",
    "\n",
    "for left_actor in uid_list[:-1]:\n",
    "    for right_actor in uid_list[1:]:\n",
    "        if left_actor == right_actor:\n",
    "            continue\n",
    "\n",
    "        collisions = trakit.pairwise_encounters.resolve_collisions(\n",
    "            set_unique_stops,\n",
    "            left_actor,\n",
    "            right_actor,\n",
    "            stops_pattern=stops_formatter,\n",
    "            unique_stops_pattern=unique_stops_formatter\n",
    "        )\n",
    "        collision_stats = trakit.pairwise_encounters.pairwise_statistics(collisions)\n",
    "        pair_stats_list.append({\n",
    "            \"left_actor\": left_actor,\n",
    "            \"right_actor\": right_actor,\n",
    "            \"encounters\": collision_stats[0],\n",
    "            iett_col: collision_stats[1],\n",
    "            etr_col: collision_stats[2],\n",
    "            \"interencounter_list\": collision_stats[3]\n",
    "        })\n",
    "\n",
    "pair_stats_frame = pandas.DataFrame.from_records(pair_stats_list)\n",
    "print(\"Runtime: \", time.perf_counter() - start_time)"
   ]
  },
  {
   "cell_type": "code",
   "execution_count": 87,
   "id": "4813f7b5",
   "metadata": {
    "ExecuteTime": {
     "end_time": "2023-03-31T13:23:46.835221Z",
     "start_time": "2023-03-31T13:23:46.821653Z"
    }
   },
   "outputs": [],
   "source": [
    "pair_stats_frame[iett_col] = pair_stats_frame[iett_col].map(\n",
    "    datetime.timedelta.total_seconds\n",
    ")\n",
    "pair_stats_frame[etr_col] = pair_stats_frame[etr_col].map(\n",
    "    datetime.timedelta.total_seconds\n",
    ")\n",
    "\n",
    "metric_label = \"10\"\n",
    "_out_path = agg_metric_dir\n",
    "_out_file_base = metric_output_base.format(metric_label, \"\")\n",
    "out_path = os.path.join(_out_path, _out_file_base)\n",
    "if out_path.endswith(\"_\"):\n",
    "    out_path = out_path[:-1]\n",
    "out_path = f\"{out_path}.csv\"\n",
    "pair_stats_frame.to_csv(out_path)\n",
    "\n",
    "metric_label = \"11\"\n",
    "_out_path = agg_metric_dir\n",
    "_out_file_base = metric_output_base.format(metric_label, \"\")\n",
    "out_path = os.path.join(_out_path, _out_file_base)\n",
    "if out_path.endswith(\"_\"):\n",
    "    out_path = out_path[:-1]\n",
    "out_path = f\"{out_path}.csv\"\n",
    "pair_stats_frame.to_csv(out_path)"
   ]
  },
  {
   "attachments": {},
   "cell_type": "markdown",
   "id": "f30e0692",
   "metadata": {},
   "source": [
    "-------------------------------------------------------------\n",
    "-------------------------------------------------------------\n",
    "-------------------------------------------------------------\n",
    "\n",
    "## 4. Metrics: Location\n",
    "### 4.A. M12 – O-D Probability\n",
    "\n",
    "Main function call:\n",
    "* `trakit.region_od_matrix()`"
   ]
  },
  {
   "cell_type": "code",
   "execution_count": 88,
   "id": "5bd5bbed",
   "metadata": {
    "ExecuteTime": {
     "end_time": "2023-03-31T13:23:46.841723Z",
     "start_time": "2023-03-31T13:23:46.838012Z"
    }
   },
   "outputs": [],
   "source": [
    "from trakit.metrics.od_probability import (\n",
    "    read_aoi_regions, roi_od_template, assign_points_to_regions, normalize\n",
    ")"
   ]
  },
  {
   "cell_type": "code",
   "execution_count": 89,
   "id": "524337fa",
   "metadata": {
    "ExecuteTime": {
     "end_time": "2023-03-31T13:23:46.849476Z",
     "start_time": "2023-03-31T13:23:46.845022Z"
    }
   },
   "outputs": [
    {
     "name": "stdout",
     "output_type": "stream",
     "text": [
      "Help on function region_od_matrix in module trakit.metrics.od_probability:\n",
      "\n",
      "region_od_matrix(points: str | pandas.core.frame.DataFrame | geopandas.geodataframe.GeoDataFrame, trips: str | pandas.core.frame.DataFrame, regions: geopandas.geodataframe.GeoDataFrame, matrix_template: pandas.core.frame.DataFrame, normalizer: str = 'max', stop_id: str = 'id', region_id: str = 'h3_address', ycol: str = 'latitude', xcol: str = 'longitude', tinfo_col: str = 'trip_info', trip_count: str = 'n_trips', f: str = 'from', t: str = 'to', freg: str = 'from_region', treg: str = 'to_region', keep_dups: str | bool = 'first', verbose: bool = False)\n",
      "    Generate a single user's OD matix.\n",
      "    \n",
      "    Parameters\n",
      "    ----------\n",
      "    \n",
      "    points : str | pandas.DataFrame | geopandas.GeoDataframe\n",
      "        Stop Locations either Level-2 or Level-3 (Unique or Set Unique).\n",
      "    trips : str | pandas.DataFrame\n",
      "        Either TTLL or Set-TTLL.\n",
      "    regions : geopandas.GeoDataframe\n",
      "        Region polygons covering the AOI.\n",
      "    matrix_template : pandas.DataFrame\n",
      "        From All <--> To All region OD matrix template.\n",
      "    normalizer : str | None (default 'max')\n",
      "        Normalizer for probablity calculation. Valid values are ``{'max', 'sum'}``.\n",
      "        Set to ``None`` for raw counts.\n",
      "    stop_id : str (default 'id')\n",
      "        Stop Locations ID column in ``points``.\n",
      "    region_id : str (default 'h3_address')\n",
      "        Region ID column in ``regions``.\n",
      "    ycol : str (default is 'latitude')\n",
      "        Y / latitude column in ``udf``.\n",
      "    xcol : str (default is 'longitude')\n",
      "        X / longitude column in ``udf``.\n",
      "    tinfo_col: str (default 'trip_info')\n",
      "        Trip information column name in ``ttll_data`` in the following\n",
      "        format: ``[<count>, [[t0_0, t1_0], [t0_1, t1_1], ...]]]``\n",
      "    trip_count : str (default 'n_trips')\n",
      "        Trip count column name to add. Within ``trips`` (the TTLL structure)\n",
      "        this is the first element in the ``'trip_info'`` column, which represents\n",
      "        the count of trips between the ``f`` and ``t`` nodes.\n",
      "    f : str (default 'from')\n",
      "        From node column name in ``trips`` dataframes.\n",
      "    t : str (default 'to')\n",
      "        To node column name in ``trips`` dataframes.\n",
      "    freg : str (default 'from_region')\n",
      "        From Region column name to add to ``trips``.\n",
      "    treg : str (default 'to_region')\n",
      "        To Region column name to add to ``trips``.\n",
      "    keep_dups : str | bool (default 'first')\n",
      "        Logic to apply when a stop point falls exactly on the bounds of more than\n",
      "        one region. See ``pandas.DataFrame.drop_duplicates()``.\n",
      "    verbose : bool (default False)\n",
      "        Throw a warning when dropping duplicates. See ``keep_dups()``.\n",
      "    \n",
      "    Returns\n",
      "    -------\n",
      "    \n",
      "    od_matrix : pandas.DataFrame\n",
      "        OD counts (or normalized value) matrix between all\n",
      "        Regions in an AOI for a single user.\n",
      "\n",
      "None\n"
     ]
    }
   ],
   "source": [
    "print(help(trakit.region_od_matrix))"
   ]
  },
  {
   "attachments": {},
   "cell_type": "markdown",
   "id": "c03e2ba9",
   "metadata": {},
   "source": [
    "#### Parameters:\n",
    "* `hex_level`\n",
    "  * Uber H3 Hexagons level. We're using '5' here.\n",
    "\n",
    "#### Read region polygons"
   ]
  },
  {
   "cell_type": "code",
   "execution_count": 90,
   "id": "1d36252a",
   "metadata": {
    "ExecuteTime": {
     "end_time": "2023-03-31T13:23:46.857051Z",
     "start_time": "2023-03-31T13:23:46.852764Z"
    }
   },
   "outputs": [
    {
     "name": "stdout",
     "output_type": "stream",
     "text": [
      "Help on function read_aoi_regions in module trakit.metrics.od_probability:\n",
      "\n",
      "read_aoi_regions(regions: str) -> geopandas.geodataframe.GeoDataFrame\n",
      "    Read in regions data.\n",
      "    \n",
      "    Parameters\n",
      "    ----------\n",
      "    \n",
      "    regions : str\n",
      "        Path to regions data.\n",
      "    \n",
      "    Returns\n",
      "    -------\n",
      "    \n",
      "    regions : geopandas.GeoDataFrame\n",
      "        AOI regions/areas.\n",
      "\n",
      "None\n"
     ]
    }
   ],
   "source": [
    "print(help(read_aoi_regions))"
   ]
  },
  {
   "cell_type": "code",
   "execution_count": 162,
   "id": "413c0f05",
   "metadata": {},
   "outputs": [
    {
     "name": "stdout",
     "output_type": "stream",
     "text": [
      "158\n",
      "     index  h3_id  \\\n",
      "0        0      0   \n",
      "1        0      1   \n",
      "2        0      2   \n",
      "3        0      3   \n",
      "4        0      4   \n",
      "..     ...    ...   \n",
      "153      0    153   \n",
      "154      0    154   \n",
      "155      0    155   \n",
      "156      0    156   \n",
      "157      0    157   \n",
      "\n",
      "                                                                                                                                            geometry  \n",
      "0    POLYGON ((103.74620 1.35609, 103.74304 1.36915, 103.73006 1.37273, 103.72024 1.36324, 103.72340 1.35019, 103.73638 1.34661, 103.74620 1.35609))  \n",
      "1    POLYGON ((103.83071 1.35717, 103.82756 1.37023, 103.81458 1.37381, 103.80476 1.36433, 103.80792 1.35127, 103.82090 1.34769, 103.83071 1.35717))  \n",
      "2    POLYGON ((103.88016 1.45324, 103.87700 1.46630, 103.86403 1.46988, 103.85421 1.46040, 103.85736 1.44734, 103.87034 1.44376, 103.88016 1.45324))  \n",
      "3    POLYGON ((103.68064 1.27666, 103.67747 1.28971, 103.66449 1.29329, 103.65467 1.28380, 103.65784 1.27075, 103.67082 1.26718, 103.68064 1.27666))  \n",
      "4    POLYGON ((103.66830 1.37755, 103.66514 1.39062, 103.65215 1.39419, 103.64233 1.38471, 103.64550 1.37165, 103.65848 1.36807, 103.66830 1.37755))  \n",
      "..                                                                                                                                               ...  \n",
      "153  POLYGON ((103.81739 1.31210, 103.81424 1.32516, 103.80126 1.32873, 103.79145 1.31925, 103.79460 1.30620, 103.80758 1.30262, 103.81739 1.31210))  \n",
      "154  POLYGON ((103.67114 1.31583, 103.66798 1.32889, 103.65500 1.33246, 103.64518 1.32298, 103.64834 1.30992, 103.66133 1.30634, 103.67114 1.31583))  \n",
      "155  POLYGON ((103.82405 1.33464, 103.82090 1.34769, 103.80792 1.35127, 103.79811 1.34179, 103.80126 1.32873, 103.81424 1.32516, 103.82405 1.33464))  \n",
      "156  POLYGON ((103.86683 1.40816, 103.86367 1.42122, 103.85070 1.42479, 103.84088 1.41531, 103.84404 1.40225, 103.85701 1.39867, 103.86683 1.40816))  \n",
      "157  POLYGON ((103.78231 1.40708, 103.77915 1.42015, 103.76617 1.42373, 103.75635 1.41424, 103.75951 1.40118, 103.77249 1.39760, 103.78231 1.40708))  \n",
      "\n",
      "[158 rows x 3 columns]\n"
     ]
    }
   ],
   "source": [
    "# resample the area with H3 Hexagons\n",
    "import geopandas as gpd\n",
    "import h3pandas\n",
    "\n",
    "resolution = 7\n",
    "gdf = gpd.read_file(aux_dir + os.sep + hex_base)\n",
    "gdf = gdf.h3.polyfill_resample(resolution)\n",
    "print(len(gdf))\n",
    "gdf = gdf.reset_index(drop=True)\n",
    "gdf.insert(1, \"h3_id\", range(len(gdf)), True)\n",
    "print(gdf)"
   ]
  },
  {
   "cell_type": "code",
   "execution_count": 163,
   "id": "fc58128d",
   "metadata": {
    "ExecuteTime": {
     "end_time": "2023-03-31T13:23:48.434416Z",
     "start_time": "2023-03-31T13:23:46.859444Z"
    }
   },
   "outputs": [
    {
     "data": {
      "image/png": "[encoded data removed]",
      "text/plain": [
       "<Figure size 640x480 with 1 Axes>"
      ]
     },
     "metadata": {},
     "output_type": "display_data"
    }
   ],
   "source": [
    "#hex_level = \"5\"\n",
    "#hex_file = os.path.join(aux_dir, hex_base.format(hex_level))\n",
    "hexagons = gdf # read_aoi_regions(hex_file)\n",
    "base = hexagons.plot(alpha=.25, ec=\"k\", zorder=1)"
   ]
  },
  {
   "cell_type": "code",
   "execution_count": 164,
   "id": "e2396dc7",
   "metadata": {},
   "outputs": [
    {
     "data": {
      "text/plain": [
       "0        0\n",
       "1        1\n",
       "2        2\n",
       "3        3\n",
       "4        4\n",
       "      ... \n",
       "153    153\n",
       "154    154\n",
       "155    155\n",
       "156    156\n",
       "157    157\n",
       "Name: h3_id, Length: 158, dtype: int64"
      ]
     },
     "execution_count": 164,
     "metadata": {},
     "output_type": "execute_result"
    }
   ],
   "source": [
    "hexagons['h3_id']"
   ]
  },
  {
   "attachments": {},
   "cell_type": "markdown",
   "id": "ee57ddc6",
   "metadata": {},
   "source": [
    "#### Generate OD matrix template of regions"
   ]
  },
  {
   "cell_type": "code",
   "execution_count": 165,
   "id": "485237f1",
   "metadata": {
    "ExecuteTime": {
     "end_time": "2023-03-31T13:23:48.443965Z",
     "start_time": "2023-03-31T13:23:48.438920Z"
    }
   },
   "outputs": [
    {
     "name": "stdout",
     "output_type": "stream",
     "text": [
      "Help on function roi_od_template in module trakit.metrics.od_probability:\n",
      "\n",
      "roi_od_template(region_id_series: pandas.core.series.Series | geopandas.geoseries.GeoSeries, freg: str = 'from_region', treg: str = 'to_region')\n",
      "    Create the full AOI OD template for regions.\n",
      "    \n",
      "    Parameters\n",
      "    ----------\n",
      "    \n",
      "    region_id_series : pandas.Series | geopandas.GeoSeries\n",
      "        Region IDs.\n",
      "    freg : str (default is 'from_region')\n",
      "        From region name (index).\n",
      "    treg : str (default is 'to_region')\n",
      "        To region name (columns).\n",
      "    \n",
      "    Returns\n",
      "    -------\n",
      "    \n",
      "    od_template : pandas.DataFrame\n",
      "        full OD region template for AOI.\n",
      "\n",
      "None\n"
     ]
    }
   ],
   "source": [
    "print(help(roi_od_template))"
   ]
  },
  {
   "cell_type": "code",
   "execution_count": 166,
   "id": "0434d5c3",
   "metadata": {
    "ExecuteTime": {
     "end_time": "2023-03-31T13:23:48.467813Z",
     "start_time": "2023-03-31T13:23:48.446568Z"
    }
   },
   "outputs": [
    {
     "data": {
      "text/html": [
       "<div>\n",
       "<style scoped>\n",
       "    .dataframe tbody tr th:only-of-type {\n",
       "        vertical-align: middle;\n",
       "    }\n",
       "\n",
       "    .dataframe tbody tr th {\n",
       "        vertical-align: top;\n",
       "    }\n",
       "\n",
       "    .dataframe thead th {\n",
       "        text-align: right;\n",
       "    }\n",
       "</style>\n",
       "<table border=\"1\" class=\"dataframe\">\n",
       "  <thead>\n",
       "    <tr style=\"text-align: right;\">\n",
       "      <th>to_region</th>\n",
       "      <th>0</th>\n",
       "      <th>1</th>\n",
       "      <th>2</th>\n",
       "      <th>3</th>\n",
       "      <th>4</th>\n",
       "      <th>5</th>\n",
       "      <th>6</th>\n",
       "      <th>7</th>\n",
       "      <th>8</th>\n",
       "      <th>9</th>\n",
       "      <th>...</th>\n",
       "      <th>148</th>\n",
       "      <th>149</th>\n",
       "      <th>150</th>\n",
       "      <th>151</th>\n",
       "      <th>152</th>\n",
       "      <th>153</th>\n",
       "      <th>154</th>\n",
       "      <th>155</th>\n",
       "      <th>156</th>\n",
       "      <th>157</th>\n",
       "    </tr>\n",
       "    <tr>\n",
       "      <th>from_region</th>\n",
       "      <th></th>\n",
       "      <th></th>\n",
       "      <th></th>\n",
       "      <th></th>\n",
       "      <th></th>\n",
       "      <th></th>\n",
       "      <th></th>\n",
       "      <th></th>\n",
       "      <th></th>\n",
       "      <th></th>\n",
       "      <th></th>\n",
       "      <th></th>\n",
       "      <th></th>\n",
       "      <th></th>\n",
       "      <th></th>\n",
       "      <th></th>\n",
       "      <th></th>\n",
       "      <th></th>\n",
       "      <th></th>\n",
       "      <th></th>\n",
       "      <th></th>\n",
       "    </tr>\n",
       "  </thead>\n",
       "  <tbody>\n",
       "    <tr>\n",
       "      <th>0</th>\n",
       "      <td>0</td>\n",
       "      <td>0</td>\n",
       "      <td>0</td>\n",
       "      <td>0</td>\n",
       "      <td>0</td>\n",
       "      <td>0</td>\n",
       "      <td>0</td>\n",
       "      <td>0</td>\n",
       "      <td>0</td>\n",
       "      <td>0</td>\n",
       "      <td>...</td>\n",
       "      <td>0</td>\n",
       "      <td>0</td>\n",
       "      <td>0</td>\n",
       "      <td>0</td>\n",
       "      <td>0</td>\n",
       "      <td>0</td>\n",
       "      <td>0</td>\n",
       "      <td>0</td>\n",
       "      <td>0</td>\n",
       "      <td>0</td>\n",
       "    </tr>\n",
       "    <tr>\n",
       "      <th>1</th>\n",
       "      <td>0</td>\n",
       "      <td>0</td>\n",
       "      <td>0</td>\n",
       "      <td>0</td>\n",
       "      <td>0</td>\n",
       "      <td>0</td>\n",
       "      <td>0</td>\n",
       "      <td>0</td>\n",
       "      <td>0</td>\n",
       "      <td>0</td>\n",
       "      <td>...</td>\n",
       "      <td>0</td>\n",
       "      <td>0</td>\n",
       "      <td>0</td>\n",
       "      <td>0</td>\n",
       "      <td>0</td>\n",
       "      <td>0</td>\n",
       "      <td>0</td>\n",
       "      <td>0</td>\n",
       "      <td>0</td>\n",
       "      <td>0</td>\n",
       "    </tr>\n",
       "    <tr>\n",
       "      <th>2</th>\n",
       "      <td>0</td>\n",
       "      <td>0</td>\n",
       "      <td>0</td>\n",
       "      <td>0</td>\n",
       "      <td>0</td>\n",
       "      <td>0</td>\n",
       "      <td>0</td>\n",
       "      <td>0</td>\n",
       "      <td>0</td>\n",
       "      <td>0</td>\n",
       "      <td>...</td>\n",
       "      <td>0</td>\n",
       "      <td>0</td>\n",
       "      <td>0</td>\n",
       "      <td>0</td>\n",
       "      <td>0</td>\n",
       "      <td>0</td>\n",
       "      <td>0</td>\n",
       "      <td>0</td>\n",
       "      <td>0</td>\n",
       "      <td>0</td>\n",
       "    </tr>\n",
       "    <tr>\n",
       "      <th>3</th>\n",
       "      <td>0</td>\n",
       "      <td>0</td>\n",
       "      <td>0</td>\n",
       "      <td>0</td>\n",
       "      <td>0</td>\n",
       "      <td>0</td>\n",
       "      <td>0</td>\n",
       "      <td>0</td>\n",
       "      <td>0</td>\n",
       "      <td>0</td>\n",
       "      <td>...</td>\n",
       "      <td>0</td>\n",
       "      <td>0</td>\n",
       "      <td>0</td>\n",
       "      <td>0</td>\n",
       "      <td>0</td>\n",
       "      <td>0</td>\n",
       "      <td>0</td>\n",
       "      <td>0</td>\n",
       "      <td>0</td>\n",
       "      <td>0</td>\n",
       "    </tr>\n",
       "    <tr>\n",
       "      <th>4</th>\n",
       "      <td>0</td>\n",
       "      <td>0</td>\n",
       "      <td>0</td>\n",
       "      <td>0</td>\n",
       "      <td>0</td>\n",
       "      <td>0</td>\n",
       "      <td>0</td>\n",
       "      <td>0</td>\n",
       "      <td>0</td>\n",
       "      <td>0</td>\n",
       "      <td>...</td>\n",
       "      <td>0</td>\n",
       "      <td>0</td>\n",
       "      <td>0</td>\n",
       "      <td>0</td>\n",
       "      <td>0</td>\n",
       "      <td>0</td>\n",
       "      <td>0</td>\n",
       "      <td>0</td>\n",
       "      <td>0</td>\n",
       "      <td>0</td>\n",
       "    </tr>\n",
       "    <tr>\n",
       "      <th>...</th>\n",
       "      <td>...</td>\n",
       "      <td>...</td>\n",
       "      <td>...</td>\n",
       "      <td>...</td>\n",
       "      <td>...</td>\n",
       "      <td>...</td>\n",
       "      <td>...</td>\n",
       "      <td>...</td>\n",
       "      <td>...</td>\n",
       "      <td>...</td>\n",
       "      <td>...</td>\n",
       "      <td>...</td>\n",
       "      <td>...</td>\n",
       "      <td>...</td>\n",
       "      <td>...</td>\n",
       "      <td>...</td>\n",
       "      <td>...</td>\n",
       "      <td>...</td>\n",
       "      <td>...</td>\n",
       "      <td>...</td>\n",
       "      <td>...</td>\n",
       "    </tr>\n",
       "    <tr>\n",
       "      <th>153</th>\n",
       "      <td>0</td>\n",
       "      <td>0</td>\n",
       "      <td>0</td>\n",
       "      <td>0</td>\n",
       "      <td>0</td>\n",
       "      <td>0</td>\n",
       "      <td>0</td>\n",
       "      <td>0</td>\n",
       "      <td>0</td>\n",
       "      <td>0</td>\n",
       "      <td>...</td>\n",
       "      <td>0</td>\n",
       "      <td>0</td>\n",
       "      <td>0</td>\n",
       "      <td>0</td>\n",
       "      <td>0</td>\n",
       "      <td>0</td>\n",
       "      <td>0</td>\n",
       "      <td>0</td>\n",
       "      <td>0</td>\n",
       "      <td>0</td>\n",
       "    </tr>\n",
       "    <tr>\n",
       "      <th>154</th>\n",
       "      <td>0</td>\n",
       "      <td>0</td>\n",
       "      <td>0</td>\n",
       "      <td>0</td>\n",
       "      <td>0</td>\n",
       "      <td>0</td>\n",
       "      <td>0</td>\n",
       "      <td>0</td>\n",
       "      <td>0</td>\n",
       "      <td>0</td>\n",
       "      <td>...</td>\n",
       "      <td>0</td>\n",
       "      <td>0</td>\n",
       "      <td>0</td>\n",
       "      <td>0</td>\n",
       "      <td>0</td>\n",
       "      <td>0</td>\n",
       "      <td>0</td>\n",
       "      <td>0</td>\n",
       "      <td>0</td>\n",
       "      <td>0</td>\n",
       "    </tr>\n",
       "    <tr>\n",
       "      <th>155</th>\n",
       "      <td>0</td>\n",
       "      <td>0</td>\n",
       "      <td>0</td>\n",
       "      <td>0</td>\n",
       "      <td>0</td>\n",
       "      <td>0</td>\n",
       "      <td>0</td>\n",
       "      <td>0</td>\n",
       "      <td>0</td>\n",
       "      <td>0</td>\n",
       "      <td>...</td>\n",
       "      <td>0</td>\n",
       "      <td>0</td>\n",
       "      <td>0</td>\n",
       "      <td>0</td>\n",
       "      <td>0</td>\n",
       "      <td>0</td>\n",
       "      <td>0</td>\n",
       "      <td>0</td>\n",
       "      <td>0</td>\n",
       "      <td>0</td>\n",
       "    </tr>\n",
       "    <tr>\n",
       "      <th>156</th>\n",
       "      <td>0</td>\n",
       "      <td>0</td>\n",
       "      <td>0</td>\n",
       "      <td>0</td>\n",
       "      <td>0</td>\n",
       "      <td>0</td>\n",
       "      <td>0</td>\n",
       "      <td>0</td>\n",
       "      <td>0</td>\n",
       "      <td>0</td>\n",
       "      <td>...</td>\n",
       "      <td>0</td>\n",
       "      <td>0</td>\n",
       "      <td>0</td>\n",
       "      <td>0</td>\n",
       "      <td>0</td>\n",
       "      <td>0</td>\n",
       "      <td>0</td>\n",
       "      <td>0</td>\n",
       "      <td>0</td>\n",
       "      <td>0</td>\n",
       "    </tr>\n",
       "    <tr>\n",
       "      <th>157</th>\n",
       "      <td>0</td>\n",
       "      <td>0</td>\n",
       "      <td>0</td>\n",
       "      <td>0</td>\n",
       "      <td>0</td>\n",
       "      <td>0</td>\n",
       "      <td>0</td>\n",
       "      <td>0</td>\n",
       "      <td>0</td>\n",
       "      <td>0</td>\n",
       "      <td>...</td>\n",
       "      <td>0</td>\n",
       "      <td>0</td>\n",
       "      <td>0</td>\n",
       "      <td>0</td>\n",
       "      <td>0</td>\n",
       "      <td>0</td>\n",
       "      <td>0</td>\n",
       "      <td>0</td>\n",
       "      <td>0</td>\n",
       "      <td>0</td>\n",
       "    </tr>\n",
       "  </tbody>\n",
       "</table>\n",
       "<p>158 rows × 158 columns</p>\n",
       "</div>"
      ],
      "text/plain": [
       "to_region    0    1    2    3    4    5    6    7    8    9    ...  148  149  \\\n",
       "from_region                                                    ...             \n",
       "0              0    0    0    0    0    0    0    0    0    0  ...    0    0   \n",
       "1              0    0    0    0    0    0    0    0    0    0  ...    0    0   \n",
       "2              0    0    0    0    0    0    0    0    0    0  ...    0    0   \n",
       "3              0    0    0    0    0    0    0    0    0    0  ...    0    0   \n",
       "4              0    0    0    0    0    0    0    0    0    0  ...    0    0   \n",
       "...          ...  ...  ...  ...  ...  ...  ...  ...  ...  ...  ...  ...  ...   \n",
       "153            0    0    0    0    0    0    0    0    0    0  ...    0    0   \n",
       "154            0    0    0    0    0    0    0    0    0    0  ...    0    0   \n",
       "155            0    0    0    0    0    0    0    0    0    0  ...    0    0   \n",
       "156            0    0    0    0    0    0    0    0    0    0  ...    0    0   \n",
       "157            0    0    0    0    0    0    0    0    0    0  ...    0    0   \n",
       "\n",
       "to_region    150  151  152  153  154  155  156  157  \n",
       "from_region                                          \n",
       "0              0    0    0    0    0    0    0    0  \n",
       "1              0    0    0    0    0    0    0    0  \n",
       "2              0    0    0    0    0    0    0    0  \n",
       "3              0    0    0    0    0    0    0    0  \n",
       "4              0    0    0    0    0    0    0    0  \n",
       "...          ...  ...  ...  ...  ...  ...  ...  ...  \n",
       "153            0    0    0    0    0    0    0    0  \n",
       "154            0    0    0    0    0    0    0    0  \n",
       "155            0    0    0    0    0    0    0    0  \n",
       "156            0    0    0    0    0    0    0    0  \n",
       "157            0    0    0    0    0    0    0    0  \n",
       "\n",
       "[158 rows x 158 columns]"
      ]
     },
     "execution_count": 166,
     "metadata": {},
     "output_type": "execute_result"
    }
   ],
   "source": [
    "#matrix_template = roi_od_template(hexagons[\"hex_id\"])\n",
    "matrix_template = roi_od_template(hexagons[\"h3_id\"])\n",
    "matrix_template"
   ]
  },
  {
   "attachments": {},
   "cell_type": "markdown",
   "id": "3f1bb32f",
   "metadata": {},
   "source": [
    "#### Calculate user-level OD counts"
   ]
  },
  {
   "cell_type": "code",
   "execution_count": 167,
   "id": "eb2b7dfd",
   "metadata": {
    "ExecuteTime": {
     "end_time": "2023-03-31T13:23:48.473269Z",
     "start_time": "2023-03-31T13:23:48.470356Z"
    }
   },
   "outputs": [],
   "source": [
    "metric_label = \"12\"\n",
    "_out_path = inter_metric_dir"
   ]
  },
  {
   "cell_type": "code",
   "execution_count": 168,
   "id": "90412020",
   "metadata": {
    "ExecuteTime": {
     "end_time": "2023-03-31T13:23:49.217046Z",
     "start_time": "2023-03-31T13:23:48.475672Z"
    }
   },
   "outputs": [
    {
     "name": "stdout",
     "output_type": "stream",
     "text": [
      "Total Runtime (seconds): 0.15\n"
     ]
    },
    {
     "data": {
      "text/html": [
       "<div>\n",
       "<style scoped>\n",
       "    .dataframe tbody tr th:only-of-type {\n",
       "        vertical-align: middle;\n",
       "    }\n",
       "\n",
       "    .dataframe tbody tr th {\n",
       "        vertical-align: top;\n",
       "    }\n",
       "\n",
       "    .dataframe thead th {\n",
       "        text-align: right;\n",
       "    }\n",
       "</style>\n",
       "<table border=\"1\" class=\"dataframe\">\n",
       "  <thead>\n",
       "    <tr style=\"text-align: right;\">\n",
       "      <th></th>\n",
       "      <th>runtime_sec</th>\n",
       "      <th>non_zero_regions</th>\n",
       "    </tr>\n",
       "  </thead>\n",
       "  <tbody>\n",
       "    <tr>\n",
       "      <th>part-00000-5551339c-daa2-46af-ad3d-05486818b52d</th>\n",
       "      <td>0.07</td>\n",
       "      <td>2</td>\n",
       "    </tr>\n",
       "    <tr>\n",
       "      <th>part-00000-1377f0cb-4454-4ccf-9d1c-5205488cfb3d</th>\n",
       "      <td>0.07</td>\n",
       "      <td>4</td>\n",
       "    </tr>\n",
       "  </tbody>\n",
       "</table>\n",
       "</div>"
      ],
      "text/plain": [
       "                                                runtime_sec non_zero_regions\n",
       "part-00000-5551339c-daa2-46af-ad3d-05486818b52d        0.07                2\n",
       "part-00000-1377f0cb-4454-4ccf-9d1c-5205488cfb3d        0.07                4"
      ]
     },
     "execution_count": 168,
     "metadata": {},
     "output_type": "execute_result"
    }
   ],
   "source": [
    "global_start_time = time.time()\n",
    "\n",
    "# diagnostic information\n",
    "od_diagnostic = pandas.DataFrame(\n",
    "    index=usp_dfs_processed.keys(),\n",
    "    columns=[\"runtime_sec\", \"non_zero_regions\"]\n",
    ")\n",
    "\n",
    "# user matrix container\n",
    "od_mtxs = {}\n",
    "\n",
    "for uid, usp in usp_dfs_processed.items():\n",
    "    \n",
    "    user_time_start = time.time()\n",
    "    \n",
    "    # calculate 1 user's OD counts\n",
    "    usp_df = usp.copy()\n",
    "    ttll_df = ttll_dfs[uid].copy()\n",
    "    \n",
    "    # generate region counts\n",
    "    user_od_counts = trakit.region_od_matrix(\n",
    "        usp_df,\n",
    "        ttll_df,\n",
    "        hexagons.copy(),\n",
    "        matrix_template.copy(),\n",
    "        region_id=\"h3_id\",\n",
    "        normalizer=None\n",
    "    )\n",
    "    \n",
    "    # record diagnostic information\n",
    "    n_non_zero = user_od_counts.astype(bool).sum().sum()\n",
    "    user_time_end = round(time.time() - user_time_start, 2)\n",
    "    od_diagnostic.loc[uid] = [user_time_end, n_non_zero]\n",
    "    \n",
    "    # store user's raw counts\n",
    "    od_mtxs[uid] = user_od_counts\n",
    "    \n",
    "    # write user-level counts\n",
    "    _out_file_base = metric_output_base.format(metric_label, uid)\n",
    "    out_path = os.path.join(_out_path, f\"{_out_file_base}.csv\")\n",
    "    user_od_counts.rename_axis(None).rename_axis(None, axis=\"columns\").to_csv(out_path)\n",
    "\n",
    "global_time_end = round(time.time() - global_start_time, 2)\n",
    "print(f\"Total Runtime (seconds): {global_time_end}\")\n",
    "od_diagnostic"
   ]
  },
  {
   "attachments": {},
   "cell_type": "markdown",
   "id": "bf7e210a",
   "metadata": {},
   "source": [
    "##### Demonstration plot for a single actor OD counts"
   ]
  },
  {
   "cell_type": "code",
   "execution_count": 169,
   "id": "28e6051b",
   "metadata": {
    "ExecuteTime": {
     "end_time": "2023-03-31T13:23:49.224119Z",
     "start_time": "2023-03-31T13:23:49.220117Z"
    }
   },
   "outputs": [
    {
     "name": "stdout",
     "output_type": "stream",
     "text": [
      "Help on function od_score_plot in module trakit.metrics.od_probability:\n",
      "\n",
      "od_score_plot(matrix: pandas.core.frame.DataFrame, diag_value: str = 'keep', figsize: tuple = (15, 15), sns_cmap: str = 'Blues', no_ticks: bool = True)\n",
      "    Plot a heat map for OD probability.\n",
      "    \n",
      "    Parameters\n",
      "    ----------\n",
      "    \n",
      "    matrix : pandas.DataFrame\n",
      "        OD Probablity matrix\n",
      "    diag_value : str, int, float (default 'keep')\n",
      "        Set the matrix to this value before plotting.\n",
      "        If ``'keep'`` (default) the true diagonal is kept.\n",
      "    figsize : tuple (default (15,15))\n",
      "        Figure size passed into matplotlib.\n",
      "    sns_cmap : str (default 'Blues')\n",
      "        Colormap for the heatmap. For more infor see:\n",
      "        ``https://seaborn.pydata.org/tutorial/color_palettes.html``\n",
      "    no_ticks : bool (default True)\n",
      "        Plot the heatmap without x- or y-axis tick labels\n",
      "\n",
      "None\n"
     ]
    }
   ],
   "source": [
    "print(help(trakit.od_score_plot))"
   ]
  },
  {
   "cell_type": "code",
   "execution_count": 170,
   "id": "638f8649",
   "metadata": {
    "ExecuteTime": {
     "end_time": "2023-03-31T13:23:49.402731Z",
     "start_time": "2023-03-31T13:23:49.227136Z"
    }
   },
   "outputs": [
    {
     "name": "stdout",
     "output_type": "stream",
     "text": [
      "part-00000-5551339c-daa2-46af-ad3d-05486818b52d\n"
     ]
    },
    {
     "data": {
      "image/png": "[encoded data removed]",
      "text/plain": [
       "<Figure size 700x700 with 2 Axes>"
      ]
     },
     "metadata": {},
     "output_type": "display_data"
    }
   ],
   "source": [
    "#actor = \"77040a6e-bd01-41ea-b451-4d0c2c6d82e9\"\n",
    "actor = list(sp_dfs_processed.keys())[0]\n",
    "print(actor)\n",
    "trakit.od_score_plot(od_mtxs[actor].copy(), figsize=(7,7))"
   ]
  },
  {
   "attachments": {},
   "cell_type": "markdown",
   "id": "e5f9885d",
   "metadata": {},
   "source": [
    "#### Aggregate user-level OD counts"
   ]
  },
  {
   "cell_type": "code",
   "execution_count": 171,
   "id": "4644915c",
   "metadata": {
    "ExecuteTime": {
     "end_time": "2023-03-31T13:23:49.409999Z",
     "start_time": "2023-03-31T13:23:49.405767Z"
    }
   },
   "outputs": [],
   "source": [
    "_out_path = agg_metric_dir\n",
    "_out_file_base = metric_output_base.format(metric_label, \"\")\n",
    "outpath = os.path.join(_out_path, f\"{_out_file_base}\")\n",
    "if outpath.endswith(\"_\"):\n",
    "    outpath = outpath[:-1]\n",
    "outpath = f\"{outpath}.csv\""
   ]
  },
  {
   "cell_type": "code",
   "execution_count": 172,
   "id": "67538d81",
   "metadata": {
    "ExecuteTime": {
     "end_time": "2023-03-31T13:23:49.446109Z",
     "start_time": "2023-03-31T13:23:49.412853Z"
    }
   },
   "outputs": [
    {
     "data": {
      "text/html": [
       "<div>\n",
       "<style scoped>\n",
       "    .dataframe tbody tr th:only-of-type {\n",
       "        vertical-align: middle;\n",
       "    }\n",
       "\n",
       "    .dataframe tbody tr th {\n",
       "        vertical-align: top;\n",
       "    }\n",
       "\n",
       "    .dataframe thead th {\n",
       "        text-align: right;\n",
       "    }\n",
       "</style>\n",
       "<table border=\"1\" class=\"dataframe\">\n",
       "  <thead>\n",
       "    <tr style=\"text-align: right;\">\n",
       "      <th>to_region</th>\n",
       "      <th>0</th>\n",
       "      <th>1</th>\n",
       "      <th>2</th>\n",
       "      <th>3</th>\n",
       "      <th>4</th>\n",
       "      <th>5</th>\n",
       "      <th>6</th>\n",
       "      <th>7</th>\n",
       "      <th>8</th>\n",
       "      <th>9</th>\n",
       "      <th>...</th>\n",
       "      <th>148</th>\n",
       "      <th>149</th>\n",
       "      <th>150</th>\n",
       "      <th>151</th>\n",
       "      <th>152</th>\n",
       "      <th>153</th>\n",
       "      <th>154</th>\n",
       "      <th>155</th>\n",
       "      <th>156</th>\n",
       "      <th>157</th>\n",
       "    </tr>\n",
       "    <tr>\n",
       "      <th>from_region</th>\n",
       "      <th></th>\n",
       "      <th></th>\n",
       "      <th></th>\n",
       "      <th></th>\n",
       "      <th></th>\n",
       "      <th></th>\n",
       "      <th></th>\n",
       "      <th></th>\n",
       "      <th></th>\n",
       "      <th></th>\n",
       "      <th></th>\n",
       "      <th></th>\n",
       "      <th></th>\n",
       "      <th></th>\n",
       "      <th></th>\n",
       "      <th></th>\n",
       "      <th></th>\n",
       "      <th></th>\n",
       "      <th></th>\n",
       "      <th></th>\n",
       "      <th></th>\n",
       "    </tr>\n",
       "  </thead>\n",
       "  <tbody>\n",
       "    <tr>\n",
       "      <th>0</th>\n",
       "      <td>0</td>\n",
       "      <td>0</td>\n",
       "      <td>0</td>\n",
       "      <td>0</td>\n",
       "      <td>0</td>\n",
       "      <td>0</td>\n",
       "      <td>0</td>\n",
       "      <td>0</td>\n",
       "      <td>0</td>\n",
       "      <td>0</td>\n",
       "      <td>...</td>\n",
       "      <td>0</td>\n",
       "      <td>0</td>\n",
       "      <td>0</td>\n",
       "      <td>0</td>\n",
       "      <td>0</td>\n",
       "      <td>0</td>\n",
       "      <td>0</td>\n",
       "      <td>0</td>\n",
       "      <td>0</td>\n",
       "      <td>0</td>\n",
       "    </tr>\n",
       "    <tr>\n",
       "      <th>1</th>\n",
       "      <td>0</td>\n",
       "      <td>0</td>\n",
       "      <td>0</td>\n",
       "      <td>0</td>\n",
       "      <td>0</td>\n",
       "      <td>0</td>\n",
       "      <td>0</td>\n",
       "      <td>0</td>\n",
       "      <td>0</td>\n",
       "      <td>0</td>\n",
       "      <td>...</td>\n",
       "      <td>0</td>\n",
       "      <td>0</td>\n",
       "      <td>0</td>\n",
       "      <td>0</td>\n",
       "      <td>0</td>\n",
       "      <td>0</td>\n",
       "      <td>0</td>\n",
       "      <td>0</td>\n",
       "      <td>0</td>\n",
       "      <td>0</td>\n",
       "    </tr>\n",
       "    <tr>\n",
       "      <th>2</th>\n",
       "      <td>0</td>\n",
       "      <td>0</td>\n",
       "      <td>0</td>\n",
       "      <td>0</td>\n",
       "      <td>0</td>\n",
       "      <td>0</td>\n",
       "      <td>0</td>\n",
       "      <td>0</td>\n",
       "      <td>0</td>\n",
       "      <td>0</td>\n",
       "      <td>...</td>\n",
       "      <td>0</td>\n",
       "      <td>0</td>\n",
       "      <td>0</td>\n",
       "      <td>0</td>\n",
       "      <td>0</td>\n",
       "      <td>0</td>\n",
       "      <td>0</td>\n",
       "      <td>0</td>\n",
       "      <td>0</td>\n",
       "      <td>0</td>\n",
       "    </tr>\n",
       "    <tr>\n",
       "      <th>3</th>\n",
       "      <td>0</td>\n",
       "      <td>0</td>\n",
       "      <td>0</td>\n",
       "      <td>0</td>\n",
       "      <td>0</td>\n",
       "      <td>0</td>\n",
       "      <td>0</td>\n",
       "      <td>0</td>\n",
       "      <td>0</td>\n",
       "      <td>0</td>\n",
       "      <td>...</td>\n",
       "      <td>0</td>\n",
       "      <td>0</td>\n",
       "      <td>0</td>\n",
       "      <td>0</td>\n",
       "      <td>0</td>\n",
       "      <td>0</td>\n",
       "      <td>0</td>\n",
       "      <td>0</td>\n",
       "      <td>0</td>\n",
       "      <td>0</td>\n",
       "    </tr>\n",
       "    <tr>\n",
       "      <th>4</th>\n",
       "      <td>0</td>\n",
       "      <td>0</td>\n",
       "      <td>0</td>\n",
       "      <td>0</td>\n",
       "      <td>0</td>\n",
       "      <td>0</td>\n",
       "      <td>0</td>\n",
       "      <td>0</td>\n",
       "      <td>0</td>\n",
       "      <td>0</td>\n",
       "      <td>...</td>\n",
       "      <td>0</td>\n",
       "      <td>0</td>\n",
       "      <td>0</td>\n",
       "      <td>0</td>\n",
       "      <td>0</td>\n",
       "      <td>0</td>\n",
       "      <td>0</td>\n",
       "      <td>0</td>\n",
       "      <td>0</td>\n",
       "      <td>0</td>\n",
       "    </tr>\n",
       "    <tr>\n",
       "      <th>...</th>\n",
       "      <td>...</td>\n",
       "      <td>...</td>\n",
       "      <td>...</td>\n",
       "      <td>...</td>\n",
       "      <td>...</td>\n",
       "      <td>...</td>\n",
       "      <td>...</td>\n",
       "      <td>...</td>\n",
       "      <td>...</td>\n",
       "      <td>...</td>\n",
       "      <td>...</td>\n",
       "      <td>...</td>\n",
       "      <td>...</td>\n",
       "      <td>...</td>\n",
       "      <td>...</td>\n",
       "      <td>...</td>\n",
       "      <td>...</td>\n",
       "      <td>...</td>\n",
       "      <td>...</td>\n",
       "      <td>...</td>\n",
       "      <td>...</td>\n",
       "    </tr>\n",
       "    <tr>\n",
       "      <th>153</th>\n",
       "      <td>0</td>\n",
       "      <td>0</td>\n",
       "      <td>0</td>\n",
       "      <td>0</td>\n",
       "      <td>0</td>\n",
       "      <td>0</td>\n",
       "      <td>0</td>\n",
       "      <td>0</td>\n",
       "      <td>0</td>\n",
       "      <td>0</td>\n",
       "      <td>...</td>\n",
       "      <td>0</td>\n",
       "      <td>0</td>\n",
       "      <td>0</td>\n",
       "      <td>0</td>\n",
       "      <td>0</td>\n",
       "      <td>0</td>\n",
       "      <td>0</td>\n",
       "      <td>0</td>\n",
       "      <td>0</td>\n",
       "      <td>0</td>\n",
       "    </tr>\n",
       "    <tr>\n",
       "      <th>154</th>\n",
       "      <td>0</td>\n",
       "      <td>0</td>\n",
       "      <td>0</td>\n",
       "      <td>0</td>\n",
       "      <td>0</td>\n",
       "      <td>0</td>\n",
       "      <td>0</td>\n",
       "      <td>0</td>\n",
       "      <td>0</td>\n",
       "      <td>0</td>\n",
       "      <td>...</td>\n",
       "      <td>0</td>\n",
       "      <td>0</td>\n",
       "      <td>0</td>\n",
       "      <td>0</td>\n",
       "      <td>0</td>\n",
       "      <td>0</td>\n",
       "      <td>0</td>\n",
       "      <td>0</td>\n",
       "      <td>0</td>\n",
       "      <td>0</td>\n",
       "    </tr>\n",
       "    <tr>\n",
       "      <th>155</th>\n",
       "      <td>0</td>\n",
       "      <td>0</td>\n",
       "      <td>0</td>\n",
       "      <td>0</td>\n",
       "      <td>0</td>\n",
       "      <td>0</td>\n",
       "      <td>0</td>\n",
       "      <td>0</td>\n",
       "      <td>0</td>\n",
       "      <td>0</td>\n",
       "      <td>...</td>\n",
       "      <td>0</td>\n",
       "      <td>0</td>\n",
       "      <td>0</td>\n",
       "      <td>0</td>\n",
       "      <td>0</td>\n",
       "      <td>0</td>\n",
       "      <td>0</td>\n",
       "      <td>0</td>\n",
       "      <td>0</td>\n",
       "      <td>0</td>\n",
       "    </tr>\n",
       "    <tr>\n",
       "      <th>156</th>\n",
       "      <td>0</td>\n",
       "      <td>0</td>\n",
       "      <td>0</td>\n",
       "      <td>0</td>\n",
       "      <td>0</td>\n",
       "      <td>0</td>\n",
       "      <td>0</td>\n",
       "      <td>0</td>\n",
       "      <td>0</td>\n",
       "      <td>0</td>\n",
       "      <td>...</td>\n",
       "      <td>0</td>\n",
       "      <td>0</td>\n",
       "      <td>0</td>\n",
       "      <td>0</td>\n",
       "      <td>0</td>\n",
       "      <td>0</td>\n",
       "      <td>0</td>\n",
       "      <td>0</td>\n",
       "      <td>0</td>\n",
       "      <td>0</td>\n",
       "    </tr>\n",
       "    <tr>\n",
       "      <th>157</th>\n",
       "      <td>0</td>\n",
       "      <td>0</td>\n",
       "      <td>0</td>\n",
       "      <td>0</td>\n",
       "      <td>0</td>\n",
       "      <td>0</td>\n",
       "      <td>0</td>\n",
       "      <td>0</td>\n",
       "      <td>0</td>\n",
       "      <td>0</td>\n",
       "      <td>...</td>\n",
       "      <td>0</td>\n",
       "      <td>0</td>\n",
       "      <td>0</td>\n",
       "      <td>0</td>\n",
       "      <td>0</td>\n",
       "      <td>0</td>\n",
       "      <td>0</td>\n",
       "      <td>0</td>\n",
       "      <td>0</td>\n",
       "      <td>0</td>\n",
       "    </tr>\n",
       "  </tbody>\n",
       "</table>\n",
       "<p>158 rows × 158 columns</p>\n",
       "</div>"
      ],
      "text/plain": [
       "to_region    0    1    2    3    4    5    6    7    8    9    ...  148  149  \\\n",
       "from_region                                                    ...             \n",
       "0              0    0    0    0    0    0    0    0    0    0  ...    0    0   \n",
       "1              0    0    0    0    0    0    0    0    0    0  ...    0    0   \n",
       "2              0    0    0    0    0    0    0    0    0    0  ...    0    0   \n",
       "3              0    0    0    0    0    0    0    0    0    0  ...    0    0   \n",
       "4              0    0    0    0    0    0    0    0    0    0  ...    0    0   \n",
       "...          ...  ...  ...  ...  ...  ...  ...  ...  ...  ...  ...  ...  ...   \n",
       "153            0    0    0    0    0    0    0    0    0    0  ...    0    0   \n",
       "154            0    0    0    0    0    0    0    0    0    0  ...    0    0   \n",
       "155            0    0    0    0    0    0    0    0    0    0  ...    0    0   \n",
       "156            0    0    0    0    0    0    0    0    0    0  ...    0    0   \n",
       "157            0    0    0    0    0    0    0    0    0    0  ...    0    0   \n",
       "\n",
       "to_region    150  151  152  153  154  155  156  157  \n",
       "from_region                                          \n",
       "0              0    0    0    0    0    0    0    0  \n",
       "1              0    0    0    0    0    0    0    0  \n",
       "2              0    0    0    0    0    0    0    0  \n",
       "3              0    0    0    0    0    0    0    0  \n",
       "4              0    0    0    0    0    0    0    0  \n",
       "...          ...  ...  ...  ...  ...  ...  ...  ...  \n",
       "153            0    0    0    0    0    0    0    0  \n",
       "154            0    0    0    0    0    0    0    0  \n",
       "155            0    0    0    0    0    0    0    0  \n",
       "156            0    0    0    0    0    0    0    0  \n",
       "157            0    0    0    0    0    0    0    0  \n",
       "\n",
       "[158 rows x 158 columns]"
      ]
     },
     "execution_count": 172,
     "metadata": {},
     "output_type": "execute_result"
    }
   ],
   "source": [
    "aggregated_matrix = sum(od_mtxs.values())\n",
    "aggregated_matrix.rename_axis(None).rename_axis(None, axis=\"columns\").to_csv(outpath)\n",
    "aggregated_matrix"
   ]
  },
  {
   "attachments": {},
   "cell_type": "markdown",
   "id": "9bf21516",
   "metadata": {},
   "source": [
    "##### Demonstration plot for a aggregated actor OD counts"
   ]
  },
  {
   "cell_type": "code",
   "execution_count": 173,
   "id": "8b1f9545",
   "metadata": {
    "ExecuteTime": {
     "end_time": "2023-03-31T13:23:49.623235Z",
     "start_time": "2023-03-31T13:23:49.449894Z"
    }
   },
   "outputs": [
    {
     "data": {
      "image/png": "[encoded data removed]",
      "text/plain": [
       "<Figure size 700x700 with 2 Axes>"
      ]
     },
     "metadata": {},
     "output_type": "display_data"
    }
   ],
   "source": [
    "trakit.od_score_plot(aggregated_matrix, figsize=(7,7))"
   ]
  },
  {
   "attachments": {},
   "cell_type": "markdown",
   "id": "005d34ce",
   "metadata": {},
   "source": [
    "-------------------------------------------------------------\n",
    "\n",
    "### 4.B.  M13 – Importance"
   ]
  },
  {
   "cell_type": "code",
   "execution_count": 174,
   "id": "62dcfe2e",
   "metadata": {
    "ExecuteTime": {
     "end_time": "2023-03-31T13:23:49.633469Z",
     "start_time": "2023-03-31T13:23:49.627720Z"
    }
   },
   "outputs": [],
   "source": [
    "from trakit.metrics import importance"
   ]
  },
  {
   "cell_type": "code",
   "execution_count": 175,
   "id": "114911f3",
   "metadata": {
    "ExecuteTime": {
     "end_time": "2023-03-31T13:23:49.640287Z",
     "start_time": "2023-03-31T13:23:49.636802Z"
    }
   },
   "outputs": [],
   "source": [
    "metric_label = \"13\"\n",
    "_out_path = agg_metric_dir\n",
    "_out_file_base = metric_output_base.format(metric_label, \"\")"
   ]
  },
  {
   "cell_type": "code",
   "execution_count": 158,
   "id": "216415b6",
   "metadata": {
    "ExecuteTime": {
     "end_time": "2023-03-31T13:23:49.703879Z",
     "start_time": "2023-03-31T13:23:49.655079Z"
    }
   },
   "outputs": [],
   "source": [
    "#hex_level = \"5\"\n",
    "#hex_file = os.path.join(aux_dir, hex_base.format(hex_level))\n",
    "#hexagons = read_aoi_regions(hex_file)"
   ]
  },
  {
   "cell_type": "code",
   "execution_count": 176,
   "id": "0d81f204",
   "metadata": {
    "ExecuteTime": {
     "end_time": "2023-03-31T13:25:20.821685Z",
     "start_time": "2023-03-31T13:23:49.706022Z"
    }
   },
   "outputs": [
    {
     "name": "stderr",
     "output_type": "stream",
     "text": [
      "/home/local/KHQ/joseph.vanpelt/miniconda3/envs/py310_trakit/lib/python3.10/site-packages/geopandas/geodataframe.py:1581: UserWarning: Unable to sort modes: '<' not supported between instances of 'Point' and 'Point'\n",
      "  result = super().apply(\n"
     ]
    }
   ],
   "source": [
    "dfs = []\n",
    "\n",
    "for ix, uid in enumerate(sp_dfs_processed.keys()):\n",
    "    sp_df = sp_dfs_processed[uid].copy()\n",
    "    dfs.append(sp_df)\n",
    "\n",
    "sp_tot = pandas.concat(dfs)\n",
    "\n",
    "stoppoint_df = geopandas.GeoDataFrame(\n",
    "    sp_tot,\n",
    "    geometry=geopandas.points_from_xy(sp_tot.longitude, sp_tot.latitude),\n",
    "    crs=4326\n",
    ")\n",
    "\n",
    "combined_df = importance.join_dataframes(stoppoint_df, hexagons)\n",
    "\n",
    "df = importance.stop_percentage(combined_df)\n",
    "\n",
    "outpath = os.path.join(_out_path, f\"{_out_file_base}\")\n",
    "if outpath.endswith(\"_\"):\n",
    "    outpath = outpath[:-1]\n",
    "outpath = f\"{outpath}.csv\"\n",
    "df.to_csv(outpath, index=False)"
   ]
  },
  {
   "cell_type": "code",
   "execution_count": 177,
   "id": "3435b65b",
   "metadata": {
    "ExecuteTime": {
     "end_time": "2023-03-31T13:25:20.836411Z",
     "start_time": "2023-03-31T13:25:20.826264Z"
    }
   },
   "outputs": [
    {
     "data": {
      "text/html": [
       "<div>\n",
       "<style scoped>\n",
       "    .dataframe tbody tr th:only-of-type {\n",
       "        vertical-align: middle;\n",
       "    }\n",
       "\n",
       "    .dataframe tbody tr th {\n",
       "        vertical-align: top;\n",
       "    }\n",
       "\n",
       "    .dataframe thead th {\n",
       "        text-align: right;\n",
       "    }\n",
       "</style>\n",
       "<table border=\"1\" class=\"dataframe\">\n",
       "  <thead>\n",
       "    <tr style=\"text-align: right;\">\n",
       "      <th></th>\n",
       "      <th>index</th>\n",
       "      <th>h3_id</th>\n",
       "      <th>HOW</th>\n",
       "      <th>spid_percentage</th>\n",
       "    </tr>\n",
       "  </thead>\n",
       "  <tbody>\n",
       "    <tr>\n",
       "      <th>0</th>\n",
       "      <td>0</td>\n",
       "      <td>16</td>\n",
       "      <td>11</td>\n",
       "      <td>14.285714</td>\n",
       "    </tr>\n",
       "    <tr>\n",
       "      <th>1</th>\n",
       "      <td>0</td>\n",
       "      <td>16</td>\n",
       "      <td>39</td>\n",
       "      <td>14.285714</td>\n",
       "    </tr>\n",
       "    <tr>\n",
       "      <th>2</th>\n",
       "      <td>0</td>\n",
       "      <td>16</td>\n",
       "      <td>57</td>\n",
       "      <td>14.285714</td>\n",
       "    </tr>\n",
       "    <tr>\n",
       "      <th>3</th>\n",
       "      <td>0</td>\n",
       "      <td>16</td>\n",
       "      <td>81</td>\n",
       "      <td>14.285714</td>\n",
       "    </tr>\n",
       "    <tr>\n",
       "      <th>4</th>\n",
       "      <td>0</td>\n",
       "      <td>16</td>\n",
       "      <td>108</td>\n",
       "      <td>14.285714</td>\n",
       "    </tr>\n",
       "    <tr>\n",
       "      <th>5</th>\n",
       "      <td>0</td>\n",
       "      <td>16</td>\n",
       "      <td>130</td>\n",
       "      <td>14.285714</td>\n",
       "    </tr>\n",
       "    <tr>\n",
       "      <th>6</th>\n",
       "      <td>0</td>\n",
       "      <td>16</td>\n",
       "      <td>153</td>\n",
       "      <td>14.285714</td>\n",
       "    </tr>\n",
       "    <tr>\n",
       "      <th>7</th>\n",
       "      <td>0</td>\n",
       "      <td>41</td>\n",
       "      <td>104</td>\n",
       "      <td>100.000000</td>\n",
       "    </tr>\n",
       "    <tr>\n",
       "      <th>8</th>\n",
       "      <td>0</td>\n",
       "      <td>85</td>\n",
       "      <td>10</td>\n",
       "      <td>14.285714</td>\n",
       "    </tr>\n",
       "    <tr>\n",
       "      <th>9</th>\n",
       "      <td>0</td>\n",
       "      <td>85</td>\n",
       "      <td>34</td>\n",
       "      <td>14.285714</td>\n",
       "    </tr>\n",
       "    <tr>\n",
       "      <th>10</th>\n",
       "      <td>0</td>\n",
       "      <td>85</td>\n",
       "      <td>58</td>\n",
       "      <td>14.285714</td>\n",
       "    </tr>\n",
       "    <tr>\n",
       "      <th>11</th>\n",
       "      <td>0</td>\n",
       "      <td>85</td>\n",
       "      <td>82</td>\n",
       "      <td>14.285714</td>\n",
       "    </tr>\n",
       "    <tr>\n",
       "      <th>12</th>\n",
       "      <td>0</td>\n",
       "      <td>85</td>\n",
       "      <td>105</td>\n",
       "      <td>14.285714</td>\n",
       "    </tr>\n",
       "    <tr>\n",
       "      <th>13</th>\n",
       "      <td>0</td>\n",
       "      <td>85</td>\n",
       "      <td>129</td>\n",
       "      <td>14.285714</td>\n",
       "    </tr>\n",
       "    <tr>\n",
       "      <th>14</th>\n",
       "      <td>0</td>\n",
       "      <td>85</td>\n",
       "      <td>154</td>\n",
       "      <td>14.285714</td>\n",
       "    </tr>\n",
       "    <tr>\n",
       "      <th>15</th>\n",
       "      <td>0</td>\n",
       "      <td>119</td>\n",
       "      <td>23</td>\n",
       "      <td>14.285714</td>\n",
       "    </tr>\n",
       "    <tr>\n",
       "      <th>16</th>\n",
       "      <td>0</td>\n",
       "      <td>119</td>\n",
       "      <td>47</td>\n",
       "      <td>14.285714</td>\n",
       "    </tr>\n",
       "    <tr>\n",
       "      <th>17</th>\n",
       "      <td>0</td>\n",
       "      <td>119</td>\n",
       "      <td>72</td>\n",
       "      <td>14.285714</td>\n",
       "    </tr>\n",
       "    <tr>\n",
       "      <th>18</th>\n",
       "      <td>0</td>\n",
       "      <td>119</td>\n",
       "      <td>95</td>\n",
       "      <td>14.285714</td>\n",
       "    </tr>\n",
       "    <tr>\n",
       "      <th>19</th>\n",
       "      <td>0</td>\n",
       "      <td>119</td>\n",
       "      <td>118</td>\n",
       "      <td>14.285714</td>\n",
       "    </tr>\n",
       "    <tr>\n",
       "      <th>20</th>\n",
       "      <td>0</td>\n",
       "      <td>119</td>\n",
       "      <td>142</td>\n",
       "      <td>14.285714</td>\n",
       "    </tr>\n",
       "    <tr>\n",
       "      <th>21</th>\n",
       "      <td>0</td>\n",
       "      <td>119</td>\n",
       "      <td>167</td>\n",
       "      <td>14.285714</td>\n",
       "    </tr>\n",
       "    <tr>\n",
       "      <th>22</th>\n",
       "      <td>0</td>\n",
       "      <td>148</td>\n",
       "      <td>23</td>\n",
       "      <td>14.285714</td>\n",
       "    </tr>\n",
       "    <tr>\n",
       "      <th>23</th>\n",
       "      <td>0</td>\n",
       "      <td>148</td>\n",
       "      <td>51</td>\n",
       "      <td>14.285714</td>\n",
       "    </tr>\n",
       "    <tr>\n",
       "      <th>24</th>\n",
       "      <td>0</td>\n",
       "      <td>148</td>\n",
       "      <td>72</td>\n",
       "      <td>14.285714</td>\n",
       "    </tr>\n",
       "    <tr>\n",
       "      <th>25</th>\n",
       "      <td>0</td>\n",
       "      <td>148</td>\n",
       "      <td>93</td>\n",
       "      <td>14.285714</td>\n",
       "    </tr>\n",
       "    <tr>\n",
       "      <th>26</th>\n",
       "      <td>0</td>\n",
       "      <td>148</td>\n",
       "      <td>120</td>\n",
       "      <td>14.285714</td>\n",
       "    </tr>\n",
       "    <tr>\n",
       "      <th>27</th>\n",
       "      <td>0</td>\n",
       "      <td>148</td>\n",
       "      <td>142</td>\n",
       "      <td>14.285714</td>\n",
       "    </tr>\n",
       "    <tr>\n",
       "      <th>28</th>\n",
       "      <td>0</td>\n",
       "      <td>148</td>\n",
       "      <td>165</td>\n",
       "      <td>14.285714</td>\n",
       "    </tr>\n",
       "  </tbody>\n",
       "</table>\n",
       "</div>"
      ],
      "text/plain": [
       "    index  h3_id  HOW  spid_percentage\n",
       "0       0     16   11        14.285714\n",
       "1       0     16   39        14.285714\n",
       "2       0     16   57        14.285714\n",
       "3       0     16   81        14.285714\n",
       "4       0     16  108        14.285714\n",
       "5       0     16  130        14.285714\n",
       "6       0     16  153        14.285714\n",
       "7       0     41  104       100.000000\n",
       "8       0     85   10        14.285714\n",
       "9       0     85   34        14.285714\n",
       "10      0     85   58        14.285714\n",
       "11      0     85   82        14.285714\n",
       "12      0     85  105        14.285714\n",
       "13      0     85  129        14.285714\n",
       "14      0     85  154        14.285714\n",
       "15      0    119   23        14.285714\n",
       "16      0    119   47        14.285714\n",
       "17      0    119   72        14.285714\n",
       "18      0    119   95        14.285714\n",
       "19      0    119  118        14.285714\n",
       "20      0    119  142        14.285714\n",
       "21      0    119  167        14.285714\n",
       "22      0    148   23        14.285714\n",
       "23      0    148   51        14.285714\n",
       "24      0    148   72        14.285714\n",
       "25      0    148   93        14.285714\n",
       "26      0    148  120        14.285714\n",
       "27      0    148  142        14.285714\n",
       "28      0    148  165        14.285714"
      ]
     },
     "execution_count": 177,
     "metadata": {},
     "output_type": "execute_result"
    }
   ],
   "source": [
    "df.reset_index(drop=True)"
   ]
  },
  {
   "attachments": {},
   "cell_type": "markdown",
   "id": "6e253b0e",
   "metadata": {},
   "source": [
    "-------------------------------------------------------------\n",
    "\n",
    "### 4.C.  M14 – Connectivity\n",
    "\n",
    "Relevant class:\n",
    "* `trakit.Connnectivity`"
   ]
  },
  {
   "cell_type": "code",
   "execution_count": 178,
   "id": "e086b601",
   "metadata": {
    "ExecuteTime": {
     "end_time": "2023-03-31T13:25:20.843638Z",
     "start_time": "2023-03-31T13:25:20.838872Z"
    }
   },
   "outputs": [
    {
     "name": "stdout",
     "output_type": "stream",
     "text": [
      "Help on class Connectivity in module trakit.metrics.connectivity:\n",
      "\n",
      "class Connectivity(builtins.object)\n",
      " |  Connectivity(user_id: str, ttll_df: pandas.core.frame.DataFrame, udf: pandas.core.frame.DataFrame, f: str = 'from', t: str = 'to', src: str = 'source', tgt: str = 'target', ycol: str = 'latitude', xcol: str = 'longitude', weight: None | str = None, silence_warnings: bool = True)\n",
      " |  \n",
      " |  HAYSTAC TraKit Connectivity object.\n",
      " |  \n",
      " |  Parameters\n",
      " |  ----------\n",
      " |  \n",
      " |  user_id : str\n",
      " |      User ID. This can be an arbitary string for synthetic data & testing.\n",
      " |  ttll_df : pandas.DataFrame\n",
      " |      Time Trips Linking Location data.\n",
      " |      See ``trakit.timed_trips_linking_locations`` for further details. This\n",
      " |      is added as an attribute and updated with local (individual node/edge)\n",
      " |      network statistic values.\n",
      " |  udf : pandas.DataFrame\n",
      " |      Unique stop locations.\n",
      " |  f : str (default is 'from')\n",
      " |      From node column name in ``ttll_df``.\n",
      " |  t : str (default is 'to')\n",
      " |      To node column name in ``ttll_df``.\n",
      " |  src : str (default is 'source')\n",
      " |      Source node column name to add to ``ttll_df``. See ``f``.\n",
      " |  tgt : str (default is 'target')\n",
      " |      Target node column name to add to ``ttll_df``. See ``t``.\n",
      " |  ycol : str (default is 'latitude')\n",
      " |      Y / latitude column in ``udf``.\n",
      " |  xcol : str (default is 'longitude')\n",
      " |      X / longitude column in ``udf``.\n",
      " |  weight : str (default is None)\n",
      " |      Edge weight column name in ``ttll_df``. Within the ``ttll_df`` structure\n",
      " |      this is the first element in the ``'trip_info'`` column, which represents\n",
      " |      the count of trips between the ``f`` and ``t`` nodes. This can be given\n",
      " |      any arbitary name, but I have been using ``\"n_trips\"`` during development.\n",
      " |      Leave as ``None`` to consider unweighted graph edges.\n",
      " |  silence_warnings : bool (default True)\n",
      " |      Do not print warnings.\n",
      " |  \n",
      " |  Attributes\n",
      " |  ----------\n",
      " |  \n",
      " |  global_stats : pandas.DataFrame\n",
      " |      Global (network-level) statistics.\n",
      " |  local_stats : pandas.DataFrame\n",
      " |      Local (node-level) statistics.\n",
      " |  graph : networkx.{Graph, DiGraph, ...}\n",
      " |      The resultant graph object produced in ``Connectivity.ttll_to_networkx()``.\n",
      " |  available_stats : dict\n",
      " |      A ``name-method`` lookup for NetworkX statistics available for calculation.\n",
      " |  stat_runtimes : pandas.DataFrame\n",
      " |      Runtime in seconds for each statistic calculation.\n",
      " |  cids : str\n",
      " |      Coordinate-style node IDs -- `'coord_ids'`\n",
      " |  nids : str\n",
      " |      NodeID-style node IDs -- `'node_ids'`\n",
      " |  GLOBAL_STATS : list\n",
      " |      Potentially calculable global network stats.\n",
      " |  LOCAL_STATS : list\n",
      " |      Potentially calculable local (nodal) network stats.\n",
      " |  \n",
      " |  Notes\n",
      " |  -----\n",
      " |  \n",
      " |  * See ``Connectivity._calc_stat()`` for details on positional and keyword\n",
      " |      parameters to be passed into the ``calc_*()`` methods.\n",
      " |  * Several statistic calculations allow for using a ``_numpy`` variation.\n",
      " |      This is handled within ``Connectivity._numpy_variation()`` and is\n",
      " |      available for ``calc_*()`` methods that accept the ``with_numpy``\n",
      " |      keyword argument.\n",
      " |  \n",
      " |  Methods defined here:\n",
      " |  \n",
      " |  __init__(self, user_id: str, ttll_df: pandas.core.frame.DataFrame, udf: pandas.core.frame.DataFrame, f: str = 'from', t: str = 'to', src: str = 'source', tgt: str = 'target', ycol: str = 'latitude', xcol: str = 'longitude', weight: None | str = None, silence_warnings: bool = True)\n",
      " |      Initialize self.  See help(type(self)) for accurate signature.\n",
      " |  \n",
      " |  __str__(self)\n",
      " |      Return str(self).\n",
      " |  \n",
      " |  all_stats(self)\n",
      " |      Generate a name-method lookup for available statistics.\n",
      " |  \n",
      " |  calc_average_shortest_path_length(self, into_frame=False, kws={})\n",
      " |      Search: networkx.algorithms.average_shortest_path_length\n",
      " |  \n",
      " |  calc_betweenness_centrality(self, into_frame=False, kws={})\n",
      " |      Search: networkx.algorithms.centrality.betweenness_centrality\n",
      " |  \n",
      " |  calc_closeness_centrality(self, into_frame=False, kws={})\n",
      " |      Search: networkx.algorithms.centrality.closeness_centrality\n",
      " |  \n",
      " |  calc_degree_centrality(self, into_frame=False)\n",
      " |      Search: networkx.algorithms.centrality.degree_centrality\n",
      " |  \n",
      " |  calc_density(self, into_frame=False)\n",
      " |      Search: networkx.classes.function.density\n",
      " |  \n",
      " |  calc_diameter(self, into_frame=False, kws={})\n",
      " |      Search: networkx.algorithms.distance_measures.diameter\n",
      " |  \n",
      " |  calc_eigenvector_centrality(self, into_frame=False, with_numpy=True, kws={})\n",
      " |      Search: networkx.algorithms.centrality.eigenvector_centrality\n",
      " |              networkx.algorithms.centrality.eigenvector_centrality_numpy\n",
      " |  \n",
      " |  calc_katz_centrality(self, into_frame=False, with_numpy=True, kws={})\n",
      " |      Search: networkx.algorithms.centrality.katz_centrality\n",
      " |              networkx.algorithms.centrality.katz_centrality_numpy\n",
      " |  \n",
      " |  calc_pagerank(self, into_frame=False, kws={})\n",
      " |      Search: networkx.algorithms.link_analysis.pagerank_alg.pagerank\n",
      " |  \n",
      " |  calculate_all_stats(self, with_numpy=True, time_decimal=5, exclude=None)\n",
      " |      Calculate all available networks stats with default parameters.\n",
      " |      \n",
      " |      Parameters\n",
      " |      ----------\n",
      " |      \n",
      " |      with_numpy : bool (default True)\n",
      " |          Calculate measures with ``numpy`` (if available).\n",
      " |      time_decimal : int (default 5)\n",
      " |          Round timer to this many seconds.\n",
      " |      exclude : None | list (default None)\n",
      " |          Exclude these network measure from calculation.\n",
      " |      \n",
      " |      Returns\n",
      " |      -------\n",
      " |      \n",
      " |      None\n",
      " |  \n",
      " |  plot_graph(self, seed: None | int = 1, id_label: bool = False, add_labels: bool = False, draw_kws: dict = {}, plot_kws: dict = {})\n",
      " |      Helper plotter for sanity checks, demos, etc.\n",
      " |      \n",
      " |      Parameters\n",
      " |      ----------\n",
      " |      \n",
      " |      seed : {None, int}  (default is 1)\n",
      " |          If ``None`` the graph is plotted in a geographic layout. If an ``int``\n",
      " |          is passed in, the graph is plotted in ``networkx.spring_layout()``.\n",
      " |      id_label : bool (default is False)\n",
      " |          Set to ``True`` to give graph elements node-style labels.\n",
      " |          Otherwise, graph elements are given coordinate-style labels.\n",
      " |          IMPORTANT -- The ``add_labels`` keyword argument must also\n",
      " |          be set to ``True`` to utilize this functionality.\n",
      " |      add_labels : bool (default is False)\n",
      " |          Set to ``True`` to label graph elements.\n",
      " |      draw_kws : dict (default dict())\n",
      " |          Keyword argument for ``networkx.draw()``.\n",
      " |      plot_kws : dict (default dict())\n",
      " |          Keyword argument for ``matplotlib.pyplot.figure()``.\n",
      " |      \n",
      " |      Notes\n",
      " |      -----\n",
      " |      \n",
      " |      * Plot argument schema is recommendations:\n",
      " |        * For synthetic plotting:\n",
      " |      \n",
      " |              >>> nxdraw_kws = dict(node_color=\"lightskyblue\", arrows=True)\n",
      " |              >>> mpl_kws = dict(figsize=(3, 3))\n",
      " |              >>> plt_kws = dict(draw_kws=nxdraw_kws, plot_kws=mpl_kws)\n",
      " |      \n",
      " |              >>> plot_graph(seed=None, id_label=True, add_labels=True, **plt_kws)\n",
      " |      \n",
      " |      * For empirical plotting:\n",
      " |      \n",
      " |              >>> nxdraw_kws = dict(node_color=\"red\", node_size=2, arrows=False)\n",
      " |              >>> mpl_kws = dict(figsize=(12, 12))\n",
      " |              >>> plt_kws = dict(draw_kws=nxdraw_kws, plot_kws=mpl_kws)\n",
      " |      \n",
      " |              >>> plot_graph(seed=1, id_label=False, add_labels=False, **plt_kws)\n",
      " |  \n",
      " |  ttll_to_networkx(self, remove_roundtrips: bool = False, uid_col: str = 'id', tinfo: str = 'trip_info', nx_kws: dict = {})\n",
      " |      Convert Time Trips Linking Locations to a NetworkX graph.\n",
      " |      \n",
      " |      Parameters\n",
      " |      ----------\n",
      " |      \n",
      " |      remove_roundtrips : bool (default False)\n",
      " |          Flag for removing round trip edges (e.g. from node 0 to node 0).\n",
      " |          IMPORTANT -- Removing roundtrips automatically resets the\n",
      " |          dataframe index if trips are squashed.\n",
      " |      uid_col : str (default 'id')\n",
      " |          Unique stop locations ID column name.\n",
      " |      tinfo : str (default 'trip_info')\n",
      " |          Column name from trip information in ``Connectivity.ttll_df``.\n",
      " |      nx_kws : dict (default dict())\n",
      " |          Search: networkx.convert_matrix.from_pandas_edgelist\n",
      " |  \n",
      " |  ----------------------------------------------------------------------\n",
      " |  Data descriptors defined here:\n",
      " |  \n",
      " |  __dict__\n",
      " |      dictionary for instance variables (if defined)\n",
      " |  \n",
      " |  __weakref__\n",
      " |      list of weak references to the object (if defined)\n",
      "\n",
      "None\n"
     ]
    }
   ],
   "source": [
    "from trakit import Connectivity\n",
    "print(help(Connectivity))"
   ]
  },
  {
   "cell_type": "code",
   "execution_count": 179,
   "id": "69b4ff11",
   "metadata": {
    "ExecuteTime": {
     "end_time": "2023-03-31T13:25:20.851123Z",
     "start_time": "2023-03-31T13:25:20.846995Z"
    }
   },
   "outputs": [
    {
     "name": "stdout",
     "output_type": "stream",
     "text": [
      "Help on function ttll_to_networkx in module trakit.metrics.connectivity:\n",
      "\n",
      "ttll_to_networkx(self, remove_roundtrips: bool = False, uid_col: str = 'id', tinfo: str = 'trip_info', nx_kws: dict = {})\n",
      "    Convert Time Trips Linking Locations to a NetworkX graph.\n",
      "    \n",
      "    Parameters\n",
      "    ----------\n",
      "    \n",
      "    remove_roundtrips : bool (default False)\n",
      "        Flag for removing round trip edges (e.g. from node 0 to node 0).\n",
      "        IMPORTANT -- Removing roundtrips automatically resets the\n",
      "        dataframe index if trips are squashed.\n",
      "    uid_col : str (default 'id')\n",
      "        Unique stop locations ID column name.\n",
      "    tinfo : str (default 'trip_info')\n",
      "        Column name from trip information in ``Connectivity.ttll_df``.\n",
      "    nx_kws : dict (default dict())\n",
      "        Search: networkx.convert_matrix.from_pandas_edgelist\n",
      "\n",
      "None\n"
     ]
    }
   ],
   "source": [
    "print(help(Connectivity.ttll_to_networkx))"
   ]
  },
  {
   "cell_type": "code",
   "execution_count": 180,
   "id": "ffad85d4",
   "metadata": {
    "ExecuteTime": {
     "end_time": "2023-03-31T13:25:20.859138Z",
     "start_time": "2023-03-31T13:25:20.854311Z"
    }
   },
   "outputs": [
    {
     "name": "stdout",
     "output_type": "stream",
     "text": [
      "Help on function calculate_all_stats in module trakit.metrics.connectivity:\n",
      "\n",
      "calculate_all_stats(self, with_numpy=True, time_decimal=5, exclude=None)\n",
      "    Calculate all available networks stats with default parameters.\n",
      "    \n",
      "    Parameters\n",
      "    ----------\n",
      "    \n",
      "    with_numpy : bool (default True)\n",
      "        Calculate measures with ``numpy`` (if available).\n",
      "    time_decimal : int (default 5)\n",
      "        Round timer to this many seconds.\n",
      "    exclude : None | list (default None)\n",
      "        Exclude these network measure from calculation.\n",
      "    \n",
      "    Returns\n",
      "    -------\n",
      "    \n",
      "    None\n",
      "\n",
      "None\n"
     ]
    }
   ],
   "source": [
    "print(help(Connectivity.calculate_all_stats))"
   ]
  },
  {
   "attachments": {},
   "cell_type": "markdown",
   "id": "60fc40e6",
   "metadata": {},
   "source": [
    "##### Parameters:\n",
    "* `weight`\n",
    "  * Edge weight column name from TTLL; used for plotting.\n",
    "* `remove_roundtrips` – \n",
    "  * Remove `'from'=='to'` node graph edges (see TTLL). Default is `False`.\n",
    "* `nx_kws`\n",
    "  * [`create_using`](https://networkx.org/documentation/stable/reference/generated/networkx.convert_matrix.from_pandas_edgelist.html#from-pandas-edgelist) (from NetworkX)\n",
    "     * Type of NetworkX graph to create. Default is `networkx.Graph` (undirected). We will use `networkx.DiGraph` (directed)."
   ]
  },
  {
   "cell_type": "code",
   "execution_count": 217,
   "id": "ebe94d0f",
   "metadata": {
    "ExecuteTime": {
     "end_time": "2023-03-31T13:25:20.864918Z",
     "start_time": "2023-03-31T13:25:20.861920Z"
    }
   },
   "outputs": [
    {
     "data": {
      "text/plain": [
       "{'create_using': networkx.classes.digraph.DiGraph}"
      ]
     },
     "execution_count": 217,
     "metadata": {},
     "output_type": "execute_result"
    }
   ],
   "source": [
    "weight = \"n_trips\"\n",
    "remove_roundtrips = False\n",
    "nx_kws = dict(create_using=networkx.DiGraph)\n",
    "nx_kws"
   ]
  },
  {
   "attachments": {},
   "cell_type": "markdown",
   "id": "2c84f3e6",
   "metadata": {},
   "source": [
    "#### Generate `Connectivity` objects for each actor from:\n",
    "* Timed Trips Linking Locations (TTLL)\n",
    "* Level 2 Stop Locations – Unique Stop Points"
   ]
  },
  {
   "cell_type": "code",
   "execution_count": 213,
   "id": "1e71d0aa",
   "metadata": {
    "ExecuteTime": {
     "end_time": "2023-03-31T13:25:20.870637Z",
     "start_time": "2023-03-31T13:25:20.867664Z"
    }
   },
   "outputs": [],
   "source": [
    "metric_label = \"14\"\n",
    "_out_path = inter_metric_dir"
   ]
  },
  {
   "cell_type": "code",
   "execution_count": 214,
   "id": "888c7c64",
   "metadata": {
    "ExecuteTime": {
     "end_time": "2023-03-31T13:25:20.877729Z",
     "start_time": "2023-03-31T13:25:20.873221Z"
    }
   },
   "outputs": [],
   "source": [
    "def adjust_global_connectivity_format(global_stats):\n",
    "    \"\"\"File format adjustment for deliverable. Consider adding to base later.\"\"\"\n",
    "    global_stats = global_stats.set_index(\"stat\").T.reset_index(drop=True)\n",
    "    global_stats.rename_axis(None, axis=1, inplace=True)\n",
    "    global_cols = global_stats.columns.tolist()\n",
    "    global_stats[\"coord_id\"] = [-1]\n",
    "    global_stats[\"node_id\"] = [-1]\n",
    "    global_stats = global_stats[[\"coord_id\", \"node_id\"] + global_cols].copy()\n",
    "    return global_stats"
   ]
  },
  {
   "cell_type": "code",
   "execution_count": 218,
   "id": "7655c25f",
   "metadata": {
    "ExecuteTime": {
     "end_time": "2023-03-31T13:25:22.110409Z",
     "start_time": "2023-03-31T13:25:20.881566Z"
    }
   },
   "outputs": [
    {
     "name": "stdout",
     "output_type": "stream",
     "text": [
      "uid: part-00000-5551339c-daa2-46af-ad3d-05486818b52d, usp: \n",
      "   id  latitude  longitude   count              stop_points\n",
      "0   0  1.309980  103.93102  286051  [0, 2, 4, 6, 8, 10, 12]\n",
      "1   1  1.296516  103.86772  302543  [1, 3, 5, 7, 9, 11, 13]\n"
     ]
    },
    {
     "ename": "AttributeError",
     "evalue": "'Connectivity' object has no attribute 'global_stats'",
     "output_type": "error",
     "traceback": [
      "\u001b[0;31m---------------------------------------------------------------------------\u001b[0m",
      "\u001b[0;31mAttributeError\u001b[0m                            Traceback (most recent call last)",
      "Cell \u001b[0;32mIn[218], line 19\u001b[0m\n\u001b[1;32m     17\u001b[0m _out_file_base \u001b[39m=\u001b[39m metric_output_base\u001b[39m.\u001b[39mformat(metric_label, \u001b[39m\"\u001b[39m\u001b[39mglobal\u001b[39m\u001b[39m\"\u001b[39m)\n\u001b[1;32m     18\u001b[0m out_path \u001b[39m=\u001b[39m os\u001b[39m.\u001b[39mpath\u001b[39m.\u001b[39mjoin(_out_path, \u001b[39mf\u001b[39m\u001b[39m\"\u001b[39m\u001b[39m{\u001b[39;00m_out_file_base\u001b[39m}\u001b[39;00m\u001b[39m_\u001b[39m\u001b[39m{\u001b[39;00muid\u001b[39m}\u001b[39;00m\u001b[39m.csv\u001b[39m\u001b[39m\"\u001b[39m)\n\u001b[0;32m---> 19\u001b[0m _global_stats \u001b[39m=\u001b[39m adjust_global_connectivity_format(conn_graph\u001b[39m.\u001b[39;49mglobal_stats)\n\u001b[1;32m     20\u001b[0m _global_stats\u001b[39m.\u001b[39mto_csv(out_path, index\u001b[39m=\u001b[39m\u001b[39mFalse\u001b[39;00m)\n\u001b[1;32m     22\u001b[0m \u001b[39m# write user-level local stats\u001b[39;00m\n",
      "\u001b[0;31mAttributeError\u001b[0m: 'Connectivity' object has no attribute 'global_stats'"
     ]
    }
   ],
   "source": [
    "# calculate connectivity for each user\n",
    "user_graphs = {}\n",
    "\n",
    "for uid, usp in usp_dfs_processed.items():\n",
    "    print(f\"uid: {uid}, usp: \\n{usp}\")\n",
    "    # calculate 1 user's Connectivity\n",
    "    usp_df = usp.copy()\n",
    "    ttll_df = ttll_dfs[uid].copy()\n",
    "    \n",
    "    conn_graph = Connectivity(\n",
    "        uid, ttll_df, usp_df, weight=weight, silence_warnings=False\n",
    "    )\n",
    "    conn_graph.ttll_to_networkx(remove_roundtrips=remove_roundtrips, nx_kws=nx_kws)\n",
    "    #conn_graph.calculate_all_stats()\n",
    "    \n",
    "    # write user-level global stats\n",
    "    _out_file_base = metric_output_base.format(metric_label, \"global\")\n",
    "    out_path = os.path.join(_out_path, f\"{_out_file_base}_{uid}.csv\")\n",
    "    _global_stats = adjust_global_connectivity_format(conn_graph.global_stats)\n",
    "    _global_stats.to_csv(out_path, index=False)\n",
    "    \n",
    "    # write user-level local stats\n",
    "    _out_file_base = metric_output_base.format(metric_label, \"local\")\n",
    "    out_path = os.path.join(_out_path, f\"{_out_file_base}_{uid}.csv\")\n",
    "    conn_graph.local_stats.to_csv(out_path, index=False)\n",
    "    \n",
    "    # write user-level graph\n",
    "    _out_file_base = metric_output_base.format(metric_label, \"graph\")\n",
    "    out_path = os.path.join(_out_path, f\"{_out_file_base}_{uid}.gml\")\n",
    "    networkx.write_gml(conn_graph.graph, out_path, stringizer=str)\n",
    "    \n",
    "    user_graphs[uid] = conn_graph"
   ]
  },
  {
   "attachments": {},
   "cell_type": "markdown",
   "id": "642b4c1c",
   "metadata": {
    "ExecuteTime": {
     "end_time": "2023-03-29T01:16:09.831507Z",
     "start_time": "2023-03-29T01:16:09.827968Z"
    }
   },
   "source": [
    "##### Demostrating user-level stats\n",
    "Global"
   ]
  },
  {
   "cell_type": "code",
   "execution_count": 209,
   "id": "bae3eeb6",
   "metadata": {
    "ExecuteTime": {
     "end_time": "2023-03-31T13:25:22.119396Z",
     "start_time": "2023-03-31T13:25:22.113509Z"
    }
   },
   "outputs": [],
   "source": [
    "#actor = \"44ce589d-4288-4828-a624-30827a595588\"\n",
    "actor = list(sp_dfs_processed.keys())[0]"
   ]
  },
  {
   "cell_type": "code",
   "execution_count": 210,
   "id": "dade5a84",
   "metadata": {
    "ExecuteTime": {
     "end_time": "2023-03-31T13:25:22.130640Z",
     "start_time": "2023-03-31T13:25:22.122308Z"
    }
   },
   "outputs": [
    {
     "ename": "AttributeError",
     "evalue": "'Connectivity' object has no attribute 'global_stats'",
     "output_type": "error",
     "traceback": [
      "\u001b[0;31m---------------------------------------------------------------------------\u001b[0m",
      "\u001b[0;31mAttributeError\u001b[0m                            Traceback (most recent call last)",
      "Cell \u001b[0;32mIn[210], line 1\u001b[0m\n\u001b[0;32m----> 1\u001b[0m user_graphs[actor]\u001b[39m.\u001b[39;49mglobal_stats\n",
      "\u001b[0;31mAttributeError\u001b[0m: 'Connectivity' object has no attribute 'global_stats'"
     ]
    }
   ],
   "source": [
    "user_graphs[actor].global_stats"
   ]
  },
  {
   "attachments": {},
   "cell_type": "markdown",
   "id": "5a14d206",
   "metadata": {},
   "source": [
    "Local"
   ]
  },
  {
   "cell_type": "code",
   "execution_count": 219,
   "id": "6ad6a63b",
   "metadata": {
    "ExecuteTime": {
     "end_time": "2023-03-31T13:25:22.149875Z",
     "start_time": "2023-03-31T13:25:22.132736Z"
    }
   },
   "outputs": [
    {
     "ename": "KeyError",
     "evalue": "'part-00000-5551339c-daa2-46af-ad3d-05486818b52d'",
     "output_type": "error",
     "traceback": [
      "\u001b[0;31m---------------------------------------------------------------------------\u001b[0m",
      "\u001b[0;31mKeyError\u001b[0m                                  Traceback (most recent call last)",
      "Cell \u001b[0;32mIn[219], line 1\u001b[0m\n\u001b[0;32m----> 1\u001b[0m user_graphs[actor]\u001b[39m.\u001b[39mlocal_stats\n",
      "\u001b[0;31mKeyError\u001b[0m: 'part-00000-5551339c-daa2-46af-ad3d-05486818b52d'"
     ]
    }
   ],
   "source": [
    "user_graphs[actor].local_stats"
   ]
  },
  {
   "attachments": {},
   "cell_type": "markdown",
   "id": "59421e0d",
   "metadata": {},
   "source": [
    "Calculation runtimes"
   ]
  },
  {
   "cell_type": "code",
   "execution_count": 220,
   "id": "f531f187",
   "metadata": {
    "ExecuteTime": {
     "end_time": "2023-03-31T13:25:22.163070Z",
     "start_time": "2023-03-31T13:25:22.153062Z"
    }
   },
   "outputs": [
    {
     "ename": "KeyError",
     "evalue": "'part-00000-5551339c-daa2-46af-ad3d-05486818b52d'",
     "output_type": "error",
     "traceback": [
      "\u001b[0;31m---------------------------------------------------------------------------\u001b[0m",
      "\u001b[0;31mKeyError\u001b[0m                                  Traceback (most recent call last)",
      "Cell \u001b[0;32mIn[220], line 1\u001b[0m\n\u001b[0;32m----> 1\u001b[0m user_graphs[actor]\u001b[39m.\u001b[39mstat_runtimes\n",
      "\u001b[0;31mKeyError\u001b[0m: 'part-00000-5551339c-daa2-46af-ad3d-05486818b52d'"
     ]
    }
   ],
   "source": [
    "user_graphs[actor].stat_runtimes"
   ]
  },
  {
   "attachments": {},
   "cell_type": "markdown",
   "id": "060b4617",
   "metadata": {},
   "source": [
    "##### Demostrating user-level plots"
   ]
  },
  {
   "cell_type": "code",
   "execution_count": 221,
   "id": "c953630f",
   "metadata": {
    "ExecuteTime": {
     "end_time": "2023-03-31T13:25:22.170145Z",
     "start_time": "2023-03-31T13:25:22.166016Z"
    }
   },
   "outputs": [
    {
     "name": "stdout",
     "output_type": "stream",
     "text": [
      "Help on function plot_graph in module trakit.metrics.connectivity:\n",
      "\n",
      "plot_graph(self, seed: None | int = 1, id_label: bool = False, add_labels: bool = False, draw_kws: dict = {}, plot_kws: dict = {})\n",
      "    Helper plotter for sanity checks, demos, etc.\n",
      "    \n",
      "    Parameters\n",
      "    ----------\n",
      "    \n",
      "    seed : {None, int}  (default is 1)\n",
      "        If ``None`` the graph is plotted in a geographic layout. If an ``int``\n",
      "        is passed in, the graph is plotted in ``networkx.spring_layout()``.\n",
      "    id_label : bool (default is False)\n",
      "        Set to ``True`` to give graph elements node-style labels.\n",
      "        Otherwise, graph elements are given coordinate-style labels.\n",
      "        IMPORTANT -- The ``add_labels`` keyword argument must also\n",
      "        be set to ``True`` to utilize this functionality.\n",
      "    add_labels : bool (default is False)\n",
      "        Set to ``True`` to label graph elements.\n",
      "    draw_kws : dict (default dict())\n",
      "        Keyword argument for ``networkx.draw()``.\n",
      "    plot_kws : dict (default dict())\n",
      "        Keyword argument for ``matplotlib.pyplot.figure()``.\n",
      "    \n",
      "    Notes\n",
      "    -----\n",
      "    \n",
      "    * Plot argument schema is recommendations:\n",
      "      * For synthetic plotting:\n",
      "    \n",
      "            >>> nxdraw_kws = dict(node_color=\"lightskyblue\", arrows=True)\n",
      "            >>> mpl_kws = dict(figsize=(3, 3))\n",
      "            >>> plt_kws = dict(draw_kws=nxdraw_kws, plot_kws=mpl_kws)\n",
      "    \n",
      "            >>> plot_graph(seed=None, id_label=True, add_labels=True, **plt_kws)\n",
      "    \n",
      "    * For empirical plotting:\n",
      "    \n",
      "            >>> nxdraw_kws = dict(node_color=\"red\", node_size=2, arrows=False)\n",
      "            >>> mpl_kws = dict(figsize=(12, 12))\n",
      "            >>> plt_kws = dict(draw_kws=nxdraw_kws, plot_kws=mpl_kws)\n",
      "    \n",
      "            >>> plot_graph(seed=1, id_label=False, add_labels=False, **plt_kws)\n",
      "\n",
      "None\n"
     ]
    }
   ],
   "source": [
    "print(help(Connectivity.plot_graph))"
   ]
  },
  {
   "attachments": {},
   "cell_type": "markdown",
   "id": "8b5324ef",
   "metadata": {},
   "source": [
    "Spring Layout"
   ]
  },
  {
   "cell_type": "code",
   "execution_count": 222,
   "id": "56ebae6d",
   "metadata": {
    "ExecuteTime": {
     "end_time": "2023-03-31T13:25:22.320864Z",
     "start_time": "2023-03-31T13:25:22.173333Z"
    }
   },
   "outputs": [
    {
     "data": {
      "image/png": "[encoded data removed]",
      "text/plain": [
       "<Figure size 500x500 with 1 Axes>"
      ]
     },
     "metadata": {},
     "output_type": "display_data"
    }
   ],
   "source": [
    "nxdraw_kws = dict(node_color=\"red\", node_size=4, arrows=False)\n",
    "mpl_kws = dict(figsize=(5, 5))\n",
    "plt_kws = dict(draw_kws=nxdraw_kws, plot_kws=mpl_kws)\n",
    "conn_graph.plot_graph(seed=1, id_label=False, add_labels=False, **plt_kws)"
   ]
  },
  {
   "attachments": {},
   "cell_type": "markdown",
   "id": "86624621",
   "metadata": {},
   "source": [
    "Geographic Layout"
   ]
  },
  {
   "cell_type": "code",
   "execution_count": 223,
   "id": "338cef83",
   "metadata": {
    "ExecuteTime": {
     "end_time": "2023-03-31T13:25:22.472216Z",
     "start_time": "2023-03-31T13:25:22.325527Z"
    }
   },
   "outputs": [
    {
     "data": {
      "image/png": "[encoded data removed]",
      "text/plain": [
       "<Figure size 500x500 with 1 Axes>"
      ]
     },
     "metadata": {},
     "output_type": "display_data"
    }
   ],
   "source": [
    "conn_graph.plot_graph(seed=0, id_label=False, add_labels=False, **plt_kws)"
   ]
  },
  {
   "attachments": {},
   "cell_type": "markdown",
   "id": "ea6d002b",
   "metadata": {},
   "source": [
    "#### Generate a `Connectivity` object for ***all*** actors from:\n",
    "* Set – Timed Trips Linking Locations (STTLL)\n",
    "* Level 3 Stop Locations – Set Unique Stop Points\n",
    "\n",
    "***Important***: Due to the actors disconnected activity patterns, `average_shortest_path_length` and `diameter` cannot be calculated."
   ]
  },
  {
   "cell_type": "code",
   "execution_count": 224,
   "id": "b306aac5",
   "metadata": {
    "ExecuteTime": {
     "end_time": "2023-03-31T13:25:22.478963Z",
     "start_time": "2023-03-31T13:25:22.475645Z"
    }
   },
   "outputs": [],
   "source": [
    "_out_path = agg_metric_dir"
   ]
  },
  {
   "cell_type": "code",
   "execution_count": 225,
   "id": "512a3aab",
   "metadata": {
    "ExecuteTime": {
     "end_time": "2023-03-31T13:25:23.024296Z",
     "start_time": "2023-03-31T13:25:22.481890Z"
    }
   },
   "outputs": [],
   "source": [
    "# calculate aggregate user Connectivity\n",
    "susp_df = set_unique_frame.copy()\n",
    "sttll_df = sttll.copy()\n",
    "\n",
    "conn_graph = Connectivity(\n",
    "    \"aggregate\", sttll_df, susp_df, weight=weight, silence_warnings=False\n",
    ")\n",
    "conn_graph.ttll_to_networkx(remove_roundtrips=remove_roundtrips, nx_kws=nx_kws)\n",
    "conn_graph.calculate_all_stats(\n",
    "    exclude=[\"average_shortest_path_length\", \"diameter\"]\n",
    ")\n",
    "\n",
    "# write user-level global stats\n",
    "_out_file_base = metric_output_base.format(metric_label, \"global\")\n",
    "out_path = os.path.join(_out_path, f\"{_out_file_base}.csv\")\n",
    "_global_stats = adjust_global_connectivity_format(conn_graph.global_stats)\n",
    "_global_stats.to_csv(out_path, index=False)\n",
    "\n",
    "# write user-level local stats\n",
    "_out_file_base = metric_output_base.format(metric_label, \"local\")\n",
    "out_path = os.path.join(_out_path, f\"{_out_file_base}.csv\")\n",
    "conn_graph.local_stats.to_csv(out_path, index=False)\n",
    "\n",
    "# write user-level graph\n",
    "_out_file_base = metric_output_base.format(metric_label, \"graph\")\n",
    "out_path = os.path.join(_out_path, f\"{_out_file_base}.gml\")\n",
    "networkx.write_gml(conn_graph.graph, out_path, stringizer=str)"
   ]
  },
  {
   "attachments": {},
   "cell_type": "markdown",
   "id": "d6452513",
   "metadata": {
    "ExecuteTime": {
     "end_time": "2023-03-29T14:11:06.796317Z",
     "start_time": "2023-03-29T14:11:06.782944Z"
    }
   },
   "source": [
    "##### Demostrating aggregate-level stats\n",
    "Global"
   ]
  },
  {
   "cell_type": "code",
   "execution_count": 226,
   "id": "a30cb294",
   "metadata": {
    "ExecuteTime": {
     "end_time": "2023-03-31T13:25:23.034204Z",
     "start_time": "2023-03-31T13:25:23.026863Z"
    }
   },
   "outputs": [
    {
     "data": {
      "text/html": [
       "<div>\n",
       "<style scoped>\n",
       "    .dataframe tbody tr th:only-of-type {\n",
       "        vertical-align: middle;\n",
       "    }\n",
       "\n",
       "    .dataframe tbody tr th {\n",
       "        vertical-align: top;\n",
       "    }\n",
       "\n",
       "    .dataframe thead th {\n",
       "        text-align: right;\n",
       "    }\n",
       "</style>\n",
       "<table border=\"1\" class=\"dataframe\">\n",
       "  <thead>\n",
       "    <tr style=\"text-align: right;\">\n",
       "      <th></th>\n",
       "      <th>stat</th>\n",
       "      <th>value</th>\n",
       "    </tr>\n",
       "  </thead>\n",
       "  <tbody>\n",
       "    <tr>\n",
       "      <th>0</th>\n",
       "      <td>average_shortest_path_length</td>\n",
       "      <td>NaN</td>\n",
       "    </tr>\n",
       "    <tr>\n",
       "      <th>1</th>\n",
       "      <td>density</td>\n",
       "      <td>0.3</td>\n",
       "    </tr>\n",
       "    <tr>\n",
       "      <th>2</th>\n",
       "      <td>diameter</td>\n",
       "      <td>NaN</td>\n",
       "    </tr>\n",
       "  </tbody>\n",
       "</table>\n",
       "</div>"
      ],
      "text/plain": [
       "                           stat  value\n",
       "0  average_shortest_path_length    NaN\n",
       "1                       density    0.3\n",
       "2                      diameter    NaN"
      ]
     },
     "execution_count": 226,
     "metadata": {},
     "output_type": "execute_result"
    }
   ],
   "source": [
    "conn_graph.global_stats"
   ]
  },
  {
   "attachments": {},
   "cell_type": "markdown",
   "id": "11fcbc21",
   "metadata": {},
   "source": [
    "Local"
   ]
  },
  {
   "cell_type": "code",
   "execution_count": 227,
   "id": "592f52cb",
   "metadata": {
    "ExecuteTime": {
     "end_time": "2023-03-31T13:25:23.060609Z",
     "start_time": "2023-03-31T13:25:23.037186Z"
    }
   },
   "outputs": [
    {
     "data": {
      "text/html": [
       "<div>\n",
       "<style scoped>\n",
       "    .dataframe tbody tr th:only-of-type {\n",
       "        vertical-align: middle;\n",
       "    }\n",
       "\n",
       "    .dataframe tbody tr th {\n",
       "        vertical-align: top;\n",
       "    }\n",
       "\n",
       "    .dataframe thead th {\n",
       "        text-align: right;\n",
       "    }\n",
       "</style>\n",
       "<table border=\"1\" class=\"dataframe\">\n",
       "  <thead>\n",
       "    <tr style=\"text-align: right;\">\n",
       "      <th></th>\n",
       "      <th>coord_id</th>\n",
       "      <th>node_id</th>\n",
       "      <th>betweenness_centrality</th>\n",
       "      <th>closeness_centrality</th>\n",
       "      <th>degree_centrality</th>\n",
       "      <th>eigenvector_centrality_numpy</th>\n",
       "      <th>katz_centrality_numpy</th>\n",
       "      <th>pagerank</th>\n",
       "    </tr>\n",
       "  </thead>\n",
       "  <tbody>\n",
       "    <tr>\n",
       "      <th>0</th>\n",
       "      <td>(1.3099798203125468, 103.93101951785043)</td>\n",
       "      <td>0</td>\n",
       "      <td>0.000000</td>\n",
       "      <td>0.250000</td>\n",
       "      <td>0.50</td>\n",
       "      <td>0.000000e+00</td>\n",
       "      <td>0.437069</td>\n",
       "      <td>0.200000</td>\n",
       "    </tr>\n",
       "    <tr>\n",
       "      <th>1</th>\n",
       "      <td>(1.2965162595399569, 103.86771963794527)</td>\n",
       "      <td>1</td>\n",
       "      <td>0.000000</td>\n",
       "      <td>0.250000</td>\n",
       "      <td>0.50</td>\n",
       "      <td>2.220446e-16</td>\n",
       "      <td>0.437069</td>\n",
       "      <td>0.200000</td>\n",
       "    </tr>\n",
       "    <tr>\n",
       "      <th>2</th>\n",
       "      <td>(1.388837264405529, 103.989854044995)</td>\n",
       "      <td>2</td>\n",
       "      <td>0.083333</td>\n",
       "      <td>0.333333</td>\n",
       "      <td>0.75</td>\n",
       "      <td>5.484318e-01</td>\n",
       "      <td>0.441488</td>\n",
       "      <td>0.232675</td>\n",
       "    </tr>\n",
       "    <tr>\n",
       "      <th>3</th>\n",
       "      <td>(1.2661929852129403, 103.614604284031)</td>\n",
       "      <td>3</td>\n",
       "      <td>0.083333</td>\n",
       "      <td>0.500000</td>\n",
       "      <td>0.75</td>\n",
       "      <td>7.265174e-01</td>\n",
       "      <td>0.481262</td>\n",
       "      <td>0.238440</td>\n",
       "    </tr>\n",
       "    <tr>\n",
       "      <th>4</th>\n",
       "      <td>(1.3463496983805563, 103.64985617003838)</td>\n",
       "      <td>4</td>\n",
       "      <td>0.000000</td>\n",
       "      <td>0.333333</td>\n",
       "      <td>0.50</td>\n",
       "      <td>4.139989e-01</td>\n",
       "      <td>0.437511</td>\n",
       "      <td>0.128886</td>\n",
       "    </tr>\n",
       "  </tbody>\n",
       "</table>\n",
       "</div>"
      ],
      "text/plain": [
       "                                   coord_id  node_id  betweenness_centrality  \\\n",
       "0  (1.3099798203125468, 103.93101951785043)        0                0.000000   \n",
       "1  (1.2965162595399569, 103.86771963794527)        1                0.000000   \n",
       "2     (1.388837264405529, 103.989854044995)        2                0.083333   \n",
       "3    (1.2661929852129403, 103.614604284031)        3                0.083333   \n",
       "4  (1.3463496983805563, 103.64985617003838)        4                0.000000   \n",
       "\n",
       "   closeness_centrality  degree_centrality  eigenvector_centrality_numpy  \\\n",
       "0              0.250000               0.50                  0.000000e+00   \n",
       "1              0.250000               0.50                  2.220446e-16   \n",
       "2              0.333333               0.75                  5.484318e-01   \n",
       "3              0.500000               0.75                  7.265174e-01   \n",
       "4              0.333333               0.50                  4.139989e-01   \n",
       "\n",
       "   katz_centrality_numpy  pagerank  \n",
       "0               0.437069  0.200000  \n",
       "1               0.437069  0.200000  \n",
       "2               0.441488  0.232675  \n",
       "3               0.481262  0.238440  \n",
       "4               0.437511  0.128886  "
      ]
     },
     "execution_count": 227,
     "metadata": {},
     "output_type": "execute_result"
    }
   ],
   "source": [
    "conn_graph.local_stats"
   ]
  },
  {
   "attachments": {},
   "cell_type": "markdown",
   "id": "2f642314",
   "metadata": {},
   "source": [
    "Calculation runtimes"
   ]
  },
  {
   "cell_type": "code",
   "execution_count": 228,
   "id": "6e737775",
   "metadata": {
    "ExecuteTime": {
     "end_time": "2023-03-31T13:25:23.070649Z",
     "start_time": "2023-03-31T13:25:23.062900Z"
    }
   },
   "outputs": [
    {
     "data": {
      "text/html": [
       "<div>\n",
       "<style scoped>\n",
       "    .dataframe tbody tr th:only-of-type {\n",
       "        vertical-align: middle;\n",
       "    }\n",
       "\n",
       "    .dataframe tbody tr th {\n",
       "        vertical-align: top;\n",
       "    }\n",
       "\n",
       "    .dataframe thead th {\n",
       "        text-align: right;\n",
       "    }\n",
       "</style>\n",
       "<table border=\"1\" class=\"dataframe\">\n",
       "  <thead>\n",
       "    <tr style=\"text-align: right;\">\n",
       "      <th></th>\n",
       "      <th>stat</th>\n",
       "      <th>seconds</th>\n",
       "    </tr>\n",
       "  </thead>\n",
       "  <tbody>\n",
       "    <tr>\n",
       "      <th>0</th>\n",
       "      <td>average_shortest_path_length</td>\n",
       "      <td>0.00052</td>\n",
       "    </tr>\n",
       "    <tr>\n",
       "      <th>1</th>\n",
       "      <td>betweenness_centrality</td>\n",
       "      <td>0.00734</td>\n",
       "    </tr>\n",
       "    <tr>\n",
       "      <th>2</th>\n",
       "      <td>closeness_centrality</td>\n",
       "      <td>0.00334</td>\n",
       "    </tr>\n",
       "    <tr>\n",
       "      <th>3</th>\n",
       "      <td>degree_centrality</td>\n",
       "      <td>0.00288</td>\n",
       "    </tr>\n",
       "    <tr>\n",
       "      <th>4</th>\n",
       "      <td>density</td>\n",
       "      <td>0.00085</td>\n",
       "    </tr>\n",
       "    <tr>\n",
       "      <th>5</th>\n",
       "      <td>diameter</td>\n",
       "      <td>0.00077</td>\n",
       "    </tr>\n",
       "    <tr>\n",
       "      <th>6</th>\n",
       "      <td>eigenvector_centrality_numpy</td>\n",
       "      <td>0.00425</td>\n",
       "    </tr>\n",
       "    <tr>\n",
       "      <th>7</th>\n",
       "      <td>katz_centrality_numpy</td>\n",
       "      <td>0.00318</td>\n",
       "    </tr>\n",
       "    <tr>\n",
       "      <th>8</th>\n",
       "      <td>pagerank</td>\n",
       "      <td>0.00622</td>\n",
       "    </tr>\n",
       "  </tbody>\n",
       "</table>\n",
       "</div>"
      ],
      "text/plain": [
       "                           stat  seconds\n",
       "0  average_shortest_path_length  0.00052\n",
       "1        betweenness_centrality  0.00734\n",
       "2          closeness_centrality  0.00334\n",
       "3             degree_centrality  0.00288\n",
       "4                       density  0.00085\n",
       "5                      diameter  0.00077\n",
       "6  eigenvector_centrality_numpy  0.00425\n",
       "7         katz_centrality_numpy  0.00318\n",
       "8                      pagerank  0.00622"
      ]
     },
     "execution_count": 228,
     "metadata": {},
     "output_type": "execute_result"
    }
   ],
   "source": [
    "conn_graph.stat_runtimes"
   ]
  },
  {
   "attachments": {},
   "cell_type": "markdown",
   "id": "604e22a9",
   "metadata": {},
   "source": [
    "##### Demostrating aggregate-level plots\n",
    "\n",
    "Spring Layout"
   ]
  },
  {
   "cell_type": "code",
   "execution_count": 229,
   "id": "71388fe0",
   "metadata": {
    "ExecuteTime": {
     "end_time": "2023-03-31T13:25:23.464768Z",
     "start_time": "2023-03-31T13:25:23.073380Z"
    }
   },
   "outputs": [
    {
     "data": {
      "image/png": "[encoded data removed]",
      "text/plain": [
       "<Figure size 500x500 with 1 Axes>"
      ]
     },
     "metadata": {},
     "output_type": "display_data"
    }
   ],
   "source": [
    "conn_graph.plot_graph(seed=1, id_label=False, add_labels=False, **plt_kws)"
   ]
  },
  {
   "attachments": {},
   "cell_type": "markdown",
   "id": "fc011743",
   "metadata": {},
   "source": [
    "Geographic Layout"
   ]
  },
  {
   "cell_type": "code",
   "execution_count": 230,
   "id": "105f7869",
   "metadata": {
    "ExecuteTime": {
     "end_time": "2023-03-31T13:25:23.649899Z",
     "start_time": "2023-03-31T13:25:23.468070Z"
    }
   },
   "outputs": [
    {
     "data": {
      "image/png": "[encoded data removed]",
      "text/plain": [
       "<Figure size 500x500 with 1 Axes>"
      ]
     },
     "metadata": {},
     "output_type": "display_data"
    }
   ],
   "source": [
    "conn_graph.plot_graph(seed=0, id_label=False, add_labels=False, **plt_kws)"
   ]
  },
  {
   "attachments": {},
   "cell_type": "markdown",
   "id": "4ddadea0",
   "metadata": {},
   "source": [
    "-------------------------------------------------------------"
   ]
  }
 ],
 "metadata": {
  "kernelspec": {
   "display_name": "Python 3",
   "language": "python",
   "name": "python3"
  },
  "language_info": {
   "codemirror_mode": {
    "name": "ipython",
    "version": 3
   },
   "file_extension": ".py",
   "mimetype": "text/x-python",
   "name": "python",
   "nbconvert_exporter": "python",
   "pygments_lexer": "ipython3",
   "version": "3.10.12"
  }
 },
 "nbformat": 4,
 "nbformat_minor": 5
}
